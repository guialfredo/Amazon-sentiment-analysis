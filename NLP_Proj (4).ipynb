{
  "nbformat": 4,
  "nbformat_minor": 0,
  "metadata": {
    "colab": {
      "name": "NLP_Proj.ipynb",
      "provenance": [],
      "collapsed_sections": [],
      "toc_visible": true,
      "machine_shape": "hm"
    },
    "kernelspec": {
      "name": "python3",
      "display_name": "Python 3"
    },
    "accelerator": "GPU",
    "widgets": {
      "application/vnd.jupyter.widget-state+json": {
        "a0d96c76b93e4df3ba64afff3e7a5f7b": {
          "model_module": "@jupyter-widgets/controls",
          "model_name": "HBoxModel",
          "state": {
            "_view_name": "HBoxView",
            "_dom_classes": [],
            "_model_name": "HBoxModel",
            "_view_module": "@jupyter-widgets/controls",
            "_model_module_version": "1.5.0",
            "_view_count": null,
            "_view_module_version": "1.5.0",
            "box_style": "",
            "layout": "IPY_MODEL_ab12d81d81d84f3eab0196107c360daf",
            "_model_module": "@jupyter-widgets/controls",
            "children": [
              "IPY_MODEL_dd73e81c26bc4b5294775d4a7dc32fd7",
              "IPY_MODEL_fff6ffeb2ad548cb8f5e5598cc92a7b4"
            ]
          }
        },
        "ab12d81d81d84f3eab0196107c360daf": {
          "model_module": "@jupyter-widgets/base",
          "model_name": "LayoutModel",
          "state": {
            "_view_name": "LayoutView",
            "grid_template_rows": null,
            "right": null,
            "justify_content": null,
            "_view_module": "@jupyter-widgets/base",
            "overflow": null,
            "_model_module_version": "1.2.0",
            "_view_count": null,
            "flex_flow": null,
            "width": null,
            "min_width": null,
            "border": null,
            "align_items": null,
            "bottom": null,
            "_model_module": "@jupyter-widgets/base",
            "top": null,
            "grid_column": null,
            "overflow_y": null,
            "overflow_x": null,
            "grid_auto_flow": null,
            "grid_area": null,
            "grid_template_columns": null,
            "flex": null,
            "_model_name": "LayoutModel",
            "justify_items": null,
            "grid_row": null,
            "max_height": null,
            "align_content": null,
            "visibility": null,
            "align_self": null,
            "height": null,
            "min_height": null,
            "padding": null,
            "grid_auto_rows": null,
            "grid_gap": null,
            "max_width": null,
            "order": null,
            "_view_module_version": "1.2.0",
            "grid_template_areas": null,
            "object_position": null,
            "object_fit": null,
            "grid_auto_columns": null,
            "margin": null,
            "display": null,
            "left": null
          }
        },
        "dd73e81c26bc4b5294775d4a7dc32fd7": {
          "model_module": "@jupyter-widgets/controls",
          "model_name": "FloatProgressModel",
          "state": {
            "_view_name": "ProgressView",
            "style": "IPY_MODEL_53834b2b1b174d54b13a6e9c5ddc83b2",
            "_dom_classes": [],
            "description": "Downloading: 100%",
            "_model_name": "FloatProgressModel",
            "bar_style": "success",
            "max": 231508,
            "_view_module": "@jupyter-widgets/controls",
            "_model_module_version": "1.5.0",
            "value": 231508,
            "_view_count": null,
            "_view_module_version": "1.5.0",
            "orientation": "horizontal",
            "min": 0,
            "description_tooltip": null,
            "_model_module": "@jupyter-widgets/controls",
            "layout": "IPY_MODEL_8405c66598084c4c953977f543a08090"
          }
        },
        "fff6ffeb2ad548cb8f5e5598cc92a7b4": {
          "model_module": "@jupyter-widgets/controls",
          "model_name": "HTMLModel",
          "state": {
            "_view_name": "HTMLView",
            "style": "IPY_MODEL_75690c6fa7f64c1fb883c55e8943cfab",
            "_dom_classes": [],
            "description": "",
            "_model_name": "HTMLModel",
            "placeholder": "​",
            "_view_module": "@jupyter-widgets/controls",
            "_model_module_version": "1.5.0",
            "value": " 232k/232k [00:00&lt;00:00, 1.51MB/s]",
            "_view_count": null,
            "_view_module_version": "1.5.0",
            "description_tooltip": null,
            "_model_module": "@jupyter-widgets/controls",
            "layout": "IPY_MODEL_a45fd4f221cc4d118be58ebbdac9377a"
          }
        },
        "53834b2b1b174d54b13a6e9c5ddc83b2": {
          "model_module": "@jupyter-widgets/controls",
          "model_name": "ProgressStyleModel",
          "state": {
            "_view_name": "StyleView",
            "_model_name": "ProgressStyleModel",
            "description_width": "initial",
            "_view_module": "@jupyter-widgets/base",
            "_model_module_version": "1.5.0",
            "_view_count": null,
            "_view_module_version": "1.2.0",
            "bar_color": null,
            "_model_module": "@jupyter-widgets/controls"
          }
        },
        "8405c66598084c4c953977f543a08090": {
          "model_module": "@jupyter-widgets/base",
          "model_name": "LayoutModel",
          "state": {
            "_view_name": "LayoutView",
            "grid_template_rows": null,
            "right": null,
            "justify_content": null,
            "_view_module": "@jupyter-widgets/base",
            "overflow": null,
            "_model_module_version": "1.2.0",
            "_view_count": null,
            "flex_flow": null,
            "width": null,
            "min_width": null,
            "border": null,
            "align_items": null,
            "bottom": null,
            "_model_module": "@jupyter-widgets/base",
            "top": null,
            "grid_column": null,
            "overflow_y": null,
            "overflow_x": null,
            "grid_auto_flow": null,
            "grid_area": null,
            "grid_template_columns": null,
            "flex": null,
            "_model_name": "LayoutModel",
            "justify_items": null,
            "grid_row": null,
            "max_height": null,
            "align_content": null,
            "visibility": null,
            "align_self": null,
            "height": null,
            "min_height": null,
            "padding": null,
            "grid_auto_rows": null,
            "grid_gap": null,
            "max_width": null,
            "order": null,
            "_view_module_version": "1.2.0",
            "grid_template_areas": null,
            "object_position": null,
            "object_fit": null,
            "grid_auto_columns": null,
            "margin": null,
            "display": null,
            "left": null
          }
        },
        "75690c6fa7f64c1fb883c55e8943cfab": {
          "model_module": "@jupyter-widgets/controls",
          "model_name": "DescriptionStyleModel",
          "state": {
            "_view_name": "StyleView",
            "_model_name": "DescriptionStyleModel",
            "description_width": "",
            "_view_module": "@jupyter-widgets/base",
            "_model_module_version": "1.5.0",
            "_view_count": null,
            "_view_module_version": "1.2.0",
            "_model_module": "@jupyter-widgets/controls"
          }
        },
        "a45fd4f221cc4d118be58ebbdac9377a": {
          "model_module": "@jupyter-widgets/base",
          "model_name": "LayoutModel",
          "state": {
            "_view_name": "LayoutView",
            "grid_template_rows": null,
            "right": null,
            "justify_content": null,
            "_view_module": "@jupyter-widgets/base",
            "overflow": null,
            "_model_module_version": "1.2.0",
            "_view_count": null,
            "flex_flow": null,
            "width": null,
            "min_width": null,
            "border": null,
            "align_items": null,
            "bottom": null,
            "_model_module": "@jupyter-widgets/base",
            "top": null,
            "grid_column": null,
            "overflow_y": null,
            "overflow_x": null,
            "grid_auto_flow": null,
            "grid_area": null,
            "grid_template_columns": null,
            "flex": null,
            "_model_name": "LayoutModel",
            "justify_items": null,
            "grid_row": null,
            "max_height": null,
            "align_content": null,
            "visibility": null,
            "align_self": null,
            "height": null,
            "min_height": null,
            "padding": null,
            "grid_auto_rows": null,
            "grid_gap": null,
            "max_width": null,
            "order": null,
            "_view_module_version": "1.2.0",
            "grid_template_areas": null,
            "object_position": null,
            "object_fit": null,
            "grid_auto_columns": null,
            "margin": null,
            "display": null,
            "left": null
          }
        },
        "bafecd2ca9b24bb8a74ac17d9e74f38c": {
          "model_module": "@jupyter-widgets/controls",
          "model_name": "HBoxModel",
          "state": {
            "_view_name": "HBoxView",
            "_dom_classes": [],
            "_model_name": "HBoxModel",
            "_view_module": "@jupyter-widgets/controls",
            "_model_module_version": "1.5.0",
            "_view_count": null,
            "_view_module_version": "1.5.0",
            "box_style": "",
            "layout": "IPY_MODEL_f60c47277803476f9423e8b8126a1243",
            "_model_module": "@jupyter-widgets/controls",
            "children": [
              "IPY_MODEL_76481a9a5f664d1baf9eaa2fbc85c3f0",
              "IPY_MODEL_b82b5a062fd04f36bf9f4d48eacf7267"
            ]
          }
        },
        "f60c47277803476f9423e8b8126a1243": {
          "model_module": "@jupyter-widgets/base",
          "model_name": "LayoutModel",
          "state": {
            "_view_name": "LayoutView",
            "grid_template_rows": null,
            "right": null,
            "justify_content": null,
            "_view_module": "@jupyter-widgets/base",
            "overflow": null,
            "_model_module_version": "1.2.0",
            "_view_count": null,
            "flex_flow": null,
            "width": null,
            "min_width": null,
            "border": null,
            "align_items": null,
            "bottom": null,
            "_model_module": "@jupyter-widgets/base",
            "top": null,
            "grid_column": null,
            "overflow_y": null,
            "overflow_x": null,
            "grid_auto_flow": null,
            "grid_area": null,
            "grid_template_columns": null,
            "flex": null,
            "_model_name": "LayoutModel",
            "justify_items": null,
            "grid_row": null,
            "max_height": null,
            "align_content": null,
            "visibility": null,
            "align_self": null,
            "height": null,
            "min_height": null,
            "padding": null,
            "grid_auto_rows": null,
            "grid_gap": null,
            "max_width": null,
            "order": null,
            "_view_module_version": "1.2.0",
            "grid_template_areas": null,
            "object_position": null,
            "object_fit": null,
            "grid_auto_columns": null,
            "margin": null,
            "display": null,
            "left": null
          }
        },
        "76481a9a5f664d1baf9eaa2fbc85c3f0": {
          "model_module": "@jupyter-widgets/controls",
          "model_name": "FloatProgressModel",
          "state": {
            "_view_name": "ProgressView",
            "style": "IPY_MODEL_1fd0efb1d73a46d7abe4e2568a20169a",
            "_dom_classes": [],
            "description": "Downloading: 100%",
            "_model_name": "FloatProgressModel",
            "bar_style": "success",
            "max": 433,
            "_view_module": "@jupyter-widgets/controls",
            "_model_module_version": "1.5.0",
            "value": 433,
            "_view_count": null,
            "_view_module_version": "1.5.0",
            "orientation": "horizontal",
            "min": 0,
            "description_tooltip": null,
            "_model_module": "@jupyter-widgets/controls",
            "layout": "IPY_MODEL_0d6ae8202b224e239bf9a281bd770b88"
          }
        },
        "b82b5a062fd04f36bf9f4d48eacf7267": {
          "model_module": "@jupyter-widgets/controls",
          "model_name": "HTMLModel",
          "state": {
            "_view_name": "HTMLView",
            "style": "IPY_MODEL_95ebb348f0e64955ac6e7162a1cc9f0c",
            "_dom_classes": [],
            "description": "",
            "_model_name": "HTMLModel",
            "placeholder": "​",
            "_view_module": "@jupyter-widgets/controls",
            "_model_module_version": "1.5.0",
            "value": " 433/433 [00:00&lt;00:00, 1.03kB/s]",
            "_view_count": null,
            "_view_module_version": "1.5.0",
            "description_tooltip": null,
            "_model_module": "@jupyter-widgets/controls",
            "layout": "IPY_MODEL_17874b2b647c4a1fa875a6f46e4ca89e"
          }
        },
        "1fd0efb1d73a46d7abe4e2568a20169a": {
          "model_module": "@jupyter-widgets/controls",
          "model_name": "ProgressStyleModel",
          "state": {
            "_view_name": "StyleView",
            "_model_name": "ProgressStyleModel",
            "description_width": "initial",
            "_view_module": "@jupyter-widgets/base",
            "_model_module_version": "1.5.0",
            "_view_count": null,
            "_view_module_version": "1.2.0",
            "bar_color": null,
            "_model_module": "@jupyter-widgets/controls"
          }
        },
        "0d6ae8202b224e239bf9a281bd770b88": {
          "model_module": "@jupyter-widgets/base",
          "model_name": "LayoutModel",
          "state": {
            "_view_name": "LayoutView",
            "grid_template_rows": null,
            "right": null,
            "justify_content": null,
            "_view_module": "@jupyter-widgets/base",
            "overflow": null,
            "_model_module_version": "1.2.0",
            "_view_count": null,
            "flex_flow": null,
            "width": null,
            "min_width": null,
            "border": null,
            "align_items": null,
            "bottom": null,
            "_model_module": "@jupyter-widgets/base",
            "top": null,
            "grid_column": null,
            "overflow_y": null,
            "overflow_x": null,
            "grid_auto_flow": null,
            "grid_area": null,
            "grid_template_columns": null,
            "flex": null,
            "_model_name": "LayoutModel",
            "justify_items": null,
            "grid_row": null,
            "max_height": null,
            "align_content": null,
            "visibility": null,
            "align_self": null,
            "height": null,
            "min_height": null,
            "padding": null,
            "grid_auto_rows": null,
            "grid_gap": null,
            "max_width": null,
            "order": null,
            "_view_module_version": "1.2.0",
            "grid_template_areas": null,
            "object_position": null,
            "object_fit": null,
            "grid_auto_columns": null,
            "margin": null,
            "display": null,
            "left": null
          }
        },
        "95ebb348f0e64955ac6e7162a1cc9f0c": {
          "model_module": "@jupyter-widgets/controls",
          "model_name": "DescriptionStyleModel",
          "state": {
            "_view_name": "StyleView",
            "_model_name": "DescriptionStyleModel",
            "description_width": "",
            "_view_module": "@jupyter-widgets/base",
            "_model_module_version": "1.5.0",
            "_view_count": null,
            "_view_module_version": "1.2.0",
            "_model_module": "@jupyter-widgets/controls"
          }
        },
        "17874b2b647c4a1fa875a6f46e4ca89e": {
          "model_module": "@jupyter-widgets/base",
          "model_name": "LayoutModel",
          "state": {
            "_view_name": "LayoutView",
            "grid_template_rows": null,
            "right": null,
            "justify_content": null,
            "_view_module": "@jupyter-widgets/base",
            "overflow": null,
            "_model_module_version": "1.2.0",
            "_view_count": null,
            "flex_flow": null,
            "width": null,
            "min_width": null,
            "border": null,
            "align_items": null,
            "bottom": null,
            "_model_module": "@jupyter-widgets/base",
            "top": null,
            "grid_column": null,
            "overflow_y": null,
            "overflow_x": null,
            "grid_auto_flow": null,
            "grid_area": null,
            "grid_template_columns": null,
            "flex": null,
            "_model_name": "LayoutModel",
            "justify_items": null,
            "grid_row": null,
            "max_height": null,
            "align_content": null,
            "visibility": null,
            "align_self": null,
            "height": null,
            "min_height": null,
            "padding": null,
            "grid_auto_rows": null,
            "grid_gap": null,
            "max_width": null,
            "order": null,
            "_view_module_version": "1.2.0",
            "grid_template_areas": null,
            "object_position": null,
            "object_fit": null,
            "grid_auto_columns": null,
            "margin": null,
            "display": null,
            "left": null
          }
        },
        "c176682261b8436bbd6f6bf489d6a0cf": {
          "model_module": "@jupyter-widgets/controls",
          "model_name": "HBoxModel",
          "state": {
            "_view_name": "HBoxView",
            "_dom_classes": [],
            "_model_name": "HBoxModel",
            "_view_module": "@jupyter-widgets/controls",
            "_model_module_version": "1.5.0",
            "_view_count": null,
            "_view_module_version": "1.5.0",
            "box_style": "",
            "layout": "IPY_MODEL_9d69a685619d4743b1ad84d0d035c99b",
            "_model_module": "@jupyter-widgets/controls",
            "children": [
              "IPY_MODEL_e5aeeacc65694a188f1b23964e3fa2c2",
              "IPY_MODEL_d5b540cb2a9d45539c82f655645d53be"
            ]
          }
        },
        "9d69a685619d4743b1ad84d0d035c99b": {
          "model_module": "@jupyter-widgets/base",
          "model_name": "LayoutModel",
          "state": {
            "_view_name": "LayoutView",
            "grid_template_rows": null,
            "right": null,
            "justify_content": null,
            "_view_module": "@jupyter-widgets/base",
            "overflow": null,
            "_model_module_version": "1.2.0",
            "_view_count": null,
            "flex_flow": null,
            "width": null,
            "min_width": null,
            "border": null,
            "align_items": null,
            "bottom": null,
            "_model_module": "@jupyter-widgets/base",
            "top": null,
            "grid_column": null,
            "overflow_y": null,
            "overflow_x": null,
            "grid_auto_flow": null,
            "grid_area": null,
            "grid_template_columns": null,
            "flex": null,
            "_model_name": "LayoutModel",
            "justify_items": null,
            "grid_row": null,
            "max_height": null,
            "align_content": null,
            "visibility": null,
            "align_self": null,
            "height": null,
            "min_height": null,
            "padding": null,
            "grid_auto_rows": null,
            "grid_gap": null,
            "max_width": null,
            "order": null,
            "_view_module_version": "1.2.0",
            "grid_template_areas": null,
            "object_position": null,
            "object_fit": null,
            "grid_auto_columns": null,
            "margin": null,
            "display": null,
            "left": null
          }
        },
        "e5aeeacc65694a188f1b23964e3fa2c2": {
          "model_module": "@jupyter-widgets/controls",
          "model_name": "FloatProgressModel",
          "state": {
            "_view_name": "ProgressView",
            "style": "IPY_MODEL_4fe60b4e8fc649068cb321e78cced160",
            "_dom_classes": [],
            "description": "Downloading: 100%",
            "_model_name": "FloatProgressModel",
            "bar_style": "success",
            "max": 440473133,
            "_view_module": "@jupyter-widgets/controls",
            "_model_module_version": "1.5.0",
            "value": 440473133,
            "_view_count": null,
            "_view_module_version": "1.5.0",
            "orientation": "horizontal",
            "min": 0,
            "description_tooltip": null,
            "_model_module": "@jupyter-widgets/controls",
            "layout": "IPY_MODEL_ff7ee8dd14414d43bea82966b887cad2"
          }
        },
        "d5b540cb2a9d45539c82f655645d53be": {
          "model_module": "@jupyter-widgets/controls",
          "model_name": "HTMLModel",
          "state": {
            "_view_name": "HTMLView",
            "style": "IPY_MODEL_3acbdec2c11f496b85eeee6944c0718b",
            "_dom_classes": [],
            "description": "",
            "_model_name": "HTMLModel",
            "placeholder": "​",
            "_view_module": "@jupyter-widgets/controls",
            "_model_module_version": "1.5.0",
            "value": " 440M/440M [00:47&lt;00:00, 9.19MB/s]",
            "_view_count": null,
            "_view_module_version": "1.5.0",
            "description_tooltip": null,
            "_model_module": "@jupyter-widgets/controls",
            "layout": "IPY_MODEL_4843f41fe613463a91b4b4bac4c63f37"
          }
        },
        "4fe60b4e8fc649068cb321e78cced160": {
          "model_module": "@jupyter-widgets/controls",
          "model_name": "ProgressStyleModel",
          "state": {
            "_view_name": "StyleView",
            "_model_name": "ProgressStyleModel",
            "description_width": "initial",
            "_view_module": "@jupyter-widgets/base",
            "_model_module_version": "1.5.0",
            "_view_count": null,
            "_view_module_version": "1.2.0",
            "bar_color": null,
            "_model_module": "@jupyter-widgets/controls"
          }
        },
        "ff7ee8dd14414d43bea82966b887cad2": {
          "model_module": "@jupyter-widgets/base",
          "model_name": "LayoutModel",
          "state": {
            "_view_name": "LayoutView",
            "grid_template_rows": null,
            "right": null,
            "justify_content": null,
            "_view_module": "@jupyter-widgets/base",
            "overflow": null,
            "_model_module_version": "1.2.0",
            "_view_count": null,
            "flex_flow": null,
            "width": null,
            "min_width": null,
            "border": null,
            "align_items": null,
            "bottom": null,
            "_model_module": "@jupyter-widgets/base",
            "top": null,
            "grid_column": null,
            "overflow_y": null,
            "overflow_x": null,
            "grid_auto_flow": null,
            "grid_area": null,
            "grid_template_columns": null,
            "flex": null,
            "_model_name": "LayoutModel",
            "justify_items": null,
            "grid_row": null,
            "max_height": null,
            "align_content": null,
            "visibility": null,
            "align_self": null,
            "height": null,
            "min_height": null,
            "padding": null,
            "grid_auto_rows": null,
            "grid_gap": null,
            "max_width": null,
            "order": null,
            "_view_module_version": "1.2.0",
            "grid_template_areas": null,
            "object_position": null,
            "object_fit": null,
            "grid_auto_columns": null,
            "margin": null,
            "display": null,
            "left": null
          }
        },
        "3acbdec2c11f496b85eeee6944c0718b": {
          "model_module": "@jupyter-widgets/controls",
          "model_name": "DescriptionStyleModel",
          "state": {
            "_view_name": "StyleView",
            "_model_name": "DescriptionStyleModel",
            "description_width": "",
            "_view_module": "@jupyter-widgets/base",
            "_model_module_version": "1.5.0",
            "_view_count": null,
            "_view_module_version": "1.2.0",
            "_model_module": "@jupyter-widgets/controls"
          }
        },
        "4843f41fe613463a91b4b4bac4c63f37": {
          "model_module": "@jupyter-widgets/base",
          "model_name": "LayoutModel",
          "state": {
            "_view_name": "LayoutView",
            "grid_template_rows": null,
            "right": null,
            "justify_content": null,
            "_view_module": "@jupyter-widgets/base",
            "overflow": null,
            "_model_module_version": "1.2.0",
            "_view_count": null,
            "flex_flow": null,
            "width": null,
            "min_width": null,
            "border": null,
            "align_items": null,
            "bottom": null,
            "_model_module": "@jupyter-widgets/base",
            "top": null,
            "grid_column": null,
            "overflow_y": null,
            "overflow_x": null,
            "grid_auto_flow": null,
            "grid_area": null,
            "grid_template_columns": null,
            "flex": null,
            "_model_name": "LayoutModel",
            "justify_items": null,
            "grid_row": null,
            "max_height": null,
            "align_content": null,
            "visibility": null,
            "align_self": null,
            "height": null,
            "min_height": null,
            "padding": null,
            "grid_auto_rows": null,
            "grid_gap": null,
            "max_width": null,
            "order": null,
            "_view_module_version": "1.2.0",
            "grid_template_areas": null,
            "object_position": null,
            "object_fit": null,
            "grid_auto_columns": null,
            "margin": null,
            "display": null,
            "left": null
          }
        }
      }
    }
  },
  "cells": [
    {
      "cell_type": "code",
      "metadata": {
        "id": "71i2jngNt2ak",
        "colab_type": "code",
        "outputId": "b648d811-eb9d-48f5-867e-1e8b0d9aa681",
        "colab": {
          "base_uri": "https://localhost:8080/",
          "height": 35
        }
      },
      "source": [
        "from google.colab import drive\n",
        "drive.mount('/content/drive', force_remount = True)"
      ],
      "execution_count": 0,
      "outputs": [
        {
          "output_type": "stream",
          "text": [
            "Mounted at /content/drive\n"
          ],
          "name": "stdout"
        }
      ]
    },
    {
      "cell_type": "markdown",
      "metadata": {
        "id": "S1p0_fBt0hRL",
        "colab_type": "text"
      },
      "source": [
        "## Project introduction\n",
        "\n",
        "This project revolves around the sentiment analysis of comments left by Amazon's consumers. These texts come with a grade between 1 and 5, which we aim at predicting with an algorithm. Before beginning ordinal classification or regression, we will first use a binary regression framework. This will be justified by the initial exploration of the dataset, in particular using clustering methods. \n",
        "\n",
        "We have a large quantity of data, classified by themes. Our project aims at tackling two questions. First, is it possible to adequately classify comments? Second, given the specificity of each corpus, can an algorithm that has been trained on one of the corpus be effective for another one? Should that be possible, how can we understand this through an algorithmic and linguistic lens? \n"
      ]
    },
    {
      "cell_type": "markdown",
      "metadata": {
        "id": "BNwLNAu41M-Q",
        "colab_type": "text"
      },
      "source": [
        "## Chargement des modules nécessaires"
      ]
    },
    {
      "cell_type": "code",
      "metadata": {
        "id": "c8KHkELlxxth",
        "colab_type": "code",
        "outputId": "3f0c660f-025b-4486-cb88-5253690d46a0",
        "colab": {
          "base_uri": "https://localhost:8080/",
          "height": 332
        }
      },
      "source": [
        "! pip install transformers"
      ],
      "execution_count": 0,
      "outputs": [
        {
          "output_type": "stream",
          "text": [
            "Requirement already satisfied: transformers in /usr/local/lib/python3.6/dist-packages (2.9.1)\n",
            "Requirement already satisfied: regex!=2019.12.17 in /usr/local/lib/python3.6/dist-packages (from transformers) (2019.12.20)\n",
            "Requirement already satisfied: tqdm>=4.27 in /usr/local/lib/python3.6/dist-packages (from transformers) (4.41.1)\n",
            "Requirement already satisfied: numpy in /usr/local/lib/python3.6/dist-packages (from transformers) (1.18.4)\n",
            "Requirement already satisfied: dataclasses; python_version < \"3.7\" in /usr/local/lib/python3.6/dist-packages (from transformers) (0.7)\n",
            "Requirement already satisfied: sentencepiece in /usr/local/lib/python3.6/dist-packages (from transformers) (0.1.90)\n",
            "Requirement already satisfied: requests in /usr/local/lib/python3.6/dist-packages (from transformers) (2.23.0)\n",
            "Requirement already satisfied: filelock in /usr/local/lib/python3.6/dist-packages (from transformers) (3.0.12)\n",
            "Requirement already satisfied: sacremoses in /usr/local/lib/python3.6/dist-packages (from transformers) (0.0.43)\n",
            "Requirement already satisfied: tokenizers==0.7.0 in /usr/local/lib/python3.6/dist-packages (from transformers) (0.7.0)\n",
            "Requirement already satisfied: urllib3!=1.25.0,!=1.25.1,<1.26,>=1.21.1 in /usr/local/lib/python3.6/dist-packages (from requests->transformers) (1.24.3)\n",
            "Requirement already satisfied: chardet<4,>=3.0.2 in /usr/local/lib/python3.6/dist-packages (from requests->transformers) (3.0.4)\n",
            "Requirement already satisfied: certifi>=2017.4.17 in /usr/local/lib/python3.6/dist-packages (from requests->transformers) (2020.4.5.1)\n",
            "Requirement already satisfied: idna<3,>=2.5 in /usr/local/lib/python3.6/dist-packages (from requests->transformers) (2.9)\n",
            "Requirement already satisfied: click in /usr/local/lib/python3.6/dist-packages (from sacremoses->transformers) (7.1.2)\n",
            "Requirement already satisfied: joblib in /usr/local/lib/python3.6/dist-packages (from sacremoses->transformers) (0.14.1)\n",
            "Requirement already satisfied: six in /usr/local/lib/python3.6/dist-packages (from sacremoses->transformers) (1.12.0)\n"
          ],
          "name": "stdout"
        }
      ]
    },
    {
      "cell_type": "code",
      "metadata": {
        "id": "lRUD6VgLChgU",
        "colab_type": "code",
        "outputId": "68845706-fb17-4965-8c2f-9403fa6d0b6c",
        "colab": {
          "base_uri": "https://localhost:8080/",
          "height": 121
        }
      },
      "source": [
        "### import modules\n",
        "\n",
        "import torch\n",
        "import torch.nn as nn\n",
        "from torch.utils.data import Dataset\n",
        "from transformers import BertTokenizer, AutoModel, AutoTokenizer\n",
        "import pandas as pd\n",
        "from torch.utils.data import DataLoader\n",
        "import numpy as np\n",
        "import pandas as pd\n",
        "import gzip\n",
        "from nltk.corpus import stopwords\n",
        "from nltk.tokenize import TreebankWordTokenizer, TweetTokenizer\n",
        "from tqdm import tqdm\n",
        "from nltk.stem import PorterStemmer \n",
        "import string\n",
        "from sklearn.feature_extraction.text import TfidfVectorizer\n",
        "import gensim\n",
        "from gensim.models import Word2Vec\n",
        "import matplotlib.pyplot as plt\n",
        "\n",
        "import nltk\n",
        "nltk.download('stopwords')\n",
        "nltk.download('averaged_perceptron_tagger')\n",
        "\n",
        "stop_words = set(stopwords.words('english')) "
      ],
      "execution_count": 0,
      "outputs": [
        {
          "output_type": "stream",
          "text": [
            "[nltk_data] Downloading package stopwords to /root/nltk_data...\n",
            "[nltk_data]   Package stopwords is already up-to-date!\n",
            "[nltk_data] Downloading package averaged_perceptron_tagger to\n",
            "[nltk_data]     /root/nltk_data...\n",
            "[nltk_data]   Package averaged_perceptron_tagger is already up-to-\n",
            "[nltk_data]       date!\n"
          ],
          "name": "stdout"
        }
      ]
    },
    {
      "cell_type": "markdown",
      "metadata": {
        "id": "g58RxRZXOa2j",
        "colab_type": "text"
      },
      "source": [
        "## Datasets loading\n"
      ]
    },
    {
      "cell_type": "code",
      "metadata": {
        "id": "Ju2KtAqbCkhK",
        "colab_type": "code",
        "outputId": "8edf335e-c911-44c6-f1bf-2c60b07d012d",
        "colab": {
          "base_uri": "https://localhost:8080/",
          "height": 52
        }
      },
      "source": [
        "### loading functions\n",
        "\n",
        "def parse(path):\n",
        "  g = gzip.open(path, 'rb')\n",
        "  for l in g:\n",
        "    yield eval(l)\n",
        "\n",
        "def getDF(path):\n",
        "  i = 0\n",
        "  df = {}\n",
        "  for d in parse(path):\n",
        "    df[i] = d\n",
        "    i += 1\n",
        "  return pd.DataFrame.from_dict(df, orient='index')\n",
        "\n",
        "### first load sport dataset  as df_sport ###\n",
        "\n",
        "df_sport_ = getDF('/content/drive/My Drive/sports_review.gz')\n",
        "\n",
        "# print the original volume of data provided by Amazon\n",
        "\n",
        "print('initial sport dataset shape',df_sport_.shape)\n",
        "\n",
        "# we will only train on a subset of the data for our first algorithms\n",
        "# due to computational complexity\n",
        "\n",
        "df_sport = df_sport_.loc[:15000,:]\n",
        "df_sport_test = df_sport_.loc[15001:17001,:]\n",
        "df_sport.index = range(len(df_sport.index))\n",
        "\n",
        "### then load beauty dataset as df_b ###\n",
        "\n",
        "df_b_ = getDF('/content/drive/My Drive/reviews_Beauty_5.json.gz')\n",
        "print('initial beauty dataset shape',df_b_.shape)\n",
        "\n",
        "\n",
        "df_b = df_b_.loc[:100000,:]\n",
        "df_b_test = df_b_.loc[100001:105001,:]\n",
        "df_b.index = range(len(df_b.index))\n",
        "\n",
        "df_auto = getDF('/content/drive/My Drive/reviews_Automotive_5.json.gz')\n",
        "df_auto.index = range(len(df_auto.index))"
      ],
      "execution_count": 0,
      "outputs": [
        {
          "output_type": "stream",
          "text": [
            "initial sport dataset shape (296337, 9)\n",
            "initial beauty dataset shape (198502, 9)\n"
          ],
          "name": "stdout"
        }
      ]
    },
    {
      "cell_type": "markdown",
      "metadata": {
        "id": "Nf73CH3IOXGF",
        "colab_type": "text"
      },
      "source": [
        "## Cleaning and tagging functions\n",
        "\n",
        "The following functions remove stopwords, punctuation, special characters, numbers that cannot help our analysis, and then tokenize the word sequences using the TreeBankworldTokenizer tool from nltk.\n",
        "\n",
        "In a second stage, we use Part-Of-Speech tagging to improve our performance. In this matter, two possibilities arise: we can either add the tag provided by the POS algorithm to each token, or add to each token list (whole comments) the ordered list of tags provided by the POS tagging. In further developments, the latter strategy will allow an interesting improvement of our performances."
      ]
    },
    {
      "cell_type": "code",
      "metadata": {
        "id": "4pk0_j7eQ4c9",
        "colab_type": "code",
        "colab": {}
      },
      "source": [
        "### POS tagging : 2 strategies : accoler son tag à chaque token, ou accoler la séquence des tags à la fin de chaque liste de tokens\n",
        "\n",
        "def pos_tagging(tokens,text_tagged):\n",
        "\n",
        "  # returns 'word_tag' instead of 'word' for every word in token\n",
        "\n",
        "  new_text = []\n",
        "  for word in text_tagged:\n",
        "    new_text.append(word[0] + \"_\" + word[1])\n",
        "\n",
        "  doc = ' '.join(new_text)\n",
        "  return doc\n",
        "\n",
        "def second_pos_tagging(tokens,text_tagged):\n",
        "\n",
        "  # returns all tags at the end of the tokens list\n",
        "\n",
        "  for word in text_tagged:\n",
        "    tokens.append(str(word[1]))\n",
        "\n",
        "  #doc = ' '.join(new_text)\n",
        "  return list(tokens)"
      ],
      "execution_count": 0,
      "outputs": []
    },
    {
      "cell_type": "code",
      "metadata": {
        "id": "fdMM1qSzdUAd",
        "colab_type": "code",
        "outputId": "416fb5e4-3cb9-4d1d-88d1-b6ecc1d5de4a",
        "colab": {
          "base_uri": "https://localhost:8080/",
          "height": 141
        }
      },
      "source": [
        "### remove numbers : not relevant to our \n",
        "# as they do not specify feeling nor corpus theme\n",
        "\n",
        "import re\n",
        "\n",
        "def remove_numbers(sent): \n",
        "  sent = re.sub(r'\\d+', '', sent)\n",
        "\n",
        "  return sent\n",
        "\n",
        "df_sport.reviewText = df_sport.reviewText.apply(lambda x : remove_numbers(x))"
      ],
      "execution_count": 0,
      "outputs": [
        {
          "output_type": "stream",
          "text": [
            "/usr/local/lib/python3.6/dist-packages/pandas/core/generic.py:5303: SettingWithCopyWarning: \n",
            "A value is trying to be set on a copy of a slice from a DataFrame.\n",
            "Try using .loc[row_indexer,col_indexer] = value instead\n",
            "\n",
            "See the caveats in the documentation: https://pandas.pydata.org/pandas-docs/stable/user_guide/indexing.html#returning-a-view-versus-a-copy\n",
            "  self[name] = value\n"
          ],
          "name": "stderr"
        }
      ]
    },
    {
      "cell_type": "code",
      "metadata": {
        "id": "QC-741pqCsSa",
        "colab_type": "code",
        "outputId": "b0618cd5-d737-4a45-facc-92ac4accbf74",
        "colab": {
          "base_uri": "https://localhost:8080/",
          "height": 141
        }
      },
      "source": [
        "### cleaning functions\n",
        "\n",
        "# remove punctuation and lower case reviews\n",
        "\n",
        "\n",
        "df_sport.reviewText = df_sport.reviewText.str.lower()\n",
        "df_sport.reviewText = df_sport.reviewText.str.translate(str.maketrans('', '', string.punctuation))\n",
        "\n",
        "#df_polarized.reviewText = df_polarized.reviewText.str.lower()\n",
        "#df_polarized.reviewText = df_polarized.reviewText.str.translate(str.maketrans('', '', string.punctuation))\n",
        "\n",
        "def remove_stopwords(tokens):\n",
        "    \n",
        "    tokens = [w for w in tokens if not w in stop_words]\n",
        "    return list(tokens)\n",
        "\n",
        "ps = PorterStemmer()\n",
        "\n",
        "def clean_token(tokens):\n",
        "    \n",
        "    ### cleans and stems\n",
        "    \n",
        "    tokens = map(lambda x: x.replace('&', ''), tokens)\n",
        "    tokens = map(lambda x: x.replace('#', ''), tokens)\n",
        "    \n",
        "    #tokens = map(lambda x : ps.stem(x),tokens) # stemming does not seem to improve performance\n",
        "    return list(tokens)\n",
        "\n",
        "\n",
        "### tokenize text array\n",
        "\n",
        "def tokenize(corpus,tweets = False,pos_1=False,pos_2=False):\n",
        "\n",
        "    ### l'option pos indique si l'on recourt à une stratégie de feature engineering employant du part of speech tagging\n",
        "    \n",
        "    ### tokenizer : string, choice of tokenizer\n",
        "    if tweets : \n",
        "        tokenizer = TweetTokenizer()\n",
        "    else :\n",
        "        tokenizer = TreebankWordTokenizer()\n",
        "    tokenized_sentences = []\n",
        "    for sample in tqdm(corpus):\n",
        "\n",
        "        tokens = tokenizer.tokenize(sample)\n",
        "        text_tagged = nltk.pos_tag(tokens)\n",
        "        tokens = remove_stopwords(tokens)\n",
        "        tokens = clean_token(tokens)\n",
        "        if pos_2 :\n",
        "          tokens = second_pos_tagging(tokens,text_tagged)\n",
        "        if pos_1 :\n",
        "          tokens = pos_tagging(tokens,text_tagged)\n",
        "        tokenized_sentences.append(tokens)\n",
        "      \n",
        "    return tokenized_sentences"
      ],
      "execution_count": 0,
      "outputs": [
        {
          "output_type": "stream",
          "text": [
            "/usr/local/lib/python3.6/dist-packages/pandas/core/generic.py:5303: SettingWithCopyWarning: \n",
            "A value is trying to be set on a copy of a slice from a DataFrame.\n",
            "Try using .loc[row_indexer,col_indexer] = value instead\n",
            "\n",
            "See the caveats in the documentation: https://pandas.pydata.org/pandas-docs/stable/user_guide/indexing.html#returning-a-view-versus-a-copy\n",
            "  self[name] = value\n"
          ],
          "name": "stderr"
        }
      ]
    },
    {
      "cell_type": "code",
      "metadata": {
        "id": "ZJpSgklPC7WI",
        "colab_type": "code",
        "outputId": "bbc6a72f-17ae-4e8d-a970-16a669aeb436",
        "colab": {
          "base_uri": "https://localhost:8080/",
          "height": 35
        }
      },
      "source": [
        "### clean and tokenize dataset for clustering purposes, no part of speech tagging for the moment\n",
        "\n",
        "X_ = tokenize(df_sport.reviewText.array)\n",
        "X = [' '.join(x) for x in X_] "
      ],
      "execution_count": 0,
      "outputs": [
        {
          "output_type": "stream",
          "text": [
            "100%|██████████| 15001/15001 [01:00<00:00, 249.92it/s]\n"
          ],
          "name": "stderr"
        }
      ]
    },
    {
      "cell_type": "markdown",
      "metadata": {
        "id": "t3bMSVz8z1vH",
        "colab_type": "text"
      },
      "source": [
        "## Vectorizing and embedding functions\n",
        "\n",
        "As a first step, two strategies of text vectorial representation are used : bag of words (with the CountVectorizer tool from sickit-learn) and Word2Vec embeddings."
      ]
    },
    {
      "cell_type": "code",
      "metadata": {
        "id": "wkYwHHDmz8Sh",
        "colab_type": "code",
        "colab": {}
      },
      "source": [
        "### create matrix representation : bag of words approach\n",
        "\n",
        "def vectorize(X):\n",
        "    \n",
        "    ### X : cleaned and tokenized text\n",
        "    \n",
        "    vectorizer = TfidfVectorizer()\n",
        "    X_vectorizer = vectorizer.fit_transform(X)\n",
        "\n",
        "    W = X_vectorizer.toarray()\n",
        "    \n",
        "    return W\n",
        "\n",
        "W = vectorize(X)\n",
        "\n",
        "#W.shape"
      ],
      "execution_count": 0,
      "outputs": []
    },
    {
      "cell_type": "code",
      "metadata": {
        "id": "waerzdF-z8nc",
        "colab_type": "code",
        "colab": {}
      },
      "source": [
        "### create word embeddings with word2vec\n",
        "\n",
        "\n",
        "from multiprocessing import cpu_count\n",
        "cpu = cpu_count()\n",
        "\n",
        "p = Word2Vec(X_, size=100, window=5, min_count=3, workers=cpu) \n",
        "\n",
        "p_wv = p.wv"
      ],
      "execution_count": 0,
      "outputs": []
    },
    {
      "cell_type": "code",
      "metadata": {
        "id": "jJUOPIxt0HMz",
        "colab_type": "code",
        "colab": {}
      },
      "source": [
        "def tokens2vectors(tokenCorpus):\n",
        "  ''' transforms our X into a list of list of vec (2D array) '''\n",
        "  new_sample = list()\n",
        "  for sample in tokenCorpus:\n",
        "    tweetVecs = list()\n",
        "    for token in sample.split(' '):\n",
        "      try: tweetVecs.append(p_wv.get_vector(token)  )\n",
        "      except: tweetVecs.append( np.zeros(100) ) \n",
        "    new_sample.append(np.mean(tweetVecs, axis=0))\n",
        "  return np.array(new_sample)"
      ],
      "execution_count": 0,
      "outputs": []
    },
    {
      "cell_type": "markdown",
      "metadata": {
        "id": "mm-5FwS7OCq1",
        "colab_type": "text"
      },
      "source": [
        "## Exploration des données à l'aide de méthodes de clustering\n",
        "\n",
        "We aim in this step at checking whether, in a non supervised way, it is possible to identify homogeneous groups of comments. Such an approach is quite useful as it provides an indication on the possibility to operate in a multiclass framework, and if so, the number of classes to consider. For instance, it seems intuitive that distinguishing a comment associated to a 3/5 grade and another one associated with a 2/5 or a 4/5 will be quite uneasy, given the proximity of the grading. \n",
        "\n",
        "In this step, we will see that the best we can do is identify two main groups, which will prompt us to adopt a binary classification framework before training our algorithms in a multiclass context. \n",
        "\n"
      ]
    },
    {
      "cell_type": "code",
      "metadata": {
        "id": "4YGWzWuc-kOJ",
        "colab_type": "code",
        "colab": {}
      },
      "source": [
        "### embeddings clustering : we will wuse word2vec embeddings for reasons of computational costs\n",
        "\n",
        "# first, try 2-clustering\n",
        "\n",
        "k = 2\n",
        "df_sport.index = range(len(df_sport.index))\n",
        "X_clust = tokens2vectors(df_sport.loc[:,'reviewText'])\n",
        "from sklearn.cluster import KMeans\n",
        "kmeans = KMeans(n_clusters=k, random_state=42, n_init=20, max_iter=1000, verbose=0).fit(X_clust)\n",
        "clusters = kmeans.labels_"
      ],
      "execution_count": 0,
      "outputs": []
    },
    {
      "cell_type": "code",
      "metadata": {
        "id": "-mD8Nc0bA6MT",
        "colab_type": "code",
        "outputId": "2ecccf46-f3f5-438a-95d5-5ed237451f3b",
        "colab": {
          "base_uri": "https://localhost:8080/",
          "height": 329
        }
      },
      "source": [
        "# compute compositions of the two clusters\n",
        "\n",
        "for i in range(k):  \n",
        "  print('------------------')\n",
        "  print('Composition of cluster number',i+1)\n",
        "  print(df_sport.overall[clusters == i].value_counts(normalize = True))\n",
        "  print('------------------')"
      ],
      "execution_count": 0,
      "outputs": [
        {
          "output_type": "stream",
          "text": [
            "------------------\n",
            "Composition of cluster number 1\n",
            "5.0    0.726556\n",
            "4.0    0.199380\n",
            "3.0    0.048155\n",
            "2.0    0.015489\n",
            "1.0    0.010420\n",
            "Name: overall, dtype: float64\n",
            "------------------\n",
            "------------------\n",
            "Composition of cluster number 2\n",
            "5.0    0.633275\n",
            "4.0    0.210306\n",
            "3.0    0.084716\n",
            "2.0    0.038865\n",
            "1.0    0.032838\n",
            "Name: overall, dtype: float64\n",
            "------------------\n"
          ],
          "name": "stdout"
        }
      ]
    },
    {
      "cell_type": "markdown",
      "metadata": {
        "id": "py_-vlKjLEEv",
        "colab_type": "text"
      },
      "source": [
        "We generally find a cluster with articles with grades from 1 to 3. \n",
        "When adding more than two clusters, the results are not satisfying. For three clusters (which could correspond to a space partition of vectors between positive, neutral, and negative comments) or five clusters on the Word2Vec vectors : results are less efficient. "
      ]
    },
    {
      "cell_type": "code",
      "metadata": {
        "id": "hRftJ8x-LNRq",
        "colab_type": "code",
        "outputId": "59983013-4fc8-4e38-9bfa-3e221fc5f50d",
        "colab": {
          "base_uri": "https://localhost:8080/",
          "height": 485
        }
      },
      "source": [
        "# try 3-clustering\n",
        "\n",
        "k = 3\n",
        "df_sport.index = range(len(df_sport.index))\n",
        "X_clust = tokens2vectors(df_sport.loc[:,'reviewText'])\n",
        "from sklearn.cluster import KMeans\n",
        "kmeans = KMeans(n_clusters=k, random_state=42, n_init=20, max_iter=1000, verbose=0).fit(X_clust)\n",
        "clusters = kmeans.labels_\n",
        "for i in range(k):  \n",
        "  print('------------------')\n",
        "  print('Composition of cluster number',i+1)\n",
        "  print(df_sport.overall[clusters == i].value_counts(normalize = True))\n",
        "  print('------------------')"
      ],
      "execution_count": 0,
      "outputs": [
        {
          "output_type": "stream",
          "text": [
            "------------------\n",
            "Composition of cluster number 1\n",
            "5.0    0.757200\n",
            "4.0    0.174568\n",
            "3.0    0.045193\n",
            "2.0    0.014178\n",
            "1.0    0.008861\n",
            "Name: overall, dtype: float64\n",
            "------------------\n",
            "------------------\n",
            "Composition of cluster number 2\n",
            "5.0    0.619271\n",
            "4.0    0.248156\n",
            "3.0    0.084954\n",
            "2.0    0.030181\n",
            "1.0    0.017438\n",
            "Name: overall, dtype: float64\n",
            "------------------\n",
            "------------------\n",
            "Composition of cluster number 3\n",
            "5.0    0.647080\n",
            "4.0    0.194898\n",
            "3.0    0.079676\n",
            "2.0    0.040261\n",
            "1.0    0.038085\n",
            "Name: overall, dtype: float64\n",
            "------------------\n"
          ],
          "name": "stdout"
        }
      ]
    },
    {
      "cell_type": "code",
      "metadata": {
        "id": "CeT7vC9yOr3k",
        "colab_type": "code",
        "outputId": "2c8b5c1a-75b1-4c9e-8756-5654d3e3a179",
        "colab": {
          "base_uri": "https://localhost:8080/",
          "height": 797
        }
      },
      "source": [
        "# try 5-clustering\n",
        "\n",
        "k = 5\n",
        "df_sport.index = range(len(df_sport.index))\n",
        "X_clust = tokens2vectors(df_sport.loc[:,'reviewText'])\n",
        "from sklearn.cluster import KMeans\n",
        "kmeans = KMeans(n_clusters=k, random_state=42, n_init=20, max_iter=1000, verbose=0).fit(X_clust)\n",
        "clusters = kmeans.labels_\n",
        "for i in range(k):\n",
        "  print('------------------')\n",
        "  print('Composition of cluster number',i+1)  \n",
        "  print(df_sport.overall[clusters == i].value_counts(normalize = True))\n",
        "  print('------------------')"
      ],
      "execution_count": 0,
      "outputs": [
        {
          "output_type": "stream",
          "text": [
            "------------------\n",
            "Composition of cluster number 1\n",
            "5.0    0.630402\n",
            "4.0    0.242921\n",
            "3.0    0.082265\n",
            "2.0    0.028316\n",
            "1.0    0.016095\n",
            "Name: overall, dtype: float64\n",
            "------------------\n",
            "------------------\n",
            "Composition of cluster number 2\n",
            "5.0    0.777166\n",
            "4.0    0.189821\n",
            "3.0    0.022008\n",
            "2.0    0.005502\n",
            "1.0    0.005502\n",
            "Name: overall, dtype: float64\n",
            "------------------\n",
            "------------------\n",
            "Composition of cluster number 3\n",
            "5.0    0.689446\n",
            "4.0    0.193288\n",
            "3.0    0.065507\n",
            "2.0    0.027093\n",
            "1.0    0.024666\n",
            "Name: overall, dtype: float64\n",
            "------------------\n",
            "------------------\n",
            "Composition of cluster number 4\n",
            "5.0    0.732729\n",
            "4.0    0.148532\n",
            "3.0    0.050086\n",
            "1.0    0.039724\n",
            "2.0    0.028929\n",
            "Name: overall, dtype: float64\n",
            "------------------\n",
            "------------------\n",
            "Composition of cluster number 5\n",
            "5.0    0.611582\n",
            "4.0    0.218760\n",
            "3.0    0.093148\n",
            "2.0    0.043556\n",
            "1.0    0.032953\n",
            "Name: overall, dtype: float64\n",
            "------------------\n"
          ],
          "name": "stdout"
        }
      ]
    },
    {
      "cell_type": "markdown",
      "metadata": {
        "id": "soBqlq-QX8Ba",
        "colab_type": "text"
      },
      "source": [
        "## First attemps of classification\n",
        "\n",
        "Accordingly to what has been explained before, we operate here in a binary framework for our first attempts. The label to predict is a binary variable indicating whether the grade is above 3. \n",
        "\n",
        "In this section, we compare two strategies of vectorial representation of text, bag of words and Word2Vec, as well as two strategies of feature engineering, with or without POS tagging. Hence, four methods. Using POS tagging improves performances or the algorithm trained with embedding products by Word2Vec. The idea is to provide the algorithm with a clearer intuition of the analyzed sentences' strucure. \n",
        "\n"
      ]
    },
    {
      "cell_type": "markdown",
      "metadata": {
        "id": "lnyCeuEochvG",
        "colab_type": "text"
      },
      "source": [
        "# Choosing a binary label\n",
        "\n",
        "Beforehand, in order to know how to create our binary label, we must know which threshold to use. To do so, we calculate a positivity score on the subsets of our initial dataset reduced to a single grade. We will try to identify a breaking point, an \"elbow\" in the curve of positivity scores obtained for the comments. "
      ]
    },
    {
      "cell_type": "code",
      "metadata": {
        "id": "t06Wq2WVc0qT",
        "colab_type": "code",
        "outputId": "78a14846-bc06-4686-c86f-98e302900142",
        "colab": {
          "base_uri": "https://localhost:8080/",
          "height": 89
        }
      },
      "source": [
        "from nltk.sentiment.vader import SentimentIntensityAnalyzer\n",
        "nltk.download('vader_lexicon')\n",
        "sid = SentimentIntensityAnalyzer()"
      ],
      "execution_count": 0,
      "outputs": [
        {
          "output_type": "stream",
          "text": [
            "[nltk_data] Downloading package vader_lexicon to /root/nltk_data...\n"
          ],
          "name": "stdout"
        },
        {
          "output_type": "stream",
          "text": [
            "/usr/local/lib/python3.6/dist-packages/nltk/twitter/__init__.py:20: UserWarning: The twython library has not been installed. Some functionality from the twitter package will not be available.\n",
            "  warnings.warn(\"The twython library has not been installed. \"\n"
          ],
          "name": "stderr"
        }
      ]
    },
    {
      "cell_type": "code",
      "metadata": {
        "id": "Mx38sqqkfTTB",
        "colab_type": "code",
        "outputId": "d9e30318-78da-4228-a61a-4eaaa3861751",
        "colab": {
          "base_uri": "https://localhost:8080/",
          "height": 104
        }
      },
      "source": [
        "for k in range(1,6):\n",
        "  subset = (df_sport.overall == k)\n",
        "  df_5 = df_sport[subset]\n",
        "  sentences = df_5.reviewText\n",
        "  score = []\n",
        "  for sentence in sentences:\n",
        "    ss = sid.polarity_scores(sentence)\n",
        "    score.append(ss['compound'])\n",
        "  print('note des critiques :',k,', score de positivité calculé à partir du lexique :',np.mean(score))"
      ],
      "execution_count": 0,
      "outputs": [
        {
          "output_type": "stream",
          "text": [
            "note des critiques : 1 , score de positivité calculé à partir du lexique : -0.012871428571428565\n",
            "note des critiques : 2 , score de positivité calculé à partir du lexique : 0.14830500000000002\n",
            "note des critiques : 3 , score de positivité calculé à partir du lexique : 0.3438272567922875\n",
            "note des critiques : 4 , score de positivité calculé à partir du lexique : 0.5681791399229781\n",
            "note des critiques : 5 , score de positivité calculé à partir du lexique : 0.6266543078018513\n"
          ],
          "name": "stdout"
        }
      ]
    },
    {
      "cell_type": "markdown",
      "metadata": {
        "id": "Ndv2ovXJgote",
        "colab_type": "text"
      },
      "source": [
        "The proximity of the scores for comments associated with 4 and 5 grades suggests a to set the threshold at 4 for a binary classification."
      ]
    },
    {
      "cell_type": "markdown",
      "metadata": {
        "id": "uf6BtU---xPd",
        "colab_type": "text"
      },
      "source": [
        "# Classification without POS tagging"
      ]
    },
    {
      "cell_type": "code",
      "metadata": {
        "id": "nfUax80--ulV",
        "colab_type": "code",
        "outputId": "fe98bd43-784b-4e53-9407-cdcd8f724f32",
        "colab": {
          "base_uri": "https://localhost:8080/",
          "height": 35
        }
      },
      "source": [
        "X_ = tokenize(df_sport.reviewText.array)\n",
        "X = [' '.join(x) for x in X_] "
      ],
      "execution_count": 0,
      "outputs": [
        {
          "output_type": "stream",
          "text": [
            "100%|██████████| 15001/15001 [01:00<00:00, 249.73it/s]\n"
          ],
          "name": "stderr"
        }
      ]
    },
    {
      "cell_type": "code",
      "metadata": {
        "id": "efAI5dYQcFmx",
        "colab_type": "code",
        "colab": {}
      },
      "source": [
        "y = np.array(df_sport.overall.apply(lambda x : (x >= 4)))"
      ],
      "execution_count": 0,
      "outputs": []
    },
    {
      "cell_type": "code",
      "metadata": {
        "id": "Rm-ixbpCCKUO",
        "colab_type": "code",
        "colab": {}
      },
      "source": [
        "from sklearn.model_selection import train_test_split\n",
        "X_train, X_test, y_train, y_test = train_test_split(X, y, test_size=0.2, random_state=42)"
      ],
      "execution_count": 0,
      "outputs": []
    },
    {
      "cell_type": "code",
      "metadata": {
        "id": "aD9nuNVoG3xX",
        "colab_type": "code",
        "colab": {}
      },
      "source": [
        "vectorizer = TfidfVectorizer()\n",
        "X_train_vect = vectorizer.fit_transform(X_train)\n",
        "X_test_vect = vectorizer.transform(X_test)"
      ],
      "execution_count": 0,
      "outputs": []
    },
    {
      "cell_type": "code",
      "metadata": {
        "id": "g6DgRZPwu9LT",
        "colab_type": "code",
        "colab": {}
      },
      "source": [
        "X_train_vec = tokens2vectors(X_train)\n",
        "X_test_vec = tokens2vectors(X_test)"
      ],
      "execution_count": 0,
      "outputs": []
    },
    {
      "cell_type": "code",
      "metadata": {
        "id": "_GtYfB6cDYKa",
        "colab_type": "code",
        "outputId": "a61b79a9-e1e7-4822-a718-214437db9424",
        "colab": {
          "base_uri": "https://localhost:8080/",
          "height": 35
        }
      },
      "source": [
        "from sklearn.ensemble import RandomForestClassifier\n",
        "from sklearn.metrics import roc_auc_score\n",
        "clf = RandomForestClassifier(max_depth=6, random_state=0).fit(X_train_vec, y_train)\n",
        "a = clf.predict_proba(X_test_vec)[:,1]\n",
        "print('AUC score with Word2Vec and no POS',roc_auc_score(y_test,a))"
      ],
      "execution_count": 0,
      "outputs": [
        {
          "output_type": "stream",
          "text": [
            "AUC score with Word2Vec and no POS 0.7434393404836241\n"
          ],
          "name": "stdout"
        }
      ]
    },
    {
      "cell_type": "code",
      "metadata": {
        "id": "SgAHKXvkFg6m",
        "colab_type": "code",
        "outputId": "684b66af-fa5b-4870-94a2-27f5a8c1f805",
        "colab": {
          "base_uri": "https://localhost:8080/",
          "height": 35
        }
      },
      "source": [
        "clf = RandomForestClassifier(max_depth=6, random_state=0).fit(X_train_vect, y_train)\n",
        "a = clf.predict_proba(X_test_vect)[:,1]\n",
        "print('AUC score with Bag of Words and no POS',roc_auc_score(y_test,a))"
      ],
      "execution_count": 0,
      "outputs": [
        {
          "output_type": "stream",
          "text": [
            "AUC score with Bag of Words and no POS 0.7872734059657922\n"
          ],
          "name": "stdout"
        }
      ]
    },
    {
      "cell_type": "markdown",
      "metadata": {
        "id": "0kzgxXUK_5tO",
        "colab_type": "text"
      },
      "source": [
        "# Classification with POS tagging (first strategy)"
      ]
    },
    {
      "cell_type": "code",
      "metadata": {
        "id": "d42Yt8p0_-IL",
        "colab_type": "code",
        "outputId": "fd52534a-5031-4ed2-e45e-1321d74ce838",
        "colab": {
          "base_uri": "https://localhost:8080/",
          "height": 35
        }
      },
      "source": [
        "X_ = tokenize(df_sport.reviewText.array,pos_1=True)\n",
        "X = [' '.join(x) for x in X_] \n",
        "X_train, X_test, y_train, y_test = train_test_split(X, y, test_size=0.2, random_state=42)"
      ],
      "execution_count": 0,
      "outputs": [
        {
          "output_type": "stream",
          "text": [
            "100%|██████████| 15001/15001 [01:00<00:00, 246.79it/s]\n"
          ],
          "name": "stderr"
        }
      ]
    },
    {
      "cell_type": "code",
      "metadata": {
        "id": "dOMGjjJzAE7-",
        "colab_type": "code",
        "colab": {}
      },
      "source": [
        "vectorizer = TfidfVectorizer()\n",
        "X_train_vect = vectorizer.fit_transform(X_train)\n",
        "X_test_vect = vectorizer.transform(X_test)"
      ],
      "execution_count": 0,
      "outputs": []
    },
    {
      "cell_type": "code",
      "metadata": {
        "id": "4xc2hlEaAFFW",
        "colab_type": "code",
        "colab": {}
      },
      "source": [
        "X_train_vec = tokens2vectors(X_train)\n",
        "X_test_vec = tokens2vectors(X_test)"
      ],
      "execution_count": 0,
      "outputs": []
    },
    {
      "cell_type": "code",
      "metadata": {
        "id": "HdQyMqQDAFBy",
        "colab_type": "code",
        "outputId": "422a69f6-be6f-4425-a249-5389d50fc795",
        "colab": {
          "base_uri": "https://localhost:8080/",
          "height": 35
        }
      },
      "source": [
        "clf = RandomForestClassifier(max_depth=6, random_state=0).fit(X_train_vec, y_train)\n",
        "a = clf.predict_proba(X_test_vec)[:,1]\n",
        "print('AUC score with Word2Vec and POS',roc_auc_score(y_test,a))"
      ],
      "execution_count": 0,
      "outputs": [
        {
          "output_type": "stream",
          "text": [
            "AUC score with Word2Vec and POS 0.7434393404836241\n"
          ],
          "name": "stdout"
        }
      ]
    },
    {
      "cell_type": "code",
      "metadata": {
        "id": "s_8imziRAJ89",
        "colab_type": "code",
        "outputId": "fd60b132-169c-4c3c-9d6e-71660258c956",
        "colab": {
          "base_uri": "https://localhost:8080/",
          "height": 35
        }
      },
      "source": [
        "clf = RandomForestClassifier(max_depth=6, random_state=0).fit(X_train_vect, y_train)\n",
        "a = clf.predict_proba(X_test_vect)[:,1]\n",
        "print('AUC score with Bag of Words and POS',roc_auc_score(y_test,a))"
      ],
      "execution_count": 0,
      "outputs": [
        {
          "output_type": "stream",
          "text": [
            "AUC score with Bag of Words and POS 0.7872734059657922\n"
          ],
          "name": "stdout"
        }
      ]
    },
    {
      "cell_type": "markdown",
      "metadata": {
        "id": "M7SGO6CrL_O9",
        "colab_type": "text"
      },
      "source": [
        "# Studying the distance between text corpus\n",
        "\n",
        "Before using a BERT model type which will allow us to tackle the question in introduction about the generalization of the prediction capacity from a given corpus, as well as possibly improve performances, we focus on calculating a distance between our two reference corpus (one about sports items, the other about beauty items). \n",
        "To do so, we compute the earth mover distance or wod mover distance between several sentences excerpted from both corpus embeddings provided by Word2Vec. Before that, we must train the model on both corpuses and not just one, as was done before. In this latter case, our embeddings would not allow to understand the differences between two sentences from different corpus.  \n",
        "\n",
        "The interest of this metric is to compare sentences with no common words between themselves, thus operating at the semantic level. This way, we get an idea of the possibility to generalize the results from learning on one particular corpus to other corpuses, as well as of the interest of realizing this experience."
      ]
    },
    {
      "cell_type": "code",
      "metadata": {
        "id": "GY8EfpnkTWSA",
        "colab_type": "code",
        "outputId": "a3a14dd0-8462-4179-b1d6-7f93d2425e71",
        "colab": {
          "base_uri": "https://localhost:8080/",
          "height": 35
        }
      },
      "source": [
        "### concatenate sport and beauty small test datasets\n",
        "\n",
        "import pandas as pd\n",
        "df_sport_test.index = range(len(df_sport_test.index))\n",
        "df_b_test.index = range(len(df_sport_test.index),len(df_b_test.index) + len(df_sport_test.index))\n",
        "df_conc = pd.concat([df_sport_test,df_b_test])\n",
        "df_conc.shape"
      ],
      "execution_count": 0,
      "outputs": [
        {
          "output_type": "execute_result",
          "data": {
            "text/plain": [
              "(7002, 9)"
            ]
          },
          "metadata": {
            "tags": []
          },
          "execution_count": 67
        }
      ]
    },
    {
      "cell_type": "code",
      "metadata": {
        "id": "G9CKSg3eSa3z",
        "colab_type": "code",
        "outputId": "1d139e21-5660-4d43-e34b-09f8bccd0e5a",
        "colab": {
          "base_uri": "https://localhost:8080/",
          "height": 35
        }
      },
      "source": [
        "### first train gensim on both sport and beauty data, with POS 2 \n",
        "\n",
        "X_ = tokenize(df_conc.reviewText.array,pos_2=True)\n",
        "X = [' '.join(x) for x in X_] \n",
        "\n",
        "p = Word2Vec(X_, size=100, window=5, min_count=3, workers=cpu) "
      ],
      "execution_count": 0,
      "outputs": [
        {
          "output_type": "stream",
          "text": [
            "100%|██████████| 7002/7002 [00:30<00:00, 227.28it/s]\n"
          ],
          "name": "stderr"
        }
      ]
    },
    {
      "cell_type": "code",
      "metadata": {
        "id": "n2FObtCZMtC6",
        "colab_type": "code",
        "outputId": "36f60cb7-aa6c-451e-f56a-f96d0e245daf",
        "colab": {
          "base_uri": "https://localhost:8080/",
          "height": 441
        }
      },
      "source": [
        "### then compute mean Wasserstein distance between sentences on sentences from samples from sport and beauty datasets\n",
        "\n",
        "test_sport = df_sport_test.sample(frac=0.05)\n",
        "test_sport.index = range(len(test_sport.index))\n",
        "test_b = df_b_test.sample(frac=0.05)\n",
        "test_b.index = range(len(test_b.index))\n",
        "scores = []\n",
        "\n",
        "for i in range(len(test_sport.index)):\n",
        "  for j in range(len(test_b.index)):\n",
        "\n",
        "    p_wmd = p.wmdistance\n",
        "    sentence_a = test_sport.reviewText[i]\n",
        "    sentence_b = test_b.reviewText[j]\n",
        "    distance = p_wmd(sentence_a, sentence_b)\n",
        "    scores.append(distance)\n",
        "\n",
        "print(np.mean(scores))\n",
        "plt.hist(scores)"
      ],
      "execution_count": 0,
      "outputs": [
        {
          "output_type": "stream",
          "text": [
            "/usr/local/lib/python3.6/dist-packages/ipykernel_launcher.py:15: DeprecationWarning: Call to deprecated `wmdistance` (Method will be removed in 4.0.0, use self.wv.wmdistance() instead).\n",
            "  from ipykernel import kernelapp as app\n"
          ],
          "name": "stderr"
        },
        {
          "output_type": "stream",
          "text": [
            "0.7724028395928604\n"
          ],
          "name": "stdout"
        },
        {
          "output_type": "execute_result",
          "data": {
            "text/plain": [
              "(array([ 3726., 12451.,  5618.,  1805.,   465.,   257.,   432.,   139.,\n",
              "           88.,    19.]),\n",
              " array([0.08798912, 0.43615464, 0.78432015, 1.13248567, 1.48065119,\n",
              "        1.82881671, 2.17698222, 2.52514774, 2.87331326, 3.22147878,\n",
              "        3.56964429]),\n",
              " <a list of 10 Patch objects>)"
            ]
          },
          "metadata": {
            "tags": []
          },
          "execution_count": 19
        },
        {
          "output_type": "display_data",
          "data": {
            "image/png": "[encoded data removed]",
            "text/plain": [
              "<Figure size 432x288 with 1 Axes>"
            ]
          },
          "metadata": {
            "tags": [],
            "needs_background": "light"
          }
        }
      ]
    },
    {
      "cell_type": "code",
      "metadata": {
        "id": "VWoSZHrGV9H3",
        "colab_type": "code",
        "outputId": "e60ad85b-38f3-4d65-ef33-d9186060e6da",
        "colab": {
          "base_uri": "https://localhost:8080/",
          "height": 444
        }
      },
      "source": [
        "### compare with distances between only sport sentences\n",
        "\n",
        "sport_1 = df_sport.loc[0:100,:]\n",
        "sport_1.index = range(len(sport_1.index))\n",
        "sport_2 = df_sport.loc[101:201,:]\n",
        "sport_2.index = range(len(sport_2.index))\n",
        "scores = []\n",
        "for i in range(len(sport_1.index)):\n",
        "  for j in range(len(sport_2.index)):\n",
        "\n",
        "    sentence_a = sport_1.reviewText[i]\n",
        "    sentence_b = sport_2.reviewText[j]\n",
        "    \n",
        "    distance = p_wmd(sentence_a, sentence_b)\n",
        "    \n",
        "    scores.append(distance)\n",
        "\n",
        "print(np.mean(scores))\n",
        "plt.hist(scores)"
      ],
      "execution_count": 0,
      "outputs": [
        {
          "output_type": "stream",
          "text": [
            "/usr/local/lib/python3.6/dist-packages/ipykernel_launcher.py:14: DeprecationWarning: Call to deprecated `wmdistance` (Method will be removed in 4.0.0, use self.wv.wmdistance() instead).\n",
            "  \n"
          ],
          "name": "stderr"
        },
        {
          "output_type": "stream",
          "text": [
            "0.09727619118536458\n"
          ],
          "name": "stdout"
        },
        {
          "output_type": "execute_result",
          "data": {
            "text/plain": [
              "(array([1839., 3825., 2370., 1194.,  559.,  224.,  114.,   50.,   21.,\n",
              "           5.]),\n",
              " array([0.0077735 , 0.04939557, 0.09101765, 0.13263973, 0.1742618 ,\n",
              "        0.21588388, 0.25750596, 0.29912803, 0.34075011, 0.38237219,\n",
              "        0.42399426]),\n",
              " <a list of 10 Patch objects>)"
            ]
          },
          "metadata": {
            "tags": []
          },
          "execution_count": 18
        },
        {
          "output_type": "display_data",
          "data": {
            "image/png": "[encoded data removed]",
            "text/plain": [
              "<Figure size 432x288 with 1 Axes>"
            ]
          },
          "metadata": {
            "tags": [],
            "needs_background": "light"
          }
        }
      ]
    },
    {
      "cell_type": "markdown",
      "metadata": {
        "id": "dFS-FG2Edupz",
        "colab_type": "text"
      },
      "source": [
        "In the second case, the average score is much lower, and the score distribution has a mode between 0 and 0.1, when for the first case it is 0.5. Does that work so well with an other distance? Let's use the cosine distance from sklearn. "
      ]
    },
    {
      "cell_type": "code",
      "metadata": {
        "id": "1n5r6BdLWpXE",
        "colab_type": "code",
        "outputId": "53240498-afb0-469e-cd56-9c2b9f32075b",
        "colab": {
          "base_uri": "https://localhost:8080/",
          "height": 87
        }
      },
      "source": [
        "### Let's have a comparison with cosine distance\n",
        "\n",
        "# distance between sport texts\n",
        "\n",
        "from sklearn.metrics.pairwise import cosine_distances, cosine_similarity\n",
        "from scipy.spatial import distance\n",
        "W = vectorize(X)\n",
        "a = int(len(df_sport_test.index)/2)\n",
        "sport_1 = W[:a]\n",
        "print(sport_1.shape)\n",
        "sport_2 = W[a+1:2*a]\n",
        "print(sport_2.shape)\n",
        "print(cosine_distances(sport_1,sport_2).shape)\n",
        "print(np.mean(np.triu(cosine_distances(sport_1,sport_2))))"
      ],
      "execution_count": 0,
      "outputs": [
        {
          "output_type": "stream",
          "text": [
            "(1000, 16614)\n",
            "(999, 16614)\n",
            "(1000, 999)\n",
            "0.3866675803741816\n"
          ],
          "name": "stdout"
        }
      ]
    },
    {
      "cell_type": "code",
      "metadata": {
        "id": "z7iFQxSbWpT-",
        "colab_type": "code",
        "outputId": "d09b4818-a768-4904-eafc-7ca27097b8a2",
        "colab": {
          "base_uri": "https://localhost:8080/",
          "height": 35
        }
      },
      "source": [
        "beaut = W[len(df_sport_test.index)+1:]\n",
        "print(np.mean(np.triu(cosine_distances(beaut,sport_2))))"
      ],
      "execution_count": 0,
      "outputs": [
        {
          "output_type": "stream",
          "text": [
            "0.0737489135990525\n"
          ],
          "name": "stdout"
        }
      ]
    },
    {
      "cell_type": "markdown",
      "metadata": {
        "id": "FyLmdO2_77yG",
        "colab_type": "text"
      },
      "source": [
        "The cosine distance confirms the results from the word mover distance, which allows us to have a more robust meaning for the distance between different texts."
      ]
    },
    {
      "cell_type": "markdown",
      "metadata": {
        "id": "rw9vAzb5Fvaw",
        "colab_type": "text"
      },
      "source": [
        "# Transfer Learning using BERT\n",
        "\n",
        "In this part, we aim at improving our performances. Despite the improvement brought by the feature engineering method, our results remain not satisfying enough to go multiclass. Moreover, the bag of words method is heavy in terms of calculus complexity and prevents us from to take advantage of the large volume of data we have. \n",
        "The BERT model has even more interest for us, as it relies on \"sub word units\" allowing it to predict from words it has not yet met during the training phase. We will then be able to explore the problematic of the generalization of our algorithm from a learning focused on a particular corpus. \n",
        "\n",
        "The training is quite long on the 300000 comments for the df_sport_ database (1h30 by epoch). We wil train on ds_sport if we want to run the notebook faster."
      ]
    },
    {
      "cell_type": "code",
      "metadata": {
        "id": "b6OgWLV9Ls1C",
        "colab_type": "code",
        "outputId": "ba260eb1-73b5-4c11-8faa-b3d594657c32",
        "colab": {
          "base_uri": "https://localhost:8080/",
          "height": 35
        }
      },
      "source": [
        "import tensorflow as tf\n",
        "\n",
        "# Get the GPU device name.\n",
        "device_name = tf.test.gpu_device_name()\n",
        "\n",
        "# The device name should look like the following:\n",
        "if device_name == '/device:GPU:0':\n",
        "    print('Found GPU at: {}'.format(device_name))\n",
        "else:\n",
        "    raise SystemError('GPU device not found')"
      ],
      "execution_count": 0,
      "outputs": [
        {
          "output_type": "stream",
          "text": [
            "Found GPU at: /device:GPU:0\n"
          ],
          "name": "stdout"
        }
      ]
    },
    {
      "cell_type": "code",
      "metadata": {
        "id": "AFDE-0cUL5-I",
        "colab_type": "code",
        "outputId": "8a39999f-2147-4f36-a921-d7419bba2817",
        "colab": {
          "base_uri": "https://localhost:8080/",
          "height": 52
        }
      },
      "source": [
        "import torch\n",
        "\n",
        "# If there's a GPU available...\n",
        "if torch.cuda.is_available():    \n",
        "\n",
        "    # Tell PyTorch to use the GPU.    \n",
        "    device = torch.device(\"cuda\")\n",
        "\n",
        "    print('There are %d GPU(s) available.' % torch.cuda.device_count())\n",
        "\n",
        "    print('We will use the GPU:', torch.cuda.get_device_name(0))\n",
        "\n",
        "# If not...\n",
        "else:\n",
        "    print('No GPU available, using the CPU instead.')\n",
        "    device = torch.device(\"cpu\")"
      ],
      "execution_count": 0,
      "outputs": [
        {
          "output_type": "stream",
          "text": [
            "There are 1 GPU(s) available.\n",
            "We will use the GPU: Tesla K80\n"
          ],
          "name": "stdout"
        }
      ]
    },
    {
      "cell_type": "code",
      "metadata": {
        "id": "JBO1Sc4Tu9Qx",
        "colab_type": "code",
        "outputId": "016262cc-7fac-4cbd-e4a0-93fb52f7d0a6",
        "colab": {
          "base_uri": "https://localhost:8080/",
          "height": 84,
          "referenced_widgets": [
            "a0d96c76b93e4df3ba64afff3e7a5f7b",
            "ab12d81d81d84f3eab0196107c360daf",
            "dd73e81c26bc4b5294775d4a7dc32fd7",
            "fff6ffeb2ad548cb8f5e5598cc92a7b4",
            "53834b2b1b174d54b13a6e9c5ddc83b2",
            "8405c66598084c4c953977f543a08090",
            "75690c6fa7f64c1fb883c55e8943cfab",
            "a45fd4f221cc4d118be58ebbdac9377a"
          ]
        }
      },
      "source": [
        "from transformers import BertTokenizer\n",
        "\n",
        "# Load the BERT tokenizer.\n",
        "# we will use a specific tokenizer for BERT\n",
        "# as it operates on sub word units\n",
        "\n",
        "print('Loading BERT tokenizer...')\n",
        "tokenizer = BertTokenizer.from_pretrained('bert-base-uncased', do_lower_case=True)"
      ],
      "execution_count": 0,
      "outputs": [
        {
          "output_type": "stream",
          "text": [
            "Loading BERT tokenizer...\n"
          ],
          "name": "stdout"
        },
        {
          "output_type": "display_data",
          "data": {
            "application/vnd.jupyter.widget-view+json": {
              "model_id": "a0d96c76b93e4df3ba64afff3e7a5f7b",
              "version_minor": 0,
              "version_major": 2
            },
            "text/plain": [
              "HBox(children=(FloatProgress(value=0.0, description='Downloading', max=231508.0, style=ProgressStyle(descripti…"
            ]
          },
          "metadata": {
            "tags": []
          }
        },
        {
          "output_type": "stream",
          "text": [
            "\n"
          ],
          "name": "stdout"
        }
      ]
    },
    {
      "cell_type": "code",
      "metadata": {
        "id": "glYTrrmJntfi",
        "colab_type": "code",
        "outputId": "af5c938b-7b97-46ce-8a2c-4d1e29addc0f",
        "colab": {
          "base_uri": "https://localhost:8080/",
          "height": 35
        }
      },
      "source": [
        "def tokenize_bert(corpus,maxlen = 64):\n",
        "    \n",
        "    \n",
        "    input_ids = []\n",
        "    attention_masks = []\n",
        "\n",
        "    for sample in tqdm(corpus):\n",
        "\n",
        "        encoded_dict = tokenizer.encode_plus(\n",
        "                        sample,                      # Sentence to encode.\n",
        "                        add_special_tokens = True, # Add '[CLS]' and '[SEP]'\n",
        "                        max_length = maxlen,           # Pad & truncate all sentences.\n",
        "                        pad_to_max_length = True,\n",
        "                        return_attention_mask = True,   # Construct attn. masks.\n",
        "                        return_tensors = 'pt',     # Return pytorch tensors.\n",
        "                   )\n",
        "        \n",
        "        input_ids.append(encoded_dict['input_ids'])\n",
        "        attention_masks.append(encoded_dict['attention_mask'])\n",
        "\n",
        "      \n",
        "    return input_ids, attention_masks\n",
        "\n",
        "input_ids, attention_masks = tokenize_bert(df_sport_.reviewText.array)\n",
        "\n",
        "input_ids = torch.cat(input_ids, dim=0)\n",
        "attention_masks = torch.cat(attention_masks, dim=0)\n",
        "#labels = torch.tensor(labels)\n"
      ],
      "execution_count": 0,
      "outputs": [
        {
          "output_type": "stream",
          "text": [
            "100%|██████████| 296337/296337 [10:27<00:00, 472.56it/s]\n"
          ],
          "name": "stderr"
        }
      ]
    },
    {
      "cell_type": "code",
      "metadata": {
        "id": "AS-wrmzSJC9Z",
        "colab_type": "code",
        "colab": {}
      },
      "source": [
        "def encode_labels(x):\n",
        "  if x >= 4 :\n",
        "    return 1\n",
        "  else :\n",
        "    return 0\n",
        "\n",
        "labels = np.array(df_sport_['overall'].apply(lambda x : encode_labels(x)))"
      ],
      "execution_count": 0,
      "outputs": []
    },
    {
      "cell_type": "code",
      "metadata": {
        "id": "zLOl2CGQMZDK",
        "colab_type": "code",
        "colab": {}
      },
      "source": [
        "labels = torch.tensor(labels)"
      ],
      "execution_count": 0,
      "outputs": []
    },
    {
      "cell_type": "code",
      "metadata": {
        "id": "Lz6X59n1ntl0",
        "colab_type": "code",
        "outputId": "55d886b3-a471-4497-cc07-6828ac5d1308",
        "colab": {
          "base_uri": "https://localhost:8080/",
          "height": 52
        }
      },
      "source": [
        "from torch.utils.data import TensorDataset, random_split\n",
        "\n",
        "# Combine the training inputs into a TensorDataset.\n",
        "dataset = TensorDataset(input_ids, attention_masks, labels)\n",
        "\n",
        "# Create a 90-10 train-validation split.\n",
        "\n",
        "train_size = int(0.9 * len(dataset))\n",
        "val_size = len(dataset) - train_size\n",
        "\n",
        "# Divide the dataset by randomly selecting samples.\n",
        "train_dataset, val_dataset = random_split(dataset, [train_size, val_size])\n",
        "\n",
        "print('{:>5,} training samples'.format(train_size))\n",
        "print('{:>5,} validation samples'.format(val_size))"
      ],
      "execution_count": 0,
      "outputs": [
        {
          "output_type": "stream",
          "text": [
            "266,703 training samples\n",
            "29,634 validation samples\n"
          ],
          "name": "stdout"
        }
      ]
    },
    {
      "cell_type": "code",
      "metadata": {
        "id": "VgS1YdoTntp5",
        "colab_type": "code",
        "colab": {}
      },
      "source": [
        "from torch.utils.data import DataLoader, RandomSampler, SequentialSampler\n",
        "\n",
        "# The DataLoader needs to know our batch size for training, so we specify it \n",
        "# here. For fine-tuning BERT on a specific task, the authors recommend a batch \n",
        "# size of 16 or 32.\n",
        "batch_size = 32\n",
        "\n",
        "# Create the DataLoaders for our training and validation sets.\n",
        "# We'll take training samples in random order. \n",
        "train_dataloader = DataLoader(\n",
        "            train_dataset,  # The training samples.\n",
        "            sampler = RandomSampler(train_dataset), # Select batches randomly\n",
        "            batch_size = batch_size # Trains with this batch size.\n",
        "        )\n",
        "\n",
        "# For validation the order doesn't matter, so we'll just read them sequentially.\n",
        "validation_dataloader = DataLoader(\n",
        "            val_dataset, # The validation samples.\n",
        "            sampler = SequentialSampler(val_dataset), # Pull out batches sequentially.\n",
        "            batch_size = batch_size # Evaluate with this batch size.\n",
        "        )"
      ],
      "execution_count": 0,
      "outputs": []
    },
    {
      "cell_type": "code",
      "metadata": {
        "id": "BRAwGIbCntu0",
        "colab_type": "code",
        "outputId": "7872c4b7-d33d-4952-b552-6f4dfc3496cc",
        "colab": {
          "base_uri": "https://localhost:8080/",
          "height": 1000,
          "referenced_widgets": [
            "bafecd2ca9b24bb8a74ac17d9e74f38c",
            "f60c47277803476f9423e8b8126a1243",
            "76481a9a5f664d1baf9eaa2fbc85c3f0",
            "b82b5a062fd04f36bf9f4d48eacf7267",
            "1fd0efb1d73a46d7abe4e2568a20169a",
            "0d6ae8202b224e239bf9a281bd770b88",
            "95ebb348f0e64955ac6e7162a1cc9f0c",
            "17874b2b647c4a1fa875a6f46e4ca89e",
            "c176682261b8436bbd6f6bf489d6a0cf",
            "9d69a685619d4743b1ad84d0d035c99b",
            "e5aeeacc65694a188f1b23964e3fa2c2",
            "d5b540cb2a9d45539c82f655645d53be",
            "4fe60b4e8fc649068cb321e78cced160",
            "ff7ee8dd14414d43bea82966b887cad2",
            "3acbdec2c11f496b85eeee6944c0718b",
            "4843f41fe613463a91b4b4bac4c63f37"
          ]
        }
      },
      "source": [
        "from transformers import BertForSequenceClassification, AdamW, BertConfig\n",
        "\n",
        "# Load BertForSequenceClassification, the pretrained BERT model with a single \n",
        "# linear classification layer on top. \n",
        "model = BertForSequenceClassification.from_pretrained(\n",
        "    \"bert-base-uncased\", # Use the 12-layer BERT model, with an uncased vocab.\n",
        "    num_labels = 2, # The number of output labels--2 for binary classification.\n",
        "                    # You can increase this for multi-class tasks.   \n",
        "    output_attentions = False, # Whether the model returns attentions weights.\n",
        "    output_hidden_states = False, # Whether the model returns all hidden-states.\n",
        ")\n",
        "\n",
        "# Tell pytorch to run this model on the GPU.\n",
        "model.cuda()"
      ],
      "execution_count": 0,
      "outputs": [
        {
          "output_type": "display_data",
          "data": {
            "application/vnd.jupyter.widget-view+json": {
              "model_id": "bafecd2ca9b24bb8a74ac17d9e74f38c",
              "version_minor": 0,
              "version_major": 2
            },
            "text/plain": [
              "HBox(children=(FloatProgress(value=0.0, description='Downloading', max=433.0, style=ProgressStyle(description_…"
            ]
          },
          "metadata": {
            "tags": []
          }
        },
        {
          "output_type": "stream",
          "text": [
            "\n"
          ],
          "name": "stdout"
        },
        {
          "output_type": "display_data",
          "data": {
            "application/vnd.jupyter.widget-view+json": {
              "model_id": "c176682261b8436bbd6f6bf489d6a0cf",
              "version_minor": 0,
              "version_major": 2
            },
            "text/plain": [
              "HBox(children=(FloatProgress(value=0.0, description='Downloading', max=440473133.0, style=ProgressStyle(descri…"
            ]
          },
          "metadata": {
            "tags": []
          }
        },
        {
          "output_type": "stream",
          "text": [
            "\n"
          ],
          "name": "stdout"
        },
        {
          "output_type": "execute_result",
          "data": {
            "text/plain": [
              "BertForSequenceClassification(\n",
              "  (bert): BertModel(\n",
              "    (embeddings): BertEmbeddings(\n",
              "      (word_embeddings): Embedding(30522, 768, padding_idx=0)\n",
              "      (position_embeddings): Embedding(512, 768)\n",
              "      (token_type_embeddings): Embedding(2, 768)\n",
              "      (LayerNorm): LayerNorm((768,), eps=1e-12, elementwise_affine=True)\n",
              "      (dropout): Dropout(p=0.1, inplace=False)\n",
              "    )\n",
              "    (encoder): BertEncoder(\n",
              "      (layer): ModuleList(\n",
              "        (0): BertLayer(\n",
              "          (attention): BertAttention(\n",
              "            (self): BertSelfAttention(\n",
              "              (query): Linear(in_features=768, out_features=768, bias=True)\n",
              "              (key): Linear(in_features=768, out_features=768, bias=True)\n",
              "              (value): Linear(in_features=768, out_features=768, bias=True)\n",
              "              (dropout): Dropout(p=0.1, inplace=False)\n",
              "            )\n",
              "            (output): BertSelfOutput(\n",
              "              (dense): Linear(in_features=768, out_features=768, bias=True)\n",
              "              (LayerNorm): LayerNorm((768,), eps=1e-12, elementwise_affine=True)\n",
              "              (dropout): Dropout(p=0.1, inplace=False)\n",
              "            )\n",
              "          )\n",
              "          (intermediate): BertIntermediate(\n",
              "            (dense): Linear(in_features=768, out_features=3072, bias=True)\n",
              "          )\n",
              "          (output): BertOutput(\n",
              "            (dense): Linear(in_features=3072, out_features=768, bias=True)\n",
              "            (LayerNorm): LayerNorm((768,), eps=1e-12, elementwise_affine=True)\n",
              "            (dropout): Dropout(p=0.1, inplace=False)\n",
              "          )\n",
              "        )\n",
              "        (1): BertLayer(\n",
              "          (attention): BertAttention(\n",
              "            (self): BertSelfAttention(\n",
              "              (query): Linear(in_features=768, out_features=768, bias=True)\n",
              "              (key): Linear(in_features=768, out_features=768, bias=True)\n",
              "              (value): Linear(in_features=768, out_features=768, bias=True)\n",
              "              (dropout): Dropout(p=0.1, inplace=False)\n",
              "            )\n",
              "            (output): BertSelfOutput(\n",
              "              (dense): Linear(in_features=768, out_features=768, bias=True)\n",
              "              (LayerNorm): LayerNorm((768,), eps=1e-12, elementwise_affine=True)\n",
              "              (dropout): Dropout(p=0.1, inplace=False)\n",
              "            )\n",
              "          )\n",
              "          (intermediate): BertIntermediate(\n",
              "            (dense): Linear(in_features=768, out_features=3072, bias=True)\n",
              "          )\n",
              "          (output): BertOutput(\n",
              "            (dense): Linear(in_features=3072, out_features=768, bias=True)\n",
              "            (LayerNorm): LayerNorm((768,), eps=1e-12, elementwise_affine=True)\n",
              "            (dropout): Dropout(p=0.1, inplace=False)\n",
              "          )\n",
              "        )\n",
              "        (2): BertLayer(\n",
              "          (attention): BertAttention(\n",
              "            (self): BertSelfAttention(\n",
              "              (query): Linear(in_features=768, out_features=768, bias=True)\n",
              "              (key): Linear(in_features=768, out_features=768, bias=True)\n",
              "              (value): Linear(in_features=768, out_features=768, bias=True)\n",
              "              (dropout): Dropout(p=0.1, inplace=False)\n",
              "            )\n",
              "            (output): BertSelfOutput(\n",
              "              (dense): Linear(in_features=768, out_features=768, bias=True)\n",
              "              (LayerNorm): LayerNorm((768,), eps=1e-12, elementwise_affine=True)\n",
              "              (dropout): Dropout(p=0.1, inplace=False)\n",
              "            )\n",
              "          )\n",
              "          (intermediate): BertIntermediate(\n",
              "            (dense): Linear(in_features=768, out_features=3072, bias=True)\n",
              "          )\n",
              "          (output): BertOutput(\n",
              "            (dense): Linear(in_features=3072, out_features=768, bias=True)\n",
              "            (LayerNorm): LayerNorm((768,), eps=1e-12, elementwise_affine=True)\n",
              "            (dropout): Dropout(p=0.1, inplace=False)\n",
              "          )\n",
              "        )\n",
              "        (3): BertLayer(\n",
              "          (attention): BertAttention(\n",
              "            (self): BertSelfAttention(\n",
              "              (query): Linear(in_features=768, out_features=768, bias=True)\n",
              "              (key): Linear(in_features=768, out_features=768, bias=True)\n",
              "              (value): Linear(in_features=768, out_features=768, bias=True)\n",
              "              (dropout): Dropout(p=0.1, inplace=False)\n",
              "            )\n",
              "            (output): BertSelfOutput(\n",
              "              (dense): Linear(in_features=768, out_features=768, bias=True)\n",
              "              (LayerNorm): LayerNorm((768,), eps=1e-12, elementwise_affine=True)\n",
              "              (dropout): Dropout(p=0.1, inplace=False)\n",
              "            )\n",
              "          )\n",
              "          (intermediate): BertIntermediate(\n",
              "            (dense): Linear(in_features=768, out_features=3072, bias=True)\n",
              "          )\n",
              "          (output): BertOutput(\n",
              "            (dense): Linear(in_features=3072, out_features=768, bias=True)\n",
              "            (LayerNorm): LayerNorm((768,), eps=1e-12, elementwise_affine=True)\n",
              "            (dropout): Dropout(p=0.1, inplace=False)\n",
              "          )\n",
              "        )\n",
              "        (4): BertLayer(\n",
              "          (attention): BertAttention(\n",
              "            (self): BertSelfAttention(\n",
              "              (query): Linear(in_features=768, out_features=768, bias=True)\n",
              "              (key): Linear(in_features=768, out_features=768, bias=True)\n",
              "              (value): Linear(in_features=768, out_features=768, bias=True)\n",
              "              (dropout): Dropout(p=0.1, inplace=False)\n",
              "            )\n",
              "            (output): BertSelfOutput(\n",
              "              (dense): Linear(in_features=768, out_features=768, bias=True)\n",
              "              (LayerNorm): LayerNorm((768,), eps=1e-12, elementwise_affine=True)\n",
              "              (dropout): Dropout(p=0.1, inplace=False)\n",
              "            )\n",
              "          )\n",
              "          (intermediate): BertIntermediate(\n",
              "            (dense): Linear(in_features=768, out_features=3072, bias=True)\n",
              "          )\n",
              "          (output): BertOutput(\n",
              "            (dense): Linear(in_features=3072, out_features=768, bias=True)\n",
              "            (LayerNorm): LayerNorm((768,), eps=1e-12, elementwise_affine=True)\n",
              "            (dropout): Dropout(p=0.1, inplace=False)\n",
              "          )\n",
              "        )\n",
              "        (5): BertLayer(\n",
              "          (attention): BertAttention(\n",
              "            (self): BertSelfAttention(\n",
              "              (query): Linear(in_features=768, out_features=768, bias=True)\n",
              "              (key): Linear(in_features=768, out_features=768, bias=True)\n",
              "              (value): Linear(in_features=768, out_features=768, bias=True)\n",
              "              (dropout): Dropout(p=0.1, inplace=False)\n",
              "            )\n",
              "            (output): BertSelfOutput(\n",
              "              (dense): Linear(in_features=768, out_features=768, bias=True)\n",
              "              (LayerNorm): LayerNorm((768,), eps=1e-12, elementwise_affine=True)\n",
              "              (dropout): Dropout(p=0.1, inplace=False)\n",
              "            )\n",
              "          )\n",
              "          (intermediate): BertIntermediate(\n",
              "            (dense): Linear(in_features=768, out_features=3072, bias=True)\n",
              "          )\n",
              "          (output): BertOutput(\n",
              "            (dense): Linear(in_features=3072, out_features=768, bias=True)\n",
              "            (LayerNorm): LayerNorm((768,), eps=1e-12, elementwise_affine=True)\n",
              "            (dropout): Dropout(p=0.1, inplace=False)\n",
              "          )\n",
              "        )\n",
              "        (6): BertLayer(\n",
              "          (attention): BertAttention(\n",
              "            (self): BertSelfAttention(\n",
              "              (query): Linear(in_features=768, out_features=768, bias=True)\n",
              "              (key): Linear(in_features=768, out_features=768, bias=True)\n",
              "              (value): Linear(in_features=768, out_features=768, bias=True)\n",
              "              (dropout): Dropout(p=0.1, inplace=False)\n",
              "            )\n",
              "            (output): BertSelfOutput(\n",
              "              (dense): Linear(in_features=768, out_features=768, bias=True)\n",
              "              (LayerNorm): LayerNorm((768,), eps=1e-12, elementwise_affine=True)\n",
              "              (dropout): Dropout(p=0.1, inplace=False)\n",
              "            )\n",
              "          )\n",
              "          (intermediate): BertIntermediate(\n",
              "            (dense): Linear(in_features=768, out_features=3072, bias=True)\n",
              "          )\n",
              "          (output): BertOutput(\n",
              "            (dense): Linear(in_features=3072, out_features=768, bias=True)\n",
              "            (LayerNorm): LayerNorm((768,), eps=1e-12, elementwise_affine=True)\n",
              "            (dropout): Dropout(p=0.1, inplace=False)\n",
              "          )\n",
              "        )\n",
              "        (7): BertLayer(\n",
              "          (attention): BertAttention(\n",
              "            (self): BertSelfAttention(\n",
              "              (query): Linear(in_features=768, out_features=768, bias=True)\n",
              "              (key): Linear(in_features=768, out_features=768, bias=True)\n",
              "              (value): Linear(in_features=768, out_features=768, bias=True)\n",
              "              (dropout): Dropout(p=0.1, inplace=False)\n",
              "            )\n",
              "            (output): BertSelfOutput(\n",
              "              (dense): Linear(in_features=768, out_features=768, bias=True)\n",
              "              (LayerNorm): LayerNorm((768,), eps=1e-12, elementwise_affine=True)\n",
              "              (dropout): Dropout(p=0.1, inplace=False)\n",
              "            )\n",
              "          )\n",
              "          (intermediate): BertIntermediate(\n",
              "            (dense): Linear(in_features=768, out_features=3072, bias=True)\n",
              "          )\n",
              "          (output): BertOutput(\n",
              "            (dense): Linear(in_features=3072, out_features=768, bias=True)\n",
              "            (LayerNorm): LayerNorm((768,), eps=1e-12, elementwise_affine=True)\n",
              "            (dropout): Dropout(p=0.1, inplace=False)\n",
              "          )\n",
              "        )\n",
              "        (8): BertLayer(\n",
              "          (attention): BertAttention(\n",
              "            (self): BertSelfAttention(\n",
              "              (query): Linear(in_features=768, out_features=768, bias=True)\n",
              "              (key): Linear(in_features=768, out_features=768, bias=True)\n",
              "              (value): Linear(in_features=768, out_features=768, bias=True)\n",
              "              (dropout): Dropout(p=0.1, inplace=False)\n",
              "            )\n",
              "            (output): BertSelfOutput(\n",
              "              (dense): Linear(in_features=768, out_features=768, bias=True)\n",
              "              (LayerNorm): LayerNorm((768,), eps=1e-12, elementwise_affine=True)\n",
              "              (dropout): Dropout(p=0.1, inplace=False)\n",
              "            )\n",
              "          )\n",
              "          (intermediate): BertIntermediate(\n",
              "            (dense): Linear(in_features=768, out_features=3072, bias=True)\n",
              "          )\n",
              "          (output): BertOutput(\n",
              "            (dense): Linear(in_features=3072, out_features=768, bias=True)\n",
              "            (LayerNorm): LayerNorm((768,), eps=1e-12, elementwise_affine=True)\n",
              "            (dropout): Dropout(p=0.1, inplace=False)\n",
              "          )\n",
              "        )\n",
              "        (9): BertLayer(\n",
              "          (attention): BertAttention(\n",
              "            (self): BertSelfAttention(\n",
              "              (query): Linear(in_features=768, out_features=768, bias=True)\n",
              "              (key): Linear(in_features=768, out_features=768, bias=True)\n",
              "              (value): Linear(in_features=768, out_features=768, bias=True)\n",
              "              (dropout): Dropout(p=0.1, inplace=False)\n",
              "            )\n",
              "            (output): BertSelfOutput(\n",
              "              (dense): Linear(in_features=768, out_features=768, bias=True)\n",
              "              (LayerNorm): LayerNorm((768,), eps=1e-12, elementwise_affine=True)\n",
              "              (dropout): Dropout(p=0.1, inplace=False)\n",
              "            )\n",
              "          )\n",
              "          (intermediate): BertIntermediate(\n",
              "            (dense): Linear(in_features=768, out_features=3072, bias=True)\n",
              "          )\n",
              "          (output): BertOutput(\n",
              "            (dense): Linear(in_features=3072, out_features=768, bias=True)\n",
              "            (LayerNorm): LayerNorm((768,), eps=1e-12, elementwise_affine=True)\n",
              "            (dropout): Dropout(p=0.1, inplace=False)\n",
              "          )\n",
              "        )\n",
              "        (10): BertLayer(\n",
              "          (attention): BertAttention(\n",
              "            (self): BertSelfAttention(\n",
              "              (query): Linear(in_features=768, out_features=768, bias=True)\n",
              "              (key): Linear(in_features=768, out_features=768, bias=True)\n",
              "              (value): Linear(in_features=768, out_features=768, bias=True)\n",
              "              (dropout): Dropout(p=0.1, inplace=False)\n",
              "            )\n",
              "            (output): BertSelfOutput(\n",
              "              (dense): Linear(in_features=768, out_features=768, bias=True)\n",
              "              (LayerNorm): LayerNorm((768,), eps=1e-12, elementwise_affine=True)\n",
              "              (dropout): Dropout(p=0.1, inplace=False)\n",
              "            )\n",
              "          )\n",
              "          (intermediate): BertIntermediate(\n",
              "            (dense): Linear(in_features=768, out_features=3072, bias=True)\n",
              "          )\n",
              "          (output): BertOutput(\n",
              "            (dense): Linear(in_features=3072, out_features=768, bias=True)\n",
              "            (LayerNorm): LayerNorm((768,), eps=1e-12, elementwise_affine=True)\n",
              "            (dropout): Dropout(p=0.1, inplace=False)\n",
              "          )\n",
              "        )\n",
              "        (11): BertLayer(\n",
              "          (attention): BertAttention(\n",
              "            (self): BertSelfAttention(\n",
              "              (query): Linear(in_features=768, out_features=768, bias=True)\n",
              "              (key): Linear(in_features=768, out_features=768, bias=True)\n",
              "              (value): Linear(in_features=768, out_features=768, bias=True)\n",
              "              (dropout): Dropout(p=0.1, inplace=False)\n",
              "            )\n",
              "            (output): BertSelfOutput(\n",
              "              (dense): Linear(in_features=768, out_features=768, bias=True)\n",
              "              (LayerNorm): LayerNorm((768,), eps=1e-12, elementwise_affine=True)\n",
              "              (dropout): Dropout(p=0.1, inplace=False)\n",
              "            )\n",
              "          )\n",
              "          (intermediate): BertIntermediate(\n",
              "            (dense): Linear(in_features=768, out_features=3072, bias=True)\n",
              "          )\n",
              "          (output): BertOutput(\n",
              "            (dense): Linear(in_features=3072, out_features=768, bias=True)\n",
              "            (LayerNorm): LayerNorm((768,), eps=1e-12, elementwise_affine=True)\n",
              "            (dropout): Dropout(p=0.1, inplace=False)\n",
              "          )\n",
              "        )\n",
              "      )\n",
              "    )\n",
              "    (pooler): BertPooler(\n",
              "      (dense): Linear(in_features=768, out_features=768, bias=True)\n",
              "      (activation): Tanh()\n",
              "    )\n",
              "  )\n",
              "  (dropout): Dropout(p=0.1, inplace=False)\n",
              "  (classifier): Linear(in_features=768, out_features=2, bias=True)\n",
              ")"
            ]
          },
          "metadata": {
            "tags": []
          },
          "execution_count": 48
        }
      ]
    },
    {
      "cell_type": "code",
      "metadata": {
        "id": "sSJ6vobLntyj",
        "colab_type": "code",
        "outputId": "a14abc51-a22d-4069-f606-30fe7c2c9f39",
        "colab": {
          "base_uri": "https://localhost:8080/",
          "height": 624
        }
      },
      "source": [
        "# Get all of the model's parameters as a list of tuples.\n",
        "params = list(model.named_parameters())\n",
        "\n",
        "print('The BERT model has {:} different named parameters.\\n'.format(len(params)))\n",
        "\n",
        "print('==== Embedding Layer ====\\n')\n",
        "\n",
        "for p in params[0:5]:\n",
        "    print(\"{:<55} {:>12}\".format(p[0], str(tuple(p[1].size()))))\n",
        "\n",
        "print('\\n==== First Transformer ====\\n')\n",
        "\n",
        "for p in params[5:21]:\n",
        "    print(\"{:<55} {:>12}\".format(p[0], str(tuple(p[1].size()))))\n",
        "\n",
        "print('\\n==== Output Layer ====\\n')\n",
        "\n",
        "for p in params[-4:]:\n",
        "    print(\"{:<55} {:>12}\".format(p[0], str(tuple(p[1].size()))))"
      ],
      "execution_count": 0,
      "outputs": [
        {
          "output_type": "stream",
          "text": [
            "The BERT model has 201 different named parameters.\n",
            "\n",
            "==== Embedding Layer ====\n",
            "\n",
            "bert.embeddings.word_embeddings.weight                  (30522, 768)\n",
            "bert.embeddings.position_embeddings.weight                (512, 768)\n",
            "bert.embeddings.token_type_embeddings.weight                (2, 768)\n",
            "bert.embeddings.LayerNorm.weight                              (768,)\n",
            "bert.embeddings.LayerNorm.bias                                (768,)\n",
            "\n",
            "==== First Transformer ====\n",
            "\n",
            "bert.encoder.layer.0.attention.self.query.weight          (768, 768)\n",
            "bert.encoder.layer.0.attention.self.query.bias                (768,)\n",
            "bert.encoder.layer.0.attention.self.key.weight            (768, 768)\n",
            "bert.encoder.layer.0.attention.self.key.bias                  (768,)\n",
            "bert.encoder.layer.0.attention.self.value.weight          (768, 768)\n",
            "bert.encoder.layer.0.attention.self.value.bias                (768,)\n",
            "bert.encoder.layer.0.attention.output.dense.weight        (768, 768)\n",
            "bert.encoder.layer.0.attention.output.dense.bias              (768,)\n",
            "bert.encoder.layer.0.attention.output.LayerNorm.weight        (768,)\n",
            "bert.encoder.layer.0.attention.output.LayerNorm.bias          (768,)\n",
            "bert.encoder.layer.0.intermediate.dense.weight           (3072, 768)\n",
            "bert.encoder.layer.0.intermediate.dense.bias                 (3072,)\n",
            "bert.encoder.layer.0.output.dense.weight                 (768, 3072)\n",
            "bert.encoder.layer.0.output.dense.bias                        (768,)\n",
            "bert.encoder.layer.0.output.LayerNorm.weight                  (768,)\n",
            "bert.encoder.layer.0.output.LayerNorm.bias                    (768,)\n",
            "\n",
            "==== Output Layer ====\n",
            "\n",
            "bert.pooler.dense.weight                                  (768, 768)\n",
            "bert.pooler.dense.bias                                        (768,)\n",
            "classifier.weight                                           (2, 768)\n",
            "classifier.bias                                                 (2,)\n"
          ],
          "name": "stdout"
        }
      ]
    },
    {
      "cell_type": "code",
      "metadata": {
        "id": "ZFOqs5Lznt2z",
        "colab_type": "code",
        "colab": {}
      },
      "source": [
        "### The epsilon parameter eps = 1e-8 is “a very small number to prevent any division by zero in the implementation” ###\n",
        "\n",
        "# Note: AdamW is a class from the huggingface library (as opposed to pytorch) \n",
        "\n",
        "optimizer = AdamW(model.parameters(),\n",
        "                  lr = 5e-5, # args.learning_rate - default is 5e-5, our notebook had 2e-5\n",
        "                  eps = 1e-8 # args.adam_epsilon  - default is 1e-8.\n",
        "                )"
      ],
      "execution_count": 0,
      "outputs": []
    },
    {
      "cell_type": "code",
      "metadata": {
        "id": "oOAFOZn-nt55",
        "colab_type": "code",
        "colab": {}
      },
      "source": [
        "from transformers import get_linear_schedule_with_warmup\n",
        "\n",
        "# Number of training epochs. The BERT authors recommend between 2 and 4. \n",
        "# We chose to run for 4, but we'll see later that this may be over-fitting the\n",
        "# training data.\n",
        "epochs = 2\n",
        "\n",
        "# Total number of training steps is [number of batches] x [number of epochs]. \n",
        "# (Note that this is not the same as the number of training samples).\n",
        "total_steps = len(train_dataloader) * epochs\n",
        "\n",
        "# Create the learning rate scheduler.\n",
        "scheduler = get_linear_schedule_with_warmup(optimizer, \n",
        "                                            num_warmup_steps = 0, # Default value in run_glue.py\n",
        "                                            num_training_steps = total_steps)"
      ],
      "execution_count": 0,
      "outputs": []
    },
    {
      "cell_type": "code",
      "metadata": {
        "id": "3KojT08UnuFH",
        "colab_type": "code",
        "colab": {}
      },
      "source": [
        "import numpy as np\n",
        "\n",
        "# Function to calculate the accuracy of our predictions vs labels\n",
        "def flat_accuracy(preds, labels):\n",
        "    pred_flat = np.argmax(preds, axis=1).flatten()\n",
        "    labels_flat = labels.flatten()\n",
        "    return np.sum(pred_flat == labels_flat) / len(labels_flat)"
      ],
      "execution_count": 0,
      "outputs": []
    },
    {
      "cell_type": "code",
      "metadata": {
        "id": "CiLf1MmRnuCK",
        "colab_type": "code",
        "colab": {}
      },
      "source": [
        "import time\n",
        "import datetime\n",
        "import random\n",
        "import numpy as np\n",
        "\n",
        "def format_time(elapsed):\n",
        "    '''\n",
        "    Takes a time in seconds and returns a string hh:mm:ss\n",
        "    '''\n",
        "    # Round to the nearest second.\n",
        "    elapsed_rounded = int(round((elapsed)))\n",
        "    \n",
        "    # Format as hh:mm:ss\n",
        "    return str(datetime.timedelta(seconds=elapsed_rounded))"
      ],
      "execution_count": 0,
      "outputs": []
    },
    {
      "cell_type": "code",
      "metadata": {
        "id": "cLx7jsPwnuBJ",
        "colab_type": "code",
        "outputId": "3026666e-2fdd-4dc5-963e-74fb8eed38b0",
        "colab": {
          "base_uri": "https://localhost:8080/",
          "height": 1000
        }
      },
      "source": [
        "import random\n",
        "import numpy as np\n",
        "\n",
        "# This training code is based on the `run_glue.py` script here:\n",
        "# https://github.com/huggingface/transformers/blob/5bfcd0485ece086ebcbed2d008813037968a9e58/examples/run_glue.py#L128\n",
        "\n",
        "# Set the seed value all over the place to make this reproducible.\n",
        "seed_val = 42\n",
        "\n",
        "random.seed(seed_val)\n",
        "np.random.seed(seed_val)\n",
        "torch.manual_seed(seed_val)\n",
        "torch.cuda.manual_seed_all(seed_val)\n",
        "\n",
        "# We'll store a number of quantities such as training and validation loss, \n",
        "# validation accuracy, and timings.\n",
        "training_stats = []\n",
        "\n",
        "# Measure the total training time for the whole run.\n",
        "total_t0 = time.time()\n",
        "\n",
        "# For each epoch...\n",
        "for epoch_i in range(0, epochs):\n",
        "    \n",
        "    # ========================================\n",
        "    #               Training\n",
        "    # ========================================\n",
        "    \n",
        "    # Perform one full pass over the training set.\n",
        "\n",
        "    print(\"\")\n",
        "    print('======== Epoch {:} / {:} ========'.format(epoch_i + 1, epochs))\n",
        "    print('Training...')\n",
        "\n",
        "    # Measure how long the training epoch takes.\n",
        "    t0 = time.time()\n",
        "\n",
        "    # Reset the total loss for this epoch.\n",
        "    total_train_loss = 0\n",
        "\n",
        "    # Put the model into training mode. Don't be mislead--the call to \n",
        "    # `train` just changes the *mode*, it doesn't *perform* the training.\n",
        "    # `dropout` and `batchnorm` layers behave differently during training\n",
        "    # vs. test (source: https://stackoverflow.com/questions/51433378/what-does-model-train-do-in-pytorch)\n",
        "    model.train()\n",
        "\n",
        "    # For each batch of training data...\n",
        "    for step, batch in enumerate(train_dataloader):\n",
        "\n",
        "        # Progress update every 40 batches.\n",
        "        if step % 40 == 0 and not step == 0:\n",
        "            # Calculate elapsed time in minutes.\n",
        "            elapsed = format_time(time.time() - t0)\n",
        "            \n",
        "            # Report progress.\n",
        "            print('  Batch {:>5,}  of  {:>5,}.    Elapsed: {:}.'.format(step, len(train_dataloader), elapsed))\n",
        "\n",
        "        # Unpack this training batch from our dataloader. \n",
        "        #\n",
        "        # As we unpack the batch, we'll also copy each tensor to the GPU using the \n",
        "        # `to` method.\n",
        "        #\n",
        "        # `batch` contains three pytorch tensors:\n",
        "        #   [0]: input ids \n",
        "        #   [1]: attention masks\n",
        "        #   [2]: labels \n",
        "        b_input_ids = batch[0].to(device)\n",
        "        b_input_mask = batch[1].to(device)\n",
        "        b_labels = batch[2].to(device)\n",
        "\n",
        "        # Always clear any previously calculated gradients before performing a\n",
        "        # backward pass. PyTorch doesn't do this automatically because \n",
        "        # accumulating the gradients is \"convenient while training RNNs\". \n",
        "        # (source: https://stackoverflow.com/questions/48001598/why-do-we-need-to-call-zero-grad-in-pytorch)\n",
        "        model.zero_grad()        \n",
        "\n",
        "        # Perform a forward pass (evaluate the model on this training batch).\n",
        "        # The documentation for this `model` function is here: \n",
        "        # https://huggingface.co/transformers/v2.2.0/model_doc/bert.html#transformers.BertForSequenceClassification\n",
        "        # It returns different numbers of parameters depending on what arguments\n",
        "        # arge given and what flags are set. For our useage here, it returns\n",
        "        # the loss (because we provided labels) and the \"logits\"--the model\n",
        "        # outputs prior to activation.\n",
        "        loss, logits = model(b_input_ids, \n",
        "                             token_type_ids=None, \n",
        "                             attention_mask=b_input_mask, \n",
        "                             labels=b_labels)\n",
        "\n",
        "        # Accumulate the training loss over all of the batches so that we can\n",
        "        # calculate the average loss at the end. `loss` is a Tensor containing a\n",
        "        # single value; the `.item()` function just returns the Python value \n",
        "        # from the tensor.\n",
        "        total_train_loss += loss.item()\n",
        "\n",
        "        # Perform a backward pass to calculate the gradients.\n",
        "        loss.backward()\n",
        "\n",
        "        # Clip the norm of the gradients to 1.0.\n",
        "        # This is to help prevent the \"exploding gradients\" problem.\n",
        "        torch.nn.utils.clip_grad_norm_(model.parameters(), 1.0)\n",
        "\n",
        "        # Update parameters and take a step using the computed gradient.\n",
        "        # The optimizer dictates the \"update rule\"--how the parameters are\n",
        "        # modified based on their gradients, the learning rate, etc.\n",
        "        optimizer.step()\n",
        "\n",
        "        # Update the learning rate.\n",
        "        scheduler.step()\n",
        "\n",
        "    # Calculate the average loss over all of the batches.\n",
        "    avg_train_loss = total_train_loss / len(train_dataloader)            \n",
        "    \n",
        "    # Measure how long this epoch took.\n",
        "    training_time = format_time(time.time() - t0)\n",
        "\n",
        "    print(\"\")\n",
        "    print(\"  Average training loss: {0:.2f}\".format(avg_train_loss))\n",
        "    print(\"  Training epcoh took: {:}\".format(training_time))\n",
        "        \n",
        "    # ========================================\n",
        "    #               Validation\n",
        "    # ========================================\n",
        "    # After the completion of each training epoch, measure our performance on\n",
        "    # our validation set.\n",
        "\n",
        "    print(\"\")\n",
        "    print(\"Running Validation...\")\n",
        "\n",
        "    t0 = time.time()\n",
        "\n",
        "    # Put the model in evaluation mode--the dropout layers behave differently\n",
        "    # during evaluation.\n",
        "    model.eval()\n",
        "\n",
        "    # Tracking variables \n",
        "    total_eval_accuracy = 0\n",
        "    total_eval_loss = 0\n",
        "    nb_eval_steps = 0\n",
        "\n",
        "    # Evaluate data for one epoch\n",
        "    for batch in validation_dataloader:\n",
        "        \n",
        "        # Unpack this training batch from our dataloader. \n",
        "        #\n",
        "        # As we unpack the batch, we'll also copy each tensor to the GPU using \n",
        "        # the `to` method.\n",
        "        #\n",
        "        # `batch` contains three pytorch tensors:\n",
        "        #   [0]: input ids \n",
        "        #   [1]: attention masks\n",
        "        #   [2]: labels \n",
        "        b_input_ids = batch[0].to(device)\n",
        "        b_input_mask = batch[1].to(device)\n",
        "        b_labels = batch[2].to(device)\n",
        "        \n",
        "        # Tell pytorch not to bother with constructing the compute graph during\n",
        "        # the forward pass, since this is only needed for backprop (training).\n",
        "        with torch.no_grad():        \n",
        "\n",
        "            # Forward pass, calculate logit predictions.\n",
        "            # token_type_ids is the same as the \"segment ids\", which \n",
        "            # differentiates sentence 1 and 2 in 2-sentence tasks.\n",
        "            # The documentation for this `model` function is here: \n",
        "            # https://huggingface.co/transformers/v2.2.0/model_doc/bert.html#transformers.BertForSequenceClassification\n",
        "            # Get the \"logits\" output by the model. The \"logits\" are the output\n",
        "            # values prior to applying an activation function like the softmax.\n",
        "            (loss, logits) = model(b_input_ids, \n",
        "                                   token_type_ids=None, \n",
        "                                   attention_mask=b_input_mask,\n",
        "                                   labels=b_labels)\n",
        "            \n",
        "        # Accumulate the validation loss.\n",
        "        total_eval_loss += loss.item()\n",
        "\n",
        "        # Move logits and labels to CPU\n",
        "        logits = logits.detach().cpu().numpy()\n",
        "        label_ids = b_labels.to('cpu').numpy()\n",
        "\n",
        "        # Calculate the accuracy for this batch of test sentences, and\n",
        "        # accumulate it over all batches.\n",
        "        total_eval_accuracy += flat_accuracy(logits, label_ids)\n",
        "        \n",
        "\n",
        "    # Report the final accuracy for this validation run.\n",
        "    avg_val_accuracy = total_eval_accuracy / len(validation_dataloader)\n",
        "    print(\"  Accuracy: {0:.2f}\".format(avg_val_accuracy))\n",
        "\n",
        "    # Calculate the average loss over all of the batches.\n",
        "    avg_val_loss = total_eval_loss / len(validation_dataloader)\n",
        "    \n",
        "    # Measure how long the validation run took.\n",
        "    validation_time = format_time(time.time() - t0)\n",
        "    \n",
        "    print(\"  Validation Loss: {0:.2f}\".format(avg_val_loss))\n",
        "    print(\"  Validation took: {:}\".format(validation_time))\n",
        "\n",
        "    # Record all statistics from this epoch.\n",
        "    training_stats.append(\n",
        "        {\n",
        "            'epoch': epoch_i + 1,\n",
        "            'Training Loss': avg_train_loss,\n",
        "            'Valid. Loss': avg_val_loss,\n",
        "            'Valid. Accur.': avg_val_accuracy,\n",
        "            'Training Time': training_time,\n",
        "            'Validation Time': validation_time\n",
        "        }\n",
        "    )\n",
        "\n",
        "print(\"\")\n",
        "print(\"Training complete!\")\n",
        "\n",
        "print(\"Total training took {:} (h:mm:ss)\".format(format_time(time.time()-total_t0)))"
      ],
      "execution_count": 0,
      "outputs": [
        {
          "output_type": "stream",
          "text": [
            "\n",
            "======== Epoch 1 / 2 ========\n",
            "Training...\n"
          ],
          "name": "stdout"
        },
        {
          "output_type": "stream",
          "text": [
            "/pytorch/torch/csrc/utils/python_arg_parser.cpp:756: UserWarning: This overload of add_ is deprecated:\n",
            "\tadd_(Number alpha, Tensor other)\n",
            "Consider using one of the following signatures instead:\n",
            "\tadd_(Tensor other, *, Number alpha)\n"
          ],
          "name": "stderr"
        },
        {
          "output_type": "stream",
          "text": [
            "  Batch    40  of  8,335.    Elapsed: 0:00:26.\n",
            "  Batch    80  of  8,335.    Elapsed: 0:00:52.\n",
            "  Batch   120  of  8,335.    Elapsed: 0:01:18.\n",
            "  Batch   160  of  8,335.    Elapsed: 0:01:44.\n",
            "  Batch   200  of  8,335.    Elapsed: 0:02:10.\n",
            "  Batch   240  of  8,335.    Elapsed: 0:02:36.\n",
            "  Batch   280  of  8,335.    Elapsed: 0:03:03.\n",
            "  Batch   320  of  8,335.    Elapsed: 0:03:29.\n",
            "  Batch   360  of  8,335.    Elapsed: 0:03:55.\n",
            "  Batch   400  of  8,335.    Elapsed: 0:04:21.\n",
            "  Batch   440  of  8,335.    Elapsed: 0:04:47.\n",
            "  Batch   480  of  8,335.    Elapsed: 0:05:13.\n",
            "  Batch   520  of  8,335.    Elapsed: 0:05:39.\n",
            "  Batch   560  of  8,335.    Elapsed: 0:06:05.\n",
            "  Batch   600  of  8,335.    Elapsed: 0:06:32.\n",
            "  Batch   640  of  8,335.    Elapsed: 0:06:58.\n",
            "  Batch   680  of  8,335.    Elapsed: 0:07:24.\n",
            "  Batch   720  of  8,335.    Elapsed: 0:07:50.\n",
            "  Batch   760  of  8,335.    Elapsed: 0:08:16.\n",
            "  Batch   800  of  8,335.    Elapsed: 0:08:42.\n",
            "  Batch   840  of  8,335.    Elapsed: 0:09:08.\n",
            "  Batch   880  of  8,335.    Elapsed: 0:09:34.\n",
            "  Batch   920  of  8,335.    Elapsed: 0:10:00.\n",
            "  Batch   960  of  8,335.    Elapsed: 0:10:26.\n",
            "  Batch 1,000  of  8,335.    Elapsed: 0:10:53.\n",
            "  Batch 1,040  of  8,335.    Elapsed: 0:11:19.\n",
            "  Batch 1,080  of  8,335.    Elapsed: 0:11:45.\n",
            "  Batch 1,120  of  8,335.    Elapsed: 0:12:11.\n",
            "  Batch 1,160  of  8,335.    Elapsed: 0:12:37.\n",
            "  Batch 1,200  of  8,335.    Elapsed: 0:13:03.\n",
            "  Batch 1,240  of  8,335.    Elapsed: 0:13:29.\n",
            "  Batch 1,280  of  8,335.    Elapsed: 0:13:55.\n",
            "  Batch 1,320  of  8,335.    Elapsed: 0:14:21.\n",
            "  Batch 1,360  of  8,335.    Elapsed: 0:14:47.\n",
            "  Batch 1,400  of  8,335.    Elapsed: 0:15:14.\n",
            "  Batch 1,440  of  8,335.    Elapsed: 0:15:40.\n",
            "  Batch 1,480  of  8,335.    Elapsed: 0:16:06.\n",
            "  Batch 1,520  of  8,335.    Elapsed: 0:16:32.\n",
            "  Batch 1,560  of  8,335.    Elapsed: 0:16:58.\n",
            "  Batch 1,600  of  8,335.    Elapsed: 0:17:24.\n",
            "  Batch 1,640  of  8,335.    Elapsed: 0:17:50.\n",
            "  Batch 1,680  of  8,335.    Elapsed: 0:18:16.\n",
            "  Batch 1,720  of  8,335.    Elapsed: 0:18:42.\n",
            "  Batch 1,760  of  8,335.    Elapsed: 0:19:09.\n",
            "  Batch 1,800  of  8,335.    Elapsed: 0:19:35.\n",
            "  Batch 1,840  of  8,335.    Elapsed: 0:20:01.\n",
            "  Batch 1,880  of  8,335.    Elapsed: 0:20:27.\n",
            "  Batch 1,920  of  8,335.    Elapsed: 0:20:53.\n",
            "  Batch 1,960  of  8,335.    Elapsed: 0:21:19.\n",
            "  Batch 2,000  of  8,335.    Elapsed: 0:21:45.\n",
            "  Batch 2,040  of  8,335.    Elapsed: 0:22:11.\n",
            "  Batch 2,080  of  8,335.    Elapsed: 0:22:37.\n",
            "  Batch 2,120  of  8,335.    Elapsed: 0:23:04.\n",
            "  Batch 2,160  of  8,335.    Elapsed: 0:23:30.\n",
            "  Batch 2,200  of  8,335.    Elapsed: 0:23:56.\n",
            "  Batch 2,240  of  8,335.    Elapsed: 0:24:22.\n",
            "  Batch 2,280  of  8,335.    Elapsed: 0:24:48.\n",
            "  Batch 2,320  of  8,335.    Elapsed: 0:25:14.\n",
            "  Batch 2,360  of  8,335.    Elapsed: 0:25:40.\n",
            "  Batch 2,400  of  8,335.    Elapsed: 0:26:06.\n",
            "  Batch 2,440  of  8,335.    Elapsed: 0:26:32.\n",
            "  Batch 2,480  of  8,335.    Elapsed: 0:26:59.\n",
            "  Batch 2,520  of  8,335.    Elapsed: 0:27:25.\n",
            "  Batch 2,560  of  8,335.    Elapsed: 0:27:51.\n",
            "  Batch 2,600  of  8,335.    Elapsed: 0:28:17.\n",
            "  Batch 2,640  of  8,335.    Elapsed: 0:28:43.\n",
            "  Batch 2,680  of  8,335.    Elapsed: 0:29:09.\n",
            "  Batch 2,720  of  8,335.    Elapsed: 0:29:35.\n",
            "  Batch 2,760  of  8,335.    Elapsed: 0:30:01.\n",
            "  Batch 2,800  of  8,335.    Elapsed: 0:30:27.\n",
            "  Batch 2,840  of  8,335.    Elapsed: 0:30:53.\n",
            "  Batch 2,880  of  8,335.    Elapsed: 0:31:20.\n",
            "  Batch 2,920  of  8,335.    Elapsed: 0:31:46.\n",
            "  Batch 2,960  of  8,335.    Elapsed: 0:32:12.\n",
            "  Batch 3,000  of  8,335.    Elapsed: 0:32:38.\n",
            "  Batch 3,040  of  8,335.    Elapsed: 0:33:04.\n",
            "  Batch 3,080  of  8,335.    Elapsed: 0:33:30.\n",
            "  Batch 3,120  of  8,335.    Elapsed: 0:33:56.\n",
            "  Batch 3,160  of  8,335.    Elapsed: 0:34:22.\n",
            "  Batch 3,200  of  8,335.    Elapsed: 0:34:48.\n",
            "  Batch 3,240  of  8,335.    Elapsed: 0:35:14.\n",
            "  Batch 3,280  of  8,335.    Elapsed: 0:35:40.\n",
            "  Batch 3,320  of  8,335.    Elapsed: 0:36:07.\n",
            "  Batch 3,360  of  8,335.    Elapsed: 0:36:33.\n",
            "  Batch 3,400  of  8,335.    Elapsed: 0:36:59.\n",
            "  Batch 3,440  of  8,335.    Elapsed: 0:37:25.\n",
            "  Batch 3,480  of  8,335.    Elapsed: 0:37:51.\n",
            "  Batch 3,520  of  8,335.    Elapsed: 0:38:17.\n",
            "  Batch 3,560  of  8,335.    Elapsed: 0:38:43.\n",
            "  Batch 3,600  of  8,335.    Elapsed: 0:39:09.\n",
            "  Batch 3,640  of  8,335.    Elapsed: 0:39:35.\n",
            "  Batch 3,680  of  8,335.    Elapsed: 0:40:01.\n",
            "  Batch 3,720  of  8,335.    Elapsed: 0:40:28.\n",
            "  Batch 3,760  of  8,335.    Elapsed: 0:40:54.\n",
            "  Batch 3,800  of  8,335.    Elapsed: 0:41:20.\n",
            "  Batch 3,840  of  8,335.    Elapsed: 0:41:46.\n",
            "  Batch 3,880  of  8,335.    Elapsed: 0:42:12.\n",
            "  Batch 3,920  of  8,335.    Elapsed: 0:42:38.\n",
            "  Batch 3,960  of  8,335.    Elapsed: 0:43:04.\n",
            "  Batch 4,000  of  8,335.    Elapsed: 0:43:30.\n",
            "  Batch 4,040  of  8,335.    Elapsed: 0:43:56.\n",
            "  Batch 4,080  of  8,335.    Elapsed: 0:44:22.\n",
            "  Batch 4,120  of  8,335.    Elapsed: 0:44:49.\n",
            "  Batch 4,160  of  8,335.    Elapsed: 0:45:15.\n",
            "  Batch 4,200  of  8,335.    Elapsed: 0:45:41.\n",
            "  Batch 4,240  of  8,335.    Elapsed: 0:46:07.\n",
            "  Batch 4,280  of  8,335.    Elapsed: 0:46:33.\n",
            "  Batch 4,320  of  8,335.    Elapsed: 0:46:59.\n",
            "  Batch 4,360  of  8,335.    Elapsed: 0:47:25.\n",
            "  Batch 4,400  of  8,335.    Elapsed: 0:47:51.\n",
            "  Batch 4,440  of  8,335.    Elapsed: 0:48:17.\n",
            "  Batch 4,480  of  8,335.    Elapsed: 0:48:43.\n",
            "  Batch 4,520  of  8,335.    Elapsed: 0:49:10.\n",
            "  Batch 4,560  of  8,335.    Elapsed: 0:49:36.\n",
            "  Batch 4,600  of  8,335.    Elapsed: 0:50:02.\n",
            "  Batch 4,640  of  8,335.    Elapsed: 0:50:28.\n",
            "  Batch 4,680  of  8,335.    Elapsed: 0:50:54.\n",
            "  Batch 4,720  of  8,335.    Elapsed: 0:51:20.\n",
            "  Batch 4,760  of  8,335.    Elapsed: 0:51:46.\n",
            "  Batch 4,800  of  8,335.    Elapsed: 0:52:12.\n",
            "  Batch 4,840  of  8,335.    Elapsed: 0:52:38.\n",
            "  Batch 4,880  of  8,335.    Elapsed: 0:53:05.\n",
            "  Batch 4,920  of  8,335.    Elapsed: 0:53:31.\n",
            "  Batch 4,960  of  8,335.    Elapsed: 0:53:57.\n",
            "  Batch 5,000  of  8,335.    Elapsed: 0:54:23.\n",
            "  Batch 5,040  of  8,335.    Elapsed: 0:54:49.\n",
            "  Batch 5,080  of  8,335.    Elapsed: 0:55:15.\n",
            "  Batch 5,120  of  8,335.    Elapsed: 0:55:41.\n",
            "  Batch 5,160  of  8,335.    Elapsed: 0:56:07.\n",
            "  Batch 5,200  of  8,335.    Elapsed: 0:56:33.\n",
            "  Batch 5,240  of  8,335.    Elapsed: 0:56:59.\n",
            "  Batch 5,280  of  8,335.    Elapsed: 0:57:26.\n",
            "  Batch 5,320  of  8,335.    Elapsed: 0:57:52.\n",
            "  Batch 5,360  of  8,335.    Elapsed: 0:58:18.\n",
            "  Batch 5,400  of  8,335.    Elapsed: 0:58:44.\n",
            "  Batch 5,440  of  8,335.    Elapsed: 0:59:10.\n",
            "  Batch 5,480  of  8,335.    Elapsed: 0:59:36.\n",
            "  Batch 5,520  of  8,335.    Elapsed: 1:00:02.\n",
            "  Batch 5,560  of  8,335.    Elapsed: 1:00:28.\n",
            "  Batch 5,600  of  8,335.    Elapsed: 1:00:54.\n",
            "  Batch 5,640  of  8,335.    Elapsed: 1:01:21.\n",
            "  Batch 5,680  of  8,335.    Elapsed: 1:01:47.\n",
            "  Batch 5,720  of  8,335.    Elapsed: 1:02:13.\n",
            "  Batch 5,760  of  8,335.    Elapsed: 1:02:39.\n",
            "  Batch 5,800  of  8,335.    Elapsed: 1:03:05.\n",
            "  Batch 5,840  of  8,335.    Elapsed: 1:03:31.\n",
            "  Batch 5,880  of  8,335.    Elapsed: 1:03:57.\n",
            "  Batch 5,920  of  8,335.    Elapsed: 1:04:23.\n",
            "  Batch 5,960  of  8,335.    Elapsed: 1:04:49.\n",
            "  Batch 6,000  of  8,335.    Elapsed: 1:05:16.\n",
            "  Batch 6,040  of  8,335.    Elapsed: 1:05:42.\n",
            "  Batch 6,080  of  8,335.    Elapsed: 1:06:08.\n",
            "  Batch 6,120  of  8,335.    Elapsed: 1:06:34.\n",
            "  Batch 6,160  of  8,335.    Elapsed: 1:07:00.\n",
            "  Batch 6,200  of  8,335.    Elapsed: 1:07:26.\n",
            "  Batch 6,240  of  8,335.    Elapsed: 1:07:52.\n",
            "  Batch 6,280  of  8,335.    Elapsed: 1:08:18.\n",
            "  Batch 6,320  of  8,335.    Elapsed: 1:08:44.\n",
            "  Batch 6,360  of  8,335.    Elapsed: 1:09:11.\n",
            "  Batch 6,400  of  8,335.    Elapsed: 1:09:37.\n",
            "  Batch 6,440  of  8,335.    Elapsed: 1:10:03.\n",
            "  Batch 6,480  of  8,335.    Elapsed: 1:10:29.\n",
            "  Batch 6,520  of  8,335.    Elapsed: 1:10:55.\n",
            "  Batch 6,560  of  8,335.    Elapsed: 1:11:21.\n",
            "  Batch 6,600  of  8,335.    Elapsed: 1:11:47.\n",
            "  Batch 6,640  of  8,335.    Elapsed: 1:12:13.\n",
            "  Batch 6,680  of  8,335.    Elapsed: 1:12:39.\n",
            "  Batch 6,720  of  8,335.    Elapsed: 1:13:06.\n",
            "  Batch 6,760  of  8,335.    Elapsed: 1:13:32.\n",
            "  Batch 6,800  of  8,335.    Elapsed: 1:13:58.\n",
            "  Batch 6,840  of  8,335.    Elapsed: 1:14:24.\n",
            "  Batch 6,880  of  8,335.    Elapsed: 1:14:50.\n",
            "  Batch 6,920  of  8,335.    Elapsed: 1:15:16.\n",
            "  Batch 6,960  of  8,335.    Elapsed: 1:15:42.\n",
            "  Batch 7,000  of  8,335.    Elapsed: 1:16:08.\n",
            "  Batch 7,040  of  8,335.    Elapsed: 1:16:34.\n",
            "  Batch 7,080  of  8,335.    Elapsed: 1:17:00.\n",
            "  Batch 7,120  of  8,335.    Elapsed: 1:17:27.\n",
            "  Batch 7,160  of  8,335.    Elapsed: 1:17:53.\n",
            "  Batch 7,200  of  8,335.    Elapsed: 1:18:19.\n",
            "  Batch 7,240  of  8,335.    Elapsed: 1:18:45.\n",
            "  Batch 7,280  of  8,335.    Elapsed: 1:19:11.\n",
            "  Batch 7,320  of  8,335.    Elapsed: 1:19:37.\n",
            "  Batch 7,360  of  8,335.    Elapsed: 1:20:03.\n",
            "  Batch 7,400  of  8,335.    Elapsed: 1:20:29.\n",
            "  Batch 7,440  of  8,335.    Elapsed: 1:20:55.\n",
            "  Batch 7,480  of  8,335.    Elapsed: 1:21:22.\n",
            "  Batch 7,520  of  8,335.    Elapsed: 1:21:48.\n",
            "  Batch 7,560  of  8,335.    Elapsed: 1:22:14.\n",
            "  Batch 7,600  of  8,335.    Elapsed: 1:22:40.\n",
            "  Batch 7,640  of  8,335.    Elapsed: 1:23:06.\n",
            "  Batch 7,680  of  8,335.    Elapsed: 1:23:32.\n",
            "  Batch 7,720  of  8,335.    Elapsed: 1:23:58.\n",
            "  Batch 7,760  of  8,335.    Elapsed: 1:24:24.\n",
            "  Batch 7,800  of  8,335.    Elapsed: 1:24:50.\n",
            "  Batch 7,840  of  8,335.    Elapsed: 1:25:17.\n",
            "  Batch 7,880  of  8,335.    Elapsed: 1:25:43.\n",
            "  Batch 7,920  of  8,335.    Elapsed: 1:26:09.\n",
            "  Batch 7,960  of  8,335.    Elapsed: 1:26:35.\n",
            "  Batch 8,000  of  8,335.    Elapsed: 1:27:01.\n",
            "  Batch 8,040  of  8,335.    Elapsed: 1:27:27.\n",
            "  Batch 8,080  of  8,335.    Elapsed: 1:27:53.\n",
            "  Batch 8,120  of  8,335.    Elapsed: 1:28:19.\n",
            "  Batch 8,160  of  8,335.    Elapsed: 1:28:45.\n",
            "  Batch 8,200  of  8,335.    Elapsed: 1:29:12.\n",
            "  Batch 8,240  of  8,335.    Elapsed: 1:29:38.\n",
            "  Batch 8,280  of  8,335.    Elapsed: 1:30:04.\n",
            "  Batch 8,320  of  8,335.    Elapsed: 1:30:30.\n",
            "\n",
            "  Average training loss: 0.24\n",
            "  Training epcoh took: 1:30:39\n",
            "\n",
            "Running Validation...\n",
            "  Accuracy: 0.92\n",
            "  Validation Loss: 0.21\n",
            "  Validation took: 0:03:12\n",
            "\n",
            "======== Epoch 2 / 2 ========\n",
            "Training...\n",
            "  Batch    40  of  8,335.    Elapsed: 0:00:26.\n",
            "  Batch    80  of  8,335.    Elapsed: 0:00:52.\n",
            "  Batch   120  of  8,335.    Elapsed: 0:01:18.\n",
            "  Batch   160  of  8,335.    Elapsed: 0:01:44.\n",
            "  Batch   200  of  8,335.    Elapsed: 0:02:11.\n",
            "  Batch   240  of  8,335.    Elapsed: 0:02:37.\n",
            "  Batch   280  of  8,335.    Elapsed: 0:03:03.\n",
            "  Batch   320  of  8,335.    Elapsed: 0:03:29.\n",
            "  Batch   360  of  8,335.    Elapsed: 0:03:55.\n",
            "  Batch   400  of  8,335.    Elapsed: 0:04:21.\n",
            "  Batch   440  of  8,335.    Elapsed: 0:04:47.\n",
            "  Batch   480  of  8,335.    Elapsed: 0:05:13.\n",
            "  Batch   520  of  8,335.    Elapsed: 0:05:39.\n",
            "  Batch   560  of  8,335.    Elapsed: 0:06:05.\n",
            "  Batch   600  of  8,335.    Elapsed: 0:06:32.\n",
            "  Batch   640  of  8,335.    Elapsed: 0:06:58.\n",
            "  Batch   680  of  8,335.    Elapsed: 0:07:24.\n",
            "  Batch   720  of  8,335.    Elapsed: 0:07:50.\n",
            "  Batch   760  of  8,335.    Elapsed: 0:08:16.\n",
            "  Batch   800  of  8,335.    Elapsed: 0:08:42.\n",
            "  Batch   840  of  8,335.    Elapsed: 0:09:08.\n",
            "  Batch   880  of  8,335.    Elapsed: 0:09:34.\n",
            "  Batch   920  of  8,335.    Elapsed: 0:10:00.\n",
            "  Batch   960  of  8,335.    Elapsed: 0:10:27.\n",
            "  Batch 1,000  of  8,335.    Elapsed: 0:10:53.\n",
            "  Batch 1,040  of  8,335.    Elapsed: 0:11:19.\n",
            "  Batch 1,080  of  8,335.    Elapsed: 0:11:45.\n",
            "  Batch 1,120  of  8,335.    Elapsed: 0:12:11.\n",
            "  Batch 1,160  of  8,335.    Elapsed: 0:12:37.\n",
            "  Batch 1,200  of  8,335.    Elapsed: 0:13:03.\n",
            "  Batch 1,240  of  8,335.    Elapsed: 0:13:29.\n",
            "  Batch 1,280  of  8,335.    Elapsed: 0:13:55.\n",
            "  Batch 1,320  of  8,335.    Elapsed: 0:14:21.\n",
            "  Batch 1,360  of  8,335.    Elapsed: 0:14:48.\n",
            "  Batch 1,400  of  8,335.    Elapsed: 0:15:14.\n",
            "  Batch 1,440  of  8,335.    Elapsed: 0:15:40.\n",
            "  Batch 1,480  of  8,335.    Elapsed: 0:16:06.\n",
            "  Batch 1,520  of  8,335.    Elapsed: 0:16:32.\n",
            "  Batch 1,560  of  8,335.    Elapsed: 0:16:58.\n",
            "  Batch 1,600  of  8,335.    Elapsed: 0:17:24.\n",
            "  Batch 1,640  of  8,335.    Elapsed: 0:17:50.\n",
            "  Batch 1,680  of  8,335.    Elapsed: 0:18:16.\n",
            "  Batch 1,720  of  8,335.    Elapsed: 0:18:43.\n",
            "  Batch 1,760  of  8,335.    Elapsed: 0:19:09.\n",
            "  Batch 1,800  of  8,335.    Elapsed: 0:19:35.\n",
            "  Batch 1,840  of  8,335.    Elapsed: 0:20:01.\n",
            "  Batch 1,880  of  8,335.    Elapsed: 0:20:27.\n",
            "  Batch 1,920  of  8,335.    Elapsed: 0:20:53.\n",
            "  Batch 1,960  of  8,335.    Elapsed: 0:21:19.\n",
            "  Batch 2,000  of  8,335.    Elapsed: 0:21:45.\n",
            "  Batch 2,040  of  8,335.    Elapsed: 0:22:11.\n",
            "  Batch 2,080  of  8,335.    Elapsed: 0:22:38.\n",
            "  Batch 2,120  of  8,335.    Elapsed: 0:23:04.\n",
            "  Batch 2,160  of  8,335.    Elapsed: 0:23:30.\n",
            "  Batch 2,200  of  8,335.    Elapsed: 0:23:56.\n",
            "  Batch 2,240  of  8,335.    Elapsed: 0:24:22.\n",
            "  Batch 2,280  of  8,335.    Elapsed: 0:24:48.\n",
            "  Batch 2,320  of  8,335.    Elapsed: 0:25:14.\n",
            "  Batch 2,360  of  8,335.    Elapsed: 0:25:40.\n",
            "  Batch 2,400  of  8,335.    Elapsed: 0:26:06.\n",
            "  Batch 2,440  of  8,335.    Elapsed: 0:26:33.\n",
            "  Batch 2,480  of  8,335.    Elapsed: 0:26:59.\n",
            "  Batch 2,520  of  8,335.    Elapsed: 0:27:25.\n",
            "  Batch 2,560  of  8,335.    Elapsed: 0:27:51.\n",
            "  Batch 2,600  of  8,335.    Elapsed: 0:28:17.\n",
            "  Batch 2,640  of  8,335.    Elapsed: 0:28:43.\n",
            "  Batch 2,680  of  8,335.    Elapsed: 0:29:09.\n",
            "  Batch 2,720  of  8,335.    Elapsed: 0:29:35.\n",
            "  Batch 2,760  of  8,335.    Elapsed: 0:30:02.\n",
            "  Batch 2,800  of  8,335.    Elapsed: 0:30:28.\n",
            "  Batch 2,840  of  8,335.    Elapsed: 0:30:54.\n",
            "  Batch 2,880  of  8,335.    Elapsed: 0:31:20.\n",
            "  Batch 2,920  of  8,335.    Elapsed: 0:31:46.\n",
            "  Batch 2,960  of  8,335.    Elapsed: 0:32:12.\n",
            "  Batch 3,000  of  8,335.    Elapsed: 0:32:38.\n",
            "  Batch 3,040  of  8,335.    Elapsed: 0:33:04.\n",
            "  Batch 3,080  of  8,335.    Elapsed: 0:33:30.\n",
            "  Batch 3,120  of  8,335.    Elapsed: 0:33:57.\n",
            "  Batch 3,160  of  8,335.    Elapsed: 0:34:23.\n",
            "  Batch 3,200  of  8,335.    Elapsed: 0:34:49.\n",
            "  Batch 3,240  of  8,335.    Elapsed: 0:35:15.\n",
            "  Batch 3,280  of  8,335.    Elapsed: 0:35:41.\n",
            "  Batch 3,320  of  8,335.    Elapsed: 0:36:07.\n",
            "  Batch 3,360  of  8,335.    Elapsed: 0:36:33.\n",
            "  Batch 3,400  of  8,335.    Elapsed: 0:36:59.\n",
            "  Batch 3,440  of  8,335.    Elapsed: 0:37:25.\n",
            "  Batch 3,480  of  8,335.    Elapsed: 0:37:52.\n",
            "  Batch 3,520  of  8,335.    Elapsed: 0:38:18.\n",
            "  Batch 3,560  of  8,335.    Elapsed: 0:38:44.\n",
            "  Batch 3,600  of  8,335.    Elapsed: 0:39:10.\n",
            "  Batch 3,640  of  8,335.    Elapsed: 0:39:36.\n",
            "  Batch 3,680  of  8,335.    Elapsed: 0:40:02.\n",
            "  Batch 3,720  of  8,335.    Elapsed: 0:40:28.\n",
            "  Batch 3,760  of  8,335.    Elapsed: 0:40:54.\n",
            "  Batch 3,800  of  8,335.    Elapsed: 0:41:21.\n",
            "  Batch 3,840  of  8,335.    Elapsed: 0:41:47.\n",
            "  Batch 3,880  of  8,335.    Elapsed: 0:42:13.\n",
            "  Batch 3,920  of  8,335.    Elapsed: 0:42:39.\n",
            "  Batch 3,960  of  8,335.    Elapsed: 0:43:05.\n",
            "  Batch 4,000  of  8,335.    Elapsed: 0:43:31.\n",
            "  Batch 4,040  of  8,335.    Elapsed: 0:43:57.\n",
            "  Batch 4,080  of  8,335.    Elapsed: 0:44:23.\n",
            "  Batch 4,120  of  8,335.    Elapsed: 0:44:49.\n",
            "  Batch 4,160  of  8,335.    Elapsed: 0:45:15.\n",
            "  Batch 4,200  of  8,335.    Elapsed: 0:45:42.\n",
            "  Batch 4,240  of  8,335.    Elapsed: 0:46:08.\n",
            "  Batch 4,280  of  8,335.    Elapsed: 0:46:34.\n",
            "  Batch 4,320  of  8,335.    Elapsed: 0:47:00.\n",
            "  Batch 4,360  of  8,335.    Elapsed: 0:47:26.\n",
            "  Batch 4,400  of  8,335.    Elapsed: 0:47:52.\n",
            "  Batch 4,440  of  8,335.    Elapsed: 0:48:18.\n",
            "  Batch 4,480  of  8,335.    Elapsed: 0:48:44.\n",
            "  Batch 4,520  of  8,335.    Elapsed: 0:49:10.\n",
            "  Batch 4,560  of  8,335.    Elapsed: 0:49:36.\n",
            "  Batch 4,600  of  8,335.    Elapsed: 0:50:03.\n",
            "  Batch 4,640  of  8,335.    Elapsed: 0:50:29.\n",
            "  Batch 4,680  of  8,335.    Elapsed: 0:50:55.\n",
            "  Batch 4,720  of  8,335.    Elapsed: 0:51:21.\n",
            "  Batch 4,760  of  8,335.    Elapsed: 0:51:47.\n",
            "  Batch 4,800  of  8,335.    Elapsed: 0:52:13.\n",
            "  Batch 4,840  of  8,335.    Elapsed: 0:52:39.\n",
            "  Batch 4,880  of  8,335.    Elapsed: 0:53:05.\n",
            "  Batch 4,920  of  8,335.    Elapsed: 0:53:31.\n",
            "  Batch 4,960  of  8,335.    Elapsed: 0:53:58.\n",
            "  Batch 5,000  of  8,335.    Elapsed: 0:54:24.\n",
            "  Batch 5,040  of  8,335.    Elapsed: 0:54:50.\n",
            "  Batch 5,080  of  8,335.    Elapsed: 0:55:16.\n",
            "  Batch 5,120  of  8,335.    Elapsed: 0:55:42.\n",
            "  Batch 5,160  of  8,335.    Elapsed: 0:56:08.\n",
            "  Batch 5,200  of  8,335.    Elapsed: 0:56:34.\n",
            "  Batch 5,240  of  8,335.    Elapsed: 0:57:00.\n",
            "  Batch 5,280  of  8,335.    Elapsed: 0:57:26.\n",
            "  Batch 5,320  of  8,335.    Elapsed: 0:57:53.\n",
            "  Batch 5,360  of  8,335.    Elapsed: 0:58:19.\n",
            "  Batch 5,400  of  8,335.    Elapsed: 0:58:45.\n",
            "  Batch 5,440  of  8,335.    Elapsed: 0:59:11.\n",
            "  Batch 5,480  of  8,335.    Elapsed: 0:59:37.\n",
            "  Batch 5,520  of  8,335.    Elapsed: 1:00:03.\n",
            "  Batch 5,560  of  8,335.    Elapsed: 1:00:29.\n",
            "  Batch 5,600  of  8,335.    Elapsed: 1:00:55.\n",
            "  Batch 5,640  of  8,335.    Elapsed: 1:01:21.\n",
            "  Batch 5,680  of  8,335.    Elapsed: 1:01:47.\n",
            "  Batch 5,720  of  8,335.    Elapsed: 1:02:14.\n",
            "  Batch 5,760  of  8,335.    Elapsed: 1:02:40.\n",
            "  Batch 5,800  of  8,335.    Elapsed: 1:03:06.\n",
            "  Batch 5,840  of  8,335.    Elapsed: 1:03:32.\n",
            "  Batch 5,880  of  8,335.    Elapsed: 1:03:58.\n",
            "  Batch 5,920  of  8,335.    Elapsed: 1:04:24.\n",
            "  Batch 5,960  of  8,335.    Elapsed: 1:04:50.\n",
            "  Batch 6,000  of  8,335.    Elapsed: 1:05:16.\n",
            "  Batch 6,040  of  8,335.    Elapsed: 1:05:42.\n",
            "  Batch 6,080  of  8,335.    Elapsed: 1:06:09.\n",
            "  Batch 6,120  of  8,335.    Elapsed: 1:06:35.\n",
            "  Batch 6,160  of  8,335.    Elapsed: 1:07:01.\n",
            "  Batch 6,200  of  8,335.    Elapsed: 1:07:27.\n",
            "  Batch 6,240  of  8,335.    Elapsed: 1:07:53.\n",
            "  Batch 6,280  of  8,335.    Elapsed: 1:08:19.\n",
            "  Batch 6,320  of  8,335.    Elapsed: 1:08:45.\n",
            "  Batch 6,360  of  8,335.    Elapsed: 1:09:11.\n",
            "  Batch 6,400  of  8,335.    Elapsed: 1:09:37.\n",
            "  Batch 6,440  of  8,335.    Elapsed: 1:10:04.\n",
            "  Batch 6,480  of  8,335.    Elapsed: 1:10:30.\n",
            "  Batch 6,520  of  8,335.    Elapsed: 1:10:56.\n",
            "  Batch 6,560  of  8,335.    Elapsed: 1:11:22.\n",
            "  Batch 6,600  of  8,335.    Elapsed: 1:11:48.\n",
            "  Batch 6,640  of  8,335.    Elapsed: 1:12:14.\n",
            "  Batch 6,680  of  8,335.    Elapsed: 1:12:40.\n",
            "  Batch 6,720  of  8,335.    Elapsed: 1:13:06.\n",
            "  Batch 6,760  of  8,335.    Elapsed: 1:13:32.\n",
            "  Batch 6,800  of  8,335.    Elapsed: 1:13:59.\n",
            "  Batch 6,840  of  8,335.    Elapsed: 1:14:25.\n",
            "  Batch 6,880  of  8,335.    Elapsed: 1:14:51.\n",
            "  Batch 6,920  of  8,335.    Elapsed: 1:15:17.\n",
            "  Batch 6,960  of  8,335.    Elapsed: 1:15:43.\n",
            "  Batch 7,000  of  8,335.    Elapsed: 1:16:09.\n",
            "  Batch 7,040  of  8,335.    Elapsed: 1:16:35.\n",
            "  Batch 7,080  of  8,335.    Elapsed: 1:17:01.\n",
            "  Batch 7,120  of  8,335.    Elapsed: 1:17:27.\n",
            "  Batch 7,160  of  8,335.    Elapsed: 1:17:54.\n",
            "  Batch 7,200  of  8,335.    Elapsed: 1:18:20.\n",
            "  Batch 7,240  of  8,335.    Elapsed: 1:18:46.\n",
            "  Batch 7,280  of  8,335.    Elapsed: 1:19:12.\n",
            "  Batch 7,320  of  8,335.    Elapsed: 1:19:38.\n",
            "  Batch 7,360  of  8,335.    Elapsed: 1:20:04.\n",
            "  Batch 7,400  of  8,335.    Elapsed: 1:20:30.\n",
            "  Batch 7,440  of  8,335.    Elapsed: 1:20:56.\n",
            "  Batch 7,480  of  8,335.    Elapsed: 1:21:22.\n",
            "  Batch 7,520  of  8,335.    Elapsed: 1:21:48.\n",
            "  Batch 7,560  of  8,335.    Elapsed: 1:22:15.\n",
            "  Batch 7,600  of  8,335.    Elapsed: 1:22:41.\n",
            "  Batch 7,640  of  8,335.    Elapsed: 1:23:07.\n",
            "  Batch 7,680  of  8,335.    Elapsed: 1:23:33.\n",
            "  Batch 7,720  of  8,335.    Elapsed: 1:23:59.\n",
            "  Batch 7,760  of  8,335.    Elapsed: 1:24:25.\n",
            "  Batch 7,800  of  8,335.    Elapsed: 1:24:51.\n",
            "  Batch 7,840  of  8,335.    Elapsed: 1:25:17.\n",
            "  Batch 7,880  of  8,335.    Elapsed: 1:25:43.\n",
            "  Batch 7,920  of  8,335.    Elapsed: 1:26:09.\n",
            "  Batch 7,960  of  8,335.    Elapsed: 1:26:35.\n",
            "  Batch 8,000  of  8,335.    Elapsed: 1:27:02.\n",
            "  Batch 8,040  of  8,335.    Elapsed: 1:27:28.\n",
            "  Batch 8,080  of  8,335.    Elapsed: 1:27:54.\n",
            "  Batch 8,120  of  8,335.    Elapsed: 1:28:20.\n",
            "  Batch 8,160  of  8,335.    Elapsed: 1:28:46.\n",
            "  Batch 8,200  of  8,335.    Elapsed: 1:29:12.\n",
            "  Batch 8,240  of  8,335.    Elapsed: 1:29:38.\n",
            "  Batch 8,280  of  8,335.    Elapsed: 1:30:04.\n",
            "  Batch 8,320  of  8,335.    Elapsed: 1:30:30.\n",
            "\n",
            "  Average training loss: 0.17\n",
            "  Training epcoh took: 1:30:40\n",
            "\n",
            "Running Validation...\n",
            "  Accuracy: 0.92\n",
            "  Validation Loss: 0.21\n",
            "  Validation took: 0:03:12\n",
            "\n",
            "Training complete!\n",
            "Total training took 3:07:44 (h:mm:ss)\n"
          ],
          "name": "stdout"
        }
      ]
    },
    {
      "cell_type": "code",
      "metadata": {
        "id": "5DDEfkMmLNEW",
        "colab_type": "code",
        "outputId": "fd3cb091-8f66-4d7f-eed5-cadb69326e2f",
        "colab": {
          "base_uri": "https://localhost:8080/",
          "height": 141
        }
      },
      "source": [
        "import pandas as pd\n",
        "\n",
        "# Display floats with two decimal places.\n",
        "pd.set_option('precision', 2)\n",
        "\n",
        "# Create a DataFrame from our training statistics.\n",
        "df_stats = pd.DataFrame(data=training_stats)\n",
        "\n",
        "# Use the 'epoch' as the row index.\n",
        "df_stats = df_stats.set_index('epoch')\n",
        "\n",
        "# A hack to force the column headers to wrap.\n",
        "#df = df.style.set_table_styles([dict(selector=\"th\",props=[('max-width', '70px')])])\n",
        "\n",
        "# Display the table.\n",
        "df_stats\n",
        "\n",
        "### signs of overfitting when we start to increase the number of epochs ###"
      ],
      "execution_count": 0,
      "outputs": [
        {
          "output_type": "execute_result",
          "data": {
            "text/html": [
              "<div>\n",
              "<style scoped>\n",
              "    .dataframe tbody tr th:only-of-type {\n",
              "        vertical-align: middle;\n",
              "    }\n",
              "\n",
              "    .dataframe tbody tr th {\n",
              "        vertical-align: top;\n",
              "    }\n",
              "\n",
              "    .dataframe thead th {\n",
              "        text-align: right;\n",
              "    }\n",
              "</style>\n",
              "<table border=\"1\" class=\"dataframe\">\n",
              "  <thead>\n",
              "    <tr style=\"text-align: right;\">\n",
              "      <th></th>\n",
              "      <th>Training Loss</th>\n",
              "      <th>Valid. Loss</th>\n",
              "      <th>Valid. Accur.</th>\n",
              "      <th>Training Time</th>\n",
              "      <th>Validation Time</th>\n",
              "    </tr>\n",
              "    <tr>\n",
              "      <th>epoch</th>\n",
              "      <th></th>\n",
              "      <th></th>\n",
              "      <th></th>\n",
              "      <th></th>\n",
              "      <th></th>\n",
              "    </tr>\n",
              "  </thead>\n",
              "  <tbody>\n",
              "    <tr>\n",
              "      <th>1</th>\n",
              "      <td>0.24</td>\n",
              "      <td>0.21</td>\n",
              "      <td>0.92</td>\n",
              "      <td>1:30:39</td>\n",
              "      <td>0:03:12</td>\n",
              "    </tr>\n",
              "    <tr>\n",
              "      <th>2</th>\n",
              "      <td>0.17</td>\n",
              "      <td>0.21</td>\n",
              "      <td>0.92</td>\n",
              "      <td>1:30:40</td>\n",
              "      <td>0:03:12</td>\n",
              "    </tr>\n",
              "  </tbody>\n",
              "</table>\n",
              "</div>"
            ],
            "text/plain": [
              "       Training Loss  Valid. Loss  Valid. Accur. Training Time Validation Time\n",
              "epoch                                                                         \n",
              "1               0.24         0.21           0.92       1:30:39         0:03:12\n",
              "2               0.17         0.21           0.92       1:30:40         0:03:12"
            ]
          },
          "metadata": {
            "tags": []
          },
          "execution_count": 37
        }
      ]
    },
    {
      "cell_type": "code",
      "metadata": {
        "id": "3c-zSYHYLNbk",
        "colab_type": "code",
        "colab": {}
      },
      "source": [
        "### evaluate test data performance on 2000 observations from sport data\n",
        "\n",
        "\n",
        "labels_test = np.array(df_sport_test['overall'].apply(lambda x : encode_labels(x)))"
      ],
      "execution_count": 0,
      "outputs": []
    },
    {
      "cell_type": "code",
      "metadata": {
        "id": "gJ6CzI_CLNU6",
        "colab_type": "code",
        "outputId": "f662e921-96d1-4774-e431-313f8ad20cd4",
        "colab": {
          "base_uri": "https://localhost:8080/",
          "height": 35
        }
      },
      "source": [
        "input_ids, attention_masks = tokenize_bert(df_sport_test.reviewText.array)\n",
        "\n",
        "input_ids = torch.cat(input_ids, dim=0)\n",
        "attention_masks = torch.cat(attention_masks, dim=0)\n",
        "labels = torch.tensor(labels_test)"
      ],
      "execution_count": 0,
      "outputs": [
        {
          "output_type": "stream",
          "text": [
            "100%|██████████| 2001/2001 [00:04<00:00, 485.29it/s]\n"
          ],
          "name": "stderr"
        }
      ]
    },
    {
      "cell_type": "code",
      "metadata": {
        "id": "E6MrcymdLNTE",
        "colab_type": "code",
        "outputId": "6c702ff6-581d-4ac8-ead5-6b2c1ec2de1a",
        "colab": {
          "base_uri": "https://localhost:8080/",
          "height": 52
        }
      },
      "source": [
        "prediction_data = TensorDataset(input_ids, attention_masks, labels)\n",
        "prediction_sampler = SequentialSampler(prediction_data)\n",
        "prediction_dataloader = DataLoader(prediction_data, sampler=prediction_sampler, batch_size=batch_size)\n",
        "\n",
        "print('Predicting labels for {:,} test sentences...'.format(len(input_ids)))\n",
        "\n",
        "# Put model in evaluation mode\n",
        "model.eval()\n",
        "\n",
        "# Tracking variables \n",
        "predictions , true_labels = [], []\n",
        "\n",
        "# Predict \n",
        "for batch in prediction_dataloader:\n",
        "  # Add batch to GPU\n",
        "  batch = tuple(t.to(device) for t in batch)\n",
        "  \n",
        "  # Unpack the inputs from our dataloader\n",
        "  b_input_ids, b_input_mask, b_labels = batch\n",
        "  \n",
        "  # Telling the model not to compute or store gradients, saving memory and \n",
        "  # speeding up prediction\n",
        "  with torch.no_grad():\n",
        "      # Forward pass, calculate logit predictions\n",
        "      outputs = model(b_input_ids, token_type_ids=None, \n",
        "                      attention_mask=b_input_mask)\n",
        "\n",
        "  logits = outputs[0]\n",
        "\n",
        "  # Move logits and labels to CPU\n",
        "  logits = logits.detach().cpu().numpy()\n",
        "  label_ids = b_labels.to('cpu').numpy()\n",
        "  \n",
        "  # Store predictions and true labels by batch\n",
        "  predictions.append(logits)\n",
        "  true_labels.append(label_ids)\n",
        "\n",
        "print('    DONE.')"
      ],
      "execution_count": 0,
      "outputs": [
        {
          "output_type": "stream",
          "text": [
            "Predicting labels for 2,001 test sentences...\n",
            "    DONE.\n"
          ],
          "name": "stdout"
        }
      ]
    },
    {
      "cell_type": "code",
      "metadata": {
        "id": "YS8VB1alTtuB",
        "colab_type": "code",
        "outputId": "b91e7c4d-e775-41c4-fbba-7ba6b42c07d9",
        "colab": {
          "base_uri": "https://localhost:8080/",
          "height": 35
        }
      },
      "source": [
        "# Combine the results across all batches. \n",
        "from sklearn.metrics import roc_auc_score\n",
        "flat_predictions = np.concatenate(predictions, axis=0)\n",
        "\n",
        "# For each sample, pick the label (0 or 1) with the higher score.\n",
        "flat_predictions = np.argmax(flat_predictions, axis=1).flatten()\n",
        "\n",
        "# Combine the correct labels for each batch into a single list.\n",
        "flat_true_labels = np.concatenate(true_labels, axis=0)\n",
        "\n",
        "# Calculate the MCC\n",
        "auc = roc_auc_score(flat_true_labels, flat_predictions)\n",
        "\n",
        "print(auc)"
      ],
      "execution_count": 0,
      "outputs": [
        {
          "output_type": "stream",
          "text": [
            "0.8992566601966597\n"
          ],
          "name": "stdout"
        }
      ]
    },
    {
      "cell_type": "code",
      "metadata": {
        "id": "4vUD7jcXktNF",
        "colab_type": "code",
        "outputId": "a5985a45-9ef4-4fe5-f4e6-ec9a5d1b8b43",
        "colab": {
          "base_uri": "https://localhost:8080/",
          "height": 1000
        }
      },
      "source": [
        "### Let's have a look at some of the samples where the model failed ###\n",
        "\n",
        "\n",
        "df_sport_test.index = range(len(df_sport_test.index))\n",
        "failed_subset = df_sport_test.reviewText[flat_predictions != flat_true_labels]\n",
        "idx = list(failed_subset.index)\n",
        "for i in idx :\n",
        "   print(i,flat_predictions[i],flat_true_labels[i],failed_subset[i]) "
      ],
      "execution_count": 0,
      "outputs": [
        {
          "output_type": "stream",
          "text": [
            "0 1 0 At one time, you just needed to see the Everlast brand name to be assured that you were getting a top-quality product: one that would withstand anything you could throw at it.Now that they've outsourced their manufacturing to China, Everlast quality is not the virtual guarantee that it once was.I purchased (and use) these wraps.  However, one of them was manufactured improperly.  The velcro closure is sewn to a different side of the wrap than it is on all the others.  Because of this, I always ended up putting it on backwards.  I finally marked it so I would know to put it on differently than the others.For around $10, you should expect to get something that has passed a quality-control check.  After all, wraps are just some strips of cloth and velcro; they probably cost about $0.25 to manufacture.These wraps are short, just over 100 inches, but fine for hitting the bag.  They are not elasticized, but that is fine for my purposes, as it's what I prefer.  If you want to do serious sparring or fighting, or if you want to put some padding on your knuckles (under the wraps), you'll need longer wraps than these.  In short: you can wrap your wrist, knuckles, and thumb with these, but you won't have enough material to wrap between your fingers.  They come packed in a plastic mesh bag, but it can't easily be reused.  A cloth mesh bag with a drawstring would have been better.Summary: overpriced and shoddily-made.\n",
            "9 1 0 When I was younger it seemed to be,I still have a couple of these lying around from back then and they are durable and tough.You'd never know that these were the same ones.This pack came with three badly made, cheap products that me and my friends were disappointed with.Gone are the durable straps from the old ones, replaced with ugly, smelly white velcro ones.Thanks for taking a nose dive in quality, Everlast!\n",
            "12 0 1 I like this product, however I didn't pay much attention to the reviews that said 180 inch wraps were probably better. If you have hands even close to a medium size glove you will want the longer wraps. My hands are just barely a medium and these wraps are just a bit too short for me. I have ordered a set of 180's to see if they are a better fit. I use these under a set of Everlast Heavy bag gloves and they are definitely worth it. I also recommend getting a mesh laundry bag for them as you will sweat in them more than one would think.\n",
            "18 1 0 I did just like most of the other reviewers did and added a longer bolt with locking nuts, steel tubing, etc.  It works great now.  I don't think it would last without the &#34;updates&#34; suggested by the other reviewers.  I mounted mine to a 4&#34;x6&#34; and mounted that to the ceiling so I could tie in more beams for support.  Only three stars because It should probably come with the &#34;updates&#34;.\n",
            "33 1 0 not much could really say the item works as intended and really didn't have a problem with it I really can't justify giving it better rating than just okay.\n",
            "34 1 0 OK, I'm new to this, just got this to expand my exercise a bit.  So as I'm punching away, the bag has a tedency to spin a bit.  No matter how much I tighten it up, even with the lock washer, it spins the bolt right out of the nut.Don't bother with this, or if you get this, also buy a separate swivel mechanism.  I'm taking mine down and replacing it with something that acutally incorporates a swivel of sorts - the only \"swivel\" this allows is the bottom piece spinning, which puts the torque on the bolt which then spins out of the nut on top.\n",
            "94 1 0 I like this pad, but maybe it could be a little cheaper perhaps? I don't know. I'm satisfied with it, but I'm not really blown away by it.\n",
            "128 1 0 I bought the 15\" version of this adapter, and I own a number of others including a short version of this same thing. I'm sad to say this is the thinnest steel of all my various hitch adpaters, and the only one I with a Curt label. All my other adapters are 3/16\" steel, while this is only 1/8\".I could tell right away this adapter was made of thinner material, just be the sheer light weight compared to my others. Being longer, I would have expected thicker steel used by Curt, but no. Its the thinnest of all, and not likely a better grade that would allow thinner steel. Not at this price. All I know is, it better not bend!!!\n",
            "139 0 1 Works fine, but it could fit tighter.  I bought this to hold a bike rack.  The loose fit lets the rack wobble.\n",
            "140 1 0 I bought this as an adapter for a Curt 2\" rack.  I have to say I thought it would fit tighter.  I am purchasing a clamp to keep it secure and in place.\n",
            "145 0 1 The adapter does it's job well.  It just did not work out for what I was attempting to do with it.\n",
            "158 1 0 So how can you go wrong? Right? Well, they are not as LONG as I expected....and the man is tall! Was hoping for a bit more length.\n",
            "195 0 1 Nothing Russell makes is ever sized correctly.  This shirt is fine, but the sleeves look like they belong on a gorilla, not a man. The length is great, but the sleeve length is stupid--it's supposed to be short sleeved and the sleeves come down to the middle of my forearm.\n",
            "197 1 0 Once again, I strike out trying to find clothes for my 6'5&#34; frame.  This shirt both hangs large in the shoulders, but is also a lot longer than I need.  I suppose if I was a 6'8&#34; and up, I'd probably appreciate the extra length, but I really only want a few inches over a typical shirt.\n",
            "199 0 1 For me buying clothes on line is hit or miss, these are ok for me. The material is good,  the fit and feel is good. I wish they had better colors in big sizes.\n",
            "206 1 0 Shorts arrived yesterday.  Fast shipping.  Shorts seem well constructed, but run large.  One size smaller would have been better for me.\n",
            "211 1 0 i don't know about most, i can only speak for myself. i like big pockets in my shorts. it's very annoying to me to have on a pair of shorts and put keys etc... in the pocket and run to town to run some errands. most shorts have tiny pockets and your stuff keeps falling out. these shorts have huge pockets, if they hold up, i will be buying more.UPDATE: wore the original pairs out, took about 2 years,,, ordered more, same basic shorts, BUT some of the pockets shrank up, and that is very annoying, other than that, been pretty good shorts\n",
            "218 0 1 I'm pretty sure the people designing clothes for the big and tall crowd aren't big and tall and don't use actual big and tall models.  Luckily I got these for the gym so I just ended up cutting the sleeves off anyways.\n",
            "219 0 1 I Have shirts made of this fabric brought 5 years ago from this company if not for some stains which I should have treated when it happen the shirts look the same as when I brought them cotton does not hold up anywhere near as long as this material and they dry real fast I hope these last as long.\n",
            "225 0 1 I was just planning a 5 day visit to my sis's in Tucson, but her health was so bad, I stayed 6 weeks. The temp here climbed to 95, and I was miserable. I ordered these shirts, and man instant cooling. I ordered 2 more.\n",
            "236 1 0 But you knew that when you ordered it.  This is not a moisture wicking extreme performance polo, it's just a decent shirt.  It's got a looser weave, which I like, and it fits well enough.  The pocket won't hold anything heavy, since it's just more shirt fabric sewn to the shirt, but that's okay, too.  Good shirt, good price.\n",
            "246 0 1 I have been using it overseas for a bike stand in our hallway since the sand really doesnt do good things to the bikes. It has served its purpose but it wasnt the same as the one in the picture I was hoping for. It was some metal one on rollers, I definitely didnt want the rollers but I didnt really care once It got here.\n",
            "250 1 0 its a decent stand but it wont hold any bike of weight if they added or had avalible an option of adding weight to it it would be nice i now use it as an extra stand in the garage im not worried if it gets grabbed because it is tough to carry your best stand around all the time but for on the road or heading out its ok but i wont buy another a great starter stanD thats what it was for me and i do still have it so there it is\n",
            "257 0 1 The light seems to be just fine.  However, I had a very difficult time mounting this on my helmet.  I didn't have center point on my helmet like it pictures, so I kind of had to straddle and opening.  Seems like it will work, but with the amount of time it took to get just right, I'm not going to take it off.  Contemplating just gluing it to the helmet.\n",
            "265 1 0 Bought this light to go along with a Radbot, Planet Bike SuperFlash and other Planet bike tail light. My girl friend commutes daily in Chicago and this light helps drivers see her. It's not as bright as The Radbot or Superflash but since it sits on the helmet it's a little better for SUV and Trucks that might not see standard tail lights. The mount seems decent and stable plus, it swivels so that the light is always visible with head movements.\n",
            "289 1 0 Not much for a hundred yard. Might be alright if it wasnt so fuzzy, the on I got was a fifty yard unit as best.\n",
            "291 1 0 IT's not the best scope, but what do you expect for $20. You can't even get one from Walmart at that price. It works very well on my rifle. IT's a short range scope, no more than 200yds.\n",
            "297 1 0 I have this scope mounted on a S&W; .22LR AR-15 with flat top. I'm using the AccuShot high profile weaver rail rings. This scope sits just under the acceptable limit of comfort for accurate and predictable sight picture. The flat top rail means that the top of the rail is even with the rest of the rifle, unlike a rail that sits on an AR-15 handle or some other rise. Even with the high profile rings, I have to tilt my head to the side in order to see the full picture through this scope. That means that I can't put my eye in the exact same place *quickly* every time. With a weapon like this, that's important.The view through the scope is excellent, and predictable of the quality that I have come to expect from NCStar. This is a good scope, but it doesn't work well for my requirements.\n",
            "298 1 0 This scope would be great for a paint ball gun, pellet gun, .22, etc.  The first sample I recieved had some flaws in the lense...seller was EXCELLENT and provided replacement right away.  For our applications, this scope is a good buy.\n",
            "305 1 0 crystal clear picture...until you attemp to adjust magnification. blurry as all heck and pretty much useless beyond base magnification. other than that, its durable, compact and light weight. would i recommend? eh, paint ballers, air gunners, maybe even for a .22 lr it would work well. But for anything that you will need the magnification for, nope.\n",
            "307 1 0 At the time I paid [...] with free shipping which it is not a bad deal.I have a few 4x scopes in other brands; Winchester and Bushnell. This \"tactical\" scope in no way can called a 4x at all. The targets are too small on the cross hairs. Right now I am having a lot if difficulty zeroing it in, and this is not the first time in such task.My recommendation is to pay at least 10 to 15 more dollars and buy a better scope. The glass is way cheap, I mean the quality, and feels I am looking through a straw. Adjustments is too hard as well.The good thing is it is a small tactical scope, the pictures makes it look bigger. The construction seems solid and of acceptable aluminum grade. The eye relief is good and gives minimal glare, but my main grudge once again is it is NOT a 4x scope, maybe a 2.5 to 3x...\n",
            "315 1 0 It's a little blurry but it did the job. At its price its still a good deal for 100 yard targets with an SKS\n",
            "321 1 0 Pretty much a toy.If you are shooting anything bigger than a 22 or further than 50 yards you will be sorely disappointed.Great for a bb or pellet gun or maybe an airsoft, but that is probably about it.\n",
            "322 0 1 It's not a $100 scope.  It's not even a $50 scope.  But it's at least a $30 scope.  And it costs $20.The reticle isn't really useful in terms of being graduated in any meaningful unit of angle measurement, but the stadia are equidistant and with this being a fixed magnification scope (actually about 3.3x, not 4x as advertised), I don't expect any erector mechanism problems once zeroed on a .22LR rifle.  The reticle is rather bold, making this scope unsuited to precision work at any distance, but the focus works well and the view is quite clear for a scope at this price point.  It is extremely compact but with a solid feel, all aluminum without the cheap feel of other scopes at this price (which are mostly plastic).  It was easy to zero, though the rounded turret caps made it a challenge to set the scope level atop a youth rifle until I went to the old practice of aiming at a plumb line with the rifle in a vice, to align the vertical crosshair with the string itself.  Again, without the issues common to cheaply made variable magnification scopes, I believe this scope will serve long and well in its present application as an aiming aid on a youth-sized plinking rifle.  It's not really a 5-star scope, but for a 3-star optic, it comes at a 7-star price, so I'll go with an average of 5.\n",
            "333 1 0 These shirts are like any other polo, they are the type where they have a burlap look to them (not smooth). They fit kinda big compared to other shirts in general, I wear a large (5'5&#34;, 180) in almost all of my shirts, and these have a fair amount of room left in them. I think washing them in some mildly warm water should shrink them a little. The color is just as the picture. I wouldn't exactly suggest them, but their not terrible either.I will edit this review after i shrink them a little (If i can).\n",
            "336 0 1 These shirts run a bit large for their indicated size, especially at the bottom, so if you're a big man, and order your size, you can be pretty sure you'll have room to maneuver in this shirt.That said, I find the fabric a bit rough. You'll definitely want to use softener the first few washes, especially if you line dry clothes, as this material will stiffen up significantly until it's worn a bit.\n",
            "347 1 0 Fits ok in the chest, then flares out to accomodate a huge belly.As the average Joe in the Usa eats himself into oblivion, it is harder and harder for guys with athletic or normal BMI's to find shirts that are not cut like maternity blouses. This shirt it thick and too course to wear in the Tucson heat, even if I were to add 60 pounds to my belly to fill it out some.... Buy accordingly to your own phyical physical shape. If you need to try to \"hide\" your belly, and it isn't too hot, you will probably love this shirt.\n",
            "350 0 1 This shirt is Alright, the material is pretty thin so that's why I choose to give it a 4. But the price made up for what its lacked.\n",
            "370 1 0 I am testing these on a long AT hike this week. I have a alcohol stove also to test. I will review these when I get back in a month. Dagger Dave\n",
            "381 1 0 I don't usually cook with these but use them to start fires when materials are damp. they work for that pretty well. Some say that they do not burn as hot as the original Esbit tabs and are a bit smaller. They light much easier if they are scraped up a bit with a knife. Keep them in a sealed bag because they smell like fish as all of these solid fuel tabs do. Hope this review is helpful.\n",
            "404 1 0 This case will protect guns in moderate shipping environments, such as going to the range and back.  For more demanding shipping, such as mail or air, I wouldn't use it.The foreend of a Remington 1100 can be felt bulging against the plastic.  This is because the case wasn't built wide enough.  With this tight of a fit, the foam padding is completely compressed.  While the plastic affords some protection, a solid hit against the side of the case would damage the firearm.  The plastic is somewhat thin.The foam wasn't attached to the walls of the case.  Upon opening, one piece of foam would be laying on the other with one wall of plastic bare where the foam should be.  This created a minor hassle when putting a gun in the case.  I used hot glue to tack the foam to the plastic which solved the problem.  If you don't have a hot glue gun, maybe doulbe-sided tape or five-minute epoxy would work.There are four latches.  These can be completely removed from the case.  Sometimes one will come off unexpectedly.  I can forsee a situation when I will leave the range and a latch will remain behind.  The case is sufficiently flexible that the remaining three latches would not hold the case together completely.You might be able to get two child-sized guns or two small carbines in this case.  Don't expect to get two full-sized guns in it.I'm still looking for a good, reasonably priced gun case.\n",
            "413 0 1 So I bought this case over the plano's. The cost was better and the case was bigger, now if you have a smaller sport seden / coupe most likely it will not fit in your truck or back seat (back seat if you dont mind it scratching up things) I have to use my front seat and stack it vertically. This case is huge. you can def fit an AR-15 full rifle length and 6 mags plus ammo etc (scoped rifles are fine too). You could fit 2 carbines or full rifles (AR/AK and more).The case doesn't have a great perfect sealing system, but for the price who cares.  The hinges seem ok, not super heavy duty but its not flimsy like the plano's.  4 lock latches and 4 lockpoints for padlocks / cable locks.Does it's job. If you want to get it for TSA transport.I would suggest something more heavy duty.\n",
            "439 1 0 Good case for one rifle or shotgun, or a long gun with a ton of accessories thrown in.  I have a remington police magnum and a remington 870 with slug barrel and nikon slughunter scope on it.  No way am I trying to cram those two in there.  I'd do with a double sided case if I could go back.  Most double rifle cases are double sided, this one is one huge side, but not good enough.  Would be fine with maybe two rifles w/o scopes.\n",
            "441 1 0 It is very inexpensive, so I guess I don't have much to gripe about but... Anything you put in it will slide around. The foam isn't attached to the side walls and the foam falls down when you open the case. I glued the foam to the walls and that worked well. However, I haven't thought of a fix for everything sliding around yet.  I spent 4 times the cost of this on a purchase of a lockable hand gun case which has been beyond perfect. Lesson learned: You get what you pay for.\n",
            "448 1 0 The pump itself is a pretty basic thing.  The hose is decent enough to do the job.  But what I did not like about this pump was the amount of time and energy it took to pump up a full sized air mattress.  My son is 9 years old and has more energy than most kids.  This puppy wore him out!  Maybe I should have given the product another star for that.  If you want a basic pump for a few weekend trips a year this is a functionally cheap pump.  If you need this for a 3 week trek in Norway as I did, splurge for the battery powered models.\n",
            "449 0 1 I used this to pump up my river run 1 and needless to say it was very hard. I had to put a plastic bag around the nozzle of the pump. This is not the pumps fault but stupid Intex fault for not giving/making an adapter for the pump. Why would Intex make something  a pump nozzle too small to fit their devices?! But in the end I did get the River Run 1 pumped up. I think it would be next to impossible to pump anything up with the 11 or 14 inch pump. You are going to need to buy the 19 inch pump if you want to pump up anything!\n",
            "452 1 0 It certainly works though. I live in a two story home and I can hear it from the bottom floor when it is in the attic.\n",
            "453 1 0 I have a small infestation of German cockroaches and I was really hoping this product is the answer.  I received this in May 13, 2013 and have used it up until today. That's roughly a three weeks trial.Before I continue, I think it's fair to know some background on German cockroaches in particular.1. They are very small, normal adult size is the size of your pinky finger nail... so unless they're on the move it's hard to see them.2. They are the only breed of roaches I know of to eat their own kind when in need of food.  This is also how they develop tolerance to your typical baits from the hardware store.3. They choose to come out only at night, when lights are all off, and prefers to craw with both sides of their bodies in contact with a surface. This makes them hard to find, as they can only be found in small little cracks.4. For the adult female, they are the only breed that carries egg patches with them wherever they go, unlike the other breeds that left the egg in plain sight.  This makes particularly hard to eradicate because their offspring are as mobilized as their mother.This ultrasonic pest repeller although may worked out well for others, unfortunately did not work out for me.  Just yesterday, I've had two roaches crawling around in the kitchen completely oblivious to the ultrasound being produced from the machine.  They're still around going about business as usual, not a care in the world.\n",
            "456 1 0 I purchased this unit because I read the good reviews and thought I would give it a try for my problem with squirrels. Each year squirrels nest the in same spot above my living room ceiling in my attic. I had an A/C outlet installed in my attic near the nest (about 10 ft away) and installed this pest repeller. I set the pest switch to insects/rodents and the volume to medium initially for about a week and left it on 24/7. The squirrels were not deterred. I changed the settings to rodents and loud and even installed it on a timer so that it would only come on at night since the  loud setting can be heard in the living room and adjacent kitchen. After several weeks of use the squirrels are still there. I wish I could return it as it doesn't work for the squirrels in my attic. I am past the 30 days return period. I guess I can try it on insects and see if it keeps the roaches away that are outside on the back deck!\n",
            "470 0 1 I have used petroleum based cleaners (.g., Hoppes #9, Ballistoil, Breakfree CLP) and the problem I have with all of them is the strong odor.  If you like the smell, then you will have no problem, but I don't care for them. The Hoppes Elite is detergent based and cleans up with water. More important, there is no odor!  If I didn't like this stuff, why would I be buying the 32 ounce size? It's the most economical way to purchase it.  I transfer the liquid to the smaller 4 oz spray bottle which was the first size that I tried.Of course, to really get the lead and gunfire residue out of the chambers and barrel, you need to use Lead Away patches!  The combination of Lead Away and Hoppe's Elite is the 1-2 punch when it comes to gun cleaning!\n",
            "476 1 0 I've bought both the Blackhawk and Rothco versions of this item, the Blackhawk version seems to be better made, but from a practical standpoint, I haven't experienced anything to justify the significant increase in price.\n",
            "493 1 0 They do what they are supposed to do and will fit most canteen carriers and the like.They are a little loose so pouches may move around a little more than you want.\n",
            "518 1 0 Way more comfortable than the Harbinger gloves, which pinched, rubbed and squeezed. Ocelot gloves are very supple with good fit, grip and just the right amount of padding. However, I do mostly free weights and I have noticed a problem - the lack of padding in the fingers coupled with the suppleness of the leather means the finger extensions end-up as bunched-up little wads at the base of each finger, caused by moving the weights around in various directions. Annoying to keep having to straighten them back out again. Will probably look for an alternative glove.\n",
            "527 1 0 I bought these a while back so I could have some additional wrist support while lifting, and also to help avoid the cheese-grater and callous effect the weight bars have on my palms. Thus far they have held up very well, and I have been pleased with the purchase. I DO wish the colors were a bit more \"sporty\" (e.g black leather and red/blue fabric), and that it had some sweat fabric on the thumb like a cycling glove, but those are nitpicky things. They fit well, are comfortable to wear, and don't get smelly. I am very satisfied with this purchase, and would highly recommend these gloves.UPDATE 09/03/09:After having used the gloves for slightly over a year now, I want to report that they are STILL very solid. There have not been a ton of loose threads or fraying at the fingers, which is good. The leather has held up and worn well, considering I lift 3 days a week and of course the bars are \"grooved\", which digs into the leather. I have found the gloves to be very comfortable and the elastic on the wrist straps still has a lot of stretch. It's very easy to get these gloves too tight, but you can just re-wrap. The velcro has held up well and is almost so grabby that it's hard to un-do sometimes. My hands DO NOT get hot in these gloves. Though I still contend that some terry cloth on the back of the gloves or along the thumb line for sweat would be helpful, it's nothing a gym towel can't take care of. And per my previous comments, these gloves ARE made in all-black, for anyone who doesn't want the natural leather look. Hands down, I believe these are some of of the best lifting gloves on the market!UPDATE 08/15/11:The \"pinky\" finger of the left glove finally split out on me about a month ago. Otherwise, these gloves are still holding up pretty well. It's a bit of a bummer, actually, because that's really the only thing wrong with them at this point. I will definitely purchase these gloves again, when I decide my old ones have had enough.UPDATE 12/14/11:I finally decided to order some new gloves. The old pair had held up fairly well for the abuse they were given, so I thought I couldn't go wrong. Turns out, I did. While the old pair was made in either Korea or Taiwan, the new pair was made in Pakistan. They LOOK pretty much the same, but they are not. The leather feels cheaper, and the thumbs feel way too big. In fact, after less than a month of use, the thumbs are unravelling. Also, the velcro strap to tighten the gloves across the top of the hand do not reach the full length of the velcro on this pair. The color is rubbing off, revealing what appears to be black underneath (unlike the old pair, which just showed worn leather). This new pair is VERY disappointing. As such, I have reduced my rating to 3-stars, giving some credit for the first pair but knocking off two stars for obvious quality issues. In the future, I'll either find these in a store so I can check them out first, or I'll go with another brand.UPDATE 01/22/13:I have emailed Valeo about the quality of these gloves and to draw their attention to the negative reviews piling up on Amazon. That was on the 8th, and they have not responded. Thus, dropping my review one star further for poor customer service/response. It's sad to see a great product trashed like this.\n",
            "534 0 1 These gloves are good and fit well, but they feel kind of soft on the padding. I imagine they will get shredded if you use them a lot for lifting.\n",
            "541 1 0 As others have said, the big surprise was when I wanted to adjust it. If you don't have pliers, you're going to be stuck. I didn't get any extra crimp pieces with mine, so I had to use a metal pick (typically used for removing cotter pins) to bend one of the existing stops off the end of the rope. Then I cut to the appropriate length, and re-crimped the end with pliers. Was more effort involved than should have been since it's advertised as \"adjustable.\"The actual operation is pretty smooth. The bearings allow the rope to rotate freely without a lot of friction. The rope itself is some kind of rubbery plastic coated with vinyl. It's pretty heavy, as far as the ropes I've used anyway. The bad thing is if you jump rope in bare feet, this bad-boy nails them when you screw up, and lets you know via stinging pain that you did indeed screw up. Not a big fan of that. I'll more than likely get a different rope just because I'm no jump roping expert, and it'll probably take me a while before I can become good enough to never get nailed in the feet. (Wearing shoes isn't an option since I jump rope on martial arts mats, and I don't feel like grappling on a surface that has had shoes all over it.)\n",
            "545 0 1 since getting it i have been really happy with this speed rope, i've had it for months  it did what it was suppose to and it was very easy to customize to my height. Then just recently I was going to use it and after a few spins it broke of one side of the handle and a piece of the rope is stuck inside the handle so its very hard to fixas of now I'm currently buying a new speed rope from a different brand off amazonif you have any questions feel free to comment below\n",
            "561 1 0 Nice. Same one you can get from wally world. Easy to adjust. Used it about a dozen times so far. Yup. I can jump rope.\n",
            "562 1 0 Item is your basic jump rope. No complaints but I was used to gym ones and they are easier to jump rope as they are leather.\n",
            "575 1 0 This speed rope is okay but I much rather prefer the leather and wooden handled versisions. If you're looking for a quick and reasoablely price rope to throw around this is a great buy. If you want something to really get the job done I would sugguest a leather rope instead.\n",
            "584 0 1 Some other reviews mentioned issues with making the rope the right size.  I didn't have any problem.  I'm 6'2, and it was too long for me straight out of the box.  I tried to not cut the rope, but then the rope was rubbing inside the handle and it wasn't allowing the bearings to spin freely.  Cut a few inches off, and now it spins perfect.  The bearings are very smooth.  It's nice at the gym between reps, or as a warm up as well.  Doesn't get tangled easily.\n",
            "597 1 0 I have been jumping rope for 2 years. I am not an expert, but in my humble opinion I like the speed ropes(the Master is best/the Aero is good too!) from Buddy Lee the best. This is not to say I disliked this rope, but I feel the Harbinger and Buddy Lee ropes performed a bit better. This rope felt a \"bit light\" at the handles. The handles are comfortable-I removed the sponge grips which I felt gave me a better feel of the rope.\n",
            "601 0 1 I bought the everlast speed rope (not the deluxe or whatever) and that was pretty good too, until it broke after 2-3 weeks.  The rope would rub against the handle and eventually wore it down.  I dont see that happening with this one, as it is a ball bearing system.  I will update this if I find problems.  Oh, and it took me like 5 minutes to adjust the rope length.  Just follow the instructions on the packaging or on their website (which has pictures).\n",
            "603 0 1 OK, the first point is: this rope costs less than $5, delivered.For the price, it's fine.The handles are lightweight plastic, with a foam cover.  They feel comfortable, but I would have prefered if they were a bit longer.  There are some rough spots on the handle, left over from the plastic-casting process; these are annoying but easily remedied.  In any event, the rough spots are not on the part that you hold when you are spinning the rope.  The foam is comfortable and useful, but it will pick up dirt if you lay the rope down in a dusty spot.  Each handle has a plastic end cap that snaps into place.  I suppose it's conceivable that the end cap could loosen and be lost, but it hasn't happened to me.  If it did happen, it wouldn't affect anything at all other than by altering the rope cosmetically.The rope is adjustable, but you'll need some pliers (and something with which to cut the rope) to do the deed.  With tools, length adjustment takes less than a minute.The ball bearings work fine.The rope itself is kinked when it comes out of the package, but this is par for the course with most speed ropes.  It's not a problem because as you swing it at a normal pace while jumping it will straighten itself out.  Hang the rope when not in use and it will straighten out in time.There are faster ropes out there, but you will pay a minimum of 3 times as much.Unless you're a jumprope athlete who has already developed a preference for some other brand or style of rope, this rope will serve you well.\n",
            "616 1 0 far as product the quality is great! now size if they have smaller but i went to use them they was hitting my ceiling... i went outside to try it out...and it was still too long, i'm 4'9 so maybe i need like a little kids jump rope..but if your 6 feet or 5'8 your good\n",
            "618 1 0 Works like any other jump rope. Have not had any problems with it and my kids seem to like using it.\n",
            "637 1 0 The rope comes pretty long. There are instructions on how to shorten the rope. You open the handles to expose the crimped end of the rope, with one extra crimp to use after you cut to your desired length. You get one shot. I cut it, put the crimp in place and squeezed it, which broke the crimp and sent it flying. The rope was ruined before I spun it even one time.Spend a couple more bucks and get a decent rope.\n",
            "658 0 1 Good weights at a nice price but the metal clips are uncomfortable if you dont wear socks. Positives are you  can adjust the weight easily.\n",
            "663 0 1 These ankle weights are 2.5lbs per leg. Not 5lb per leg. I loved using these the first week. After that I got too used to them and it was like wearing nothing at all. So I started wearing the 10lb ankle weights, which is 5lb per leg.I bought these because I wanted to add a little more into my routine, but don't really have the time to add. I can wear these all day long and I am in the hopes that it helps some. I walk alot, especially at work, so I figured these my give me a little more oomph as opposed to doing nothing extra at all. The first few days that I wore them I felt a slight soreness in the backs of my thighs.. the kind of feeling you get after working out. I thought they were supposed to work on your calves, but I didn't feel anything there. That is ok in my book though because my thighs are what needs the most work lol! They fit me comfortably. I literally wore them all day long. From the time I woke up, until I went to bed and I never had any soreness or irritation from the weights themselves. I am not sure how other people are wearing them that they are uncomfortable or cause pain. I didn't experience any of that. The velcro is strong and stay put. They don't pop open or get caught on anything either. They seem very well made. I don't expect them to fall apart or \"wear out\"I have bumped up to the 5lb per leg ankle weights (made by this same brand) and they fit great/comfortably too.\n",
            "671 1 0 Nicely made, durable and well suited for moderate movement.They are nothin too special, just extra weight to add pep to your step.\n",
            "675 1 0 I will say that their straps are strong and good quality. They are not, however, easy to put on or terribly comfortable. They're a so-so effort but there don't seem to be many home runs out there. Savasa used to make a great one, although it wore out quickly when used for everyday walking outside. Sadly, they stopped making them a while back.\n",
            "676 1 0 These weights are adjustable by adding and removing sand bags, however the sand bags are not sturdy and tear easily.  Also, the sand actually looks like dirt to me and not sand at all.  Valeo was great when dealing with customer service.  They sent me a brand new set of weights, no questions asked, after I sent them an e-mail and pictures of the sand bags.  I hope the replacement holds up better than the originals did.\n",
            "682 1 0 Bought these to do my physical therapy exercises.  Work fine and I like that they are adjustable. They are just annoying to take weights out of and put back in.  They are also annoying to put on and get a strong grip if you have small ankles.\n",
            "698 1 0 IT LAST me like 1month  of use, it sucks.. really really sucks.. i mean she felt apart she broked down in a hundred pieces.. IT SUCKS DONT BUY IT.. NOT RECOMENDED AT ALL\n",
            "705 0 1 this mat is good for workouts where you need the padding.  in doing p90x i would use this for the jumping routines and for ab-ripper x.for things like yoga, this mat is complete fail as it stretches and it's slippery.\n",
            "708 0 1 Like in some of the other reviews, this mat smells something bad. My 7 year old says, \"Daddy it smells like poop\". I'd have to agree. Otherwise, I think it might be a nice mat (why the 2 stars instead of 1), but the smell is so bad that if it doesn't air out in a day or two, then I'm returning it, which is unfortunate because the price is good..[UPDATE] I changed my review from 2 to 4 stars. It took a week or two, where I just aired out the mat in a bathroom, but the stink went away and now just has the weird odor that workout mats have. Because of the price, I don't think I'd be happier with any other mat now.\n",
            "722 0 1 The item I received was not exactly as described. It was listed as being \"ribbed\" on one side, but the one I got was smooth on both sides. No big deal, just reporting the facts.\"\n",
            "723 0 1 I had a hard time choosing between this mat and the Harbinger mat that is popular here on Amazon. Fortunately, I ran across an identical Harbinger mat at a sports store and decided my its outer material would most likely to tear because of its bad quality. I have used this one for almost 2 weeks now, at least half a dozen times for high impact cardio and weight training and it hasnt torn or snagged once. Love it!\n",
            "734 1 0 Good, quality ball at reasonable price. Would be the best choice, but shipment cost changes everything. Think twice before buying. Compare with competitors' final price.\n",
            "783 0 1 lasted a whole year\n",
            "818 0 1 It is definitely not for the beginner or faint of heart. I can't tell you how badly I ripped the ever living hell out of my abdominal muscles by doing this thing only twice. I don't ever want to do that again, but if you have the strength to do it, it will get you a full range work out.\n",
            "836 0 1 Just a basic wheel and handles not really much to say about except its affortable and although the price is low it definitly doesnt feel &#34;cheap&#34;\n",
            "841 0 1 I think this is a sturdy product. I am not a big fan of crunches. They serve their purpose, I suppose, but they also put a lot of strain on the lower back from flexing the spine. If you like crunches, I would suggest performing them on an exercise ball. An ab wheel, though, essentially works your whole core because you need core support to properly perform the exercise, which is to stretch your body out and back using the wheel, which works out your core ab muscles. You may be in good enough shape to do 25 crunches or more, but you'll find that a dozen reps using the ab wheel is even tougher. One thing to know is that you have to be in pretty good shape to use one of these effectively. If you are overweight, you'll have to lose some pounds with diet and overall strength and aerobic exercise before you use an ab wheel. Good luck!\n",
            "860 1 0 I have this as part of my workout equipment in my home gym. It is such a basic concept but a great work out tool.\n",
            "881 0 1 At first I thought \"How can this work.. you just zip back and forth with ease???\"  Well, therein lies the problem.. if you are just zipping back and forth on it, you are not using it right and you will not have the results that it can actually give.My hubby is 6'4 and in great shape, exercises regularly, lifts weights, etc. He benches 200 & 300 lbs. He did not expect this little wheel to be so much work for him. He is by no means a weakling, but this Ab Wheel definitely takes some strength to use properly. He loves it though. He can \"feel the burn\" after just a few tries and keeps using it daily getting a few more in, each day.When he showed me how to use it, I was like this is cake, I'm just rolling back and forth and it took no strength and I felt no difficulty. I WASN'T USING THE PROPER FORM AND MUSCLES! Once he got me to do it right, boy was there a major difference! I can see and feel how this thing works, when used properly. Doing it right is essential. If you are just rolling back and forth, then you are not doing it right and you will not see any results.It seems sturdy enough and the grips are pretty comfortable.This little device is definitely worth trying, but remember to make sure you are doing it the right way.\n",
            "887 1 0 your gonna buy this thing just like me and use it once, dont kid your self, and why cant you just do crunches, hahaa dont kid your self guys,  i made the mistake\n",
            "888 1 0 This is a wheel with handles to help you workout. It has a decent design and is functional. The downside is that you have to work out.\n",
            "907 1 0 After hearing how wonderful this is, and how to properly use it, I decided to try it. Even when using it properly, my back still seems to be stressed out, and it feels just too easy to accidently hurt myself. I cannot say this is any better than classic sit up's. Unless you are a serious body builder or someone who just needs more ways to work ab's, i would save your money and just do regular ol' sit ups.\n",
            "929 0 1 With heavy use, these belts wear out very fast. I use it for back and legs weekly. After 12 weeks, it was time to replace it. The holes started to get worn and stretched out. There are more durable belts available, but be prepared to pay a premium for them.\n",
            "936 0 1 Both of the hinges on my old coleman 40 qt cooler broke after years of abuse (and way too long in sub-zero temperatures).  Duct tape was only a temporary (1 year!) remedy.  These fit perfectly, installed in about 30 seconds, and weren't too pricey.  They prevented my old cooler from ending up in the Northern Pacific Garbage Patch (which is a good outcome - google it).\n",
            "937 1 0 Reason for this review is our outstanding Coleman cooler had the hinges crack and break at the \"hinge\" flex part. The cooler is awesome, its the extreme model and holds ice like crazy, but why do I have to replace the hinges?  Why would I buy these again knowing they have a short life span?  I'm considering it as they will fit, but don't like idea of having to replace them all the time.\n",
            "941 1 0 It is tough to review an item such as this because it is not spectacular or interesting like other items but I feel an honest informative review is necessary for any product.I purchased this product obviously to replace broken cooler hinges on a Coleman Cooler.  The cooler that I replaced the hinges on was used about 6 times which does not say much about the hinges but I can say they were broken prematurely by a carless individual who left the lid up on the cooler to dry it out and that puts a lot of stress on the plastic.I purchased these as an add on item to lower the cost of the product and since my work has a number of Coleman coolers that we use year after year I ordered enough to exceed the 25 dollar minimum that you need to get the add on price which was about 10 packages.  Pretty good deal at that price and we have extra if we ever break more hinges which is inevitable.The packaging is a little unusual.  I thought I could just open half the product and be able to leave the other half packaged up but the plastic is heat shrunk to the cardboard and I have to cut out the screws because they were molded/melted into the plastic.  I really did not need the screws because with a broken hinge the screws were still in the cooler but when they get rusty or possibly just fall out you have plenty of replacement screws.These are the same flimsy plastic cooler hinges that come with the coolers but they work.  Our coolers are different sizes from 48qt to the big 150 quart and these hinges work on all of them.  When you spend 100 dollars or more on a single cooler fixing the hinges for 3 dollars is well worth it to get more years of use out of them.These do the job and will work for you just as they have for me.\n",
            "947 0 1 Plastic hinges identical to the original.  The originals lasted several years as these probably will, but these are the weak link in the Coleman Coolers.\n",
            "948 1 0 Just as good as the original hinges. But that is still the problem with Coleman coolers, plastic hinges that weather and break over time. Buy a couple pairs of these, as I guarantee that you will need more in the future.\n",
            "952 0 1 my cooler went on tons of camping trips, we camp all summer. for 10 yrs it was great, then we accidentally left it out in winter,and the ice pushed up and broke the hinge on one side. I was still using the cooler but it was wonky. I was looking up new coolers when I found I could just replace the hinge. the screw on and off really easy. the one fits just right and I am back to camping in style. I did debate just getting a new cooler, as the price of a whole cooler is just twice the price of the new hinges....but.... I dont want to put a good cooler in recycling when I can keep using it.I do think the coolers could be made stronger to begin with so they would not break as easy. but I am happy to be able to repair, rather than toss.\n",
            "953 0 1 I only buy original Seiko replacement bands for this particular watch. The bands are great, problem is my watch just went kaput\n",
            "954 1 0 My experience with this band seems to be different than other reviewers.  The orginal band on my Seiko Aquamatic lasted only a few months.  Great watch,lousy band.  It was polyurethane and my experience is that polyurethane bands will crack and break.  This was advertised as a rubber watch band.  Real rubber will last for years though I haven't seen real rubber watch bands lately.  I ordered this as a replacement and in a year or so it also cracked and broke.  I replaced with with one I made myself from nylon webbing.  The Seiko watch on the other hand is a great self winding watch.  The one I have is my second one.  The first lasted many years of diving and hard wear.\n",
            "979 1 0 I gave the stove 3 stars because I have not used it yet. Once I use it, I will be able to grade it more accurately.  For now the 3 stars stands.  I have other stoves and bought this one to see what it was all about.  It is heavier than the other stoves I have.  Bigger and bulkier wasn't what I was expecting, fooled me ya did.  Packing this on a hike or a short 2=3 day trip would not be my first choice.  I have no doubt that the stove works well.  I am not one to use alcohol or other substitutes for fuel, only wood.  With all of that being said, I will reserve my judgement for the time being.  If weight and bulk don't matter, this will be a good stove for you.\n",
            "982 1 0 Kinda flimsy and ackward, I got it as backup to a canister stove for motorcycle camping.  Looks like it'll work in a pinch, but not the greatest design, but cheap enough.\n",
            "986 0 1 During the last big storm we had, we lost power for 3 days. During those 3 days I wanted tea, eventually I lit up the grill and put a stovetop pan on it and had very smokey tea!So I decided this would not happen again.I bought some sterno, this little sterno stove, and a Stainless cup.Now no matter what the emergency, I will have a little heat and hot water. They are all excellently made and work wonderfully well.\n",
            "988 0 1 I bought both the Sterno stove and this Coghlans folding stove. The Sterno stove is OK but feels flimsy and the metal they use has sharp edges. The Sterno stove will not hold a Trangia alcohol stove without a little &#34;tweaking&#34; because the Sterno fuel cans are a little bigger than the alcohol stoves.  The Coghlans stove is heavier, more stable, folds flat and will use a Trangia alcohol stove no problem. Also the Coghlans stove by its design is a better wind screen for the burner.\n",
            "999 1 0 OK to heat some broth,tea,or coffee.These have been around for years.When I was a kid(1960's)I put mine in my small day pack along with a can of Sterno,a can of beef-a-ronni,my canteen,and my boy scout knife(can opener,knife,fork all-in-one type).It took about ten minutes before it was hot enough to my liking.In my opinion I wouldn't depend on them.Canned heat is best used for a chafing dish to keep food that was already hot.\n",
            "1006 0 1 I  went to Dick's sporting goods store and decided to buy this there. (it is cheaper here) I went right home and tried the boiling water test..This failed, it never boiled I even put a cover on it and it would not boil, I adjusted the flame as suggested but it never boiled, that is the main reason I got this.  I have several  stoves, the Silverfire Scout and the Silverfire Survivor but quit expensive, and the boil water.I am starting a collection I have another one on order. I did see more but I like the ones that allow you to use twigs, using fuel sort of defeats the purpose of going green, at least for me. Twigs are everywhere and are free, where as the fuel must be kept in stock to be able to use this unitI did manage to salvage the day I used some homemade wax fire starters and made an awesome pizza, so it does have some merit.I am going to play with it some more and maybe use some wood. I can use a tuna can or a clam can they all seem to be the same size as the fuel cans that you use for this unit and it fits the grove that they sit in.Although this did not do the job for me I love playing with these things and they are cheap enough that you will not break the bank on them. I will keep this one in my car and have it ready.\n",
            "1028 1 0 that's what they should name these. If they hit each other they break. If they miss the target and hit something solid they break. If you drop one on the ground from too hi up they break. Like I said, they should call these Break Easy, because they do.\n",
            "1030 0 1 When shooting the bolts from 30 feet, all bolts landed within 1\" of the bulls eye, so they appear to fly straight.  The inaccuracy is likely due to my lack of proficiency with a cross bow or the cheap crossbow I was using.\n",
            "1032 0 1 I still don't recommend reusing these more than twice, and do make sure to tighten everything before you let fly. These can be used as a weapon,so don't give them to your kids, unless you fancy a cyclops for a child.\n",
            "1068 0 1 I called Shimano as I was confused by the various Dura-Ace chain model numbers available on Amazon with no comparison.  I was told the newer model Dura Ace CN-7901 (+$10) features a new directional design (the chain can only be put on 1-way) that is supposed to improve the smoothness of shifting.I don't know how much better the shifting will get, but buyers of the 7801 should know there is a newer model available for $20 more.\n",
            "1070 0 1 Bought a 1 year old used bike.  It has nice shimano components and should have come stock with a Shimano 105 chain.  Unfortunately, the previous owner decided to \"upgrade\" with a KMC Ti-alloy plated chain.  I could not get this chain to quiet down or shift right even after playing with the front derailler multiple times.  I decided to get a new chain.  This Dura-ace chain is only peanuts more than a Shimano 105 so why not?!!  Thanks to all the previous reviewers, they were spot on.  This chain is smooth to pedal and shifts great now.  I used a Wipperman removeable/reuseable link to terminate it so that I could remove the chain easily to clean and lube it--it does come with 2 Shimano pins in case you want to connect the ends the old fashioned way.  Just get a 10 speed-compatible chain tool and you are golden.As mentioned elsewhere, this chain is for 3-chainring 10 speeds.\n",
            "1087 1 0 Let's be mature, open and frank about this: your money buys what seems to be a 6x4\" (maybe it's 5x5\") piece of grey microfiber cloth of which you can use about half because it's permanently attached a little black neoprene pouch. When not in use, you can store the cloth inside the 1x1.5\" pouch whose bottom end never closes.In my opinion, what you get is not worth half the money this sells for.The microfiber is in no significant way different from the dozens you would probably get for the same amount if you bought 'generic' ones. Moreover, since one end of the pouch never closes, your ONE little microfiber cloth that's supposed to help you clean your camera lens is likely to collect particles (dust dirt) and, since it's attached to the pouch, you can't clean it unless you don't mind ripping it off. But, if you do that, it's just another piece of generic microfiber cloth.I seriously considered a one-star rating but I concluded that one star would not be entirely fair. It gets 2 star because it's possible to clean lenses with it.________________________Note:If you don't trust 'regular' microfiber cloths you can get theNikon Complete Lens Cleaner Kitfor about what you pay for this item. It comes with 3 moist lens cleaning cloths, a little spray bottle with cleaner fluid and a much nicer (in my view) black microfiber cloth.\n",
            "1091 1 0 I was really upset when I opened this and started to clean the lens on my new Nikon D800. It was full of dust. I couldn't believe it. I am very glad I had a filter on the lens and started on the filter rather than the costly lens itself. I'm not sure how it will work once it is clean but I've never had to clean a microfiber cleaning cloth before using it before in my life and I'm an old fart.\n",
            "1092 0 1 2006, Amazon states;Product Dimensions: 13.0 x 10.0 x 7.0 inchesThere was no photo (until I uploaded one) so I thought this was the size stated, but turned out to be one of the little keychain bags with about a 5x5 cloth inside.Works fine, just not what I thought it was, and didn't want someone else to think it was large also.  See my photo for actual size next to some keys.Update 4/8/2006I see they added a photo of what I THOUGHT I was getting when I ordered..  see my uploaded photo in \"customer\" photos to see what they sent.Edit 03/12/2008Been used and washed many, many times now and still doing a good job.  I keep it on my belt loop every day so outside bag is showing a bit of shine in spots and is a bit lighter in color now, but micro fiber inside is like new.  Was a good $5 purchase.Edit 07/29/2008Looks like they have the original info problem replaced at this point in time...Now there are new dimensions listed, but my old cloth still measures7 x 5.5 inches.Did they narrow it to 2.5 inches or is it another typo ?I'd bet on another typo.and since I'm here... weight on digital postal scale is 0.2 ounces ready to use 8-)Yes, still working well and washed even more times...just so you know, I use it for my plastic eye glasses not my camera lenses.  Looking through the DSLR view finder in hot weather pushes my glasses into my face and makes a mess.. when shooting, I keep this cloth clipped high on the neck strap ready for fast action before next shot. Needs washing after each day of use in Summer heat.\n",
            "1100 0 1 I was using this for lens cleaning before discovering the lens pen, now it only does duty to clean off nose prints on my glass LCD cover and fingerprints on the camera.  It's TINY in it's case, and pretty close to 18% gray.I noted several people wondering how to use this as a gray card due to the pattern on it.  The big tip for any grey car usage is not focusing on the media itself.  Focus lock off in the distance, then place this in a manner where it will get similar light as your subject, then take a pic.  The average between the patterns when blurred is close to 18%.\n",
            "1144 1 0 ***UPDATE***The 1 MAJOR complaint I have with the 2 razor motocross bikes I got is that the chain keeps coming off while the kids are riding.  Sometimes it happens when they hit some bumps, other times for no reason.  It is a pain in the @$$ to get back on.  Have to unscrew 3 screws (all 3 are different sizes and lengths) and then get your fingers in a tight area to get chain back on. DO NOT go anywhere without a philips screwdriver and maybe a couple of flatheads to help get the chain back on without using your fingers.  So I downgraded to 3 stars because this happens almost every day that they use them.Bought this for my 5 and 6 year old boys.  They love this and are having a blast.  I know this says for older kids, but my kids can handle it and love it.  The only issue is the brakes.  My 5 year olds hands are too small to be able to quickly and fully press hand brake.  But if he lets of gas, it slows down pretty quick.  This is on grass, not the road.  On the road, these go MUCH faster and you need the brake.  I only let them ride in big grass fields.One thing I don't like is that there are no shocks.  If boys hit a bump, they feel it in their whole body.My 6 year old already looks big on this (He is 51 inches tall).I wish I had one of these when I was little.Amazon raised the price on these. I bought on Amazon Prime for $200.  Now it is much more expensive.\n",
            "1165 1 0 I like it.  I serves it's purpose.  It does jiggle around a little, but you will not be annoyed by it.  Easily adjustable length which is very convenient.  I wish they made this in a metal that was more sturdy... but it does keep the weight of the gun down.\n",
            "1168 1 0 i got this for my mom who wanted to see how far she walks during her work hours, But this thing counts every little movement. It&#8217;s good to give you a rough estimate but if you want a serious reading this is not for you.\n",
            "1170 1 0 At first it appeared to be functioning properly although we had some difficulty determining and then setting our correct stride length. Then, the second time we used it, it said we had walked .90 miles when the GPS on our cell phone said the distance was 3.82 miles. We reset it, walked 20 steps and looked at the display. It read 14 steps. We will return it today.\n",
            "1184 0 1 This is certainly \"more for the money,\" but I don't think it's anything special.  It does have antibacterial/antifungal ingredients, but it's greasy when applied because of the petroleum.  I think it's slightly better than using vaseline.  This goes double for the feet since that's generally where the athlete's foot occurs.The reason I gave it four stars instead of three is because the tube is much larger for the price than any of the similar products out there.I'll finish the tube as it does prevent chaffing, but probably won't order it again.\n",
            "1189 1 0 What's to like: I find the watch to be attractive, though not everybody agrees (my wife, for one, thinks it looks cheap). It's surprisingly light, given the size, and it keeps good time.What's not to like: Setting the time and other settings is an almost comically elaborate process, compared to other watches. It will involve at least a few of the following steps: make sure the 'zero' setting is accurate, fix it if needed, set your city and time zone offset, set the time digitally, and swapping the digital and analog times. Though there are three inset dials on the face, one shows what mode the watch is in, and the other two both show the time (one in 24 hour mode, and the other in UTC). It's a waste of two complications, showing the time in three places at once (four, if you have the digital windows set to show the time also). Also, if you wear a suit or otherwise wear long sleeves much of the time, your watch may not get enough sunlight to keep on working. You may have to take it off your wrist and set it under light for a few hours each day, which eliminates any advantage this watch might have in convenience over battery-powered alternatives.\n",
            "1192 1 0 I have had this watch for about 4 years.  Unlike other reviewers I have not had any problems with the crystal scratching.  The numbers on the outer bezel have started to wear off, but I do not use it as a calculator that often. Mostly just for converting knots to MPH or KPH.The UTC dial on the face is handy and if you are in the Military (like I am it is essential)You CAN NOT set time zones in half-hour increments and that is a minor pain.  Also the watch SHOULD automatically set time zones for Daylight Savings time and turn it off when the proper date arrives.The luminous hands are hard to read in the dark after an hour or so, but again a minor pain. A backlight on the led portion would be awesome.I have been swimming (pools as well as the ocean) with this watch and never had a problem with fogging.Overall this is a great watch and I wish I could have bought mine for this price....I paid $500 a just a few years ago.\n",
            "1193 1 0 On Harris' website, this is listed as a drop-in piece for the M1A, but they charge $10 for handling *any* order, even a $10 part like this.  So, I bought it on Amazon, saved some money.Harris lists this as a THE adapter to install on the weep-hole in front of the sling on an M1A, to give you the ability to run a bipod.  And it CAN work, as I discovered.  But if you think this is going to simply glue in, guess again.The screw threads (as shown in the pic) protrude through the concave portion of the metal flange, about 3/16&#34;.  The problem with this is that directly above where the flange needs to sit, is the gas cylinder, which is maybe 1/16 above where the flange seats.  That means you have to cut off about 1/8&#34; of the threads, bevel the edges, and then test-fit again.The pocket that flange sits in, is the wrong radius compared to the part.  The solution is to use a sanding flapper-wheel and dremel, to correct this problem, and deepen the pocket, so that the flange will sit at or below the inner plane of the stock.Lastly, the flange was about 1/8&#34; too long at each end for the formed pocket in the stock, requiring me to cut off, and then smooth, that amount on each end of the flange.After all of this was done- requiring numerous trial-fittings with the action- did I finally have a proper fitting for my bipod.  It works...  The catch is that it TAKES work to make it work.\n",
            "1210 0 1 When reviewing the picture, I thought the product was being show from one angle. I did not realize this WAS NOT a full size stepper similar toThe Step Original Health Club Step Aerobic Trainer. Given the price disparity, I should have realized the products must have been different.That said, this product includes a DVD and comes with 4 risers which work perfectly with the Original Health Club Step. Since the price of this unit is cheaper than buying the risers individually, I'd rate this a good value.\n",
            "1214 1 0 I use a step for step aerobics and laying on for lifting weights.  Its okay for a step routine, but not long enough or comfortable enough if you want to use it to lay on and lift weights.  I've since purchased the regular gym size step and I'm much happier.  I wish I had did that in the beginning.\n",
            "1231 1 0 I purchased the original \"Step\" for the size. Most sporting goods stores sell a cheaper in price but also smaller version of a step.  A step truly kicks up your cardio a few notches and with this size, it's convenient for doubling as a weight bench.Once caveat, and it's pretty big for me as an apartment dweller, it is loud!!  The step is hollow and echos - when I do more cardio intense exercises (jumping jacks using the step), you can't hear anything else.\n",
            "1234 0 1 I used to be a die hard step aerobics girl, but alas, it went out of style and I got rid of a great step 10+ years ago and have purchased several horrible imitations over the last two years, which have all wound up in the dumpster. I returned to step aerobics because all of the latest and greatest workouts are way too much for my joints and I wound up with injuries, so back to step aerobics I went for a good workout with high intensity, but low impact.I'm so glad I found this step. It's exactly like the ones we were using in the 1990's. Just the right amount of \"give.\" Also, it's very large, as most were in the 90's. You're much less likely to trip or miss the step altogether because the platform is big enough. It's a very common problem for the platform to be too small, but this has a nice big step.You need to know, though, this is a LOUD workout. Unlike the foam step counterparts, your apartment neighbors WILL know you're working out. I'm temporarily in an apartment and my theory is: my place is single story, it's 8:30am, we don't have a fitness center, and exercise is important, so neighbors will just have to deal with it. Plus, I hate the foam steps because my shoe would catch the edge and slide it out of my way as I was stepping up and this would cause me to miss it or twist my ankle on it as it would slide out of the way. AVOID the foam steps, they are dangerous, in my opinion.This heavy plastic step stays right where you put it. I use mine on an area rug and it does not move a bit while I'm working out, making it a safer endeavor, less likely to sustain an injury.Make sure to get yourself a good pair of workout shoes to go with this and none with the \"trail\" grips on the bottom. Those type shoes have too many edges and will \"catch\" in the no-slip grooves on top of the step. Choose some shoes with more rounded edges to help avoid snagging and possible injuries.All-in-all, I absolutely love this step and it's the best step out there. I know it's expensive and loud, but I wouldn't sacrifice the comfort of use and stability to reduce sound and price. An injury that sidelines you for months is not worth it, trust me. I've had to wear a cast from ripping a tendon due to ankle twist. It's not worth the risk.Just workout when your apartment neighbors aren't home, if you can. I use my step about every other day on average, so I don't irritate my neighbors too much and I do floor work and weights on the days in-between. It's been good for me. I've lost a few pounds to boot! Happy!P.S. This is made in U.S.A.! I'm so glad. I am chemically-sensitive and a lot of plastic products made in China make me ill from the off-gassing plastic, which I can smell like a bloodhound and then I get asthma. Being made in the United States, this step has almost zero smell right out of the box and I have not experienced any illness around it, even storing it right under my bed, no smell. We have quality standards for American made products, but many of the cheap China-made products are not tested for off-gassing, at all. I'm not buying any more large China-made products for my home because they make me so sick :(\n",
            "1258 1 0 Made of aluminum. I use mine on a Nikon Prostaff 3-9x40 Rimfire scope. Nikon USUALLY sets the bar very high.Update:  I noticed that this sunshade has white lettering on the outside that detracts from the beauty of this cover.  This advertisment for Nikon is in the wrong place or does it even need to be there?Also the sunshade screws into the scope threads ending up being a smaller diameter than the scope which makes it look like the wrong sunshade?  What was Nikon thinking here?  It works but I call it a poor design. Shame on you Nikon because you do make high quality scopes which I own several. I would NOT buy this again nor recommend it.  If you need a sunshade be sure to look at the scope and sunshade together before you commit to a purchase.\n",
            "1269 0 1 this would be a 5 star because fit and finish are awesome, however the outside diameter is slightly smaller than the scope (Nikon prostaff 40mm BDC) so the original scope lens covers had to be modified to work. Other than that it is a really nice looking sunshade\n",
            "1288 1 0 These rings do the job. I persoanlly do not like the style and think it is harder to level the scope.Get LaRue rings and don't look back.\n",
            "1310 0 1 Bought this in anticipation of a summer trip to Scotland, and unfortunately it was a wise purchase. Spent an entire day walking around Edinburgh in torrential rain, topped off by sitting for two hours at the Military Tattoo - still in pouring rain. A rain hat gives much better all round visibility than a coat hood, and doesn't interfere with your hearing to the same degree. I stayed perfectly dry and warm after hours and hours of rain - just remember shake like a dog when you get under cover :-)Recommended without reservation.\n",
            "1314 1 0 I've had mine for about eight years and it's still in good shape and does the job when called on.  I wear it about a quarter of the time when it's raining.You're basically looking at a parka hood versus the hat.  The hat gives you good vision but provides no air management.  The hood is the opposite.The hat will have you sweating above 50 degrees, negating the rain it keeps off, although that wouldn't be a problem if you're just standing around waiting for a bus, say.  It also blows around in the wind, which by itself is annoying, but also doesn't do much to keep you dry and warm in driving rain.  You will definitely loose this hat if you don't keep the neck strap tight in windy weather.Contrast that with a hood on your rain parka or sweatshirt hoodie.  That's always handy, and you never have to stick a wet hood in your otherwise dry pocket.  With the hood you get good air management, that is, it keeps the wind off of you and lets moist air circulate.  The downside is a restricted view and muted sounds, and if it's a man made material then it can be somewhat noisy.So ja, the hat is fine and does a good job in the right conditions.  For me personally, those conditions are circa 32 to 55 temps and very low or no wind where I want peripheral vision to see what's going on around me.\n",
            "1315 0 1 For a piece of GoreTex, this hat is very expensive.  However, it is very light and I do like the capability of being able to wad it up.  I have yet to be in a strong wind, but I suspect that the brim may be a bit loose and flop around in a wind.  I plan to use it in the city, where an umbrella will get trashed in a strong wind and I don't want my head to get wet.\n",
            "1318 1 0 Good quality and fit.  Although it is not sold as a &#34;crushable&#34; hat, you can pack it into luggage and it pops right back into shapre.  Works great for keeping the rain off, however the brim is a little on the flimsy side.  The wind plays with it too much for my liking.\n",
            "1320 0 1 It's not for warmer weather (to me) as others have said - In summer it can be too warm.It IS for days when it's already raining...or you know it's gonna be raining...or your trip weather report is saying lots of rain.  This hat has been with me about 8 yrs I'd guess.  BWCA, out west, down south to the gulf, I've enjoyed it.  It's TOTALLY waterproof. I got the Java/coffee brown version and my wife doesn't even mind it too much, haha.For some reason, I didn't grab it on my latest trip.  I had a waxed cotton ball cap and my hood on my rain gear...it was ok...but I did find I missed the full coverage that this hat provides.  To stay dry, I had to use the hood too.  I lost a lot of vision and was always fighting the hood on this trip.  Not exactly what you want when you are running a river you thought was calm...but rain blows it out unexpectedly.I can't say I'll never go without it again - but I can say I'll probably never leave it behind if there's much chance of rain on my trip again.oh - I will say this - make sure you use this hat with a rainjacket that either has no hood or your hood packs away into the collar like mine.  The OR hat WILL drop all the rain right off the back.  Having a hood \"out\" would just fill up with water in no time.\n",
            "1322 1 0 I got the Seattle Sombrero a few years ago.  It does indeed repel the rain.  It also blocks the wind, and keeps my head fairly warm.  My complaint is the stubborn crease on the front brim of the hat I received.  My hat arrived from Amazon with that crease in it, but I didn't think much of it, since this hat is crushable/foldable.  I figured that after a while, the hat would settle back into its natural/advertised shape.  Well, my Sombrero yet has that annoying crease.  This hat never settled back into the shape shown in the Amazon ad photo.  I wonder how many of these hats would sell if the ad photo showed a misshapen hat with creases in the front brim.\n",
            "1332 1 0 I like the size, design and pricing for this bag. Unfortunately, upon my first time using this bag, the connection to the reservoir bag was leaky. Not a little leak, but within a few minutes, there would be a puddle where the bag stands. I tried switching the tube around and it still leaks. Then I found out that the connection to the mouthpiece leaks as well. I emailed Outdoor Products but got no reply. I resorted to lining the connections with saran wrap to fill up whatever gaps were there to cause the leak and that seem to fix the problem for now. Now I'm considering a Camelbak instead.\n",
            "1336 0 1 These are small bags. Make sure you look at the dimensions. The price is good and they work for storing or compartmentalizing things in a pack. Not big enough to work as a tent or mummy bag sack.\n",
            "1338 1 0 Not as large as I expected or hoped, nor as strong. But they'll come in handy. Already using one to hold the 12v cord for our air mattress.\n",
            "1340 1 0 These stuff sacks are heavier then better brands, and aren't of the best quality. That being said, they work just fine.\n",
            "1342 1 0 Brought this on my recent camping trip. The clasp that holds the panel where the batteries opens way to easily. I had to close it several times during my camping trip.\n",
            "1360 1 0 The Petzl performs well and is very comfortable to wear. In fact, it's so light that you barely notice it's there. It's VERY bright and I like all of the adjustable light settings, the tilt feature, and the night vision feature. My biggest concern is that I've used the much, much cheaper Energizer headlamps and compared to the Petzl they feel rock solid. Once you feel the unit in your hands you'll know what I mean, it seriously feels like something you'd find at a dollar store. Personally, I wouldn't sacrifice durability just to save weight. As many others have noted, the battery compartment is also very flimsy, it (barely) snaps into place with a very thin piece of plastic and leaves me feeling that it could come open at any moment. I haven't used it in the rain but I wouldn't feel very confident in it's water resistance either as the unit doesn't seem very well sealed.I'm going to keep it but if I could go back I'd buy another Energizer headlamp for 1/2 the cost.\n",
            "1371 1 0 I've owned this for a while now.  I've used it backpacking, hunting, fishing, biking, during power outages, working on cars, working in crawl spaces, giving emergency medical aid....  It's comfortable and secure to wear. Mine has functioned flawlessly and has zero issues with fit and finish. No light leaks when the red lens is up. The smooth rounded design keeps it from catching on things. Operation is easy.So why 3 stars? It's not very bright. I have 20/20 and excellent natural low light vision. Most of the time I use and prefer lower light, but there are circumstances when I need more. So I end up carrying a smaller yet much brighter 1XAAA flashlight to clip to my hat. The trade off is run time. This headlamp seems to run forever. That great, but it could still have a high setting which put out some brighter light and lower settings to conserve power. Maybe I'm just spoiled by the great performance small flashlights are able to achieve, but I don't see why the same performance can't be had in a headlamp. I'm sure some do, just not this one.Don't get me wrong. It's been nice to have and use. It serves me well enough that I don't intend to buy a different head lamp, but when/if it ever does break I'll probably explore other options.\n",
            "1398 1 0 This knife actually looks like a knock off Victorinox knife in real life.  It also does not have a keychain attachment.  The blades are sharp, but I have had other swiss army knives that have come with sharper blades.\n",
            "1403 0 1 I have had the red plastic-handled version of this knife for a while now and actually had to return the first one due to poor finishing by the factory. The replacement was better, but not as good as I had hoped for.Yesterday I received the Silver Alox version and the difference in finishing is like night and day. This is how I remember the quality of Victorinox to be. My only concern is the logo which seems to be \"painted\" on. I'll be surprised if it doesn't wear off eventually.A nice surprise, which I don't see mentioned in the product description, is that it came with a vinyl pouch. If nothing else, the pouch will protect the logo from wearing off. A nice touch for an inexpensive knife.As always, SAK blades are exceptionally sharp. I have no idea what type of stainless Victorinox uses, but it's easy to sharpen and holds its edge fairly well. If I was to guess, I'd guess 440 or possibly one of the Krupps alloys. In any case, it really doesn't matter.A few folks have mentioned it feeling flimsy. I don't think I'd use that word but it is very light. Unless someone were to really abuse this knife, I don't think that it would disappoint them. It's not meant to be more than a light-duty pocket knife and that's just what it is.\n",
            "1422 0 1 I can't think of a better knife that weighs just an ounce (29 grams)! Size is really where this knife shines: it is only 84mm long (3.3 inches), which makes it a bit shorter than regular Swiss Army knives, and less than 6mm or 1/4 inches in width. Blade is shorter than 3 inches for those who need to observe this limit. This knife is so slim and light that it literally disappears in your pocket, which is the main reason I bought it. It is a great for dress clothing or on more formal occasions when a thicker or longer knife would be out of place.The combo tool on this Bantam, which sits across the main blade, is actually surprisingly useful. It works fine as bottle opener and flathead screwdriver, and I have tried it successfully on large philips screws. Supposedly it also works as a can opener but not as well as a dedicated one - I have not tried as I do not open cans with a knife.I have quite a few other Swiss Army Knives of various sizes, and here is how this one compares:It has metal alox scales, which makes it very scratch resistant when it shares the pocket with coins or keys. It is one of the few SAKs with only one layer, so it is thinner than most Victorinox knives, even thinner than the tiny Classic models. Unlike most Victorinoxes, this does not have that small keychain loop, which makes it smoother for pocket carry. Compared to the 58mm Classic line, this knife has the advantage of a larger and more substantial blade - in fact, the blade width and thickness looks identical to regular sized Victorinox, only a tad bit shorter. The closest model to this one (in size and features) is the popular Victorinox Cadet, but it has two layers (almost twice as thick and heavy), and it does not really add new functionality (mainly splits the combo tool into two separate tools).Of course, the bigger and thicker SAKs have their clear advantages and dedicated tools like scissors, cork screw, metal and wood saws, tweezers, pen, philips screwdrivers, magnifying glass, and what have you, but those come with the cost of bulk and weight, and may be better suited for travel or outdoors. I have a number of the larger models and use them, but they are not as minimalist as this Bantam. In fact, these days I usually carry the Bantam along with a tiny Classic on my keychain, which adds scissors, tweezers, and nail file for a pretty well rounded set of tools for the urban jungle :)Overall this is a good-looking, minimalist, and yet very useful Swiss Army knife. Highly recommended.\n",
            "1439 1 0 When I received my knife it was scratched. It also did not have the Camping logo as pictured. As far as the tools and actual blade goes it was fairly nice. The blade's came very sharp and they cut well. The saw works great and all the tools seem well made. I wish it had a Phillips screwdriver on it and scissors but hey I bought it knowing it did not so no complaints from me. I would have given this Victorinox 5 stars if it was not scratched out of the box and actually had the Camping logo on it.\n",
            "1455 0 1 why 4 stars? it needs a lanyard clip or something to attach it to. probably the most useful blade (sheepsfoot) in the sak collection but for me anyway, nothing to hook it to or hang it from.\n",
            "1482 1 0 The aluminum/alloy/whatever metal it is that makes up the body of this knife is fantastic.  I really wish I had this with my Climber SAK.  Buyer beware - if you're overly in love with the frame of this knife, you'll likely be disappointed with the limitations in tools and the weight it brings to the pocket.  Quality knife, just not the combination of tools that are right for me.All blades/tools open easily - again, I did not encounter problems &#34;prying&#34; open the knife blades, etc.\n",
            "1559 0 1 First of all, you are only paying a hundred bucks (no tax-free shipping) for an item that probably cost them fifty to ship. I'm used to paying twice as much for a baseball glove or bat, so to me it's cheap.  It is great for the casual user but lacks the quick height adjustment feature of more expensive models. The rim is sturdy and it comes with a decent net, however the backboard is smaller. We just put ours together and are pleased with the quality of the product. The directions could be better and there was a little trial and error involved in the assembly but it is a lot more sturdy than I thought it would be. By the way, we put ours together in the living room while watching the football game (wife not home), then took it out the sliding door and never touched a ladder. If your kid is really a hardcore basketball player you would probably want to invest in a more professional unit, but if you just want something affordable for casual use, I don't know how you could do better.\n",
            "1562 0 1 this is pretty much the cheapest one that's a regulation size and for the price it's good enough. assembly is simple enough but is a bit annoying. when inserting pole into another pole there are holes you have to align, the poles easily get stuck in one another making it impossible to twist them or even take back out, what you can do in that case is use the third pole to knock the other one out. not knowing this at first i ended up bending the hole edge and now the pole won't slide all the way down like it's supposed to, so the height is now actually a couple inches over regulation height. some of the screws are difficult to tighten without the right tools or second person help as you have to hold them on one end while screwing in the other. the two screws on the very top cannot be tightened, unless you have the perfect tool to tighten a round nut or to get into the tiny opening in the front. the backboard makes the ball go pretty much completely dead, no bouncy, makes it easy to cheat - just hit the black rectangle. they also could've came up with an easier way to fill/empty the base, it would be nice if you could open it. this is definitely more enjoyable than watching nba.\n",
            "1582 1 0 PRODurable plastic and strong construction - it holds it's weight of dishwater and does the job -- *Best Feature*Large capacityReusable for other storage needsCollapsible - easy to storeOther uses: load it with ice and drinks for a gameWell-made -- seems like it will last for years with good careCONMedium weight -- this is for Car Camping. Don't attempt to bring this on a backpacking tripCollapses to a flat but wide area -- again not ideal for backpacking, but OK for family trips in the car\n",
            "1586 0 1 Ok, forget what the ad says...it doesn't stand up very well on it's own.Sadly, it is clear from the reviews that almost no one can improvise how to make this sink work...so let me explain:I love my Seattle Sports bucket and sink...they are collapsable, solid, dependable and very portable. They also DO NOT stand up on their own well. Not in the real world. So, if you are like me, at a public or national park, camping a lot, you have some form of over-built picnic table nearby. Just set your Sink down on the table...now, go find three sticks in the woods...they need to be about as big around as your thumb, and about three feet long.  Tie them together on one end, like you are making a TeePee...and run two of the legs through the handles...one through each end, putting the third leg on the outside, to the back of the sink. Use two more little six-inch strings to tie each handle to its respective stick...and fill your sink with water.  If you used your sink to actually go get the water, then have your TeePee prepared already, and be careful running the legs through the handles and lashing them down.Seriously...you can't ask for a better design in a collapsable sink.  Yes, it would probably be great if Seattle Sports provided a wire-formed 'Teepee' to use, instead of having to get three sticks to make it...but hey, you ARE camping, and it isn't rocket science to realize you have to hold up the sides...The canvas is rubber-coated, solid, good quality...it holds water...it doesn't leak...and it folds up to store in a small space without requiring a pickup truck to pack your gear.By the way...their folding and roll-up buckets are even better! I keep a 2-gallon one in my pack at ALL TIMES!\n",
            "1593 0 1 When you hear the words \"space blanket\" , most people think about those smallish, paper-thin mylar space blankets , which are basically designed for emergency use only , and pretty much disposable.This isn't one of those. I'd actually refer to it more as a  tarp , rather than a \"blanket\" .  It's built to be used over and over, so it's too bad they didn't include a little storage bag with it , but the box works OK for that I guess.  One thing to note : This isn't a soft, cuddly blanket  designed for use on your bare skin or on a bed . It's like a big thick plastic tarp , very \"crinkly\" and hard . However, it's waterproof, windproof, and extremely efficient at reflecting heat , so it has many valuable uses , not the least of which could be saving your life if you roll your cold self up in it, or making a shelter to keep you dry if you get caught in a rainy , unexpected overnight campout.Mine gets a lot of use underneath my sleeping bag , as a insulator between me and the ground. Shiny side up , it reflects body heat back at you , and is even more effective if you can get an air mattress under it. Conversely, the \"tarp\" side acts as a vapor barrier that prevents dampness from seeping up from the ground into your bag (and you) .It has a surprising number of uses on a backpacking trip , and ends up being well worth the minimal weight and bulk it adds to my pack. And, of course, super handy in an emergency...treating for shock  , hypothermia, etc.I'm going to buy another one and toss it in my truck's roadside emergency kit .\n",
            "1620 0 1 I wasn't using this for a 10/22. I was using it on different style of gun and the screw holes didn't line up. I guess the other gun didn't have standard spaced holes? Anyways, it would have been nice for there to have been more holes on the rail I guess, but I was able to drill my own hole correctly spaced and then drill a counter sink hole and it works and looks great after repainting.\n",
            "1627 1 0 The product would not fit correctly do to the pin underneath was to long. So, I pulled out the dremel and ground the pin down and cut off some of the trailing weaver rail off the rear. After a little paint and mounting it worked fine for my Vortex Red Dot Scope on top of my Ruger Mini 30. If you know how to modify metal railing without messing things up I would work with this because of the price. But, If your not willing to do something like this I would get a different one than this model.\n",
            "1628 1 0 After a good bit of filing and some paint this product works fantastic.  Dont expect to just stick it right on out of the box, if you want to do that then spend the extra money and get the high dollar ones that are actually much better.  However if you have a little ingenuity then you can make this mount work as well as the high dollar ones for a fraction of the price\\\n",
            "1630 1 0 A pin on the bottom that should have fit into the rear detent had to be filed flush to get the item to fit.  It works fine without the pin stay put and doesn't move while shooting.\n",
            "1645 0 1 one of the scope mount clamps were upside down still fit snug but wasnt the way it was inended. Workes fine on my 195 w the fold down site. solid, darn good price for what it is but probably a factory reject.\n",
            "1652 1 0 The See Through Weaver mount fits perfect (choice of 6 pre-drilled holes) and I can just get the iron sights diamond and dot.  The challenge to the unit is the cheap, recess screws.  Three fit fine and one stripped, although the 'free' weaver mount (with the 10/22) screws fit with just a little loss of view.  Scope fits and easy transition back to iron sights.  The mount has a 1/8 inch lip over the receiver.  Good buy.\n",
            "1663 0 1 The rail works fine , my issue is that the rifle will throw the brass up and it strikes the rail causing failure to feed, failure to feed. It is ok if your rifle will the brass out instead of up.\n",
            "1665 1 0 As stated in previous reviews, there are several issues with this product.I must start with, in my past experience, I've had GREAT luck with NcStar scopes.Hands down, I own several and have had not a single issue with ANY of them.  Bang for the buck they're almost unbeatable.However, that being said, I must state that this rail that is claimed to fit the Mini family by Ruger is horribly inaccurate.When I removed it from the NcStar box and began inspecting it, immediately I noticed that not one, but all BUT one of the holes were poorly machined and virtually thread-less.The base machining was a few degrees off so the rail would not actually sit flat on the receiver.The brackets were faced, left-hand, right-hand & even when I dug up some screws from my garage (after tapping to a larger size) fit horribly.Whether you install the rail, extension forward, or extension rearward, the rear factory iron sight MUST be removed for proper fit.  And quite honestly, because of the height of the rail, even if you could leave it installed it would be useless anyways.Long story short, even after machining the tab off the bottom (guessing this was supposed to act as a key-way for the rail, but wasn't aligned with the orientation of the poorly machined mounting holes, etc), the drilling and re-tapping of the mounting holes for proper hardware, I found this rail a complete and utter disappointment.In a cross comparison, this 15$ rail wasn't much different than the 45$ rail I found on the web.  They were both poorly machined, the NcStar seemed to be made of cheaper aluminum, while the 45$ arrived polished with a clear anodizing.  *shrug*  Both had horrible mounting brackets and poorly machined holes.At least now I can say I've finally had a NcStar product I didn't like.  This rail went right in the trash and I'm working on my own custom mount and rail system for the Mini's. ;)\n",
            "1671 1 0 The length seema a little off to me.. My son has it on his mini14 and he has optice with a 3&#34; eye relief. To get this to work right, it is as far back as it can sit, with the optics back as far as they can go.\n",
            "1672 1 0 The product is fully functional and does it's job. However, the rail sticks out a long way to the rear of the weapon.\n",
            "1675 0 1 It prevents the use of your iron sights, and requires the removal of your rear peep on newer models. The bluing comes off EXTREMELY easily, and you can NOT remove the bolt for cleaning without removing this device. Still, for under 20 bucks, it's not a bad deal AT ALL.\n",
            "1681 0 1 I submit a one star rating for this item because there is another step offered for $15 is very unfair. I think I'll call that rater 'One star' because they need to look at that the fact that the $15 step has $17+ for SHIPPING... Total price is $32.36 for what could be a product that isn't as sturdy (I didn't buy the other one because of the higher cost).This step is a good product, and 'one star' can take heart in the fact they really did buy the better value step.Thank you Amazon for free shipping!!\n",
            "1693 1 0 only used it one time but sofar so good. A little tuff to line up at first because you might cut yourself.\n",
            "1707 1 0 Works well, as described.  it is small, light and compact, fits all my broadheads.  Fits in my archer's tool kit.\n",
            "1736 0 1 it dose what it should, thought it was a softer rubber but is a hard plastic dose not mater but worth mentioning\n",
            "1738 0 1 While this may look like soft it's actually hard plastic.  I have to be careful getting the blades into the right slots, it's not something you can just stuff the head into.It could also use a place for a strap so it can be hung on the quiver or just in your closet.\n",
            "1751 1 0 I purchased this thing that it would be essential for attaching broadheads.  However, they are usefull only for the fixed ones. Mechanical ones are either too small for the hole or come with their own wrenches, or both, or don't need them at all.  I still use it to detach broken mechanical.\n",
            "1768 1 0 For close to $300 for a filter I'd expect quality control to be a lot better. Product arrived, seemed very well built -  &#34;Swiss Made&#34; on label , etc.  For something that was deemed &#34;the last filter you'll ever need&#34; or whatever the words are on their website it sure was anything BUT.I was on a backcountry hiking trip recently near Lake Powell Utah - used it once in a dirty creek and it produced amazingly clear water.. and the water tasted great especially when used with Sweetwater drops.  Everyone else was using gravity filters and while OK, they still leave a taste in the water - and they are slow and fiddly -  so I was stoked I finally  have my go -to solution for long trips that was fast, trouble free and compact.Well,  I got it out on the second day of the trip to pump some more water and  on the 3rd pump the side of the pump totally cracked and water sprayed out of it from every direction.  BAM -  end of the filter & now I have no water.  I was lucky I was traveling with someone who had a backup otherwise we would have had a situation.Obviously some kind of major product defect - but again - what kind of materials are they using that blow that easily.  I did not put any pressure on the handle out of the ordinary -  it just broke.Fortunately,  I purchased through Amazon -  a new unit is on its way for my next trip - but yikes,  now do I need to carry backup purifier ?  I have a hard time placing any confidence on survival with this gear - time will tell I guess.\n",
            "1789 0 1 We deferred buying this filter solely because of the initial price. There was always some 'other' gear we needed or that needed repairing before we could spend nearly $300. I have to admit, putting off the purchase was shear stupidity. I suffered the use of various tablets, potions, and low-end filters for years. I probably spent the cost of three Katadyn Pocket filters on those lesser methods. Or, I humped water, at 8 lbs/gal, and expended my savings in sweat and worrying about water conservation in remote, arid places.I have not yet used this device. But I cannot wait to do so.I took it apart according to the instructions and inspected it. Then, I did a shake-down run using household water. Nothing would be worse than failing to test a vital piece of equipment until it gets to the field for the first time!  It functions well and is solidly built. But, it is also a pretty precision piece of gear and is not moron-proof. Drop the ceramic and it is toast. To avoid this, do not disassemble without taking care not to drop, damage, or lose the parts.But for any person comfortable with living under harsh conditions, the use and care of the filter will be a breeze. If I were to be hypercritical, I would say it is a bit heavy. But it is a whole lot lighter than a gallon of water.One area Katadyn could improve on is the carrying case. Although the filter is well-built, the case offers no protection in a fall or if a pack were dropped in an emergency. I purchased a padded water bottle carrier (Cheaper-Than-Dirt Item #MOLLE-741). While wrapping the filter in spare clothing would give protection, the case fits the filter well, is padded, AND has a nice exterior pocket in which to carry the accessories as well as a bottle of Polar-Pure, a charcoal after-filter, and extra charcoal. All of my water-processing gear is all in one place, saving me the trouble of digging around in the pack when water is short. I also carry a spare bite-valve for my hydration pack in the pouch.Do NOT be as foolish as I was. Do NOT put off buying this and mistakenly believe it is 'too much money' to spend on one item.  It is worth the price.\n",
            "1834 0 1 The Katadyn Combi filter is rated for about 10,000 gallons. But the carbon elements is rated for about 100 gallons. Soooo the more carbon elements you have the better.\n",
            "1841 0 1 My first unit arrived defective.  The input quick connect was missing the gray locking tab.  Unless you studied the box, you wouldn't know it was missing.  But, when you go to use the pump, the input tube won't stay tight.  Amazon to the rescue.  They sent a replacement out over night.  The replacement did not have the defect. Katadyn loses one star for QA.I keep this kit with me for backpacking and daypacking.  Dehydration is simply not worth the risk.  I got stuck without enough water once on a 9 mile hike.  I'll never make that mistake again.  Make sure you also buy Katadyn MicroPur tablets for your kit.  This is primarily a sediment filter.  You need the tablets too.  You don't want to get the poopies while you are camping/backpacking.  I use this pump to filter the water into a collapsible Platypus 2 liter bottle.  I add the micropur tablets and let the water sit a while before I put the water into my hydration bladder.  The collapsible bottle and MicroPur tablets easily fit into the bag that comes with this microfilter.By having this kit AND the tablets, you will always be prepared.  Not just for camping, but for any type of situation where the water is not 100% safe to drink.\n",
            "1842 1 0 This filter works very fast, filling a 1L bottle in about a minute.  However, getting to that point can be a chore.  There are a lot of small parts and hoses and input versus output and caps and attachments...etc...  I'll give Katadyn credit, they certainly give you a lot of parts, various attachemnts for bottles and water bags, even extra parts if you want to cut your water bag hose and add in the easy fill attachment.  That's nice.  But this means a lot of small, extra parts that serve to confuse, espcially if you are using it for the first few times.  However, once you get it all figured out, it pumps just fine, and fills bags and bottles fast.  It takes longer to set up the pump than it does to fill your bottles, but it gives a nice clean taste.Overall I'd recommend it, but learn how to set it up before you go into the wilderness.  Also, take just the pieces you need, because keeping all the extra parts with the unit will either lead to confusion, or lost parts!\n",
            "1848 1 0 Filter worked very well, had no problems.  It should have had 5 Stars, however I am rating this filter with 3 Stars because it came packaged with the wrong fittings.  A call to the factory indicated they were moving and could not ship the correct fittings in time to outfit the filter for an upcoming hiking trip.  Finally found the correct fittings to connect a Camelback water bladder after over a week of searching and extra cost to me.\n",
            "1869 1 0 The hiker pro replacement catridges work since I've used them for years and no one has gotten sick.  They do not last nearly as long as advertised though.  I typically get around 35-45 gallons out of one filter, which is not nearly the 200 gallons stated.  I've learned a few tricks extend the life of the catridge over the years.  I canoe a lot, and I always fill up a collapsable camp bucket out in the deeper, clear water. Then I pour the water through a coffee filter and into my base camp reservoir.  If you are using the portable hiker pro, you can bring a couple of 2-liter bottles.  Fill one bottle and pour it through a coffee filter into the other one.  Then pump out of the coffee filtered bottle.  Coffee filters gave me another 10-15 gallons of life out of the filter, and their cheap!\n",
            "1875 1 0 Fits like a charm!HOWEVER, this filter (and NONE offered by Katadyn) have iodinated resin cores. That means these filters filter out sediment, sludge, muck, and protozoans, BUT do not kill viruses. They no longer make iodinated filters, which is totally stupid on the manufacturers part.Disappointing. IT does come with a silly plastic extra mesh which is a bear to install onto the filter with the little sleeve that is very springy and boinks off a lot.\n",
            "1886 1 0 This was the first water filter I've ever purchased, and it has treated me well. The only issue I have with it is that you need 3 hands to use it. It takes two to pump, and unless you're on perfect level ground, a third hand would be nice to hold the container you're pumping into.After I went backpacking with a friend that had an MSR Miniworks, I realized how unhandy this filter is. With the MSR filter, a Nalgene or Camelback actually screws to the bottom of the filter, allowing you to pump without worrying about knocking over your bottle with the plastic tubing, especially on unlevel ground or while balancing precariously over a stream.I would not recommend this filter due only to the awkward design, it has performed flawlessly otherwise.\n",
            "1895 1 0 I fell in love with their CAMP product several years ago on a group bike trip.  Our guide had one and it was fantastic for five of us.After buying I discovered they had changed the filter technology from using a high capacity ceramic filter (Camp model) to a disposable filter with a max life of 200 gal (Base Camp model).  Now the product has no more capacity than a personal bottle filter.  The fault is mine since 'Features' text is accurate.I give it a low score because it no longer fulfills it purpose as a high capacity camp filter, due to cost and hassle of replacement filters.  I would also not recommend for your emergency kit, because of the limited filter capacity.A+ DesignD- CapacityF-  Total Cost (filters add up)If you are in Europe, you can still buy the Camp model with the ceramic filter that yields 5,000 gal life.[...]\n",
            "1904 1 0 This device is perfect for a larger group. Setup was easy. On first use we didn't get any flow, but I figured the filter needed to be primed. Once the filter is saturated and the flow is going it is effortless. Just hang it and fill your bottles.UPDATE 9/2/2013Took it on a backpacking trip, and we had a hand pump along also as a backup that used the same filter. Bag worked great for a few days--probably 6 gallons of filtered water--then slowed to a useless dribble.Assumed the filter was sediment plugged even though it looked fine. Swapped out the new filter from the hand pump and it was working again.But here's the thing--we put the supposedly \"clogged\" filter from the Base Camp bag into the hand pump and it worked fine.My guess is that the pressure of the gravity-fed bag is nowhere near what a pump model is.Ultimately ended up being very disappointed in this.\n",
            "1912 1 0 I haven't had a chance to use this product yet.  I just wanted to let others know that the contact time with the water is 4 hours.  If I would have know that, I might have chosen a different product.  I am sure that this is an otherwise fine product.\n",
            "1922 1 0 This cartridge helps in cleaning up your drinking water from your water bladder.  You must cut or have a piece of extra hose to place it on line to the drinking tube.  The cartridge container comes from Katadyn empty and includes two packets of carbon grains.  You must use caution when filling up the cartridge.  It will take a full packet and part of the other.  I filled the cartridge almost full, screwed the cover on and tapped it to allow the grains to settle.  To be effective, the cartridge should be full of carbon.  Having it partial full will not be effective.  Be careful.  If you spill a few grains of carbon, it gets everywhere and can make the lid difficult to screw on.  A suggestion is to have Katadyn have a pre-packaged insert of carbon or a compressed formed carbon disk for the cartridge.  The carbon grains go everywhere and if you are not careful, right into your drinking tube.  Good luck.\n",
            "1923 1 0 Really haven't used this product yet, but have used the Katadyn probably 8 times in the past 2 yrs.  Will probably use in the future as needed.\n",
            "1938 0 1 I got this product and had it spliced into my CamelBak Hellion in about 10 min's. I had to reverse my tube because it has insulation for the cold on it, which came all the way to the mouthpiece. On the other end there was about 4 inches of exposed tubing, which was perfect to splice the adapter into. I haven't had the chance to use it with my Katadyn Pocket yet, but I'm pretty positive it will work great!!\n",
            "1943 0 1 The picture provided by Amazon is not correct--it does not show all of the adapter pieces that come with this kit (3 pieces). It also does not show the best location to install the adapter.This adapter is significantly more compact and better designed than the Camelbak adapter.If you want to be able to attach your water filter to your water bladder without having to take it out of your backpack or even take your backpack off, this is the adapter to use.  It is easy to install.  Once installed, there's no quicker or more convenient way to refill your water bladder from your water filter. Also, unlike the (Amazon provided) picture shows, this adapter can be installed anywhere along your hydration pack hose--at either end or anywhere in between.\n",
            "1947 0 1 [...]the 'camping for less'link shows which fuel canisters can be shipped UPS without a HazMat fee imposed by the government. Bruntan 4 oz cans will ship without the tariff. The post office will not ship any fuel canisters at all of any brand.So Bruntan is a good way to go in fuel canisters if you are ever going to be buying fuel from internet or mail order. Because at least 4oz size currently can be bought without a ridiculous $[...] fee per canister.\n",
            "1949 1 0 The stove itself is good.  The piezo igniter hasn't worked yet.  Maybe needs some sort of adjustment.  Performance of the stove though is quite good, but I have little faith in the igniter.Update:Mine had the same issue and it had nothing to do with fuel.  With the piezo you can see the spark jump and on mine it works 1 out of 20 times even after some bending adjustments.  The other issue is the stove seems to lose pressure when running for a couple of minutes.  This is even on a new cannister of fuel.  To be fair I am using MSR canisters but I am not sure why that would make a difference.  So If I had to make the purchase again I would go with the MSR equivalent that doesn't have the igniter.\n",
            "1958 0 1 Bought this as a gift. Seems ok the arms that hold the pans seem a little weak\n",
            "1963 1 0 It worked for my 2.5 year old's Halloween cowboy costume.  Kind of floppy, I thought it would have more spring to it.  He still plays with it though and tries to lasso everything in the house.  Has not broken.\n",
            "1964 1 0 This is nothing more than a rope with velcro and leather on the end so save you money. No other trick is possible\n",
            "1988 1 0 I have not been impressed with leatherman tools.  They just look unfinished and sloppy.  This is a useful tool, but victorinox is better in almost every way, so much so, that it seems wrong to me to spend your money on the micra. You should steer clear of leatherman and steer towards victorinox if at all possible.\n",
            "1991 0 1 First off this tool is shiny black. It is not a subdued black like on the squirt black handled tool. Also the handles are just black aluminum slip over pieces that go over a standard micra tool. I wish they made these in a black finish like black oxide, but they don't currently. The tool itself is an awesome companion to a larger tool or is a great stand alone in an ultra light bug out or backpacking load out. The scissors get used more than the blade for me so this tool is great for fishing and small crafts. The scissors slice through leather like a hot knife through butter. The standard stainless finish is better in my opinion, but my wife has a blue one for her desk that looks more politically correct and unobtrusive in an office.\n",
            "1996 0 1 Used for a couple of years on my keychain until the Squirt PS4 appeared which includes pliers and scissors, this Micra only has scissors, and it was a bit too big compared to the Squirt.\n"
          ],
          "name": "stdout"
        }
      ]
    },
    {
      "cell_type": "markdown",
      "metadata": {
        "id": "wjDnpRSyEmtd",
        "colab_type": "text"
      },
      "source": [
        "Several cases in which the algorithm cannot make an accurate prediction can be identified: \n",
        "- First, we have the cases that we identified at the beginning, with \"intermediary\" grades, in particular 3/5, which are hard to classify. \n",
        "\n",
        "Some other issues at the linguistic level arise. \n",
        "- Complex grammatical structures lead the algorithm astray: using nuances, contradiction principles, lead to distubed predictions. In the following sentence, for which the algorithm could not provide an accurate prediction, the opposition of the brand's usual \"top quality\" and the poorness of the item reviewed may have been a difficulty for the predictor:  'At one time, you just needed to see the Everlast brand name to be assured that you were getting a top-quality product: one that would withstand anything you could throw at it.Now that they've outsourced their manufacturing to China, Everlast quality is not the virtual guarantee that it once was.I purchased (and use) these wraps.  However, one of them was manufactured improperly.  The velcro closure is sewn to a different side of the wrap than it is on all the others.  Because of this, I always ended up putting it on backwards.  I finally marked it so I would know to put it on differently than the others.For around \\$10, you should expect to get something that has passed a quality-control check.'"
      ]
    },
    {
      "cell_type": "markdown",
      "metadata": {
        "id": "pw7CKXztCwAT",
        "colab_type": "text"
      },
      "source": [
        "# Can the algorithm be generalized to a different theme?"
      ]
    },
    {
      "cell_type": "code",
      "metadata": {
        "id": "1K5GsVs7kUUy",
        "colab_type": "code",
        "colab": {}
      },
      "source": [
        "labels_test = np.array(df_b_test['overall'].apply(lambda x : encode_labels(x)))"
      ],
      "execution_count": 0,
      "outputs": []
    },
    {
      "cell_type": "code",
      "metadata": {
        "id": "Wat2oeEkkUax",
        "colab_type": "code",
        "outputId": "cae3e82d-45c6-4f44-8169-cf0113574d1d",
        "colab": {
          "base_uri": "https://localhost:8080/",
          "height": 35
        }
      },
      "source": [
        "input_ids, attention_masks = tokenize_bert(df_b_test.reviewText.array)\n",
        "\n",
        "input_ids = torch.cat(input_ids, dim=0)\n",
        "attention_masks = torch.cat(attention_masks, dim=0)\n",
        "labels = torch.tensor(labels_test)"
      ],
      "execution_count": 0,
      "outputs": [
        {
          "output_type": "stream",
          "text": [
            "100%|██████████| 5001/5001 [00:10<00:00, 465.74it/s]\n"
          ],
          "name": "stderr"
        }
      ]
    },
    {
      "cell_type": "code",
      "metadata": {
        "id": "QIjCJsmYkUg5",
        "colab_type": "code",
        "outputId": "3508e6b4-40a5-4922-8427-b42befd4c703",
        "colab": {
          "base_uri": "https://localhost:8080/",
          "height": 52
        }
      },
      "source": [
        "prediction_data = TensorDataset(input_ids, attention_masks, labels)\n",
        "prediction_sampler = SequentialSampler(prediction_data)\n",
        "prediction_dataloader = DataLoader(prediction_data, sampler=prediction_sampler, batch_size=batch_size)\n",
        "\n",
        "print('Predicting labels for {:,} test sentences...'.format(len(input_ids)))\n",
        "\n",
        "# Put model in evaluation mode\n",
        "model.eval()\n",
        "\n",
        "# Tracking variables \n",
        "predictions , true_labels = [], []\n",
        "\n",
        "# Predict \n",
        "for batch in prediction_dataloader:\n",
        "  # Add batch to GPU\n",
        "  batch = tuple(t.to(device) for t in batch)\n",
        "  \n",
        "  # Unpack the inputs from our dataloader\n",
        "  b_input_ids, b_input_mask, b_labels = batch\n",
        "  \n",
        "  # Telling the model not to compute or store gradients, saving memory and \n",
        "  # speeding up prediction\n",
        "  with torch.no_grad():\n",
        "      # Forward pass, calculate logit predictions\n",
        "      outputs = model(b_input_ids, token_type_ids=None, \n",
        "                      attention_mask=b_input_mask)\n",
        "\n",
        "  logits = outputs[0]\n",
        "\n",
        "  # Move logits and labels to CPU\n",
        "  logits = logits.detach().cpu().numpy()\n",
        "  label_ids = b_labels.to('cpu').numpy()\n",
        "  \n",
        "  # Store predictions and true labels by batch\n",
        "  predictions.append(logits)\n",
        "  true_labels.append(label_ids)\n",
        "\n",
        "print('    DONE.')"
      ],
      "execution_count": 0,
      "outputs": [
        {
          "output_type": "stream",
          "text": [
            "Predicting labels for 5,001 test sentences...\n",
            "    DONE.\n"
          ],
          "name": "stdout"
        }
      ]
    },
    {
      "cell_type": "code",
      "metadata": {
        "id": "mZzb7xS5kUmv",
        "colab_type": "code",
        "outputId": "861215e4-0f34-4158-a979-61c2d8fc7a9f",
        "colab": {
          "base_uri": "https://localhost:8080/",
          "height": 35
        }
      },
      "source": [
        "# Combine the results across all batches. \n",
        "from sklearn.metrics import roc_auc_score\n",
        "flat_predictions = np.concatenate(predictions, axis=0)\n",
        "\n",
        "# For each sample, pick the label (0 or 1) with the higher score.\n",
        "flat_predictions = np.argmax(flat_predictions, axis=1).flatten()\n",
        "\n",
        "# Combine the correct labels for each batch into a single list.\n",
        "flat_true_labels = np.concatenate(true_labels, axis=0)\n",
        "\n",
        "# Calculate the MCC\n",
        "auc = roc_auc_score(flat_true_labels, flat_predictions)\n",
        "\n",
        "print(auc)"
      ],
      "execution_count": 0,
      "outputs": [
        {
          "output_type": "stream",
          "text": [
            "0.8316309557519357\n"
          ],
          "name": "stdout"
        }
      ]
    },
    {
      "cell_type": "markdown",
      "metadata": {
        "id": "yaTfO1dDC4Wt",
        "colab_type": "text"
      },
      "source": [
        "The model achieves very good results on a corpus with a different theme (here, beauty items) from the one which it was trained on.\n",
        "\n",
        "To understand this phenomenon, we focus on the sentences for which the prediction was inaccurate."
      ]
    },
    {
      "cell_type": "code",
      "metadata": {
        "id": "ZHRws_U1sp1Q",
        "colab_type": "code",
        "outputId": "99e9c279-c20c-49b1-b46a-62e8804f70d0",
        "colab": {
          "base_uri": "https://localhost:8080/",
          "height": 1000
        }
      },
      "source": [
        "### Look at the sentences where the model failed ###\n",
        "\n",
        "df_b_test.index = range(len(df_b_test.index))\n",
        "failed_subset = df_b_test.reviewText[flat_predictions != flat_true_labels]\n",
        "idx = list(failed_subset.index)\n",
        "for i in idx :\n",
        "   print(i,flat_predictions[i],flat_true_labels[i],failed_subset[i]) "
      ],
      "execution_count": 0,
      "outputs": [
        {
          "output_type": "stream",
          "text": [
            "16 0 1 As soon as I stop using this shampoo, my scalp starts feeling itchy....That's why I always end up going back.\n",
            "20 0 1 The product is good for special hair care, but I would not suggest to use the product daily since its strong effect.\n",
            "21 1 0 First, the good stuff:This shampoo is generally effective at controlling (or at least reducing the severity of) severe seborrheic dermatitis (seb derm).  With regular use, it reduces itching, scaling, redness and greasiness.Now for the bad stuff:If you wear silver jewelry -- rings, earrings, piercings, etc. -- do yourself a huge favor and remove them before you get into the shower.  I discovered that this shampoo turns my sterling silver jewelry BLACK.  I'm not kidding.  I've never had ANY other shampoo or skin care product do this.  My silver ring, after coming into contact with this shampoo, looked like it had been thrown into a fire.  I had to spend an hour polishing it to get it shiny again.  I contacted the manufacturer about this bizarre issue but their only suggestion was to remove my jewelry before using the product.This shampoo has a smell that I personally do not find very appealing.  The best way I can describe it is that it reminds me of the medicated soap used in hospitals.That wouldn't normally be a huge drawback, but the problem is that the scent will stay on your body for hours or even DAYS... and it is very, very strong.  Even if I re-wash my hair with a different shampoo, I can still smell the fragrance from the Head & Shoulders.  It's THAT strong.  It will also cling to your towels, clothing, etc.I only use this shampoo a few times a year when my other shampoos occasionally lose their effectiveness (one is zinc-based and the other is tar-based).  I always dread using it, but unfortunately there aren't many other choices.\n",
            "23 0 1 I had horrible dandruff and tried every treatment I could find...from $40 bottles of medicated shampoo to tea tree oil, nothing worked (in fact, most things actually made it worse!). After seeing this reviewed somewhere I decided to give it a try, even though other versions of Head and Shoulders did nothing for me. Within 2 weeks of daily use my scalp was completely cleared (I have to use it about once a week now to prevent a reoccurance). I highly recommend this shampoo to those who are looking for relief for stubborn dandruff.\n",
            "26 1 0 I have used covergirl foundations before and was excited to try this one. I have combination skin and found that this foundation made my skin feel very oily. It also rubs off on clothing easily. It also gave me a super shiny face after only a few hours and my face looked greasy like I had went to the gym. Not a fan of this one! But at least it didn't make my skin breakout. I have sensitive skin also.\n",
            "43 0 1 I really like the cover that this product gives, but beware, it is no longer being made. Leave it to me to love a product that is being discontinued.\n",
            "48 0 1 Pros...- Light-weight coverage- Pleasant smell- Accessible in local stores (don't but this online !!)- All natural ingredients (no paraben !!)Cons...- Wears off easily (comes off when you touch your face lightly)- Extremely small- Not true to color if your tan/dark (get two shades darker)Overall:  I prefer it over other foundations just because it's paraben free and has natural ingredients.  I don't really wear foundation that often (only for special occasions) so the amount per packaging can last me a while -- but if you wear foundation ritually you may have to get at least two.\n",
            "123 0 1 I have wanted a Clarisonic cleansing product for about a year now but couldn't find it in myself to pay over $100 for one. I passed the Olay Cleansing System several times in stores but figured there must be something not so great about it if it's only $20-30 dollars. I was wrong!!I recently read a review that stated if you compare the two products they are very similar and get the job done equally as great. The biggest difference is that the Clarisonic can be used on your entire body vs. Olay is for the face. I scooped it up as soon as I could!My face has never felt so clean and soft. My pores are visibly cleaner and I have only used this twice and most of my blackheads are already gone. The box says to replace the head in about 3 months which isn't bad at all. It comes with a trial size Olay Exfoliating Scrub, the normal sized tube costs about $20 which is a bit expensive but it works amazingly..I have been recommending this to all my family and friends!\n",
            "135 1 0 I liked this when I first bought it, but got lazy and didn't use it for a long time. When I turned it on to start using it again, it was still working. Decided to change the batteries, it was almost impossible to get the cover off. When I did eventually get it off, it was so difficult to pull the batteries out,  they were so tightly wedged in, I was tempted to throw it in the trash. but I managed in the end.I replaced the two AA batteries with new ones. It didn't work, so I tried another set of batteries, they didn't work either. I then threw it in the trash. Waste of money, wish I'd never seen it.\n",
            "157 0 1 I bought this brush (unfortunately paying much more than the Amazon price) to replace my scrub that I was using.  My previous exfoliating scrub did not get stellar reviews from the Environmental Working Group's Skin Deep skincare safety database and I have been trying to find replacement cosmetics/products that are safer but still effective.  I found that I really like Burts Bees Radiance Facial Cleanser, except that it is not an exfoliator.  enter Olay proX.  I use the olay brush with the Burts Bees cleanser. It works great. Skin is clearer, blackheads gone.As with other physical exfoliators i have used in the past, I have found that it's a good idea to wash (not just rinse) the brush after use.  That removes the bacteria that otherwise make zits come back when you use it again.  If you don't wash it, I think that the bacteria and little skin bits stay on the brush, as I have definitely noticed that if i don't wash the brushead, next time I use it I will get a breakout.  But when I make sure to clean it after use, then my skin looks fabulous.  Highly recommend.\n",
            "166 1 0 i usually do not use Olay products. If you have sensitive skin do not use the cream on your face first..test it on your hand or something first...i was going to return it..but i like the brush\n",
            "173 1 0 This is an impressive looking  device and it works fairly well, my wife took over it and has used it quite faithfully  and although she says her face feels great after each use, cosmetically it has not done a lot. She still uses it and has tried a few different Olay cleansers but hopes it would be better.Seems to help deep clean the face and my wife says it really does feel clean! Thus is one product you will have to try to see if it works for you!\n",
            "183 1 0 Is it weird that I think the bristles are TOO soft? Haha. I was hoping to use this as an exfoliator a couple times per week but I feel like it moves a bit too slowly and it isn't getting rid of the dry skin I sometimes develop.  It isn't bad for just cleaning your face although I would like a bit more pressure to clean my face.\n",
            "190 1 0 I have been using the Clarisonic for a few years now with great results but, after it took really nasty spill down the stairs while I was packing for a business trip I was in search of a cheaper option. I heard great things about the Olay Pro X so I gave it a shot. It DOES NOT compare to the Clarisonic on any level!CHARGING - The clarisonic comes with a neat charging dock that just magnetically snaps on. The Olay Pro requires batteriesWATERPROOF - The Clarisonic is waterproof... the Olay Pro is NOT, it is water resistant. This basically means that the Olay can accidently get a little wet but, has to be dried off immediately. Seems really odd that they wouldn't make a device that is supposed to get wet, waterproof. I leave my Clarisonic in the shower and never had a problem. If water sits in the batteries in the Olay then the batteries corrodeTIMING - The Clarisonic automatically turns off(you can turn it back on) at the end of the recommended cleansing time so you don't over cleanse your face. Olay Pro does notCLEANSING - Clarisonic \" has 300 movements per second to gently, yet thoroughly remove 6X more makeup and 2X more dirt and oil than cleansing with your hands alone\" The Olay Pro only rotates in a circle, no vibration. The bristles are also coarse and irritating to my skin. The Clarisonic gives you a better clean feeling. There is a reason dermatologists, estheticians and spas use the Clarisonic and not the OlayVERSATILITY - The Mia has several different options for cleansing brushesThe Mia is about $119 and I have seen them on sale for about $80. I recommend you give the Mia a shot. If you feel it's not worth the price it is 100% refundable through Amazon. In my opinion, don't skimp when it comes to skin care. The Mia is by far a better product.\n",
            "195 1 0 A friend of mine who had tried my sonic cleaners thought she was getting a great deal on this cleaner that was modeled to look just the same as the Clarisonic and Nutrasonic.  If it did not bill itself as working the same as those sonic cleaners in the product page, I'd have no beef with it.  But it does.This is simply a spinning brush, no different than rubbing your skin really hard with a washcloth. It is not a sonic cleaner and does not claim to be and therein lies the difference.There are expensive sonic toothbrushes, expensive sonic professional jewelry cleaners, and expensive sonic skin cleaners. They are expensive for a reason. They use sonic wavelength technology to microscopically clean and reach where surface scrubbing cannot, and do so gently.I love Olay products and because of that I'm disappointed that they style this and bill it as a match to the high end sonic cleaners because, unlike other Olay products I've liked, this will actually do more harm than good.I could do a long comparison review here telling you how the speeds differ, the bristles differ, the cost of the brushes etc. but to me it's not about that. I'll let you make your own decisions there.  What's important for me to note on this one, is that it actually damages your skin.There is a reason why you should only do microdermabrasion treatments with fine molecules (not with things like apricot scrubs which actually damage skin) and only rarely.  Because harsh treatments on skin will actually cause miniscule DAMAGE to the top layer.  What you want to do with sonic cleaners, is remove the dead skin, without hurting the new skin underneath--thus cleansing pores and reducing wrinkles.If you have a microscope in a kid's set or science set at home, do what we did.  Use this on one hand for a week and either do nothing on the other hand or borrow a sonic cleaner.  At the end of the week, compare both.  You can actually see damage on the skin layers using this and smoother skin using the sonic cleaner, or nothing at all.This is no different than scrubbing really hard with a washcloth.  And that develops more wrinkles as well.  A sonic cleaner cleans with sonic wavelengths, not harsh abrasiveness.  Yes it costs more, but it's better to simply use your hands than use this until you find a good bargain on a Nutrasonic or Clarisonic.\n",
            "207 0 1 I'm very skeptical of these kinds of electronics but I really wanted something to wash my face differently. Also, I have tendonitis and honestly, sometimes my hands hurt so much that I don't wash my face because it hurts to make those motions with my hands or to hold a scrubby or towel. I thought I'd give this a try.Just got it delivered about 15 minutes ago from Amazon and tried it. Wow! My skin is so soft! And the motor is nice and slow so I felt like I had control of the device. Feels comfortable in my hand and I washed my face and neck for a lot longer than usual as it's so soft and comfortable. Very pleasant feel!The battery cover was hard to get off. I had to pry it off with a metal clip but hopefully I don't have to change the batteries often.I'm very pleased with this. A great travel size too.\n",
            "209 1 0 Not bad for the price, brush leaves skin feeling refreshed and included sample of the Olay cleanser is fragrance free and worked well.  I bought this over a Clairsonic just to see how I like using something like this.  Jury is still out on whether or not the Clairsonic is right for me or if this will just suffice as I'm still on the fence in spending the money on a Clairsonic.Some Cons:Battery door design is extremely poor, very hard to remove door or even know how to do such the first time.  There are no grips or features on the handle that aid in removal.  Don't bother trying to do this with wet hands, you have to pinch and pull away from the handle to remove the door.No directions in box, which would have aided the above.\n",
            "225 0 1 I was quite excited to try this product. I had a couple of issues, however, when I opened the box. There is no package insert that describes how to use the product or its features so the buyer will need to refer to the limited instructions on the box itself at first. In addition, getting the battery cover off to insert the 2 AA batteries (included) was a bit of a trial and could be difficult for someone without good grip strength. Indeed, I was a bit uncertain initially of where the batteries went because there was no indication on the device of where to open!  Once set up, however, I was ready to try it. I did not use in the shower but at the sink so can't attest to it being waterproof.This item does a great job on my fairly dry and sensitive skin. Designed with an effective 2-speed rotating system, this device delivers deep cleansing and gentle exfoliation. I used Oil of Olay maximum moisture bar soap with shea butter with the very soft (replaceable) round brush and it removed all my makeup, including my water-proof mascara. Instructions say not to use around the eye area, but I did anyway. It left my skin very soft and receptive to the heavier moisturizing lotion I use at night.I have never had a professional facial and typically only use a washcloth with soap for cleansing and find this to be a great replacement for my usual cleansing routine.I recommend this for anyone who wants to improve cleansing and exfoliation. I would imagine that if you used the proper skin care product for your type of skin it would be a very effective method for all.\n",
            "239 1 0 it took some getting used to and a lil bit of soap in my eye, but the handheld unit is great. i noticed a difference on the 2nd day of use. my skin is smoother and more clear already. i'm a victim of adult acne, slight, and blackheads, but so far, after 3 days of use, there is a noticeable difference in my black heads and my moisturizer is going on easier and am using less. this is a great starter unit for those, like me, who wanted to see what the fuss is about but dont want to spend the 100's on other units.\n",
            "252 1 0 This Olay Cleansing System is so simple to use.  I personally use a Clarisonic for myself but wanted something smaller for travel.  It is shaped perfectly for your hand and definitely worthy of it's price.  Not really fair to compare to the product I mentioned earlier but it is less advanced and has two speeds with which to use.  The bristles are soft and perfect for sensitive skin.  This wouldn't be something I would use on a daily basis b/c I feel it wouldn't do the job... but using it for travel (so light weight) would be fine for a few days.\n",
            "260 0 1 As my title says it is an OK alternative to the coveted Clarisonic. If you cannot afford the actual thing it's fine, but honestly it doesn't compare to the Clarisonic for a few reasons. The Olay brush I feel isn't strong enough to adequately exfoliate my skin, it really felt just like a very VERY gentle rotating scrubbing which didn't make a difference in my skin. Also, the brush rotates in circular motions as opposed to the Clarisonic that vibrates and goes deep into the skin. I feel like this thing is like a glorified spin brush. :( I also don't like how it uses batteries and how difficult it is to get the battery section to open up!Also, the product that came with the brush wasn't too great either.\n",
            "261 1 0 The product worked quite well but to me it wasn't worth the hassle.  I think women who enjoy spending a lot of time with cleansers and/or makeup may enjoy the process and it seems reasonably priced for this type of item.  I think of it as a gadget that you might use for a while and then it sits in some drawer collecting dust after a while.  I think I will pass it along to my teenage son who will like to use the rotating brush to clean his skin for the novelty of it, but I suspect he will get bored with it after a short time.\n",
            "264 0 1 The difference between this cheaper brand vs the expensive brand is the head on this one rotates and the other ones vibrate. I would much rather have the vibrate one to clean the skin off better but I don't think that this cheaper brand deserves to be rated bad for still doing a good job. I tried the expensive one from a friend and loved it better but I can't afford it so this one will do and it really does make my skin look better after using it.\n",
            "265 1 0 My dermatologist told me not to use this kind of thing as in the long run it will do more damage than not. She said that it makes skin look nicer in the beginning partly because it swells tissues but that it's actually damaging skin. Good luck.\n",
            "267 1 0 I'm a pretty simple person, so I was a little hesitant to try out the Olay Professional Pro-X Advanced Cleaning System.  It's a neat idea, and works fairly well.  I don't necessarily want to exfoliate my skin every day, so it's not a product I would use all the time, maybe once a week or so.  It's a shower friendly product, and a bargain compared to the more expensive models on the market.  Some idea of how long you could use the brushes would be nice (something other reviewers have mentioned), but if you're not using it daily it would probably last quite some time.\n",
            "287 0 1 I initially started out with the Clarisonic and returned it in about a week.  I thought for the $200 price tag I would achieve amazing results.  I was VERY disappointed.Still, looking for a facial cleansing system, I came across Olay's product.  I too was skeptical considering the enormous difference in price between the two; however, for a fraction of the cost, it was worth a try.  I was amazed at how well the product worked and I felt (and saw) how well it cleaned my skin.  I couldn't believe it.  I couldn't be happier and nearly a year later, I still use the product.  Oh and I use any cleanser and it works just as well.Obviously to each is own; however, honestly, you really don't have to spend the $200 for the Clarisonic to get a product that works really well.\n",
            "291 1 0 I hate having to post a negative review of something I had such high hopes for.  I had wanted this (or a similar, more expensive version of this) for many months before I purchased it.  I really thought it would help my skin, which has a hard time exfoliating itself now that I'm in my mid-thirties.  However, it broke me out BIG-TIME!  It couldn't possibly have been just a temporary purge, because I was getting clogged pores in places I never get them, like on my temples and above my upper lip.  I had to stop using it.  I'm glad it works for so many other people, though--it's nice that there's an inexpensive cleaning brush out there for those of us who can't afford to spend hundreds on one.  And I would have been severely upset if I spent that much on a brush that wrecked my skin.No worries, though--I find I'm getting super-clean skin and great results with my Aqua Glycolic toner.  And I've recently found another product for adult acne--Clearasil Adult Daily Clear, with resorcinol and sulfur--these two products seem to be doing what I hoped the Olay brush would do for me.\n",
            "293 1 0 I have sensitive skin, so I'm always a little leery to try new face products, but I've had good luck with Olay in the past (their regenerist moisturizer is awesome - and for those wondering, I use the products at acne-dot-org usually. Work great!)I thought I'd give this little gizmo a try when I realized that apart from the occasional actual scrub, I don't ever scrub my face when I wash it. I wash it by hand, splash dry, and then pat dry with a washcloth. So I thought this gadget might help get rid of some places (around the nose and chin) where I get clogged pores (not pimples, not blackheads usually - just clogged pores. You can run your fingernail across in a certain way and they ooze out, but you can't see them unless you're investigating your own face in the mirror).Since you can't use this on your eyes of course, I decided to use it in the AM instead of in the PM when I need to remove makeup. It's shower-proof, so you can use it in the shower. I really like using it in the AM - it's a nice little wake-up to scrub your face a bit with it (the same reason I sometimes like to use body scrub in the AM) and get the blood flowing. It has 2 speeds, but I honestly can't really tell a difference with it. The scrubby brush is VERY soft and not scratchy at all. And of course you can use it with the Olay scrub or another of your own, but I wouldn't use it with anything very coarse.Does it work? Well, it feels good. I've been using it for several weeks in this very dry winter and have noticed a couple dry spots that feel a little better. The clogged pores are maybe a little better off, though it's nothing amazing.Would I recommend? Eh, maybe. You'd probably get jut as much out of the non-battery powered scrubby tools that some other cleansers come with. With those, you wouldn't have to worry about replacing batteries or changing the scrubby bit (you can buy replacements), because the scrubby is generally on the package when you buy it. It feels nice and I like it and will continue using it, but I can't really tell you to run out and get one right now. For the retail price, it's not that amazing. And I can't help but feel that it's a trendy thing, and you won't be able to find those replacement heads forever. I mean honestly - it's a soft, spinning brush. We're not talking about anything revolutionary here!\n",
            "310 1 0 It works just fine-there is nothing wrong with it-I should have added money to the 25.00 gift card I received and bought the cheapest Clarisonic.\n",
            "330 1 0 Ive been looking for a cleansing brush for a while and although my face (more so my cheek area) can be a little sensitive at times, this brush irritated my cheeks and forehead horribly! I have used tons of exfoliates before and have owned the neutrogena brush and clean and clear ones, I have never had this happen. My face broke out in a rash, my cheeks are red, irritated and have tons of blisters (small little ones that are obviously due to irritation). I used with a limp hand and no longer than 10 seconds on each cheek. Its way to abrasive for sensitive or somewhat sensitive skin, and using with the cleanser sample it comes with, forget about it! I thought that maybe it was my usage of the brush  or maybe a product Ive been using so I stopped using everything and i gave it a couple days and tried again, same result. This time worse. I still didn't learn my lesson and decided maybe i cant use it daily and put to the side for a week and let my face completely heal. I tried again with a gentle creamy cleanser, no luck. I look horrible! I had to put makeup over it just to walk out the house. I'm not saying everyone will experience what I have, but be careful if your skin is anything like mine. Save your money and invest in a good cleanser, a good exfoliate and give your face a steam bath every few days. Don't risk it. Now I'm stuck with tomato face for the next few weeks.\n",
            "337 1 0 This is super gentle...too much so for me. I gave it to my young daughter to use and I'll save up for a Clarisonic.\n",
            "352 1 0 I gave the product three stars because it works as described.I give this review as a warning to others that it may not be what your particular skin needs.I have sensitive, flaky skin. I wash with gentle products (Cetaphil type cleanser and Philosophy moisturizer).I thought this product would be PERFECT for dealing with flaky skin. I could just imagine the wonderful exfoliating properties.I gave this a week using my regular Cetaphil type cleanser rather than the cleanser that comes with.The brush feels good but afterwards my skin felt rather raw - even when being gentle with it.For the week I used it I felt my skin got WORSE. What had been some peeling/flaking turned into what I imagined to be a fine web of damaged looking skin that peeled and flaked constantly. I perservered thinking I'd get through it and improve it but it never cleared up.\n",
            "364 0 1 No matter how much money you spend on skincare products, it all goes down the drain if you don't keep your face clean.  Dirt and bacteria, to which we're all subjected every day, and even yesterday's makeup can clog pores and make your skin look dull and lifeless.  Cleaning away these contaminants  is imperative.  Obviously, simple washing will at least address the problem but it's not as effective nor as thorough.  Olay's Pro-X Advanced Cleansing System is a better idea.  On either of the two speed settings, its soft (replaceable) brush cleans gently but completely, giving your face a pleasant massage in the process.  I use it once a day, usually in the shower, sometimes not;  it works efficiently either way and I've not experienced any problems with water leaking into the unit.While I like the Olay Professional Pro-X Exfoliating Renewal Cleanser, (a sample of which is included) and I already bought a larger tube, I really like the fact that you're not limited to using a specific cleanser.  You can use whatever suits your needs and your skin type.While there are other cleansing systems out there which are putatively as effective, Olay's Pro-X system accomplishes what it sets out to do and does so at a reasonable and for most people at least, an affordable price.\n",
            "367 0 1 I can't be the only person who had no idea how to open the battery compartment and put in the batteries. This product comes with no instructions inside at all and teeeny-weeeny lame instructions on the side of the box, which I didn't even see, though I looked pretty hard. I'm giving it 4 stars because of that glitch.Here's the good news:  a really cool young woman named Valerie has put up a great instructional video on youtube that includes a battery how-to:  [...]Lots of people commented that they had searched the web to figure out how to put in the darn batteries and found her site. Olay should pay Valerie a commission. I was ready to return this thing.Otherwise, this seems like a very good product for the price. It feels high quality, it's very simple to use and works great so far. You can use the exfoliating cream that comes with it or use any other cream or facial cleanser you choose.  After using it just once, my skin feels tight, smooth and clean.  I feel sure it will help clean my pores and exfoliate my skin more than cleaning alone or using facial masks.You can even use it in the shower since its water-resistent, which I think is a big plus. I definitely look forward to using it again.\n",
            "368 1 0 I'm one of those people who finds the rotary action distracting - you have to try hard to keep this thing \"on track.\"  So I'm going back to a Clarisonic - costs way too much, but at this point it's worth it.  I had high hopes but just can't deal with the rotary spinning that makes you work harder.  I think it cleans just as well, but Clarisonic is really on to something with the other kind of brush action.\n",
            "388 0 1 ...well not outside of having a facial.  The scrub that comes with this runs out very fast.  I replaced it with the L'Oreal Paris Go 360 Clean, Deep Exfoliating Scrub, Natural Apricot Beads.  The combination of this Olay product with the L'Oreal scrub is perfect.\n",
            "392 0 1 Your fingers and hands are not going to be able to clean inside little indentations inside your skin, which is wear oil, dirt, and makeup deposit themselves after a normal day. A washcloth might, but it won't do a great job.This little product, sold at like a tenth of the price of its competitor, does the job fantastically well, and it also an excellent companion to a light exfoliator like the Olay Regenerist Detoxifying Pore Scrub.If you want a clean face, JUST BUY ONE.\n",
            "403 0 1 I had never had a problem with acne until I got pregnant.  Then my face exploded and nothing I tried did anything for it.  I tried all sorts of expensive face creams and treatments, and I got no results.  Then I saw a review of a Clarisonic Mia on Youtube, and I decided to loo into it. It's 100 dollars, and I really didn't want to shell out that much if it probably wouldn't work for me anyway. While researching, I stumbled upon this and thought it would be a good thing to try out.  And it worked! The first night I used it, my skin felt so soft and clean,  cleaner than it had ever felt.  The next morning, I didn't have any new zits, which hadn't happened for me in over a year.  I was very excited. I use this every night to get all the makeup out of my pores and exfoliate, and my skin is looking great.  I still get an occasional small break out, but the zits are much smaller and last for a day or less.  Before, I was suffering from horrible cystic acne.  The heads that come with it last about a month each with daily use, and I just use my own St. Ive's apricot scrub with it.  I definitely recommend to anyone with skin problems or anyone who is thinking about getting a Clarisonic.\n",
            "414 1 0 I have oily combination skin and I have been using this on an almost-daily basis for almost a month now. It does make my face feel extra-clean and soft, but I haven't noticed much difference in my clogged pores or minor breakouts. I will keep using it, as it seems to clean deeper than just fingers, but it isn't as good as I hoped. I certainly wouldn't pay full retail price for this. I really don't know how it compares with a Clarisonic though I would be interested in finding out, but after my disappointing results with this I don't plan on forking out over 150 dollars any time soon without knowing that it will work.\n",
            "417 0 1 This product is intended to gently scrub the face using an Olay cleanser.  I have tried it three times, and it does do a very nice job.  In fact, I think it cleans more thoroughly than a soft wash cloth.  I did have trouble opening the battery compartment (it uses two--provided--AA batteries), and I also was struck by the very curt instructions.  I think I would particularly recommend this product to people with particularly oily skin, but others will like this gadget as well.\n",
            "430 0 1 This is a decent quality spinner-scrubber. The scrubber is very soft and the soap sample that comes with it is nice enough. A few things though:1.) This product comes with no directions. The words on the packaging are all you get, so you're on your own when it comes to figuring how to use it, how many times a day or week, etc.2.) I wish the spinner went both ways, it just spins in one direction. Seems like I could get cleaner skin if it was a dual-spin head.3.) It takes WEEKS to see any changes, such as cleaner pores. Don't expect overnight glowing skin. I've been using it on and off for months now and don't see any change at all. Maybe I need to use it more, but like I said, with no directions, it's hard to know what's too much or too little.4.) The liquid cleanser isn't special at all, nor does it have an appealing smell. You could basically use your favorite skin cleanser with this and it would be just as good.5.) The batteries were SO HARD to put in. I'm normally good at stuff like this (think lots of kid toys with batteries), but it took my about 15 frustrating minutes to get them in, plus using a kitchen knife!6.) It's handy that this product is waterproof so you can use this in the shower.7.) You don't have to spend any more money after buying this product, unlike the Neutrogena Sonic Wave. This has a reusable head (great!) and Sonic Wave has these disposable pads (BAD for enviro & waste of our cash!!).I got my hair totally caught in the product. Oh no, I thought I was going to have to cut it out. Smartly, Olay makes the head pop right off, so all was good once I figured out that solution.Hope this helps!\n",
            "436 1 0 This was okay when I first got it and it was lower priced than some skin cleaning brush systems. However, since then I have graduated to another name brand sonic cleansing brush system and use it now instead.\n",
            "448 1 0 I bought this and used it for about 6 months then my mother got me a Clairsonic.  WHOA.  What a difference!  Seriously, this thing is just pushing dirt around your face.  If you want a true, amazing cleansing experience, get a Clarisonic.  Your skin will thank you.\n",
            "459 0 1 I saw many good reviews about this product and wanted to try. The device delivers the expectation which clean my skin very well. However, I found the brush being a little too stiff and harsh to the skin. I just need to be careful not to put pressure, just lightly buff the skin like scrub.The cleaser that came with it is smelly and specially it was MADE IN CHINA. I personally do not trust any consumable/skin contact product from China. They are well-known for mixing toxic chemical to increase volume/sales. I tried using it once and do not like it at all. It is gel like, no foam action and did not clean well. I use Clarisil cleanser for sensitive skin and it works well.For the price $16 (I got $5 coupon clip during the purchase), this is the worth a try.\n",
            "461 0 1 This is an unfair review in the sense that I've never had or tried a clarisonic. BUT, I can say that I love his little thing, and don't think I'll ever need a clarisonic. I use it daily for gentle exfoliation and I feel it does exactly what I need it to do. No complaints here!\n",
            "488 0 1 I wish I could get the Clarisonic Mia, but at $100-200 it's just not in my budget. I mainly use the Olay Pro X to remove any makeup my makeup remover towelettes didn't get. I think at $21 it does a pretty decent job. I like to use the Olay Foaming Face Wash with it. I highly recommend this brush.\n",
            "493 1 0 I read the great reviews and thought it would work wonders on my skin.  My skin did tingle a little when I was done but didn't notice any difference in my skin's appearance or how it felt long-term.\n",
            "499 1 0 This really helped with blackheads but I need replacement heads and just seem to think masks and scrubs do the same thing.\n",
            "500 1 0 Its alright. I don't feel my face is any cleaner than if I had used a washcloth. MY daughter loves playing with it in the bath tub.\n",
            "509 0 1 I bought this product and at first it didn't work!! I was pissed...i even found this strange residue like oil in the battery compartment so cleaned it up using a Q-tip and used a blow dryer to kind of dry this residue i even changed the battery just in case and IT WORKED. It is a kind of weak but it does the job for cleaning your face. Good for a cheap price.\n",
            "532 0 1 This is a clear polish full of holographic glitter. It is very, very sparkly and pretty holographic glitter at most angles, but it's pretty thick, crunchy, crusty glitter. It will smooth out with a coat or two (or three) of clear topcoat, but it is definitely not smooth on its own. For what it is, it's impressive, but I prefer a finer glitter.\n",
            "538 1 0 This shampoo smelled nice (not as nice as the liquid hand soap) but stripped my hair and left it dry as straw, which is odd, since my hair is short and in good condition. When I just rinse with water, my hair is softer than it was after using this all-in-one.I have to use an additional conditioner with this.  Disappointed by the lack of conditioner in this all-in-one.\n",
            "539 1 0 My previous mascara was the more expensive BadGal mascara from Benefit (waterproof). It did NOT smear as much as this mascara provided I curled my lashes properly and used Garden Botanika's eyelash primer. However, it also did not make my lashes as thick as Marykay's.I was looking for a good mascara that would last throughout the day and not smear, all the while making my lashes look thicker and longer.I'd say that this product only receives 3 stars, because although it made my lashes look much longer and thicker with only two coats, it smeared right away even after I curled my lashes and used lash primer. It clumps very easily even though I wiped the clumps off in the tube before applying it.Initially it was the perfect mascara, giving great lashes without smearing or clumping at all, but gradually it started to clump and smear all over my bottom lids. Throughout the day it's going to get worse and mascara will start flaking off onto my bottom lids.If you have extra time to fix up any mistakes and won't be going out all day, then it's a good mascara because it makes your lashes look very nice and dark with just a few coats. But if you're looking for a mascara that will not smear throughout the day (rare as that sounds), this is not the one for you.\n",
            "544 1 0 I've bought this from a MK worker and miss placed it, so I bought this one, cheaper price same product.\n",
            "552 0 1 I bought this because I wanted a lip balm with SPF and really like this product. I bought it in Peony, which looks pretty red in the tube, but it's not so strong on application; rather it's like a tinted balm with a bit of a glossier look. It builds in intensity, too, so if I want a hint of color, just a swipe or two will do, but if I want more drama, I can just keep adding it on.\n",
            "560 1 0 It doesn't have much stain power but i guess you could expect that knowing thatg is a balm, but still, the little bit of color that you are getting with this doesn't last long, like, and hour top. It does have too much shimmer to my taste, i ordered it in sandstone. I liked the package though, it didn't look or feel cheap.\n",
            "562 0 1 In store this will be $6.99, anyways I used coupons to get 2 colors, both of which I like. I want to make it appearant that these are in no way anything like burt's bees, I thought maybe CG was trying to make their own version of this balm, but it doesnt taste as pleasant, and is much more like a lipstick then burts bees balm.My absolute to die for color is Muscat, Im very light skinned, and have naturally red lips, my mom used to get badgered by other moms because they thought she put lipstick on me when I was a baby, so with that said this is my favorite color because its like the EXACT tone of my natural lips, you might think, then why dont you just get a gloss? Well, I have a problem with dry/cracking lips, this helps with that ashy color on the side of my lips I get sometimes. And the other color is Peony, now this is a very bright unnatural red, I still like it though, but I would only use this color at night.\n",
            "565 1 0 I got one of the light pinky colors,can't tell exact color because I have thrown it away after first use.I think this stuff is pretty much the same as Chapstick Tru Shimmer Berry and should sell for much less.Shimmer effect is due to fairly large sparkles that create a cheap glitter look on my lips.Texture is weird a bit sandy and color ends up looking uneven and streaky.After a while it collects in creases and looks disgusting.Do not waste your money, you deserve better product for the price!\n",
            "576 1 0 Well the colour is nice, especially on my dark skin. But mine arrived broken. Inspite of that its usable and keeps my lips moisturised. Love it till now.\n",
            "582 1 0 This lipstick is certainly super bright! Which is fun, but it does seem to dry out my lips quite a but when I wear it. Although it does have quite a bit of staying power.\n",
            "592 1 0 This lip stick sucks!!! The color is barely noticeable. Maybe because I'm African American? But hmm I'm not a dark African  American.\n",
            "603 1 0 This is a pretty, bright red color--actually quite perfect for a night out with the gals (too bright and &#34;out-there&#34; for a guy's liking, I'm told).  To be precise, &#34;Burn&#34; comes out red-orange, so you should like bright lipsticks if you purchase this.  The formula, unfortunately, is drying; you'll have to pack lip balm along in your makeup bag.  And there's just a bit too much glitter to push this lipstick over the edge to teenager-y.\n",
            "604 0 1 Compared to other drugstore brands, this is definitely not drying.It's really creamy and moisturizing, but it doesn't stay on as long as I'd like. (Maybe I need to exfoliate my lips. The application wasn't as great as I'd expected.) The CG flipstick lasted longer and had better pigmentation. I guess it depends on the shade. The scent is a tad to fragrant and borders on unpleasant at times, if you're used to unscented or mildly scented cosmetics.\n",
            "611 0 1 I needed a natural shade which didn't really show as if I had put it on. Love it.. :) but would have preferred it little dark as sme times I feel thAt it merges too much with the natural skin color..\n",
            "619 1 0 Eeks!  Color was not at all what I expected- pic looked like it should have been a nude shade but was very bright pink.  Great feel and texture, nice pigment just not right color.\n",
            "624 1 0 I ordered PINK 235 - goes on smoothly as Lipliner but as a fill-in for (lipstick) that is wasting the liner - I use my pink lipstick for the fill-in and the lipliner lasts much longer.  Having NO sharpener attached make this Covergirl liner overpriced.  Should sell for $2.99 and no more.  Pink 235 is a great color for various pink lipsticks.\n",
            "629 1 0 Did not like this,it says nude but it's really dark I didn't realize the Queen collection was for African American skin that's my fault for not paying attention but it works well as a Eyeshadow or a cream blush.\n",
            "639 0 1 The fact that this product is \"natural\" is irrelevant to me.  I purchase things based on smell and this smells amazing.  It's got a good flower smell AND a good almond smell (much like the almond extract you cook with). I can't find this product in store any longer, but that's fine with me because Amazon has it cheaper anyway.  This fragrance is not a light, subtle fragrance like a lot of other \"natural\" products can be.  It's not overwhelmingly strong either, but it's definitely on the strong end of the spectrum.\n",
            "661 0 1 The only reason I gave this 4 stars instead of 5 was that the wig was a completely different color than I expected it to be. I think the problem is that the wig colors are numbered, and there does not seem to be any way to view the different colors to be sure of which color you are ordering. Otherwise, this is a very nice wig, and I am keeping it, even though I didn't want another black wig. I would recommend seller and order again if there was a way to be sure of the color of the wig.\n",
            "669 1 0 was hoping for more out of product--but it is nice and does add a little something extra to polish--would order it again\n",
            "672 0 1 These are exactly as in the image. However, they are difficult to maintain -- I ruined two pairs already after I removed them. They're very hard to clean and thus reuse.\n",
            "682 1 0 I bought this product Im natural I seen so many review on this product on you tube, so I went and tried this curling custard.  First I put this on my edges it leaves a white film or flake after it dryes, tried to do a wash and go didnt define my curls weighed my hair down, had to use my eco styler gel . this was a waste of money for me .\n",
            "685 1 0 I have mixed curly hair (black and asian) which curls pretty well but tends to get frizzy. I usually apply hair products in the shower while my hair is still soaking wet, which I neglected to do this time around. Instead, I applied it to damp hair.It defined my hair exceedingly well, but it was extremely brittle and I didn't like the overall look. However, my hair stayed well defined the morning after I slept on it (without covering or preparing my hair in any way) and was without dents or flattened spots. It also lost the crunchy texture that it had on the first day. If anything I would probably choose to use this a few hours before bed in order to avoid needing to do my hair in the mornings.Also, the SMELL. I really didn't like the smell, but I tolerated it. It's really strong and very sweet. It's definitely hit or miss.\n",
            "698 0 1 I was skeptical about this &#34;gel&#34; after reading several reviews about how the the result of this product left people's hair sticky, hard, oily, etc. But, since my hair is difficult to manage (I have a mix of 2c, 3a, 3b hair), I decided to take a risk and purchase the product. Since I generally don't have that much time in the morning to fix my unruly hair, I experimented with KCCCG on a day that I knew, for sure, that I didn't have to step out of my apartment. I did my usual Curly Girl Method on washing my hair with a sulfate-free and silicone-free conditioner. Then, I used a leave-in conditioner and sparingly applied KCCCG  immediately onto my hair. I let my hair air-dry for about 2 hours (the shortest time period that I have ever had to dry my curly hair) and my hair had the same consistency as if I had used a regular gel. However, once I gently scrunched the gel film on my hair, I had the most wonderful results! Regular gel tends to make my hair too hard, stringy, and stiff even after I scrunch the film out of my hair, but KCCCG defined my curls with minimum frizz (or rarely any frizz for that matter) and kept my hair very soft and moisturized. I finally have bouncy, uniform, and shiny curls that do not frizz when I venture  into a humidity-ridden area (or rain/snow...I've tested my hair under all of these weather patterns).The only complaint I have about this product is the consistency. It has a gooey, but not sticky, feel and it certainly does not look appealing. But, if KCCCG will continue to deliver perfect curls, then I'm willing to overlook it! As for the smell of the product, it reminds me of a subtle sweet pastry of some sort, but it fades away from my hair almost immediately. The trick to making this product work on your hair is by finding the right amount of product that your hair requires. I use it sparingly (I just dip my fingers into the gel and use whatever is on my finger for each &#34;clumped&#34; curl), but someone else might need more product depending on their hair. Also, a leave-in conditioner is a MUST for this product otherwise you'll end up with dry and unruly curls. I can get second day hair with this product, but after two days, I have to use a co-wash otherwise my hair will start to get limp.\n",
            "699 1 0 I have 3c/4a natural hair. My hair shrinks about 75% of its normal length. I have 7.5-8.5inches length hair and it looks like 3.0-4.0 length.I washed my hair with the KC Come Clean, then used the KC Knot Today, and then applied the KC Curling Custard, my hair shrunk somewhat awful!! I had to part my hair in sections and braid it to help with the shrinkage. I did notice that the KC Curling Custard did have an effect on my hair but not enough for me to spend that type of money on it!! Honesty, the Knot Today gave me great curls and definition, BUT my hair already has a natural curl pattern and doesn't take much to make it curl. When I apply Fantasia IC gel, it gives me great curls without the shrinkage and it's a lot cheaper than KC Curling Custard.I would recommend it if you have 25% shrinkage with your natural hair, but it you have major natural hair shrinkage, I would NOT recommend it.Overall rating: 3.0\n",
            "707 1 0 I have been using this product for about 2 years or so now and when i first got it i really did like it and still loves the smell too...but after a while i started to notice something..It moisturizes when my hair is wet but the next day its as if i never used anything. It dries out really quickly on my 3b hair texture and i think its time to give it up and try their natural hair line leave in. It may work for you but i am on my last jar and probably will not be repurchasing.\n",
            "716 1 0 I have 4b/4a hair and this product made it like a straw broom every time. I tried several times to use it but my hair just doesn't like it. My daughter has 4a/3c hair and it's the same thing. Good thing it was cheap or else I would have really been upset that I spent my money on this.\n",
            "719 1 0 First of all I believe this is a good product.  That is...for natural hair types.  I have two sons, one of which has really dry hair, and this keeps his hair moisturized without an oily look.  Seems that we could add it everyday and it would not be overdone.  My hair on the other hand, which is relaxed long african american hair, was very weighed down by the use of this product.  My hair is not super thick so I felt as if adding this before blow drying made it paper light and thin looking.  Lots of fly aways and no control.  It was not horrible and it did keep my hair moisturized but I think very little goes a long way.  My hair would not keep any curl after using this product.  Not all day anyway.  I live in Houston, TX and the humidity combined with this product does not work out.  I think maybe adding this after drying might work out better, but I am not sure I will use it on my hair again.\n",
            "724 1 0 I am a natural with wavy/curly that presser her hair. I typically use Garnier Leave In products as they leave my hair feeling light, shiny and silky; but the beauty supply store in my area didn't carry it and I was pressed for time. I had a choice btwn this and cream of nature leave in and opted for this. Wrong move. I used as directed and this has left my hair feeling heavy, greasy, and gross. Granted this smells good, but I supposed this is for hair types that are very coarse as my hair is not. I do not like the weighed down feeling this product leaves on my hair and am currently in the process of looking for a clarifying shampoo to get this out of my hair and go somewhere to get my Garnier leave in conditioner that I normally use. Hopefully this hasn't messed my hair up too much.\n",
            "726 1 0 I like this product as a conditioner ive put this on wet and dry hair it feels like conditioner and it feels heavy but it does condition so its nice I only put it on the tips but I do wish it was lighter.\n",
            "730 1 0 I remember testing out a 'yes to carrots' product at target a while back, and it smelled great. Citrusy and delicious. This smells like baby powder. I'm not a fan\n",
            "731 1 0 I have used much better moisturizers than this. I would say the yes to carrots butter works WAY better, but it does smell heavenly and is a decent very lightweight lotion. I would purchase again for just a next to the sink type of lotion.\n",
            "734 0 1 I work an office job where my desk often feels like a super highway of papers. This leaves my hands dry and cracking. It's hard to find a lotion that's unscented but doesn't have the classic \"unscented\" smell.  (Putting hand lotion on almost hourly means if it's perfumey I'll be gagging by the end of the day). I also wanted natural without sacrificing effectiveness. Enter \"Yes to Carrots\"! It has a light natural smell that wears off almost instantly. It's not greasy at ALL (something I despise in hand creams) and soaks into the skin quite nicely. I find in winter I sometimes need a little more than this lotion can give so I have a travel sized jar of the Yes to Carrots body butter I keep with me. (This one, however, is a tiny bit greasy. But it absorbs well enough that I'm not too bothered by it).I should also mention I have skin that will break out, even on places like my arms, if I use too heavy or scented of a lotion. Not with this product! I've even gotten desperate enough to put it on my face a few times and had no break outs what so ever. It's gentle and effective.\n",
            "736 1 0 I have used this whole tube and see absolutely no difference.  It was like I was using chap stick, only without the moisturizing effect.\n",
            "750 1 0 I liked it, but it drired my skin for some reason. I love how natural it is, and that is is not cruel to animals...that's a must for me. But, I'll try another animal cruelty free product which is more hydrated.\n",
            "751 1 0 I left a review on the NIGHT TIME version of this as well. I love many of the YES products, this blueberry line is the exception to that statement, however. I didn't find it moisturizing in the least. I'm in my 50s and I thought their anti-aging line would be right up my alley. It's not. And it stinks.\n",
            "752 1 0 Got this at Marshall's for about $6 (yes, the 1.7 oz)!  I would buy it again for that price but not full price.  This moisturizer makes my face feel tacky/sticky and look shiny. I only use this at night now and in the morning I use the Yes to Tomato moisturizer, which I've purchased a couple times from Amazon.  I might as well mention here, I'd give that one four stars.  It's very smooth and has a light chocolate smell.  The weird thing about it is that after application, if I get hot- I'll feel the moisture/sweat on my skin, freaky!  Could it be the pore-protecting properties working?\n",
            "754 1 0 I bought the entire line of yes to Blueberries because I am a big fan of the other YTC products.  I also turned 31 recently, and that combined with the sale I saw online prompted me to buy this product.  Like with the face wash, this product has a great smell. However, I felt there was a thin film on my face after using it.  I also noticed that my skin gets very oily and shiny quickly when I use this product.  This wasn't a common occurrence with other products I had used previously.I may be \"too young\" to be using this line yet.  I wonder how this would work on my skin if I were a few decades older.  Maybe the qualities I do not like in it now are ones I'd want in the future.  That said, I won't buy anything from this line again.  I do think the Yes to Carrots, Yes to Tomatoes, and Yes to Cucumbers lines are wonderful though.\n",
            "755 1 0 I much more prefer the Overnight Hydrating for day and nighttime use. The Daily Repair is &#34;okay&#34;, but being in my 40's, I need more moisture on my skin.\n",
            "756 1 0 I enjoy using this brand but I don't really use facial moisturizer so I can't really compare it to anything else.It is a little more money than I want to spend but I know that there are other brands that are crazy expensive.I use this after washing my face and it really does help during the cold months and prevents my face from feeling dry.\n",
            "767 1 0 Say yes to consumer awareness!!! Like the same ingredients in every box with different labels, check it out for yourself, read grapefruit, then tomatoe, then etc, guess what yes, you have it right, the same ingredients!!\n",
            "770 1 0 I feel like this actually made my fine lines worse. I don't actually have a lot of wrinkles. I have two kids under 4, so I am asleep deprived, and I use wrinkle cream to make my eyes look more refreshed after a night of NO sleep. This didn't work at all.\n",
            "775 1 0 It's a decent product, like the feel of the cream. It's not too thick and hydrates the eye area well. I'm not convinced after a month of use that it does much for fine lines or any other eye area skin issues, but will continue to use and see. Will update if I notice any significant changes to the under eye.\n",
            "776 1 0 I'm not sure I see a difference after using this product, but then again I don't look very closely. Still I like the Yes to... brand so...I suppose I recommend this\n",
            "790 1 0 check the label for ingredients then check cucumbers, tomatoes etc, guess what?All the ingredients in the different boxes are the same!!!!!\n",
            "791 1 0 I see no difference after 4 weeks of use. Anyone who uses the YES line, please give me some suggestions for a good alternate.\n",
            "803 0 1 I bought this because a youtube make-up artist recommended these cream foundations for versatility in coverage building and their insane color range.  Women who are ultra fair and women of color on the medium/dark spectrum have such a difficult time  finding a product, yet alone a company, that caters to their color needs.  Graftobian makes SO many colors, I'm a little weak in the knees just thinking about it.  I have always been a department/drug store makeup user, and had no idea that I could get better results with professional makeup artist products.  Well, I had no idea you could buy them on Amazon!I'm always buying makeup and throwing it away because the color is never right for me.  These palettes come in all color ranges and are separated by the warm, neutral, and cool categories.  I have no idea what these categories actually mean, but I'd read somewhere that the &#34;warm&#34; line is for people with a very yellow base to their skin.  Knowing that yellow is my enemy (though I actually do have a yellow base to the skin on my neck, I have patches of ruddiness on my face that made me think I was pink-based), I steered clear of the &#34;warm&#34; palette.  Because I had no idea what &#34;cool&#34; meant, I went for the &#34;neutral&#34; palette (#1, the lightest palette...well, actually they have an 'ultra light' palette that's even lighter than this....if you can believe it!).  The lightest color in this palette is bombshell, which to my surprise was way too light on me.  Good for a concealer under the eyes, but too light for foundation.  My exact (and I do mean EXACT) color match turned out to be one color over, Prima Donna (*angels singing*).  Currently, I'm applying it over moisturizer and primer with a Real Techniques stippling brush that I spritz with Skindinavia's makeup setting spray--buffing it into my skin.  It looks amazing.The coverage options you have...full, medium, or sheer, is amazing to me.  I'm used to buying drugstore products that are either sheer or medium coverage, and usually the sheer stuff isn't buildable.  I feel like I have endless possibilities with this foundation so I needn't buy other products.  PLUS, I use the same shade for concealing blemishes.  No need to buy concealer!  This stuff is great.  I even have sensitive, acne prone skin.  I've been using this for a week and haven't noticed that my skin is freaking out about it.  I'll have to post an update in another few weeks to know for sure.You could use the darker shades in the palette for bronzing, so really there's not too much waste in purchasing this palette.  Now that I've found &#34;my&#34; color, I can purchase the larger, single size/single color in this shade.  So worth it!\n",
            "810 0 1 the colors for the warm #2 palette do not match the picture-they are much darker in person. Only 2 of the 5 shades will work with my skin tone. The coverage is good and wears well. I am considering purchasing the palette in the lighter shade so I can do more highlighting/contouring.\n",
            "812 1 0 Honestly, this being considered a professional makeup line, I was kind of expecting a lot more. Didn't find the coverage that great. But it does give a nice natural, dewy sort of finish. Didn't last all day on me, but I do have more of an oilier skin. I honestly love Jane Iredale pressed powder.. amaze! Thinking maybe this is better for a more mature/dry skin. Or as a base...\n",
            "836 1 0 Because of the reviews, I was very excited to get this product.  I was ready to spend the money, as I have failed to ever find any exceptional concealer at drug stores, etc.  My main purpose was to cover my under-eye circles, something I have dealt with my entire life.The shipping was much faster than the expected ship date, an entire week early, which was a huge plus.  It took a total of 5 days to reach me in Oregon.  Packaging was great and there was no damage to the product.I immediately used it and have been trying to work with this product over the weekend, it is not going well.  It works fine for blemish coverage on the face, and the consistency is great.  For under-eye circles, it is worse than any drugstore brand.  I have tried applying it with a finger, a sponge, and a concealer brush.  All attempts fail.  It cakes and settles in my creases, adding years to my face.  If I try to use it very sparingly, it doesn't give me the coverage I need in that area.  Overall, it does work wonders as a color corrector in other areas but not for a common use- the hated under-eye.All in all, the shipping and packaging is awesome.  The product for blemish concealment or maybe even a tattoo is fabulous.  If you think spending money on a pricey color corrector is going to fix your under-eye circles, look somewhere else.\n",
            "850 0 1 The shade I purchased is hot pink. It is very pretty but it doesn't do me justice.  I like how it looks in the tube, but on my lips it actually comes out a bit darker.  However, I must say that this product stays on long and it does give you a burst of color.  I have had many compliments while wearing it, and I will purchase this brand again just not this color.\n",
            "854 0 1 It would be five stars, but the shade goes on very pale.  It looks almost nude on my lips, but is in fact a light, cool pink.  In the tube, it doesn't look like it will appear so pale on application.  It is a pretty shade, but when I put it on, it looks nothing like I expected.  It glides on like a dream, and yes, you will need to reapply it if your lips touch anything!It's very moisturizing, a big plus in winter.  It contains sweet almond oil, phospholipids, avocado and olive extracts, as well as a dab of hyaluronic acid and vitamin E.  It also has chamomile extract, a nice anti-irritant.  It does not contain fragrance, though it does have a pleasant scent.  This could be from the chamomile and/or \"vanilla planifolia fruit.\"  I'm not sure what that is, but it has vanilla in the name, and vanilla smells good.I'm very pleased with the formuation, and recommend it unless your skin is medium-dark to dark.  It may not suit darker complexions; it may look like bubble gum - unless your makeup design calls for pale lip color.  I do use a lipliner,L'Oreal Paris Infallible Never Fail Lip Liner, Nudeto keep it from smudging on my chin :)\n",
            "857 1 0 I bought this on a recommendation from a beauty blog, but I have to say it's never going to be one of my favorites. The color is nice and dark, but it is a gloss so it doesn't stay for long at all. Also, it is super slick, and while I want it to be glossy, it is much too much of a shine for me. I feel like my lips and slipping all over the place.If you're really into the glosses, you'll probably like it. But if you're more of a lipstick girl, you'll be disappointed.\n",
            "871 1 0 I was really excited to try this product out due to all the good reviews and feedback it was receiving. I went to my local drugstore to pick it up just in case I didn't like it it would be easier to return and I'm glad I did. I used it on top of the Revlon Whipped Foundation and as soon as I started to put it on it felt really wet. I know that it's supposed to feel hydrating, but to me it was an uncomfortable feeling. It didn't even feel like it was being spread out evenly. I gave it 3 stars because I liked the packaging, but other thank than I didn't like it. It's going back to the store ASAP.\n",
            "877 0 1 I use a concealer liquid foundation and set with the aqua powder and my face looks flawless..regular powder makes my face feel dry and u can see the lines in my face...but dont use by itself its not good coverage..\n",
            "885 0 1 It is a good product. But it isnt a miracle. I think it is too expensive. They should make sample sizes too.\n",
            "887 1 0 So I read and listened to a couple reviews on this stuff and people were singing its praise. I bleach my hair and you know the toll that can take on it so I thought I would order it, I am not impressed with it, I don't feel like its done anything to my hair and I absolutely don't feel its worth $40.00. I hope this helps someone else save their money and look for another product. Good luck\n",
            "893 1 0 I like the serum but not sure if Im 'in love' with it. I dont really like the smell, although its not horrible. It absorbs well into my hair. I noticed the difference most when I initially used it, but now it seems like any other serum I have used. Im glad I tried it, but I haven't decided if I'll buy it again considering the price.UpdateAfter using it for over six months I know now that I wont be repurchasing it. For years, Biosilk seemed to work consistently for me. The Chi serum is unofficially one of the top on my list. When I use the Kerastase serum, I mix it with the straightening serum. It seem to work somewhat better. Pretty much, this is like any other average hair oil. I am glad I got to try it so that I know for a fact it doesn't really work.\n",
            "895 1 0 I was told by a professional hair colorist that Kerastase is \"the Cadillac\" of hair products. Well, that's true for the conditioner (\"Ciment\"), but the elixir really isn't any better than less expensive products you find in the drugstore.\n",
            "907 0 1 Might or might not purchase again. Most likely will try something else and may come back to this one later.\n",
            "908 0 1 I loved this product, it moisturized my hair & left it soft. Smelled great too through out the day. Lasted a long time since you only need a small amount. Sadly, my local beauty supply no longer carries it and I am not happy about that. At least it's available here on amazon.\n",
            "909 1 0 I was intented to buy Shea moisture curl smoothie, which helps a lot with my thick curls and dryness. I like it a lot because it is 4oz and afforable with natural ingredients yet creamy that make my curls more curlier. I had to say \"THANK YOU GOD! for answering my prayer\"  I was supposed going Target getting that, but ma wanna stop at walmart for something else.I saw they selling African Pride Olive Miracle Maxuim Lotion, I wanting it badly because it seems creamy enough to help with my hair . But it has lanolin oil. It is what i been trying avoiding. I don't know what is bad effect but everyone say to stay away from it, it can tangle up your hair or make you look like you just wake. I was thinking might it works differently.I was thinking, let me trying for once because I am short on money ...it would be a good change to spend less than $3 on hair product rather than $9 on shea smoothie . I went home with it and try it out. Mistake , hair is dried out too fast. it is not moisturzing enough, I feel like I had to use up 3 bottles! And GLYERCIN spirtz . I will never buy it again! if I can remember..it has great ingredients and scent. Too dryness. I need high Quality hair product such as \"AS I AM\" , SHEA CURL SMOOTHIE, etc.it involves tea tree in ingredient, really great ingredient... it would have been my favorite if it doesnt have lanolin oil.I had to use this product until it is out, along with unrefined shea butter (I made with lemongrass and some essential oils) It help prevent dryness. After using hair milk\n",
            "911 0 1 They have overpriced this item partially because of shipping costs. You can find this same item at Sally's Beauty Supply for almost $2.69I am biracial- asian/caucasian with straight, course hair. My hair gets pretty limp so I have to experiment woth all different products without having my hair flat. I pair this with Nexxus promend and it seems to do the job. First off, the scent is amazing and I have already seen growth in my hair since I bleached it 3days ago.\n",
            "913 1 0 I tried this product on my natural hair and i like it but it dries my hair out. It leaves my hair feeling and looking like a giant cotton ball. I would put it in my hair before i went to sleep at night. When i woke up in the morning my hair was super soft. I have never had my hair feel like a pillow. Thats how this product made my hair feel. But it felt dry at the same time. It isn't heavy but had a good consistantcy. My hair soaks up everything so i need a moisturizer that will really moisturize my hair not leave it dry.\n",
            "914 0 1 I must say that I am surprised that I even tried this product at all.  I am familiar with the brand African Pride for about 10 to 20 years but I never paid any attention to that line.  It wasn't because of the name but the way the packaging looked.  It looked cheap and garish and nothing in that line appealed to me.  And that held true until about two or three weeks ago when I was browsing through the major drugstore clearance shelves and found this beauty for something that was cheaper than bus fare in my city.  When I read the ingredients, I was impressed by the number of natural ingredients it contained (granted it is not all natural but you have to add something to the oils since the go rancid quickly):soybean oil, olive fruit oil, wheat germ oil, coconut oil, jojoba oil, grapeseed oil, avocado oil flaxseed oil, horsetail extract, silk amino acids, wheat protein, soybean protein, hydrolyzed oat protein, hydrolyzed vegetable protein pg-propyl silanetriol, phenyl trimethicone, D&C; yellow 11, D&C; green #6, TBHQ, propylparaben, fragrance, lanolin oil, c12-c14 alkyl benzoateI will admit that this is probably a deadly cocktail for those who have allergic reactions to one or more ingredient (add any form of peanut in this bottle and your child would probably be effectively banned for the school year *lol*) but I have no problems with it.  And for the granola set, since it contains \"bad\" ingredients, just make your own.  For those who are too lazy and cheap, like me, continue reading.Slightly off topic: I usually avoid products that contains silicone but lately I stopped caring.  My hair is a bit easier to manage when I have a touch of silicones.  I know I know that silicones are bad but honestly they have its place.  Since I wear my hair out, it is exposed to the sun, which gradually destroys my fine but thick kinky curly hair.  In short, silicones protect my hair from heat exposure and daily stresses I encounter when I comb/style my hair.Back on topic: I purchased it and used it several times as a pre-shampoo hot oil treatment.  What I liked about it so far is that it leaves my hair soft and moisturized and it appears to encourage curl definition.  Even with my natural shampoo, my hair winds up brittle at times due to the hard water municipal water and I don't have the funds to spring for one at the moment, but I will in the future.  In the meantime, I have to do some of the extras from time to time to make my hair cooperate, like hot oil treatments, chelating treatments, etc.  Next time I plan to do a modified Chicoro[sic] pre-shampoo treatment, which includes aloe vera.The product comes in a eight fluid ounce bottle, with a snap lid.  It dispenses the oil well, meaning you can control how much you want but be mindful of the pressure you apply on the bottle.  But the flaw I find is that the lid doesn't stay sealed, so this container is definitely not travel friendly and you need to clean around the openings of the bottle to avoid attracting dust.  The scent of the oil blend smells like candy, almost like Wonder 8 oil.  So if you hate the smell of that product, then please avoid this one.  On me, the scent does not linger but then again I don't use much of this product.  When I wipe off the oil from the body of the bottle, I apply it on my ends at night and in the morning, my hair looks moisturized.  I have not experience any exponential growth but honestly I feel like that is just a gimmick.  I would definitely give this product a try but look around to find a cheaper price.  You can definitely find it cheaper locally or through some online e-tailer.\n",
            "923 0 1 I was excited to try the Anew Platinum Serum, as I had been happy with the products in the Ultimate series.  I was surprised that this did not seem to feel as good on my skin, that it felt a little sticky rather than absorb into the skin. It is not enough to make me stop using this bottle, but I will most likely go back to the ultimate Serum.  I do like the other Platinum products.Thank you Amazon for allowing sellers to offer products at a better price. I know Avon does not approve, but those of us trying to save a little money, appreciate the help.  Everything I have purchased along this line is factory wrapped an sealed; looks just the same as what I buy from my Avon representative.  Same texture, smell, look.\n",
            "924 1 0 Worst smell cosmetic ever. Texture was good and absorved quickly. I knew it would give me a good result, but I couldn't  use it because of mega bad smell!  It's like old milk smell...  Sad.\n",
            "925 0 1 I am too young for it.  This product is for people in their 60s.  My skin didn't let it soak in, so I must not have needed the extra moisture.\n",
            "935 0 1 This color isn't quite accurate to the picture. It's actually a lil' more brown, than orange, but that's ok. I like it anyway. It looks better than I thought it would when I saw the bottle. The color is rich and sparkly, which is what I wanted. Thought it would be a good fall color. Can't wait to use it. :D Very happy with this purchase.\n",
            "939 0 1 I read several reviews on this item before I made a decision on buying...when I received this product I immediately tried it with my silken lashes...the reviews were spot on...There was a little smell to the glue but I chalked it up to being a glue product and how no matter what brand you decide on the smell will be there anyway...it didn't bother me....The glue needs to be liberally put on the rim of the lash...it has to be a few seconds before applying to the eyelid so the lash will stick properly. As for flaking...it was there at the end of the night when i was about to take it off...as for falling off and having to reapply the glue...didn't have to do it...I like this product...it does what it says...being new to wearing false lashes I will be trying other glues just to compare..but for now I'm pleased!\n",
            "946 0 1 I love this adhesive because of the little brush.  I am new to the world of false eyelashes.  The problem I am having is I either don't use enough adhesive or it drys by the time I get the lashes in the right place.  I do not feel this is the products fault...I will get the hand of it eventually If I keep practicing.  That said, this product really has very little smell and goes on the lashes smoothly.  I really do love it and would recommend it to anyone.\n",
            "947 0 1 I tried a tube with a tubular tip applicator and trew it away after the first use because it is so messy. A brush works much better. .\n",
            "948 1 0 Bought this at a beauty store and it burns your eyes and lids. It's hard and when it dries feels like plastic\n",
            "957 1 0 I got these for sleeping pony tails and was surprised how small they are. I was hoping for some bigger ones, but these will do.\n",
            "963 1 0 I like these barrette and the simplicity of them, however, the very end of the barrette catches on your hair and there's no way to get it out except pull it.  They need to smooth that end tip so there is no circle that's going to grab your hair and pull it out.\n",
            "967 1 0 They don't slip but I feel like they get caught in my hair and kind of hurt. I didn't care for these bands - no longer use them.\n",
            "978 1 0 i could barely get these barrettes open! i am a young woman and it took me forever to get some of them open! a few are better than others. the no-slip grip seems nice for keeping hair in place, but it also makes it harder to get the barrette in your hair with it looking good. i have very fine and thin hair and i can only use them to put my hair half up or less. i was hoping to use them for a french twist. cute colors though.\n",
            "986 0 1 I have very thinning hair from illness and medication used to treat it. I like to keep my hair back, so it doesn't fall into what I am doing (seriously) I had trouble finding these locally. I tried the thinner ones (just do not stay in) and the silicone ones (just tangle up what little I have) but these work and stay in, for me...thanks\n",
            "990 1 0 These are superb hair elastics for people with thick hair. I have thick blonde medium length hair and I thought the colors pictured would be perfect.That said, you're taking a gamble on the colors you'll actually receive. Bright blue and red with some black is what I got. WHHHHHY?\n",
            "1015 0 1 These are great little clips for you hair, however the teeth break pretty easily and so you'll go through them quickly if you use them often.\n",
            "1020 0 1 it was a nice price, but after using them so many times, the teeth do break off easy. Would not recommend for kids. They would break after only a couple of uses\n",
            "1024 0 1 To remove the first Gelish polish I got done in a Salon, I tried one reviewer's suggestion and got the swirl kind of acetone nail polish remover and it did NOT work at all.  I then tried soaking in the 100% acetone, which was so drying to my fingers and nails and it took forever -- more than 20 minutes and I basically had to scrap the polish off at the end.  I did the second Gelish nails myself.  The Gelish polish was great on and stayed the same as new for over 1.3 week but I needed to change colors so  I used this Harmony remover this time: it took about 12 minutes and left no drying feeling on my fingers!!  This remover smells pleasant -- just a faint nice smell, which is another plus.What I did was cutting the cotton pads to be slightly bigger than each nail.  I soak the pad in this remover and then wrap TIGHTLY onto the nails with tin foil (which was also cut to smaller pieces to be just enough to cover the finger tips).  The polish just came off as one big, swollen piece.  There are only a few tiny spots left that I just used my nature nails to scrap them off.  So easy!  I was very very very  worried about the removal process when I first learned about this Gelish polish  -- DIY or at salons.  I was so afraid of chemicals (e.g., Acetone) that would hurt my nails and finger skins.  I really appreciate all the tips from various reviewers for how to do the Gelish nails well as now I have beautiful long-lasting manicure and pedicure (through a few try-and-errors).  I highly recommend this remover as it took away my worries about nasty gel removal process and adverse effects on nails.\n",
            "1032 1 0 Don't waste your money!!! I brought this to keep from using pure acetone to soak off my gel, so my skin wouldn't get so dried out. Took an hour to soak off, only takes 15 minutes with pure acetone. And I tried Vaseline around my nails with the acetone when soaking my gel off and it worked great, my skin didn't dry out at all this way. Will never buy this again, what a waste of money.\n",
            "1033 1 0 I bought this product to test it against what I already use to soak-off/remove gel polish and I found acetone to be, in my opinion, more effective. There are some conditioning/replenishing agent in this product, which is great and smells better, however, nails have to be dehydrating before and in order to apply gel foundation to adhere properly. So, personally, I don't really get the replenishing agent. And, you can always replenish cuticles with oils afterwards, etc.So this is effective, but not as effective. I did the cotton ball and wrap method to soak-off...fyi.\n",
            "1043 0 1 I read all the great reviews for this product, and I had huge hopes that this was the miracle product to make my nails strong and pretty, and it does work, but not as well as I had hoped it would, I use a lot of the gelish and other at home gel kit products, and do my own gel nails at home, and here lately they seem to be very damaged, broken down to barley nothing, and chip soo easy, and they wont grow out, so I thought I could use this and just leave them clear, so I wouldn't have so much product on my nails, which is what I have been doing, however it seems to only stay on for about a week, then starts to peel off, and I hope that is not damaging my nails more, I don't think it is though, I also use the correct removers. but this is a good product, it works great under gel nail products, or with acrylics, and also alone, I have ben wearing it alone the most, but have used it in every way, and I will continue to use this, and buy more, I do recommend this, since it can be used in many ways if you do gel nails or acrylics, and also just as a base for your nails to look pretty if you don't even wear polish, and to help give them some more strength, or to put under gel or regular polish to add more strength and coverage ect... I do like this product a lot! and I do recommend this product!!!\n",
            "1061 0 1 My nails were horrible all my life.  Splits and peeling.  I began using a nail gel system several months ago, which helped a lot, but by 7 days they were begining to lift and split.  I decided to use the Gelish Structure.  I purchased a #6 square brush, since this is not like the polish gels.  It is a thick gel, in a little pot.  I was surprised that I was able to apply without difficulty.  Thin, thin coats seemed to be the answer. You then apply the polish layers and top coat.My nails seem to be much stronger , and the gel adheres well to the nail.  I will continue to use.\n",
            "1073 1 0 It does help strengthen your nails and be creative by yourself or be pampered and have then done, either way it's a must have\n",
            "1078 0 1 This product does what it promises; however, it's messy. No matter what I do the outside of the jar is sticky because the contents are extra gooey.\n",
            "1079 1 0 I've used the Polish Structure twice in the past 2 months and it leaves my short nails without any protection whatsoever! It also lifts and I haven't had that problem with the OPI or Tammy Taylor gels when I use their structure gel only. All the Harmony Gelish nail polishes have been awsome but I'm a lot disappointed with the Hamony Gel!\n",
            "1088 1 0 I bought the structure gel because my nails are very thin and i wanted to add a LOT of strength. I noticed when i used it that it is the exact consistency of the foundation gel. Well that's because it's EXACTLY THE SAME INGREDIENTS. They're all in the same order so they could be different amounts i guess. I probably wouldn't have bought this product knowing it's probably the same thing and the company is just selling it to make money off of people. Save your money and just use the foundation gel and apply it thicker.\n",
            "1091 0 1 These masks are the paper kind that you leave on your skin for a while to add ingredients to penetrate the skin. theyre not the kind that dry on or deep cleanse. i can usually reuse it once since its really just a serum that soaks into the skin. They do seem similar, and are probably best as a good pick me up before going out. they are one of the top sellers in japan.My Beauty Diary 7 Top Sellers Masks (7 pcs)\n",
            "1096 0 1 I just got these today and have used only two out of the seven: the aloe mask for myself and Hyaluronic Acid Moisturizing on my boyfriend. I had to cut the mask apart by their sections for my bf- it is too small for a guy. Some people complain that these masks are big for their face but they are definitely designed for a female face. Make sure to squeeze the bag since there tends to be some liquid product left inside. I apply any excess products on my neck and face after 20 minutes (in layers, with drying time in between). Very moisturizing and refreshing. Will do an update after I've used all of them.Just like another reviewer here mentioned, the variety box does not come with the same variety that are listed in amazon description. The set includes:  Red Vine, Aloe, Hyaluronic Acid Moisturizing, Arbutin Whitening, Black Pearl, Bird's Nest, and Collagen Firming. My box is pink stripes with a fence design. This is NOT a big problem for me at all since I got the variety pack just to try. If you want specific ones, you might want to contact the seller beforehand. My seller (CP Cosmetics) gave me fast & free shipping. Box came still in shrink wrap and everything is new condition.\n",
            "1098 1 0 Don't get me wrong, this is a beautiful nail polish, but the price is ridiculous !!!! Two dollars just to ship one nail polish is crazy !!! Word of advice, if you want more customers to buy the nail polish, you need to be more considerate. I can't believe people even pay this price for one little bottle ...\n",
            "1104 1 0 It shipped quickly, but it smelled kind of different than the smaller DevaCurl No-Poo and One Condition I had purchased earlier, and had a different consistency. After using it for a while, my hair isn't quite as soft as it was with the earlier products I was using, but I guess that could be the seasonal change? But after reading other reviews commenting on the smell and wondering if it was different, makes me think it's a different product. Knock-off?\n",
            "1106 1 0 I like the Deva Curl products but have quit using them because I have purchased some that have a strong chemical smell.  I believe the &#34;good&#34; smell fades with time and you are left with that chemical smell. I have returned to organic products that seem to work just as well on my hair.\n",
            "1115 1 0 I can see where this would be great for curly hair because curly hair is SO dry in nature to begin with. This stuff isn't the best smelling stuff when you are washing your hair, but it smells great when your hair has dried. My husband has super curly hair and that is why I purchased it...also hoping I could use it on my relatively straight hair and avoid the sulphates in regular shampoos. Not the case. It was great the first wash, my hair was super soft...almost too soft to do anything with actually, and it did smell great. But when I washed it today? The result was hair that looked oily and wet when completely dry. Almost as if I'd not rinsed conditioner out. I had to re-wash with regular shampoo to get it out. So. All in all, this is a no go for me. And I don't recommend it for anyone with straight hair. So far it's been fine on my husbands hair but he's not raving about any great miracle either, he likes it enough so far, but hates the price and probably will be deterred by future use on that count alone.\n",
            "1122 1 0 I expected to help my skin looks brightening.But I don't see any differents after I use it.I have been using it  almost 2 months.Maybe I need to wait more than 2 months. I will update after 3 months\n",
            "1157 1 0 First let me say, there is nothing WRONG with this perfume. I just think that for the price tag, and for the quality that usually goes along with the brand, it's nowhere near as good as it should be. What I get from this is, well, plain and simple poppy flowers. This is something I'd allow my prepubescent daughter to wear. There is no depth, and maybe just a tiny bit of sweetness. I think if Coach threw in a ton of vanilla, and a little bit of spice to create a whole lot more complex, oriental-type scent, this could be a real winner. That being said, if you are looking for a simple, everyday summer perfume that won't offend, perhaps you'll love this. I feel like it's for kids and, well... I'm a woman!\n",
            "1176 1 0 This due works well and takes out brassy tones for blonde hair, however, the smell is absolutely too strong. It actually gives me a headache so I HATE using it!\n",
            "1181 1 0 I was fortunate enough to find this product in a little grocery store that caters to Africans, Caribbeans, and the Spanish-speak population in my neighborhood about a year ago and I have been attempting to use it off and on during that time.  I will get to the point and say that this product did not work for me.  What I mean is that every single time I put this stuff on my scalp, within the next few minutes my scalp is itching like there are bugs crawling in my scalp.  I tried to solider on but the cystic acne that cropped up with persistent use made it impossible.  My bottle looks different than the one posted her but what angers me is that the newer bottle posted here has the ingredients and come to find out, it contains tea tree oil.  My bottle mentions that it contains Jamaican castor oil and other plant based carrier oils.  No mention of tea tree oil.  I can accept that it is not pure black castor oil but not listing the ingredients is just reckless in my opinion.  My skin cannot tolerate tea tree oil for any period of time.  I don't doubt that folks have a great experience with this brand but I wished they posted their ingredients in the beginning.  I guess I will have to plunk down the cash and get the real deal.\n",
            "1184 1 0 First let me say I was really looking forward to receiving this item based on what I know about Jamaican Black castor oil.  I recently cut of all my dreadlocks (nearly 16&#34; long), due to some thinning at the front.  I bought the real unprocessed black castor oil made right here in Jamaica, but decided to purchase this oil treatment as it also has many other helpful essential oils (rather than purchase all of them and add myself - I added Lavender, Argan, Tea Tree and Cedarwood oils to my black castor oil).I received my Olde Jamaica Black Castor Oil Treatment with Tea Tree Oil yesterday and was immediately disappointed to see that this oil is quite clear, which tells me this is processed!!  Anyway, in spite of this disappointment, I've decided to simply add it to my unprocessed black castor oil.I will try to give an update in a couple months if I notice any marked difference in my hair re-growth efforts as a result of using only this JBCO/JBCO treatment.\n",
            "1186 0 1 When my thick hair began to fall out to the point where just touching it and my hands would be covered in hair strands, I knew the situation was dire. After this woman braided both my hair and my extensions too tight coupled with over processed blonde color strands (sad face) my edges, the crown and the nape of neck was down to the length of my eye lashes, I'm not kidding. Sad Face. Sooo I was told that black castor oil and rosemary worked wonders for hair growth and I've had this product for 2 weeks and already I see results. I massage my scalp for 15 minutes and notice that those areas of my hair is thicker and has grown just a little, I even put it on my eyebrows and they got thicker too! The tea tree is so soothing when you massage your scalp, very relaxing :)Update-7-26-2012Smh as a result I had to go the natural route but this product has helped those problem areas tremendously, my crown area will never be the same hence that's why I took the natural route. Stick to the regimen of rubbing this into your scalp, and depending on the severity your hair will grow but give it time to work.\n",
            "1220 1 0 i ordered the flat top kabuki brush before and i love it so i decided i want this one too , so i ordered it but i got the same one i ordered before F80 :( , and no one ever replied\n",
            "1254 1 0 Quality of this brush was great and application even. Price was a less than MAC but high considering I found the same angled kabuki brush by Bellus on amazon for much less. I would recommend the Bellus F84 over this to any one who wants to save money and not give up quality.\n",
            "1267 1 0 This conditioner works pretty well, however, the experience of trying to get it out of the bottle is incredibly frustrating.  I'm not sure if I got a bad bottle or not, but after twisting the top open, it is extremely difficult to squeeze out the product.  I had to place the bottle on the floor and step on it to just get a quarter size amount out.  I tried to completely unscrew the top but that is impossible.  I also tried to de clog it, but it wasn't clogged.\n",
            "1273 1 0 I have wavy hair with frizz, and was hoping this would help tame the frizz. It does an ok job, but I wouldn't purchase it again. The smell is noce and it doesn't leave a greasy feel, but other than that it doesn't have much going for it.\n",
            "1303 1 0 Let me preface this review by saying how much I love Alterna products, especially the Caviar line. I was excited to try the Bamboo line and bought this product, as I am a fan of using different kind of oils in my regimen. I am very label saavy, so seeing the first ingredients being silicones had be a bit worried. Silicones can cause buildup on the hair, creating a barrier that keeps moisture out (which is the point of a frizz control product), but an unintended consequence is that wanted moisture from products can also be kept out, causing the strand to become brittle and dry. I have very porous ends and need all the moisture I can get! Anyhoo, I thought, \"Hey ... it's Alterna ... it will be fine!\"And it was! When I applied it to my hair, it made my hair feel so smooth and polished! I went to moisturize a few days later and my hair had started to break and I instantly knew it was from the silicones.My verdict is this: if your hair can tolerate silicone products, then by all means, get this product! I liked how my hair felt for a day or two! If your hair cannot tolerate silicones and it causes breakage, I would definitely avoid this product.\n",
            "1312 1 0 I bought this product because I use a lot of hot tools on my hair and I noticed my hair getting dry...I saw reviews not only on amazon, but other beauty sites as well. It's a little pricey, but I thought maybe it would be worth it. For me it wasn't really because I find it to be a one dimensional product...as in I can only use this as a heat protectant when I'm using a hair straightener or blow dryer. When I try to use my curling iron with this product....it's a disaster.I do still use the product when I want straight hair and it works really well. Leaves it's smelling great, smooth and shiny!\n",
            "1371 0 1 I wish the base were weighted a little, because if I put a cap on the wig head, it wants to fall over.\n",
            "1394 1 0 First off, the machine is great.  I have had this product for about a month now and the machine works well.  I set it to medium flow and use about 8 drops of the lighest color and I get a very good, even coverage that really is flawless except for two issues.1.  I can not spray it under the eyes because I actually get it IN my eyes, so I have to use a seperate makeup around the eyes which I personally do not mind so much.  Maybe that technique comes with time, not sure.2.  The makeup itself is awful, well for me anyway.  I would compare this makeup to the all day wear makeups that dry on your skin and make it feel like your wearing a mask.  Revlon Colorstay is a good example, its heavy makeup and feels uncomfortable to me.I wonder if anybody has found a different (lighter weight) makeup to use with the machine?Pros:1.  Machine and concept work great.2.  Moisturizer that comes with the machine makes the makeup look even better, if thats possible.3.  Time saver, if you keep this machine set up and ready to go then it only takes a minute to do your entire face and clean up is short and easy.4.  Really has great coverage, no smears, no smudges and you really do get that flawless, even coverage look.Cons:1.  The makeup that comes with the machine is heavy and wears like a mask, some women like this... I do not.  I prefer a Lancome Photogenic style of makeup, one that stays on but is light weight and flexible.2.  Keeping this makeup out of your eyes can be a challenge, even on the low setting which in my opinion wastes makeup.3.  Expensive, though cheaper than most of the other systems it is still pricey.\n",
            "1406 1 0 I like this but here again Avon claims it does more than it really does but I like the feel on my skin so keep using.\n",
            "1409 1 0 I have this in three colors. Originally I purchased \"Berry Persistent\" and I really liked it! A beautiful shade, and while it was drying. Very Drying. I still thought it was worth it. Then I bought \"Keep up the Flame\" and I hated it!! Not just the color, which was too dark, but it wore completely differently. It cracks and flakes terribly. So I bought \"All Day Cherry\" in hopes to find a red that wore like the berry color I had purchased. It did the same thing as the other red.All in all, even the one that didn't flake, they were just too drying and wrecked my lips. It is not for me. I'd love to find the \"Berry Persistent\" color in a different product!\n",
            "1410 0 1 This lipcolor stays on as advertised.  However, it did stain my teeth which I can still see so I'll not be purchasing again.\n",
            "1411 1 0 I was sent 4 samples of this product to test as a Bzz Agent, where from time to time I have been sent products to test and give my opinion on, as well as sharing coupons or samples with others.  I had been looking for a long lasting lip color, so I was very interested in trying this product.  Sadly, it did not meet my expectations.I applied the lip color as directed, and left it on at least 3 minutes as directed, for it to dry.  Just using the lip color by itself left my lips feeling very dry, uncomfortable.  Then you add the lip balm over the lip color, which then does make your lips feel moisturized, but sadly the lip balm does not stay on your lips for long.What you are left with is the lip color, and very dry feeling lips.  If you are going to have to keep applying the lip balm, you might as well just have to keep applying lipstick, or whatever it is you put on your lips.Also, when the lip color starts to come off, it comes off in spots, so it leaves your lips looking wierd anyway.You will also need a makeup remover product to remove all of the remaining lip color.  It does NOT wash off easily, with say soap and water.Sadly, this product was not for me, so I will keep on with my search for a long wearing lip stick or lip color.I think Maybelline was on the right track when they made this product, but to me, it still has a serious flaw.\n",
            "1432 1 0 This product does work well, BUT it does have sparkles in it , which for foundation from maybelline I would not expect. When you go out in the sun you will deffinitly see it but if you're inside you wont. Thats my only problem with my foundation, it was only 5 bucks in walmart so i decided to try it out but I will not be buying it again.\n",
            "1441 1 0 I was happy to see that they still had this color. My local stores do not carry this color anymore. I also couldn't resist buying it at 2.50 each. I got 3 packs for the price of 1 pack at my local store. I gave this 3 stars because one of the compacts was cracked and they all three had 50% stickers on the front of them. The stickers were hard to get off and left a sticky residue behind. The compacts were packaged really well so I believe the crack on the one compact occurred before shipping. One other thing, these specific compacts makes my face extremely oily. I've never had this problem with FitMe makeup before. Not sure if these specific compacts are old or what the deal is. I'll probably give them away or trash them.\n",
            "1445 1 0 Let me tell you this foundation is really... difficult. At first I tried it out and HATED it, i thought it has no coverage and my face looked greasie as hell. And then saw a video of a makeup artist loving it.....--You have to use a sponge, not a brush, not your fingers cause it will look awfull.Good for dry-normal skin.VERY light coverage, almost like you are not wearing foundation at all.And the color Pure Beige makes my face look red-pink looking... ew\n",
            "1459 1 0 Zits, zits, zits, and more zits is what this product gave me. I've never had bad acne. If you really WANT acne, give this a try, it'll fix you up in only a few days, for only a waste of money! WOO!\n",
            "1466 1 0 This stuff will break you out like you've never seen before.... unless you had cystic acne in your teen years. For real.\n",
            "1468 0 1 I got a sample of this in the mail and took a chance and tried it. I was amazed at the coverage and figured it was just a fluke. But, I just had to order it and see if the full size was just as good. When I saw how cheap this makeup was, I almost didnt bother ordering it because how good could it really be for this price of around $5....  all I can say is WOW! I have medium skin tone with combination skin and my skin is picky so I guess it might be a little sensitive. I only have to put a little of this and it covers my blemishes and feels really light. For $5 everyone should try it!! I would suggest going to the store first though, so you can see the color you should get. You really cant tell online how a color is next to your skin.\n",
            "1469 0 1 Find this kind of colors is really hard, It is difficult to find a really porcelan or ivory color that fits well and don't make me orange.\n",
            "1472 1 0 I wanted to switch from my cheaper foundation product to this because it was easier to find in the store. At first I was amazed by the color match. I used to only wear it if I was going out somewhere nice or just wanted to stand out for the evening but decided to start wearing it on a daily basis. I gave this a try and was impressed with it until I noticed how oily it made me look. I'd catch myself in a mirror and find my face shining! Not only that, it only lasts for about four hours before you have to smear on another coat. I tried putting the same powder color on top of it, which only makes it look more makeup-ey, but if it helps seal in the liquid, I was fine with it.  I make a conscious effort to not touch my face at all throughout the day, but in the middle of the spring bloom (pollen), it can't be helped sometimes. I kept finding smudges on the walls, light switches, keyboard, doors, on the car interior, my purse, my papers, on my friends face and collar after I'd hugged them. It just comes off everywhere!! I never had an issue with my old makeup being this sensitive to touch. It's just so oily it gets all over the place! It finally annoyed me enough to buy my first compact of MAC (which ends my shopping for makeup for the rest of the year after that purchase $) and I saw a HUGE difference the first day I was matched. This product would be okay for someone that only wears make up once in a while but I wouldn't recommend it for daily users.\n",
            "1474 1 0 It is pretty good, but not for oily skin or a very hot weather! It is very liquid also, so you have to be very carefull when using it. Also, doesn't last that long and melts really easy.\n",
            "1480 0 1 The foundation is pretty good, not my favorite though. It's a little oily until it dries on your face, and it's very watery and also takes awhile to dry. I bought the color 120 soft ivory, the color I always purchase,  and the fit me foundation I got in the store was the same color I got on Amazon, but the one I ordered was much darker. My advice to you, is get a color one or two shades lighter then your normal color. Or just buy it in the store.\n",
            "1481 1 0 I have combination/dry skin and thought this would be a perfect foundation for the days when I need a moisturizing foundation. It concealed beautifully and made my skin look flawless.. But then next morning I woke up with my face covered in acne! I never break out! I'm assuming this contains talc or something it smells faintly like baby powder.I really wanted to love this :/\n",
            "1485 1 0 As soon as I heard about this new product I was so excited to try it. I purchased this in three different colors 310, 315 and 320 because I have such a hard time matching my skin tone, It turns out 315 was my perfect match.... I loved the fact that this make up comes in many different shades. I also love the fact it has a lot of yellow tones in my opinion... Most make up from drugstores have more red tones and don't look good on my skin but THIS particular product has yellowish tones... and I was happy about that... The main thing that I didn't like was the coverage... It provides light to medium coverage and I have a lot of acne spots and bumps and this product did not cover anything. If I ever get my skin clear with less spots I would definitely wear this make up. It's so light and natural perfect for like younger women that have really good skin but.. if you're like me and need tons of coverage would not recommend this product...\n",
            "1492 1 0 It's a good foundation and doesn't have a pinkish tone to it. The only problem I have about this foundation is that when I put it on, I can always see the foundation streak or it looks dryish. I think it might be bc I'm using a brush to apply it and I might have to use a sponge, but overall it's alright bc it gives a really nice glowy appearance and covers most little scars and imperfections\n",
            "1494 1 0 The best thing about the Fit Me is the range of shades. The shade runs a little yellow so be careful when shade matching and the results weren't too great. The foundation is medium coverage and build-able. It works best with the matching pressing powder.\n",
            "1500 1 0 I bought this product awhile ago and stopped using it a week after I bought it.Why you may ask?Well, my shade (110 Porcelain) was very oddly shaded. In the bottle, it looked right. So I went home and applied it immediately after cleansing my face and putting on a primer. Than I noticed how DEAD I looked. More so than usual. I am Porcelain in a lot of shades but this one looked like I was from outer space. I can honestly say my face looked green. I than put it on my hand and I looked at it and I couldn't believe how green tinted it was, perhaps I got a malfunction bottle but It was so odd.Pros --Long Lasting (with use of primer)Cons --VERY oily, I was like a oily alien when I wore this and I have DRY skin-I looked like a green alien.Sigh. It looks like I will be sticking with Revlon Colorstay for awhile. I may try this foundation again when I get a tan, but until than, light skinned people beware.\n",
            "1507 1 0 This has been my go-to foundation (because a college student's budget isn't all that accommodating to higher-quality makeup so corners have to be cut) when it comes to color because many makeup companies have a terrible selection of color for women of color.They either have 50 shades of beige and or two-three colors meant for actual brown skin. Those very limited colors for melanin-rich women tend to have the most red of undertones. My undertone is a warm mix of red and yellow but more accommodating to yellow which luckily, shade 355/Coconut has! It looks so flattering on my skin and gives me a lovely glow.HOWEVER! Get ready for the bad.. this foundation does have attributes that need improvement.. First off, understand that this foundation is medium coverage. You're not going to look caked up easily if that's the kind of coverage you're looking for. The coverage can look pretty natural which is awesome buuuut there is one major drawback to this foundation:This foundation is OILY! Maybe oily isn't the right word, but it's definitely moisturizing which could be a major plus to the dry skin beauties out there and a drawback to the oily skin beauties. My skin is pretty balanced but if I don't use setting powder with this foundation, I will look like I dipped my face in Crisco with quickness.Even when I use powder, by the end of the day, my face has a little more shine to it so it is hard for me to do more natural looks with this foundation, not because of the color or consistency, but because it will have your skin shining like a well-polished shoe if no powder is applied and even the powder isn't foolproof.This foundation isn't horrible, but it isn't amazing. It is simply decent and has earned its three star rating from me.I buy it for its color.\n",
            "1508 1 0 I'm a pale girl. And this stuff looks pretty chalky on me. It's also giving me some skin issues. I have to make sure to get it completely off my skin, which is a little difficult with just cetaphil as a wash. I use it sparingly, when I have to have a foundation--I don't generally like wearing foundation anyway--but I'd prefer to avoid it. I wish I could find something that wasn't so &#34;ick&#34; for when I need to have a foundation on...que sera.\n",
            "1513 0 1 Very cheap mascara and for this price is ok. I love makeup and I am always trying different things and brands.Being waterproof it is a great feature.\n",
            "1541 1 0 When I first tried out this mascara, it was similar to the Revlon PhotoReady Mascara... but it doesn't give the length that mascara did. The brush individually separates the lashes and I could coat my lashes with two or three coats. The brush was the perfect size for my bottom lashes as well, but the formula was funky and left my lashes sticky. It also didn't last for hours like the Maybelline Falsies. I would also see little black specks under my eyes. So this wasn't the mascara for me.\n",
            "1543 1 0 Mascara removal is one of the obligatory nighttime rituals.  Takes 3 times as long to get Maybelline One By One mascara off.  I won't be buying it again.\n",
            "1553 0 1 It's a cool mascara and I love Maybelline with a passion but I feel like the brush was over-sized. But it did add A LOT of length but not very much thickness.\n",
            "1561 1 0 love the color, and it does stay on a long time, but it stained my teeth.  i'll look for something else.\n",
            "1562 1 0 Love the color (Everlasting Wine), like the way it applies but don't like the way it looks after a few hours.  Really looks dry and cakey.\n",
            "1570 1 0 Does not feel greasy, but leaves your face soft and protected, I don't wear any makeup with this product, try it\n",
            "1573 1 0 It has some lumps in it. But SPF is needed daily so I think lumps and all Obagi is hands down the best daily sunscreen to use.  They have now made a new one with SPF 55. Love Obagi products!\n",
            "1595 1 0 This cleanser is fine, but using rubbing alcohol on a no-lint cotton pad is the same effect. I work in a nail salon, and that's how we do it.\n",
            "1598 1 0 This product is great and does everything it says it should BUT the ingredient is Isopropyl...AKA..Rubbing Alcohol.I didn't realize this before I bought it, but I decided to try the rubbing alcohol to see if maybe there was something different about this product..and it did the exact same thing.The product is designed to 1) Remove the tacky layer 2) Give a shiny finish 3) Evaporate quicklyThey both do the same thing effectively. Its a good product and i would give it 5 stars, but I can't since its just Rubbing Alcohol and you can buy that at the $1 store!\n",
            "1602 1 0 I received this and was happy I got something in the mail, but after getting it, I realized I only needed a bottle of cheap alcohol 70-90%.  Packaging is nice and I'll just use the bottle and refill with over the counter alcohol.\n",
            "1605 1 0 This is a good price for the real stuff. I have since learned it is the same thing as rubbing alcohol, so next time I will just go to the $1 store and get alcohol for cheaper.\n",
            "1629 0 1 I bought this product thinking it would ease in the removal of Gelish better than acetone since it is specially formulated to be used with Gelish. On the MSDS I know it says that the remover is basically acetone and fragance. The bottle labels it as being made of: acetone, water, another solvent, moisturizers and fragrance so perhaps this is a new formulation. I do not think it works better than acetone but it definitely seems easier on the skin making it less dry after I complete my Gelish removal. I find I have to soak for about 25 min to remove the Gelish product easily with either acetone or this remover. By the last five minutes my fingers start to feel a little bit burning with either type of remover, but like I said the end result with this remover is less dried up nails and cuticles. I would purchase again as I do appreciate that it is less drying.\n",
            "1633 1 0 Clean color.  stays on for at least two days..after that chips..which  is not fun looking - that is why I take 2 stars off - the color should stay on longer.\n",
            "1639 1 0 I bought this product in Sheer Cotton. It does dry faster than regular nail polish but I've tried other brands that dry quicker and don't chip away as easily as this one does. It's not bad but could be better. I'm sticking to a different brand that won't chip away as easily.\n",
            "1643 0 1 This is a good base color for creating effects with top coats, etc.  I think it's okay as a stand alone color.  It could dry a bit more glossy.  Since many Revlon colors have excellent shine.\n",
            "1664 1 0 I love this shampoo because i know i am doing something good for my hair when I wash with it. However, it makes my hair oily&#8230;.like really oily. I already have oily hair (i have to wash it everyday) but this made it worse. I'd suggest this product for someone who has dry/damaged hair to normal hair.\n",
            "1675 1 0 I like this but don't use it nearly as much add I need to. Purchased to brighten the back of my neck, using it on my face and letting it sit too long it seems to seep into pores and leave as film I have to remove with toner. And being African American I look more ashy than bright/glowing.\n",
            "1677 1 0 This product smells great and made my skin feel very soft, but that's it. After a few hours, the softness went away, and my skin looked exactly the same. I've had much better results from other facial creams.\n",
            "1681 1 0 Whats all the hoopla? i bought this because it got great reviews, waited 14 day sto get it from Korea, great packaging, smells goodd but thats about it! I tried it 3 times, it didnt do anything, didnt even clean pores or open them up. Just a mask and its creamy. I rather get Clay mask from target that at least cleans my pores. It didnt do ANYTHINg for me. I ended up throwing it away. Waste of my money.\n",
            "1688 1 0 Basically, it seems like it is a white coating but it doesn't fade anything at all. Plus, if you stop using, your color will return instantly.Also, it made me break out pretty badly. If you have sensitive skin, beware.\n",
            "1710 1 0 I use this about once or twice a week. I think my skin whitened a little bit after i use it every time, but not very obvious. But it did make my skin feel very soft the next day\n",
            "1712 0 1 I've seen this product everywhere and decided to give it a try.When I first got my mask I found that the lid had become undone and that there was product all over it. After cleaning it up and playing around with the lid I found that the lid wasn't so stable. The packaging was pretty cute though!Upon opening the product you'll find a small spoon used to scoop up the mask. I thought this was pretty neat, since you won't be dipping your fingers into the mask constantly.I use a small amount on my face and massage it into my skin for a few minutes. After that I leave it for about five. The texture is smooth like lotion and contains a few beads. It smells really light and doesn't feel too heavy.After washing it I noticed that my skin was much brighter and lighter. It was also really clean and refreshed. However the downside to this is that the brightness is temporary. After an hour it was gone. But my skin did feel really clean the rest of the day!\n",
            "1713 1 0 I just got the product today, and I checked the expiration date and it says November of 2013 now I don't know if that's the manufacturing date or expiration, so someone help me out with that.Other than that it came with samples, which was nice.Once I figure out it's not expired I will give it a try, if it is I will write to the seller.\n",
            "1719 1 0 Not any greater than the american products to use. I have not gotten any whiter from this. The wonderful feeing from a clean face is nice, but I can get that from most of my products that are similar.\n",
            "1725 1 0 This lipstick is very true to color and is long-lasting. However, it's not really practical to wear on a daily basis and and I found it to be very drying.\n",
            "1737 1 0 I use many Curl Junkie products so had high expectations for this one.  The Smoothing Lotion was too heavy for my fine curly hair and left it feeling weighed down and dull.  The daily smoothing lotion works a lot better for me. This might be great if you have thick, coarse hair, but was too much for me.\n",
            "1744 1 0 Compared to other lavender oils - this one smells very strong and more like medicine.  I wanted something I could put on during the day.  This was not it.\n",
            "1746 0 1 Ever since I bought a half liter of lavender oil made by monks at an abbey in Provence I was spoiled and trying to find an oil that is similar in fragrance (no, they are not all the same).  I've even tried to order it from France with no luck.  I've paid $18 for .33oz of L'Occitane, but it is hardly feasible to dump the whole tiny bottle in a bathtub--which is my only use for it.I was in heaven after I took a chance and ordered this and was finally able to soak in a lavender bath.  It is concentrated enough to use a teaspoon or two for a bathtub.  It is affordable, and is the closest in fragrance to the French oil that I have found.  Next time I'll order two.\n",
            "1748 1 0 Love Lavender oil but this one is so very mild in smell. Don't know if it is that potent. Will buy a more expensive one next time for sure. But this one will be good for some general household use.\n",
            "1750 1 0 I'm not sure if they changed the formula or if my hair is changing over the years. This shampoo and conditioner used to work perfectly for me, even when using it 3 times a week. Now, after one use, it turns the lightest blonde parts of my hair purple. Once I run out of these I'll be looking for something that won't stain my hair after one washing.The good news is the purple does seem to wash out after regular shampooing.\n",
            "1757 1 0 Product turned my hair and everything in my shower purple.  I rinsed my hair with no results and had to wash it many times to get the product out.  The shower washed easily enough.\n",
            "1770 0 1 Now you have to use this product properly for it to work. The first time I used it, alot of hair came out in my comb and a very gross patch of grease was imbedded in my hair. The very next morning I left a moisture treatment on 3 minutes before getting into the shower. I washed that out with tons of shampoo. You have to use alot more of both products than regular human stuff for them to work properly. I then leave the conditioner heavily on my ends and lightly on my roots for 3 minutes (combing through with my finger tips) before washing out very very thoroughly. I had little to no fallout from combing.Even after the two days I've been using it, already my hair feels so very soft and amazing. It's like the first time I used Aussie when my hair was virgin without the static.My hair is dyed red and that has been stripped to a copper color so I don't recommend this for red dye. My hair is growing-that I can see already. A huge downfall for me though is this enormous disorienting headache that wont go away no matter how much ibuprofen I use. If it becomes reoccurring, I may have to make this only a weekly treatment or eliminate it from my regimen all together.Edit:After the third use, I no longer have any sort of migraine-like side effect. I may have been a result of the product removing such a large amount of oil from my scalp (I'm naturally with a super oily scalp). It's very textured and soft and long. It's very easily a staple in my daily shampoo and conditioning. When using though, make sure not to use anything in between the shampoo and conditioner. You can use things before and after (as I do) but the system only works properly when used in tandem, back to back.\n",
            "1773 1 0 1. When I saw the price on Walmart's webpage I was so surprised, the price of the 32 oz. shampoo and conditioner is half of the price here!! I just felt so mad. Then I cheked on some other drug stores, I felt even more depressed, they are even cheaper!!So, if you want to purchase this product, YOU WILL DEFINITELY WANT TO SEE THE PRICES FROM OTHER STORES AND SUPERMARKETS!!!!! I know I clicked on check out but you know when you found the same products you pruchased has a lower price and you don't need to wait, you just feel being cheated. Especially my conditioner leaked out 1 square centimeter...2. About this product, since I want to get the best result ou of it, so I followed the directions carefully. The direction on the shampoo says &#34;work through hair with fingertips&#34; so I only let the foam work on my hair and away from my scalp. While the direction on the conditioner rinse out says massage it into scalp......and I tried my best to rinse it out but my hair became oily again soon. Oily Scalp should not use this.3. Something I like about this product, the shampoo iseasy to lather and very foamy and the smell is not very strong which is pretty good. It does detangles, my hair tangles easily.\n",
            "1775 1 0 The shampoo is really rich and smells heavenly.  Over time it dried out my hair because of the detergent ingredients.  Conditioner also rich and creamy but tends to leave the hair waxy.  Found it's better when both products are diluted.  Of course, the dog smells terrific...\n",
            "1781 0 1 Started using this product after I dyed, bleached, and let a teenager hack off most of my hair...needless to say I'm surprised i had any hair left. What was left was badly damaged, brittle, dry, and somewhere in between a mullet. So I picked up the big bottle of shampoo from walmart then got the conditioner at sally's for around $5.99 each. That was about a month or two ago and I usually just wear a headband to tuck my hair away because I couldn't stand looking at it. The other day I let my hair down and straightened it for the first time and WOW...My hair had grown tremendously and is SO THICK. I would say before my hair's longest strand came to my chin and the shortest layer was right at the tip of my head. Today my hair is almost all one length and right down to my collar bone. i know it's because of this shampoo and conditioner. I didn't do anything else to it or put any other products in it. I just washed it, let it air dry and put it under a headband. I am very happy with the results that I bought more and even bought the mane and tail leave in conditioning spray. I'm in the process of growing out my natural hair which is raven black so I'm excited to see the results on my natural hair. If it made my bleached brittle hair soft, thick, and manageable, I can only imagine how my natural unprocessed hair will look. This product definitely works! Never using anything else!\n",
            "1787 1 0 I recently purchased this product. I have been using the shampoo and conditioner for about 5 weeks now. My hair has grown 3/4 of an inch in four weeks, when it usually grows about 1/4 inch in that amount of time. I'm happy with how fast it's making my hair grow, but it seems to leave my hair very dry and frizzy. It feels like it strips your hair of all the natural oils. In order to keep down on the frizz I only use this product about twice a week.\n",
            "1798 0 1 I purchased the shampoo and conditioner because how much I love the leave in conditioner. The shampoo does not lather up the way I would like. It really doesn't lather up at all so it's hard to feel like your really getting all of your hair washed. I have long hair so I feel like I have to use a lot of the product to feel like I got it all in my hair. The conditioner works very well and I love the way it smells. So what I do now is I use my regular shampoo with the conditioner and leave in product. This works just fine. I use the Hydrating Bio for shampoo.\n",
            "1799 0 1 ~THIS PRODUCT SHOULD BE RATED MORE THAN A TEN laugh {IT'S A TEN PRODUCTS}.~IF YOU WANT CELEBRITY LOOKING PROFESSIONAL HAIR, THIS IS FOR YOU.~PRODUCTS FLEW HERE. 10 *\n",
            "1807 0 1 I was skeptical about buying this, or any product which seemed advertised as some \"magic cure\". However after a year of denial, genetics had finally caught up with me, and my hairline had receded far enough that I was unable to maintain my hairstyle of the past two decades. My hairline was moving back measurably each month, so I figured it would be pretty easy to determine if this had any effect...Amazingly after about 30days of use, my hairline had not only stopped receding, i actually started to grow new thin hairs in it's spot. After I saw the initial benefit of this I started using Pura d'or Hair Loss Prevention: Premium Organic Shampoo (16 fl. oz.) with Pura d'or: Premium Organic Conditioner (16 fl. oz.). After about 90 days of using both, my hairline was restored to where it was 12 months ago.I couldn't be more satisfied with a product. I never really cared about how I look, either to myself or others. But after the realization that I'd have to change my hairstyle for the first time in two decades because of this, I got upset. I didn't want to go through the trouble of prescription pills or foam that I'd have to leave in my hair for so long everynight, and special sleeping arrangements. This was so much easier and just as effective (total restoration).I recommended this product to my brother who suffers the same problems. He had decent results but not quite as thick of restoration. It's possible he didn't use this correctly (3x a day), I don't know. Also his issues started progressing about 2 years before mine. However, I think it's safe to say this product will work for some people where it won't work for others. If you're facing hair loss problems it's probably best to attempt treatment as soon as possible, and for 20$ this is definitely worth a try. For me it took 30 days to start seeing results, but you might want to try for 90 days before you try something else. It could change your life!If I had to pick any negative aspect of this - it would be some of it's ingredients. It includes 2,001% Vitamin B-1, 6,000% Vitamin B-2, and 5,100% B-6. I take several other supplements that also contain more then my daily requirements of B Vitamins, and I could really use without the addition of this. I don't get why every multi-supplement out there doses up in B vitamins so much. Most of excess vitamins will get passed directly to your urine, but I still have hesitations about these large of quantities for long periods of time. If this is a problem for you they have a more simplistic vitamin version :Hairomega DHT Dht-blocking Hair Loss Supplement, 90-count Bottle, 45 Day Supplythat has been working just as well for me. I still am taking this daily, but I plan on in the next month or two stopping using Hairomega at all, and seeing how well I can maintain hairline with just the shampoo. Will update this review after a while to reflect those results.Good luck, and I hope you have good results!\n",
            "1810 1 0 I've taken these for about three months.  The pills smell pretty bad and but go down pretty easily and the smell is gone.  I take three a day and I have no adverse reaction to them in the form of acne or upset stomach.For my AGA hair loss I have tried Phytophanere, Phytospecific, Nioxin, Biosil and viviscal and so far, Hairomega has given me the most positive and consistent results.  None of my bald spots grew back, but the other hairs on my head are thick and thriving.  Shedding is reduced and my hair is growing steadily.  I'll stick with these for the time being.  Nothing else works.January 2013 update. I stopped taking these after 8 months. Over this period I've watched my hair get thinner and thinner. Over the 8 months I've had some growth but not accelerated. I've no regrowth of bald spots and more shedding than I'm comfortable with. Basically this product only helped the non- problem areas of my hair to grow. It had no effect on the rest. It actually stopped working at all at about 6 months.  On top of this, these pills smell and taste awful and are very hard to swallow.  I quit cold turkey today with a full bottle left. Too bad as I hoped it would work for me.\n",
            "1812 1 0 Does it work? Who knows. I've used the whole bottle and have been a patient person. No changes- so, think I'll save my money and will not order again.\n",
            "1815 1 0 I like that this product seems to give me energy each day. I haven't noticed any hair changes and I am on my 6th bottle. It does have great ingredients that should assist in hair growth and overall health. I wish I could give it 2.5 stars instead of 3 because I feel like I would be much more inclined to continue using it if the price was decently lower. I feel like it is way overpriced for a pill you have to take 3x a day. I don't plan on reordering unless the price comes way down.\n",
            "1817 0 1 I had acrylic nails on for over a year. I had them removed, and my nails were brittle and painful to the touch. After removing the nails, I was beginning to think I would have to have the acrylics reapplied out of fear that my nails would continuously break past the quick. I bought this product out of pure desperation, and I am so glad I did. This product saved my nails. They not only look way better, but they feel so much stronger than before. Thank you, Sally Hansen!\n",
            "1819 1 0 I have been trying to grow out my nails, so I decided to try this product to help them grow faster. When I began using this product, most of my nails were about 1/3 of an inch long. With the exception of 2, none of my nails had broken or torn in weeks; the only problem I had been having was occasional splitting of my nails. Now, a week after beginning to use this product, every single one of my nails have broken to the quick and are not growing back. This product has not helped my nails grow at all.\n",
            "1830 0 1 Before trying this I read reviews on it and seen nothing but bad comments.... so I tried other products but still hung onto it. Well, nothing worked!! My nails needed help BAD! Then I remembered I had this and decided to use it thinking it wasn't going to help like everything else! It has worked WONDERS!! After a few days my nails were a lot stronger!! It dries quick and as long as you put it on kinda thin it doesn't chip! Its strong stuff! I LOVE it and am going to use it for now on!! I've learned to NOT read reviews on anything anymore because it's pointless! Just try stuff yourself and see what YOU think of it! Everybody's different and has different opinions! All I know is this product worked great for me!! TRY IT!!\n",
            "1855 1 0 this is pretty standard for a cuticle remover.  It does remove your cuticle, but it is also very drying.  Be sure to moisturize with a good hand cream after using or you'll end up with dry cuticles and hang nails\n",
            "1857 1 0 I've used this about once a month for the last 6 months.  It doesn't remove the cuticles, but it does make them much easier to push back with an orange stick.  Also, it makes the skin around my nail softer, too.  I do have to work quickly though in a mad rush so that it's not on my nails for more than a minute.  Even when I work quickly, my nail layers start peeling at the tip of the nail.  Peeling nails is a problem for me but this cuticle \"remover\" makes it 5x worse, so I don't think I'll be repurchasing.  As it is, I'm trying to avoid using this cuticle remover, and instead I'm just pushing my cuticles back as best I can after taking a shower (which does a decent job of softening them).  If you don't suffer from peeling nails and you're looking for something to soften your cuticles so you can push them back easily, you might be pretty happy with this stuff.\n",
            "1866 1 0 I'm a sucker for anything and everything that smells good and this shampoo definitely smells better than the regular Mane 'n Tail shampoo. With it being the olive oil complex, I thought it would leave my hair soft, silky and would be a nice shampoo to use to grow out my hair from a bad haircut. I'm not sure yet if this will just be going in the trash. My hair was left try, crunchy and frizzy like I just washed it with laundry soap. I used twice as much conditioner as I did shampoo and it still didn't help. I will only be using this as a monthly clarifying shampoo to remove buildup.\n",
            "1870 0 1 i ordered this because of all the great reviews i heard about the shampoo. i also heard that it makes your hair grow but i'm a little skeptical when it comes to hair growing shampoos and conditioners. i like it but i still don't see how it suppose to speed up the growth of your hair. its very moisturizing unlike most shampoos out there. it smells so good. you get a good amount of shampoo for a good price. its really alright.\n",
            "1874 1 0 I have not used top coat in awhile, but I know one thing for sure... it's not supposed to take the nail polish off. Maybe it was because the nail polish was not dry but I waited 10 minutes to put the top coat on then I brushed my nail with it ( I had on nail tape also) and the nail polish went over the nail tape! My nails were dirty and ugly and eventually I had to remove it all. If you don't do designs on your nails this is perfect for you.\n",
            "1883 1 0 At first I was loving this. If you're looking for a product to protect your nails by itself I would highly recommend this one.This wasn't the case for me. I use Sally Hansen nail hardeners as a base coat (which is listed as one of the uses on the back of all of them.) This &#34;gel&#34; formula made a really thick coat and trying to apply polish over that was just really messy and it took forever to dry.I prefer the regular, no addition, Sally Hansen Hard As Nails. It works as a base coat, a topcoat, or 2 coats by itself. Your nails will be rock solid and really hard to break\n",
            "1885 0 1 I have a very hard time growing my nails- especially in winter when the weather gets colder. They split and break very easily. I wash my hands a lot taking care of a disabled bunny, which makes it worse. I've  never found a nail hardener or top coat that really made much of a difference until I tried this product. I now have strong, long nails and love it!\n",
            "1890 1 0 I've been a devoted Barielle nail treatment fan, but when I couldn't find any at my local stores I decided to try a few of Sally Hansen's products instead: Triple Strength and Complete Care. BIG BIG mistake!!! Not long after I started using Sally Hansen's products, my nails started peeling in layers like shale and breaking all over the place!! This is something that has NEVER EVER happened to my nails before! My perfect ten became a ragged mess!After talking to a number of beauty experts at various drug stores in my area, they ALL told me that Sally Hansen products are 'inferior' and basically at the bottom of their lists. Hmmm. doesn't surprise me. I should have talked to them first!!Needless to say I've since located Barielle and am amazed at how quickly my nails have recovered!\n",
            "1907 1 0 First of all, know one thing.... These are plastic (\"fiber\") lashes. Knowing that, you won't be disappointed when you get them in the mail. They are not human hair... Nothing like adrell lashes that you buy at the local store. But with that being said, these are not bad. For the price, what do you expect? With any set of false lashes, you have to trim them to fit your eye. The band is stiff (because it is \"fiber\") but just wrap it around your finger and move it around to make it more flexible... easy fix. I personally like to cut one strip in half and wear one half on the end of one eye and the other on the other eye. The BEST glue for ANY false lash is Duo adhesive... Revlon glue isn't so bad... everything else is crappy (my opinion). For the price it is not bad at all and the seller is very responsive and kind. Hope this helps.\n",
            "1908 0 1 When you open them, they have no shape or anything, so you have to flex them yourself. With that being said, these lashes are for people who have the thickness that they desire already and are looking for length. I found my expectations were perhaps too high. They are very natural looking but they do not make my eyes pop the way I'd like. I prefer Ardell for that purpose. They are reusable, but do you really need to reuse a pair when you have so many?In the end, I thought them to be boring for events/special occasions and better for everyday wear. I did get complimented on them but I would not purchase again. So if you want everyday lashes, I guess these would be what you're looking for. If you want just a little more umph (still without the fake look), go with Ardell 110/113.Remember you get what you pay for :-)\n",
            "1913 0 1 for pale complexion works great. NOT if you are an olive complexion. the bad part is that it wastes away VERY quick.\n",
            "1920 0 1 I do like this hair clip, however, the clip to attach to your head is ridiculously big and slips out easily if you have thick hair.\n",
            "1921 1 0 I mashed a few pictures together on my phone of the Glamaramas that I ordered and what they look like together for you...IF they allow them to be posted you'll see what I'm trying to illustrate here.When the first one arrived (the dark Auburn color, R6-30H) I was ecstatic! Its really flirty & bouncy with a lot of movement and shine, and the color matches my hair to a T. WAY beyond my expectation for the price. Then I heard the proverbial \"wa-waaaah\" as others have, when I got to the clip. Shame on you, Dancing With The Stars! I have seen better clips at the dollar store. Its smooth bulky plastic...doesn't grip well at all. BOO! (As an example, I clipped mine to my bathroom towel rack in my pictures-which is coincidentally, a perfect fit.) So the ONLY possible way this is going to clip onto normal hair (especially fine hair) is with a load of bobby pins. IF you want to move that is...if you want to rest it on your head and sit still for a quick picture, you're fine. I have long, thick hair...so I was expecting SOME issues...but the clip is really a problem. Here's what I had to do:1. Buy another one. The size of it is clearly for tiny dancers. I needed two to look \"Glamarama\" on my adult-sized head.2. Get something for it to grip to-unless you're cool with 100 bobby pins. I bought the \"SalsaLoosa Hair Wrap\", also by Dancing with the Stars ($15). After seeing Glamarama, I trusted the quality of their hair...and this piece has a LOT of texture so it worked perfectly.3. Fuss with it until I felt it was secure and didn't look fake-about 30 minutes initially.4. Dance around, head-bang and otherwise test it until you feel safe.My first time wearing it out, one actually fell off and landed in the snow in front of a U-Haul Employee while I was renting a truck. Holy embarrassing! It looked like a furry animal jumped off of my head and landed at our feet. NOT COOL. I've since learned to put the SalsaLoosa in first, and use it to wrap my natural hair...then find a spot to SECURELY clip this monster clip ONTO that...and use a few bobby pins to lock it down. A couple squirts of hairspray seals the deal. I've also since purchased two of their \"Bellissima\" braided headbands to add to the look.I haven't got to the point of washing them yet...but I can see it's coming, and it scares me. I don't want to ruin them.If you have naturally curly, wavy and thick hair...you WILL appreciate being able to put your hair up, and have it look pretty and bouncy, but Dear GOD there has to be an easier way.\n",
            "1930 1 0 For me, it's not the best for anti-itch action but it does help. I find Aveeno or Physiogel AI work much better for me.\n",
            "1934 0 1 Some fragrance free products contain masking fragrance - a chemical added to negate all the smells found in an item. This lotion does not have that. I am very sensitive to perfumes in lotions and breakout into a rash or hives. I can sometimes tolerate beauty products with masking fragrance - other times I cannot.This product does not contain a masking fragrance. It is a thick lotion that I like to use on my arms and legs. I find it a bit too thick for my hands. This definitely takes away the itch of dry skin. Recommended.\n",
            "1936 0 1 This is fragrance free, which I need, and does an okay job of moisturizing, but not as well as I would like.  I am 62 years old and have aging dry skin, and have not found anything that works better yet that is fragrance free, so I will keep using Curel until I find something else.  The 24 hour moisturizing Curel in the red print bottle works better but is not fragrance free, so it is always a trade off.\n",
            "1938 1 0 used it on my body instead. its ok wouldnt purchase again but like that i tried it for myself.. didnt notice any marks disappearing prob needed to use it longer\n",
            "1956 1 0 I really like this sponge but I won't be buying it again.  Let me explain.PROS:The dual surface makes it an all purpose body sponge; soft side for gentle cleansing and a loofa like side for more serious scrubbing.  The lather is creamy and plentiful for quite a while before it starts to diminish and the scent is refreshing but not too strong.CONS:My complaint is that it is difficult to rinse it adequately without squeezing out all of the soap and, because it can't be hung anywhere to dry out, it has to sit in some water no matter how I store it.  I've tried a variety of soap dishes and none of them satisfactorily &#34;dry&#34; the sponge between uses.  Therefore, I only use the sponge daily for a week before I feel like it is too icky to use which is less than half of the advertised &#34;20 uses&#34;.  That makes it an expensive option for showering.  I don't think it would work to reduce cellulite but that's not what I bought it for.So, good product but too expensive for only one week's use.\n",
            "1971 1 0 I didn't realize this would be a little too light for my complexion. I still use it once in a while.  Priced right\n",
            "1978 1 0 The color is lighter than I though. The brush is very useful and quite quality. I'm little disappointed about the streng of the color, it seems to not keep on the skin very well but maybe it's only a wrong feeling. Color is beautiful but I guess I should take another one maybe darker, not sure, I'll with time.\n",
            "1989 0 1 Maybelline always brings good products, color is as seen, thought it would be more pink, lasts all day, but the color is not for me.\n",
            "1998 1 0 I have fair skin and the medium bronze doesn't really show. It still gives me a little glow if I want subtle color, and it stays on longer than I thought. :)\n",
            "2004 1 0 I bought this product only because all maybelline products were buy one get one at rite aid.  I bought the light bromze and it did not show on my face so I exchanged it for the medium bronze and it was perfect.  Not too dark and just a touch of color.  I am light skinned by the way.\n",
            "2015 1 0 This concealer matches my skintone and covers fairly well. However, it doesn't cover nearly as well as many concealers and it burns the skin under my eyes when I apply. Basically it works just okay, but is nothing spectacular.\n",
            "2019 1 0 Great overall quality of this concealer... It covers dark circles well, isn't too thick, has lasting coverage, etc. It's an efficient and cheap concealer and I was really pleased with it the first time I wore it.HOWEVER, I was shocked when I looked in the mirror at the end of the day and saw that the color had oxidized and turned bright orange! I was happy with the original color (20 Sand), but it definitely did not stay the same shade after long-time wear. Needless to say, I am returning this product. I know some people swear by this concealer, but the color (for me at least) was not a good &#34;fit.&#34; I hope anyone else who tries this has better luck.\n",
            "2024 1 0 Conceals well, not much to say. haven't used to much lately! I like how light it feels on my skin.\n",
            "2030 1 0 I ordered this concealer due to reading the GREAT review on it.However, I was very disappointed at how this concealer worked for me! My undereye circles are BADDDDDD!!!!!!!!!! It gives very light coverage for me\n",
            "2033 1 0 I have very sensitive skin, that is also a difficult to match color (I have very fair skin, but it has a warm quality to it as well, rather than having the white or pinkish shade like a lot of fair skin seems to have). I was using a really expensive department store brand concealer that I really liked, but wasn't able to afford to pay that much for a new tube, so I tried to find something a little less expensive. This is something that works fine, but I probably wouldn't buy again at the same time. I like to dab on concealer with my finger and then finish blending with a sponge and I found that this concealer has sort of a strange waxy texture to it. When I put it on it blended in well...the color matched nicely and it concealed blemishes and dark spots very nicely, but to the touch, it didn't really blend in, it just sat on the top of my skin. You couldn't tell by looking that it was there, but it does rub off if you touch it or transfer very easily. So that being said, it was just ok. It's a good enough product that I'm not disappointed that I tried it and I will use it until it is gone, but I don't think I would buy it again.\n",
            "2041 1 0 Good concealer. Covers well, and matches my skin tone. I wish it had different applicator to keep it more hygienic but it doesn't completely deter me from the product as the price is right and it works for me.\n",
            "2049 0 1 This product does not go very well on dry skin but is blendable and good for under eyes. It might be a little too light.\n",
            "2079 1 0 I've used just regular store bought tanning lotions and I feel like it works about the same. I do love that it comes with the mitt to rub it in so you don't have to get it on your hands. I enjoy using it for a little extra color.\n",
            "2086 1 0 Well, the best thing I can say about this is that it doesn't have an unpleasant scent. Smells are a big thing to me. I have used lots of self tanners and this one is okay. It does dry quickly but it also goes on with a red tone which is quite surprising. The red calms down and the end result color was fine. I need to apply it daily so the tan can build but one application doesn't do the trick. I have had a couple of skin cancers so I make a huge effort to stay out of the sun. Pale skin doesn't really bother me but I just need to get that death glow off my legs when I first wear skirts without stockings in the spring. I say that to point out I don't need a dark tan, I've never done the tanning bed or anything like that and this doesn't stick around. Also, the warning about it coloring your hands, oh boy take that one seriously! I have gotten away with just washing my hands with other self tanners but the one time I tried it without the glove I had to get out the scrub brush, won't make that mistake again. Over all, I say skip it and buy something cheaper at the drug store.\n",
            "2088 0 1 I have purchased so many different brands of Self Tanners, I almost didn't even bother with this one. I can not stand the orange color I've gotten from so many other products. But a bunch of reviews said this did not turn them  orange,s o I decided to give it a try.I live in Texas and most know that with the sun here, I should be able to tan without problem. True, but I am getting older and want to try to protect my skin as much as possible.First, I love the mitt that comes with this. It allows you to apply F.B. Flawless without getting any on the palms of your hand. I applied it to my left arm, only to see if it was going to turn me orange. It did not and I am THRILLED!I took a shower the next day and exfoliated my entire body. Applied lotion to my elbows, knees and ankles/feet. Then applied this to my whole body, face included. Now I have a nice looking tan without streaks  or looking Orange, and it smells good too!I threw out all of the other self tanners that probably added up to $500, and I will definitely purchase more of this very soon, plus one for my face.It works, doesn't cost a ton like other brands &#60;which is a huge plus to me!&#62; I definitely recommend!\n",
            "2091 1 0 I bought this because the store was out of the Fake Bake dark lotion.  I figured it would be better since it has a mitt included in the box.  I have to say I am not a big fan of the spray and buff method.  The spray gets on nearby surfaces (hello, white bathroom) and it's hard to judge how much you should spray onto the mitt.  The mitt itself is poor quality and has a soft side which you spray the tanning formula onto and a rough side which does not feel good against your skin.  It tends to slide around on your hand so I have to wonder why they didn't just make both sides of the soft surface.  Also little pieces of the mitt rub off as you use the product.  I also feel like my color is a little streaky in certain areas, something I never had a problem with using the lotion.I will use up the product, because it does give a nice color (and it's too expensive to waste).  I may need to figure out a better way to apply it though.  Next time I will go back to the lotion.\n",
            "2095 0 1 I have spent so much money on countless sunless tanning products over the years, and every penny was a complete waste. I'd always look orange, have streaks, and uneven coloring. I ordered Fake Bake Flawless after a friend of mine recommended it to someone on Facebook after the girl asked if anyone knew where to get a good spray tan that didn't turn you orange. She said that she had been using it for years now and loves it. She always has such a beautiful and healthy looking glow to her skin, so I immediately did my investigating on Amazon. I was still very weary since it seems that no matter what I try, I can never get natural looking results. Well, low and behold....I have FOUND IT! I can't even begin to express how much I love the way this product makes my skin look! You HAVE to make sure that you exfoliate first, and I also used a little bit of baby oil on the rougher areas before applying (ankles, knees, heels, and elbows).Now let me warn you, at first, you may start to see dark brown spots in areas that are a tad more callous than other areas. What I did, because I totally freaked out the first time I seen it, was apply some more baby oil to those areas and blended it with the rest of the surrounding skin. It may still look dark, but once you shower the next day or 6hrs later, it comes off and you look amazing! OH...and make sure to cut the tubing of the sprayer before putting it in the bottle. It is way too long and would've caused a mess if I hadn't checked out the other reviews on here first, telling me to do so.\n",
            "2097 1 0 I am about as experienced with sunless tanners as a consumer could be. I've been using them for years and I know all the techniques -- and this one threw me for a loop. The color is nice, the smell is nice, but Fake Bake &#34;Flawless,&#34; it seems, is inherently flawed:A) If you have even a hint of any sort of other product on your skin -- lotion, makeup, deodorant, deodorant that wasn't scoured off with a freakin' loofah -- then it will turn that area green and it will stain the pad and turn anything else it touches green, too. And for those of you who are accustomed to applying lotion to your rough spots (knees, elbows, feet, etc.) prior to applying tanner...DON'T. It will turn those spots green too.B) You are supposed to apply it at night. Why? Because it turns you the color of a sunburned Oompa Loompa.C) Another reason you are supposed to apply it at night: Because if you sweat, the &#34;color guide&#34; will run and you will end up with a patch of white, untanned skin wherever you sweat or wherever skin touches skin. And herein lies the rub &#8211; no pun intended: for anyone who's body is not perfectly made for this product (i.e. if you have anything but A-cup boobs and tiny thighs), you will likely sweat -- even just a tad -- at night while you sleep and you will likely have skin-on-skin contacts in different spots. You will therefore awake with white patches between and under your boobs, between your thighs and around your bikini line. I weigh 107 lbs so I'm thinking you must have to be anorexic or something for this stuff to work and even then you must have to sleep splayed out, on your back all night so as to keep your legs from touching each other, etc.......Upon using this a few times and assuming I was doing it wrong, I called the company and had the misfortune I've been speaking to an irreverent, unapologetic little snot who verified that sweat, lotion, and skin-on-skin contact would, indeed, cause this product not to work and she offered no tips, tricks, or hints that might help me, otherwise.\n",
            "2105 0 1 I have tried self tanners and been to get a professional spray tan done in salons but never found any that I truly loved until purchasing Fake Bake Flawless. I have light skin and therefore am a little nervous about putting something on that screams self tan. That is not the case with this product. It goes on easily, dries fast and doesn't have the bad odor associated with most self tans. I put this on at night before bed so it could process during sleeping hours as it does get a little of that smell after a few hours of wearing it but if you are asleep, who cares!? I woke up and showered leaving a completely natural looking tan. I only applied once and it has just gradually faded throughout the week. It has not streaked at all and has faded very naturally. I wasn't going to be wearing a bikini or anything so I only applied it to all places that would be exposed with a strapless one piece. In the buff, it looked just like I had been out on the beach in a once piece bathing suit and you can see a huge difference with just one application as my stomach was snow white and where I had applied the tanner was the most amazing, natural bronze tan. I will be using the product again this Friday and probably once a week throughout summer and into fall as it makes me feel much more comfortable in sleeveless tanks or shorts. I highly recommend Fake Bake Flawless. I got a bowl of sugar and took it to the shower prior to applying, mixing it with my soap and a wash cloth to exfoliate as you don't want anything that contains oils to exfoliate because it will block the tanner from absorbing. I put a tad of lotion on my elbows, knees and ankles/feet right before applying and I am completely happy. Not to mention, the price is FANTASTIC. The only thing I'd like is the option to purchase a few mitts at a time because it will wear out fast. Hint: to keep mitt from slipping around while applying just take a rubber band and put it on your wrist over the mitt and it will stay put while applying. ;)\n",
            "2108 0 1 I am white as can be and I burn as soon as I walk out into the sun!  I just do not tan.  At all.  I go from white to red, to a faded version of a tan and back to white.  Other sunless tanning lotions I used would leave streaks, give an orange appearance or just not work that great.  Before I found Fake Bake I would just spend the money to get an air brush tan for special events, etc.  This was actually recommened to me by my Esthetician who does my facials and air brush tan.I was so exited to try this product when it came in the mail.  I read the directions, but they didn't &#34;sink&#34; completely into my head because I was so anxious to try it--I ended up spraying the product directly onto my skin and THEN using the mit to rub it in!!!!  It actually didn't turn out too bad, as I only did small sections at a time.  I do now use it by spraying the solution directly onto the mit THEN rubbing it in to my skin and it works great.This product is awesome.  It has saved me so much money (from getting air brush tans) and I can apply it anytime in the privacy of my own home.  It doesn't streak and I love that it has the applicator mit.  I really think that makes all the difference.  I do recommend washing the mit everytime you use it to keep it clean and lasting longer.**HIGHLY RECOMMEND THIS PRODUCT!!**\n",
            "2112 1 0 It's blotchy. It makes my pores stand out. I put it on at night and shower in the morning and it all comes off. I tried it multiple days in a row and was never tan after the shower. my mitt started growing mold even though I took care of it.\n",
            "2117 1 0 Im glad I bought this but I don't know if I will buy it again. I love the color-my husband still thinks it was a real tan...he has no idea. I like the application process and the mitt you use for it. I do suggest rinsing it here and there or the color does start to get messed up. the big downfall for me is that even after a couple of days it still wipes off on your clothes and towels. I like to wear white tank tops and two days later it will still transfer to the inside. And that's while just sitting around....no sweating! I also had to put away my white bath towels to protect them. The good news though is that it doesn't seem to stain... everything has washed up fine.\n",
            "2119 1 0 I've got very pale skin, and for me.... this stuff turned me an odd color. I expected an odd color at first because of the color guide, but after washing it off the next morning, my skin was still an odd color. It wasn't that bright orange that some tanners have turned me, but it was still orangey and not a pretty color. To makes matters worse, every hair follicle was clearly darker than the rest of my skin. It looked as if I had some horrible skin disease. The color actually improved a bit as it started washing away 2 and 3 days after application, but I still appeared spotted. The only good note I have about the color is that there were no streaks, and it was even.Application was certainly much easier than any other self-tanners I've tried, so that's a plus. I allowed the color to sit for a couple hours before going to bed, but it still stained my bedsheets; it washed out fine, but I'd suggest putting something over your sheets just in case.To be fair, I tried this stuff 4-5 times and always got the same, not-so-great results. It may work for some, but it didn't work for me.\n",
            "2121 1 0 I am about as fair as they come. I am pale, almost sickly pale. Sometimes I get insecure about it, so I've tried a couple other tanning methods. I've tried the sun, but it seems like I either burn or nothing happens. I've done the mystic spray tan and hated it, it lasted a couple days and smelled rank, and I've done banana boat and jergens lotion. Both are streaky and I hated the results (or lack of) I gave up and tried this...It comes with a spray cap, lotion type cap, a mitt and a pair of gloves. The easiest way is to snip off about an inch off the bottom of the spray top and use that instead of the lotion cap to avoid mess. I spray onto my skin everywhere except my hands, feet, and face, I spray onto the mitt for those areas. My favorite part is you can see what areas you've tanned because it has color guard. I didn't use lotion on my problem areas and I didn't have any blotches at all. Make sure to exfoliate before hand.Edit: I've now been using this for a couple weeks and I can give a more detailed review. The tan itself on me lasts about a week. I find my face and chest seems to fade much faster then other parts so I end up re-touching every 2-4 days. Remember, I do not use gradual tanner in between, just this product.I like this because when you apply it and if you accidentally find a blotch, you can still rub it out if you recently applied the tan.FINAL EDIT:I've been on this stuff for over a month and I'm getting to the point where it's too much of a hassle to keep it up. I apply it at night before bed, get up and go to work and come home and shower. Almost 50% of it washes down the drain. I put a sticker on my hip to monitor the tan and I'm already losing a s*** ton of color the next day of washing. To keep my color I'd literally have to be applying every day or every other day. It just washes off. It's not like I'm scrubbing hard either, just a quick sponge off. You could see where I placed the sticker clear as day after I tanned but after showering you have to really look to see it. I am extremely disappointed because it looked like this was going to be a good product, but it does not last.I bought the fake bake lotion and I plan to double team myself with this product and that one in hopes I'll have a more stable tan but if not, I'll probably use up the bottle and never buy it again. I just don't understand how it can fade that much after one wash. They say the color running down the drain is only color guard, thats not true. It's half of your skin tone. :/\n",
            "2123 1 0 Did the 3 days as per directions. Did not get as dark as I wanted. And it fades far to quickly. If you use astringent with cotton ball, most of what is on your face comes off on the cotton ball. The mitt is excellent. The product itself is just fair.\n",
            "2124 1 0 I tried this product after reading all of the awesome reviews. I saw a blog about it on pinterest also so I thought I would give it a shot.It is easy to put on. The directions were great. I had no problems with the pump, and in fact you really dont need to use the pump anyway.It does give you a great nice even tan. I used one of the tan balms on my elbows and knees so that I wouldn't have uneven patches on those places.The HUGE problem I have with this is that it is left behind EVERYWHERE. My pillow, blankets, sheets, car seat, chairs at a friends house (embarrassing) etc. It comes off on anything that it touches. And besides at night because I don't know if I was sweating or not, I wasn't sweating. It's been in the 40s-50s here and the stuff is still coming off.That is really the only problem that I had with it, but to me it's a pretty big problem! I've never had this happen before with any other product that I've used.It did give me the most natural, most even fake tan that I've ever had though. So from that perspective I'm very happy with it. I wouldn't use it again though.\n",
            "2130 1 0 I bought this product because it was the highest rated by users on Amazon, and had some good, in-depth reviews. I was looking for a replacement for the L'Oreal Sublime Bronze products I have used for years. I like the dark tone they provide, but it can be pretty orange and they have to be applied frequently to maintain it. They are also very thick and oily feeling, and remain sticky for quite a while after application. Reviews on Fake Bake Flawless made it sound as though they had solved all of these issues.The spray and mitt work very well for a quick, easy application, and I love the delicate coconut scent. It's also nice that they include latex gloves. The spray goes on very smoothly and evenly, and dries almost immediately for a lightweight, light colored glow. Unfortunately this color is VERY light, and washes off immediately in the shower.I am continuing to use the Fake Bake Flawless spray and mitt to even out the tone of other bronzing lotions, and I like it for difficult areas like ankles, neck, and face. It is definitely not dark or long-lasting enough to use alone.UPDATE:The included mitt disintegrates very quickly, so that it is scratchy on your skin and leaves chunky bits all over you. I still like the spray as a product, so I will not give it a lower rating, but be prepared to find alternative methods of application.\n",
            "2132 1 0 Since I cannot tan naturally, and I also don't want the harmful effects of tanning, I am always looking for a great self-tanner.  Honestly, this has some major pros and cons.  Pros - it goes on incredibly easy using the provided glove.  It doesn't streak and I also loved how you can clearly see where you've applied it.  Cons - it doesn't last long.  And yes, I know all the things you are to avoid once you've applied it - no skin oil, no lotion that contains lanolin or oil.  After getting out of the shower, don't rub dry...etc., etc.  Even so, I feel like the color lasted only 24-48 hours.  Will I keep buying this - yes because I feel like the ease of application and the natural color I get outweighs the short staying power.  I will continue to seek out ways to keep this from fading so quickly.\n",
            "2142 1 0 I was excited to use Fake Bake, as I've heard great things about it. I never tan in the sun, I'm too afraid to! I've used tons of self tanners, and normally I use Xen Tan but decided I'd try this.Here are some pros & cons, unfortunately mostly cons, I just wasn't impressed by this at all.PROS: It dried really fast, and was pretty easy to see where I'd put it already Also, this seller shipped it super fast which is always nice. Also, I applied it at night, it did not stain my clothes or sheets.CONS: The color payoff was disappointing. I applied it at night and in the morning I was a beautiful shade of bronze, not orange, but a gorgeous brownish-pink color. I waited until the next evening to shower, even though it says you only need to wait 4-6 hrs, and after i showered, I was a streaked mess and most of the beautiful color was gone. I did not even scrub my skin, I rinsed it lightly with baby wash. So disappointing. The next day I applied it again at night, and the color once again looked good, but after showering again, I was left once again with blotchy, icky looking color. Also, when you spray onto the mitt, it goes EVERYWHERE! Luckily I sprayed it into my sink and then I had to just clean the sink up.Instead of trying for a third application I used my Xen Tan and now I look like I just came back from holiday. I will never use this again, giving it to my sister to see if she has better luck!\n",
            "2153 1 0 I have been using this product for roughly a year. I tried it because of all the raving reviews. I used it in the summer about every other day and I got very tan. When it starts to fade in the creases of your arms and around your neck it looks very splotchy. If at any time after you put the tanner on during the day you get wet it will run, which really bothered me. I would say inorder to keep the tan you would have to apply it every other day. It is a very natural color. It does not have a nasty self tanner odor. It goes on very well. Overall I like the product but it could last longer!\n",
            "2178 1 0 It's really not that much better than other self tanners I have tried. The color is nice and the smell is tolerable, but when it started to fade, it looked like dirt on my skin, especially around my feet and inner part of my arms. I can't say I love this product, but it's okay for the money.\n",
            "2189 1 0 I used this after exfoliating and took my time to apply it with the mit that comes along with it.  It goes on smooth, smells great, and the color isnt too orange. I tried to use it again a second time a few weeks later and wasn't too happy with the mit. Little pieces of the mit came off while i was applying it and it washes off pretty quick. It does a good job if you are wanting a quick nice tan but I have not tried using it again. I will need to find another mit the next time I decide to use it. I honestly don't think ill even try it again.\n",
            "2193 1 0 ...the great review from one person. I decided to try Fake Bake once again. I used the Fake Bake for Face 9 years ago. It smelled horrible, but it didn't turn orange. This one smells fine, but every time I used it I turned orange, NOT brown. There are so many fakes on this website and sunless tanners are now on my &#34;list of what NOT to buy here&#34;, along with Levi's!\n",
            "2195 1 0 I like it because the smell is nice. However, it does not last as long as I thought, since it said to apply once a week. Also, like all of the others it looks like you have spots when it starts to wear off, which is sooner than some other brands. I will say the smell is most of what I like about it.\n",
            "2197 1 0 It has a very tropical scent, however eventually (an hour or two later), the stinky self-tanning scent emerges.  At least it's better than the spray tans that make your whole bathroom/hallway stink for a day.  It does not stink up the house.  I really like the color this gives, but I will not repurchase, since I had to religiously apply, since it does not seem to last.  Then, once you acheive your desired color, it only seems to last 2 days or so on me.  The neutrogena spray lasts 5-6 days on me.  I don't have time to add this into my daily/every other day routine, so out the door for me.  Might work for some others who have more time or maybe it will last longer for you!\n",
            "2199 1 0 Not sure why I didn't return this item.  Didn't even get out of the box to try.  Once I saw the small container of it, I didn't want to be having to purchase more of it very often.\n",
            "2200 1 0 I just received this today and I tested it out on my stomach and it dried quickly I did everything correctly. Well, I wore a tan shirt, and well...there were blotches of pink on my shirt.\n",
            "2207 1 0 I usually use the non-spray, and use the gloves and rub it on...I thought Id try this one, it was a little more expensive (not by much) and it had a mitt, interesting right? The first time I put it on, it went on great, &#34;flawless&#34;, waited about 5 to 6 days and it was coming off, I started looking like the pale self again, just like the other &#34;fake bake products&#34;, I put it on after that amount of days and this would not go on, like only certain parts on the skin. It was frustrating, and what I figured out, was it would only go on the parts of my skin that the old stuff wasn't on at all. I had to totally exfoliate my skin, rub (till my skin was red) all the old fake bake off, until , without a doubt, there was not one stream of the time before application. I know it is a good thing to exfoliate your skin before you put this on, but with the other non-sprays, I only exfoliated every month, and I was good to go with each application. It could be that I did not properly put it on, I don't know but if it takes that much direction, Id rather just pay way less and get non-spray fake bake, I'm a total believer in fake bake, just not the spray unit.\n",
            "2208 1 0 This stuff gives great color and looks fantastic but beware once you stop using it. It fades horribly blotchy and made my pale self look like I had some kind of skin disease for a few weeks before it was all gone. Won't be repurchasing.\n",
            "2213 1 0 First, I love the mitt...works very well, wish I could buy separately. The liquid itself is a great color on the skin as you apply it. It dries quickly and its so easy to apply with the mitt. Best of all is the lack of self tan smell....it smells great. However, Im discovering as I use it that the lack of self tanner smell may because there is not much self tanning with this product. Although the color is good when you put it on, it seems to wash off almost completely. I have to reapply daily or every other day so far. Every other day so that I can moisturize in between. The liquid is quite drying.  But as a &#34;quick put this on  before going out &#34; kinda tan this is a good choice.\n",
            "2218 1 0 I was using st. Moriz tanning mousse before I tried this product. At first I thought this was better but I don't think so anymore. First, this gives you a more subtle color but I tend to like a more dramatic bronze. Sometimes after applying it at night and washing off in the morning I feel as though I've washed off all the color! Second, it does not last long, it may give you a nice glow but after 2-3 showers its pretty much completely gone. Third, I have to put on so much because the spray does not spread easily. I do like the mitt it comes with. I just use it with my other fake tan. So I say if you want a nice glow for a special occasion, go for it. If you're looking for all year round bronze, you may wanna try elsewhere.\n",
            "2224 1 0 I received this tanner three days ago. I was so excited.  I watched countless youtube videos along with rave reviews.  I used tips consumers posted as well as following the instructions.  It looked amazing at first. I applied it before bed and showered in the morning. I had no color left...and the insides of my elbow creases were huge white oblong parts where the tanner had completely wiped off. I was sad. I wish I knew what caused that. Will try again.\n",
            "2228 1 0 I've waited a few weeks to write this review, so I could really try this product out.  I bought the lightest color available and it still seems slightly dark for my skintone.  I am not overly pale either. The concealer almost has an orange tint to it, which I am not fond of.  The coverage is decent, but I definitely prefer my MAC concealer over this.  I am a bit disappointed, because I read so many great reviews about this and I found it to be just average.  Don't get me wrong, it is a pretty good drugstore concealer, but I don't really think it adds up to all of the hype surrounding it.  The coverage was decent and the consistency was nice-  not too thick and not too thin.  Overall, it was okay, but I probably will not re-purchase after I use this up.\n",
            "2233 1 0 I usually use Tarte concealer, I wanted to try something cheaper.  I just didn't get the results I need. My dark circles are still visible. I will go back to Tarte for now....Also, the color is a little darker than i need, i am extremely fair.\n",
            "2235 0 1 for this price, you are getting a good deal on a highly pigmented shadow. soft to apply. can be used for crease or brows. better to use a brush and not the applicator included. the applicator absorbs too much of the shadow and it's hard to get the shadow off of it.\n",
            "2238 0 1 i use this for contouring and for smokey eyes, it works great, but mine got stolen, and its not available for purchase anymore well at least it said currently :(\n",
            "2253 1 0 I was looking for the BioIonics iCurl when I came across the Style Winder.  The Style Winder didn't take long to get used to, and it does get really hot very quickly, but I feel it's harder to control the outcome of my hair style with this iron then with the iCurl.  If your hair tends to be long, and you want bouncy curls or waves, this may work out for you.  My hair is medium length and layered, so it worked for some sections better then others.  Because the clamp is not tight,(It appears to be designed that way.), I ended up gettng some  little wing tips on the ends of my hair as another reviewer mentioned. I think the short width of the clamp may have something to do with that.  It takes me longer to use the Style Winder then the iCurl as I have to be careful as to how much hair I put under the clamp so it will hold.  It's all right, but I prefer the iCurl, and don't think I would repurchase the Style Winder.  Unfortunately, it looks like BioIonics no longer manufacters the iCurl.  Note, because of the rotating barrel, the Style Winder does not come with a \"kick stand\" attached.  But the company does provide a nice heavy stand that you can rest the curling iron on.\n",
            "2255 0 1 I gave this product four out of five stars because I haven't worn it yet, and I suspect the glitter doesn't go on as intensely as shown.\n",
            "2261 1 0 I am a huge fan of shimmer, holographic, and (some) glitter polishes. OPI's \"Simmer and Shimmer\" looks better in the bottle, in my opinion... It has beautiful colors in the bottle, but when applied, it is very gritty in texture. I applied several coats of clear polish to try to make it smooth. Not only was that barely successful, it took a very long time to remove! I had to use straight acetone and a textured brillo pad- it was still difficult. So if you like the textured feel, then this is for you- I just prefer the smooth finish. Again, this was pretty, just too textured for me personally. Since receiving this, I have been checking out images of the original version of this, and since the two are not at all similar, they should have given this new version a different name.\n",
            "2262 1 0 This polish is definitely a glitter as opposed to a full coverage polish.  It is not as coarse to the touch as most glitters (fine sandpaper feel) but was just fine after a top coat.  Lot of blue and silver in the color, not as gray as pictured.\n",
            "2266 1 0 I don't care for this one. I would recommend sweet almond though. Also, most smell of mint, except the six thirteen which smells more like vanilla lemon that I prefer. This product works nice for shine and conditioning in hair.\n",
            "2280 1 0 I buy wen once in awhile because I do like the way it makes my hair feel. However, I did notice that after using it for a week or two my hair will start to look really greasy and I switch off to a different shampoo and conditioner. My hair is normal, my scalp isn't dry or greasy.\n",
            "2284 0 1 But as I've always said, wen products are way overpriced and they can't get a 5 star rating from me until the price is more reasonable. Just because you can gouge, doesn't mean you should. Sorry wen, but it's just too much. Besides that, it's the best thing going for hair right now in my opinion. lol! If money is no object, you must use this every single time you 'wash' your hair. My hair is usually really dry, but I'm positive it will work on oily hair as well. I don't like ANY of the scents, and it kind of 'burns' or 'tingles' too much the first time you use it. But it's a magic potion. No lie.\n",
            "2286 1 0 When I used this product, it made my hair feel even dryer than it was before. Ive seen people say if made their hair fall out, it didn't do that to me but it did make my hair very dry.\n",
            "2289 0 1 The smell is divine but the way it treats my hair is more then i could imagine i have been using WEN for aprox 2 months and never ever wanna go back to shampoo again....\n",
            "2291 1 0 For at least 2 years I've read the raves about WEN on the Q shopping channel forum before I decided to try it. I have chin-length blonde (color-treated) hair; I've been using this almost 3 weeks (that's all this size bottle lasts for) and my hair looks no better than if I'd used Dove Color Care Shampoo, which is a heck of a lot cheaper. I love pomegranates but the WEN smelled odd.\n",
            "2292 1 0 I'm pale with freckles, but regardless of my skin tone, who doesn't need an eye cream right? I ordered this in desperate need of some perking up, but only got orange circles(literally) around my eyes, with no reduction of my fine lines. If anything, the tint coloring fell into them and made them more pronounced. This says 'for most skin tones', but unfortunately, I am not one of them. I liked the application of it, the brush feels nice around the eyes and the product sinks in nicely. But they should be selling this as a concealer with the some added anti-aging benefits, in a variety of 'tint colors'. And on top of that, this has paraben preservatives which I try to avoid. If they made this more natural and color-free I'd be all over it. I usually like Olay products, but this one is a miss for me.\n",
            "2298 1 0 It looks like I'm in the majority here of reviewers who don't really care for this product. I've used it faithfully for awhile now and can't tell that it's made any lasting improvements in my appearance. As a concealer I feel the shade is a little dark for me. And, it's pretty expensive. I'm happier with my lighter, cheaper, concealer.\n",
            "2300 1 0 It does look like makeup..is very dark but when I rub it in, it goes on smoothly and I can barely see that it is on and I am a redhead with fair skin...In contrast I have a brand by Maybelline and you can really see that it is makeup when it goes on and made the wrinkles look worse...I think the Olay brand does minimize my under eye wrinkles, but it's not anything substantial, but I have deep wrinkles under my eyes..however if you had very fine wrinkles it might help you more....Also I intend to keep using it to see if it makes a difference in the long run...I have no darkness under my eyes so can't comment on that.\n",
            "2301 1 0 The Olay Total Effects line claims to fight against the 7 signs of aging. This is the Line and Dark Circle Minimizing Brush.Claim: Fights the 7 signs of aging and instantly reduces the appearance of darkness under the eye.1. Dark Circles - Immediately reduces the appearance of dark circles2. Fine Lines - Reduces the look of wrinkles3. Puffy Eyes - Massage instantly reduces the look of puffiness4. Loss of Firmness - Hydrates for firmer skin appearance5. Uneven Texture - Visibly renews skin texture6. Uneven Tone - Evens skin tone7. Dryness - Provides nourishing moistureThe truth is that this is a tinted moisturizer. That is why it reduces darkness under the eyes and most of the other claims. It's like using a coverstick. The moisturizing does the hydrating and renewing part. It's a brush instead of a roller like theOlay Regenerist Advanced Anti-Aging Eye Anti-Aging Roller, 0.2 Ounce. It doesn't really have the massage factor like they are claiming. The Olay Eye Roller does reduce puffiness due to the massaging action.The tint is a medium so it may not be suitable for you if you are of fairer or darker complexion hence the \"for most skin tones\" claim.If you are looking for a tinted moisturizer and eye cover then you will probably like this product. I was just a little surprised to find out that was why it reduces dark circles and lines. I thought it was more of an advance technology moisturizer than just good old coverup. I have used several products in the Olay Total Effects line and haven't been all that impressed. I much prefer the Regenerist Line and the ProX.\n",
            "2302 1 0 Maybe I was looking for a miracle, or expecting too much, but while this product hid my dark circles they realy didn't go away.Product coloring worked well with my white though slightly olive tinted skin color.  Easy to blend applied cream to thin out and make look more natural though making it less effective in hiding circles.\n",
            "2311 1 0 I have very sensitive skin and eyes...this products causes my eyes to tear and sting...my colleagues, on the other hand, think this is wonderful.\n",
            "2312 1 0 This is a rather strange product, I have been using it for over a month now and quite frankly I don't see any difference, when I get lots of sleep my face smoothes out in hours and I'm only thirty so I say don't waste your hard earned money, this doesn't look or feel like eye cream, the fluid looks like liquid foundation and it's dark, a yellow tinted makeup is what this resembles... I always felt silly painting it on with that huge brush and would find the need for eye cream in the end anyways, so what's the point, I read the box twice trying to see what this is, they don't call it an eye cream making it look and feel like a vague gimmick. Try if you're really curious but it's nothing I would recommend to any of my friends and I love to share if they want to listen, so this says a lot. With so many eye and face products on the market I wouldn't waste my time on this, not recommended from my experience.Shiseido, Burt's Bees and Estee Lauder are great for eye products, as much as I adore Olay products this seems a bit bizarre from them, not a concealer and not a cream, a nothing in between!\n",
            "2314 1 0 I can see no visible effects of this product. The first time I used it under both eyes. It blended in well quite easily. Even though I wasn't wearing any makeup, it didn't look odd or flake. But I also couldn't see any improvement in my eye area. So the second time I used the product, I put under only one eye to compare the difference. There was none. I like many Olay products, but I cannot recommend this one.\n",
            "2317 1 0 Typically I find Olay products to my liking.I have never tried an anti-aging product before sowas not sure what to expect. This made me a littleconcerned about writing a review.I should not have worried! I am not having any difficultywith this at all. As far as I can tell it really did nothing.It was not moisturizing in my opinion, nor did it fade the darkcircles or even conceal them.I tried to approach this the the most open of minds, andI have given this several weeks trial. Nothing. No differencethat I or my sister can see.Not recommended by me.\n",
            "2322 1 0 I tend to have somewhat dark circles under my eyes if I don't use anything to counteract them.  I use a product to help minimize the darkness already.  Usually, to cover up that area in applying my make up, I apply more of the mineral make up I use with a concealer brush.  I always thought that process worked pretty well, better than other concealers I tried.  Then, I tried this product and it gives an alternative.  Not a good one, but an alternative.  It makes that area look more blended as a whole with the part of my face below the eyes SOMETIMES. Other times, it doesn't seem to work very well at all and doesn't conceal much.The packaging just does not work.  It is hard to control how much product comes out.  The brush doesn't work at all.  I dispense the product, put it on my finger, and then apply it.  Plus, the brush is difficult to clean; the product stays in the bristles.  Why bother with the elaborate packaging if it's not going to work well?The directions on the tube are ridiculously off target.  All they say is to keep the product out your eyes.  Duh.  You would think they could have added another sentence or two.\n",
            "2323 1 0 I have used this Olay Total Effects for 8 weeks and I do not see any noticeable improvement despite the 7-in-1 anti-aging properties.  I can verify that it minimizes the dark circles under my eyes since it works as under eye concealer.This product is easy to use, click the end (like with a pen) and use the brush applicator to smooth the flesh colored cream under your eyes.  Be careful of getting too close to your eyes or it might sting.  You will need to use your fingers or a make-up sponge to completely smooth the cream under your eyes.  I was worried that the flesh colored cream was a little too dark but it blended nicely.  Olay Total Effects comes in only one color and it would work best with medium skin tones.  You might want to try it at a retail store first to see if it can blend properly for your skin tones.You will need to rinse the brush end off after each use.  This requires an extra step that adds time to my daily routine.  A real hassle on busy mornings and led me to question why they would have the eye cream come out on a brush.  You'll need to use another instrument (your fingers or sponge) to apply properly since the brush alone leaves the cream too thick.  Why not a regular tube of cream?  Also, I have reservation about rinsing the brush off after use and placing the cap back on since it might prove a breeding ground for bacteria.  This means I have to leave the brush out on my bathroom counter to dry before capping and putting away.  Too messy any way you look at it.Since the anti-aging properties do not work for me, I cannot justify using this strictly as a concealer.  The price is too high and it requires too much work.\n",
            "2325 1 0 I had some high hopes for this product. I have slightly pale, lightly frecked skin and, unfortunately, dark circles that I battle daily. I thought, great, a product that is an eye cream and something that could minimize dark circles. Exactly what someone like me needed.I did the usual allergy test first, applied a little to the inside of my arm, near the bend to leave on for several hours to make sure I didn't have a reaction to the cream itself (something anyone with sensitive skin should do before using any new product on their face). I was immediately shocked - what brushed on was a bright orange cream. I thought, surely there must be a mistake here - did I get the wrong skin shade? No, it was labelled as matching most skin tones ... but who is orange?Giving the product the benefit of the doubt, after having no allergic reaction to the stuff, I chose to apply it on a weekend when I didn't have to worry about going off to work with something new on my face. I thought, maybe it wouldn't look so bad under the eyes. Maybe it's orange for a reason? Or, maybe it really would minimize the dark circles? Unfortunately I was very wrong. I looked like someone who had smeared orange cream under their eyes. I applied my usual makeup over it, hoping for a coverup - maybe that's how one is supposed to use this? Wrong again, a slightly blunted orange tinge showed through and I had to wash everything off.Still, I've used other Olay products before and gave the cream a couple more chances, but I ended up nothing but orange and disappointed. Unfortunately, this very orange product, which could never match any skin tone on this planet, is headed to the trash bin.\n",
            "2328 1 0 If they marketed this as a concealer and lowered the price, it wouldn't be bad. As part of the very long product name notes, it's meant to minimize the dark circles under your eyes. This worked fairly well in the summer, if/when the rest of my face was tan, but as we all know, we aren't even supposed to get a tan if we can help it. In any case, the rest of the year, I had a pale face. Thanks to Olay, I could now choose between a pale face and tan eye circles or skip the product and go back to a pale face and dark eye circles.As other reviewers have noted, way too much product comes out at a time, so even with the brush, you'll still need to use your fingers and/or dab some off with a tissue. That means it's not very practical when you're on the go.I had \"eye 'opes\" for this product but felt let down.\n",
            "2332 1 0 The best thing about this cream is the applicator.I love how I can click the bottom and just the right amount is dispensed into the brush tip applicator. It is so easy/fun to apply over the entire eye area. With that said...I'm not impressed with the dark circle minimizing. Its just a concealer and that's great if the tint is a match for your skin type but its too dark for me. Since I have it in my drawer I have been using is as a tone evening  base for my eyelids before applying shadow. It seems to be working well for that.\n",
            "2333 1 0 I'm a great believer in skin care, and this product seems to have the necessary ingredients. It gives that gentle tingling feeling you get from a good exfoliator. I'm not giving it a very high review because I did not care for the brush applicator. It never really seemed clean to me, even after I cleaned it with alcohol on a cotton pad. I think I'd rather use my finger.\n",
            "2335 1 0 If you have dark circles under your eyes and dab some foundation on them, the circles will be somewhat masked for a while.  This product will do the same thing.  It is no worse than most other concealers and not better. I tried it for a while and saw no remarkable anti-aging effects.  Oh well.\n",
            "2338 1 0 The package says that the product \"fights 7 signs of aging and instantly reduces the appearance of darkness under the eyes.\" It goes on to promise to reduce wrinkles, lines, puffiness, and dark circles, to even skin tone and bring you firm skin under your eyes, even to nourish your skin.At this point, you might be expecting something that changes the skin in some way, but this is actually a concealer with glycerin. The product comes in a tube with a brush so you can paint it on (at first use, it feels like you're spackling, but the brush becomes softer quickly), and it's a nice, creamy formula. If it suits your skin tone, it works as well on dark circles as any other concealer. Wash your face, and the illusion is gone.\n",
            "2342 1 0 There are no instructions with this other than to keep it away from your eyes.  Yet, it's a concealer for under your eyes, so my first question would be why develop something for around the eye that you shouldn't get in the eye?When you take off the cap there's a nylon brush, on the other end you push the cap a few times and a very runny liquid makeup appears on the brush.  After applying the makeup to my under eye area I needed to use my fingers to blend because the nylon brush will not do that.  I did this close up to a magnifying mirror.  When I pulled away from the mirror what I was left with were two very dark eyes.  This actually made my eyes look darker than usual.  I have fair skin with dark circles under the eyes and use a yellow concealer to cover it up.  After using the Olay concealer I had to follow-up with the yellow concealer.  Half way through the day my under eye area feels very dry, so it's not a moisterizer.It doesn't come in different tint shades and this shade is far too dark for me.  Maybe if it came in yellow with a cotton tip to blend it would be a better product as an under eye concealer.\n",
            "2344 1 0 As many of the other reviewers have stated, yes, this is more like a concealer and not really what I'd call a cream. The color & texture of this is like a medium colored yellow based foundation. I'm fair skinned & I don't really have dark circles too badly and when I put this underneath my eyes, it actually emphasized what dark circles I did have.Also, I didn't notice any improvement with the start of any fine lines I do have.Just doesn't work for me.\n",
            "2346 1 0 I'm 34, and just starting to notice dark circles under my eyes.  I'm really looking for a product that's easy and quick to use, and would take the place of painstakingly dotting concealer around my eyes.  This does the trick okay.I expected it to be colorless, but it's not.  It's a neutral tan, which works on me (I'm an African-American with light skin) but I would not recommend to darker skinned individuals.  The applicator feels decent -- not to stiff, and fairly big.  I also like the push up feature.What I don't like, though, is the fact that using the brush doesn't negate the need to distribute the product around my eye with a sponge or finger.  I still have to spend a bit of time patting the product in, while trying not to rub my eyes.  I wish I didn't have to do that at all.I've noticed some difference in the appearance of circles when using it, but not a whole lot.  Maybe it's because dark circles aren't a realy problem for me -- yet.  But, still, for mornings following nights when I've had one too many, it is useful.\n",
            "2359 1 0 These do the job, but they are a thin fibrous material with small blue dots on them.  I didn't realize they were a different cloth from the regular ones, which are like a gauze material and I love those.  I'm using them up and I am sure they work great, but wouldn't get them again - just don't like the consistency.\n",
            "2363 0 1 These are good facial clothes. I have been using the Neutrogena scrub pads for acne and was unable to find them anywhere so I tried these.  They are good but not what I was expecting or used to.\n",
            "2401 1 0 They smell so good and feel so good. But were too rough for my skin. As soon as I stopped using them I had no problems. Back to Dove and Olay moisturizer. Don't mess with a good thing.\n",
            "2415 1 0 I bought this because I wanted to wear my natural hair out, but I wanted to define my curl pattern a bit more, so it just didn't look like a q-tip on my head. Also wanted to see if it would give my hair some movement. I applied it like the label said and I had to go to bed soon so to speed up the drying process I sat under my dryer for 15 min on high. The outside of my hair was dry and crunchy, but the inner parts of my hair was not dry at all, so I took my blow dryer and held it over the still damp parts. It relaxed it just a bit, but you couldn't really tell, it just looked like I finger combed it a lot to get the bit of stretch that I had.  It also made my hair look ashy, so I had to put some oil in my hair. I don't know if its a one day thing, but what little bit it did  was not there the next morning.  My hair had shrunken back to a tight semi- TWA. I was hoping that it would give me a couple of days at least. I don't think its really for people with stiff and thick hair like mine.\n",
            "2426 1 0 It like hair dye, it will eventually wash off within a couple of days.  I can't complain too much because it application was super easy to follow and didn't have a harsh chemical smell.\n",
            "2432 1 0 I get black heads and clogged pores super easy on my Tzone, after a couple of days of usage I realized my pores are all plogged up. This was the only product i used, I dont know why but I cant use it, but i guess it has worked well for others so thats why i gave it 2 stars\n",
            "2468 1 0 I rated this with 3 stars because I bought it with the intention of using it as a deep conditioner for moisture. However, after rinsing the product from my hair it made my hair feel like it had just received a protein treatment. So, I followed with Shea Moisture deep conditioner and my hair felt very soft and manageable. I have type 4 hair and I was able to part with my fingers after the process was complete. I use this once a month as a protein treatment.\n",
            "2469 1 0 This conditioning treatment moisturizes my processed hair about as well as most other deep penetrating masques have in the past.  But, this one is mainly made of mineral oil so it leaves a thin sheen of the oil even after copious rinsing.  The oil feels ok when you comb the wet hair (nice and slippery), and it doesn't immediately leave the hair stuck together and greasy, but it does make it tangle up and after a few hours it feels gritty and dirty.  I couldn't wait to shampoo it out.It was like getting sunblock in the hair plus a day of hiking in the dust.  Icky.\n",
            "2476 0 1 I love Elasta QP products because this is the only brand that I have used that does what it says the product will do. This product is a pretty good conditioner and leaves my hair soft and managable. However, this product is still not as good as the DPR-11+ conditioner.  I was about to purchase the DPR-11+, but I grabbed this instead because of how excellent the SoyOyl shampoo is.  I thought this would be better than the DPR-11+.  With the DPR conditioner I notice that my hair is soft, managable, ans stronger.  this SoyOyl does not add strength to my hair.  I still have breakage after I use it and that just does not happen with the DPR-11+.  I will keep this conditioner and use it as an everday run-of-the-mill conditioner. I will go back to my BSS to purchase the DPR-11+ for my deep conditioning treatments for when my hair is experiencing breakage.  For the record I have relaxed and color treated hair that I flat iron about three times a week and I roller set it at least once a week depending on my workout schedule.\n",
            "2484 1 0 I have always bought and likes TIGI curls rock.I saw this one and was thinking it is the sameas that, which is usually in a bright blue bottle.I bought and tried this thinking it was the samething only cheaper, and boy was I wrong. Thisstuff is really sticky and gooey. Don't wasteyour time, buy the real deal and get what itbetter!!\n",
            "2501 0 1 Not all that thrilling for me - doesn't do anything &#34;special&#34; but it's ok.  I like it because of the lack of sulfates but other than that it doesn't seem to do anything very exciting for my hair.\n",
            "2517 1 0 ...but if your hair is repaired after using this product, my daugghter prefers other products in this L'Oreal sulfate free line...particularly the ones that add volume and body.\n",
            "2526 1 0 I decided to try this since I am always looking for a great foundation.  I wasn't too impressed at all.  The texture is kind of dry like a mousse but thicker and harder to rub in.  So I intially put on a foundation base before putting this on and then proceeded to rub this in on top.  It was kind of hard to even rub into my skin and it seemed to flake off a little bit around my hairline, and on a side note  I had just put a lotion on after my shower so my skin was not dry at all.  After I finally rubbed it all in, my face looked kind of dry and just blah!  It had a kind of matte finish too it but with a little bit of a caked on look, and I did not even use much I just had a little on my foundation brush.  The color was a little too light for my skin and appeared lighter then it looked in the jar.  I would think this would work best for someone who has oily skin because it does give a shine free finish.  Overall, won't be buying it again.  Not really worth the price in my opinion.  I had to add a darker powder foundation over it just so I could run up to do some grocery shopping without looking like my skin was so dead!\n",
            "2534 1 0 * I still like the Dream Mouse Foundation by Maybelline* Unfortunately I bought a shade that was too light for my skin, so of course my doing for not liking it instantly* My favorites from the drugstore are still the Maybelline Color stay, Mineral mousse foundation and the Age Rewind with the Goji Berries for Primer.\n",
            "2555 1 0 This is a nice lipstick that stays on well. It's also inexpensive. But be warned it goes on dark. And not all that much amber in it. More of a deep red raisin color.\n",
            "2558 0 1 This lipstick does not dry lips yet it stays on for hours and hours. Even though it's a dark color, I only apply it once in the morning and once after lunch (though I probably don't even need to re-apply).\n",
            "2569 1 0 \"L'Oreal Paris Eversleek Smoothing Deep Conditioner,\" can, I find, work nicely as part of my hair care routines. The manufacturer recommends its use once a week, to be left on for five minutes, and states that this product is free of harsh sulfates and heavy silicones, but contains Argan, sunflower and olive oils in an intensive, rich formula that weightlessly smoothes and nourishes the hair, helping to control frizz and improve manageability.  Furthermore, they state that, unlike some silicones that can coat hair, the natural oils in the contents will penetrate the hair fiber, while its natural botanicals are invigorating.However, I use this product only approximately once a month, to deep condition my hair after it has been colored, and I leave it on for an hour if I can. And it does seem to work. I've got naturally curly hair with a tendency to frizziness. And my hair does remain sleek, shiny and frizz-free for up to 48 hours, perhaps less than that when we get into the real summer heat and humidity around here.I note that the ingredients do, however, contain various alcohols, and a whole lot of mind-bending artificial ingredients that I'd be more comfortable without.  Still, I must say that so far the product seems to be working OK.\n",
            "2583 1 0 it's extremely thick and heavy.  I don't use it more than once a week because it leave my hair heavy and it gets greasy and weighed down.\n",
            "2592 1 0 I have had better for less money. It has a funky smell too. I can handle just about anything (as long as it's not that patchouli oil) but this just rubs me the wrong way.....can't wait until it's gone!\n",
            "2595 1 0 At first when applying the conditioner it smells very strong and chemical like, fortunately after rinsing it out it smelled more like baby powder which is the fragrance that is left on the hair.  Since this product is silicone free it left my hair somewhat dull and dry. So if you have thick, porous hair and are use to most conditioners that leave the hair glossy this one wont. The only good thing is it did help with frizz.\n",
            "2607 0 1 There are many reviews praising this product and several others saying it's horrible. What's the truth? Well, it all depends on the type of hair you have. If you have dry, chemically treated hair, or ethnic hair which may be a bit coarse, you will probably be moderately to very pleased with this product. If your hair is fine, and gets greasy easily, this product might provide too much moisture for you.  The shampoo, used in conjunction with the conditioner provides adequate moisture and texture to otherwise dry hair. In applying the conditioner, I immediately noticed a difference in the softness of my hair. I have been struggling with dryness in my hair. No matter what the product, my hair would still feel thirsty. I now realize that the sulfates in my prior shampoos and condtioners were drying out my hair. I am pleasantly surprised and pleased with this product. And plan to continue to use as a shampoo and conditioner. For extra moisture, I use a another product as a deep conditioner once a week.\n",
            "2610 1 0 This conditioner and shampoo made my hair dry and oddly crunchy, and did little, if anything, for frizz, which I tend to have on the top layer of my hair. I love the L'oreal EverSleek hair serum, so I assumed this would be great too, but nope.\n",
            "2617 1 0 I bought this a few days ago for my daughter who has 4a hair, When i washed her hair with this product it was oddly rough and the suds are too much, it's like all your hairs nutrients are being stripped right in front of you! The suds and soaps went on and on which is great if you like to look at soap but not so much if you want a product that works. Her hair is just as dry frizzy and coarse as the day before with just as many flyaways.\n",
            "2618 0 1 There are many reviews praising this product and several others saying it's horrible. What's the truth? Well, it all depends on the type of hair you have. If you have dry, chemically treated hair, or ethnic hair which may be a bit coarse, you will probably be moderately to very pleased with this product. If your hair is fine, and gets greasy easily, this product might provide too much moisture for you. The shampoo, used in conjunction with the conditioner provides adequate moisture and texture to otherwise dry hair. In applying the conditioner, I immediately noticed a difference in the softness of my hair. I have been struggling with dryness in my hair. No matter what the product, my hair would still feel thirsty. I now realize that the sulfates in my prior shampoos and condtioners were drying out my hair. I am pleasantly surprised and pleased with this product. And plan to continue to use as a shampoo and conditioner. For extra moisture, I use a another product as a deep conditioner once a week.\n",
            "2622 1 0 I'm testing long curly hair against a very humid environment here in DC, and I haven't seen any difference between using this product and going without it.  I will not spend the money on it again because it doesn't fight the frizz as I expected it would.\n",
            "2626 1 0 I was very happy to find this new product after the one I used previously by Garnier had been discontinued.Everything felt good. It was easy to apply to damp hair, made blow drying the hair a lot quicker and made my hair look good after blowdrying.A half hour after I had finished blow drying my hair however, my skull got very itchy. And an hour later I had a bad headache from this product.I had to rewash my hair to remove this stuff after three hours due to these problems of Headache and Itchy Skull.\n",
            "2627 0 1 Sorry but this stuff made my hair frizzy puffy and ugly. I looked like I had a helmet on. I only used a very small amount in my thick wavy hair. Not recommending this to anyone :(Edit: I decided to give this stuff another chance since it has such great review. And boy am I glad that I did! I used more than my usual tiny pea sized amount of product this time (about a dime size this time) and this stuff is fantastic! My hair is smooth and isnt frizzy or puffy anymore. I live in Florida so that is quite a feat for this product to accomplish :) I would recommend this to thick frizzy puffy haired people\n",
            "2630 1 0 I picked this up because my fine hair tends to have numerous fly aways on the top of my head and occasionally frizzes out on the sides in humid weather thanks to the natural waves in my hair. I use a straightener every day but still some of those pesky hairs just won't cooperate. I was excited to try this.. until I actually used it. It recommends 2-3 pumps of creme and I used 1, being it was my first time and I didn't want to overdo it. Not only did it do NOTHING for the frizz, it made my hair stiff and greasy. My hair that is normally soft and shiny is now a clump of gross, greasy straw. It has been a WEEK and I have washed my hair once or twice daily to get rid of it and my hair is STILL stiff and greasy. Maybe this is only intended for extremely curly or frizzy hair and it's not the right product for my hair type, but jeez, at least let me wash it out!! :( VERY frustrated and returning for a refund.\n",
            "2638 1 0 I think the price is fair for this pleasant product with it's light feel and subtle scent.  It's not a miracle in a bottle, but it does seem like a decent smoothing leave in cream for hair that can be coarse and dry.  It smells good and doesn't weigh down my hair, but I did find that I also needed a touch of argan oil even with this product.\n",
            "2640 1 0 Got a sample in the mail of the new Ever Sleek shampoo, conditioner, and leave in conditioner.  The shampoo and conditioner were \"fine\" meaning, they didn't do anything special for my hair; nothing as promised on the bottle...just \"fine\".The leave in treatment on the other hand.. HATED IT! Sticky, greasy, yucky mess. I added a pea size amt to my palm and smoothed it all over my hair concentrating on the ends like it suggested. It even looks like lotion, it is thick and white. When I went to style it, it wouldn't dry, I blew it dry and combed it out. It felt like I had a glob of lotion in my hair. It was sticky, and would not hold curl on the ends like I normally style it. It looks ok but when you touch it, it just feels gross and greasy. I threw the rest of the sample away. I never want this junk in my hair again!  I will stick with the nice spray leave in treatments I have been using thank you very much.I guess if you have REALLY frizzy coarse hair, you may like this stuff, but if you have fine slighly frizzy hair or if you plan to put a curling iron thru your hair do not use this. You probably won't like it.I\"m happy I didn't pay for a full size.\n",
            "2643 1 0 I just got this and haven't used it yet.  I turned it on to see how fast it heated up.  It got really hot really fast.  So how can I tell if I ended up with a fake one?  I've read all these reviews about sellers selling fake babyliss flat irons, but no one explains why they think it's fake.I called the babyliss customer service, and they had me check a number on the product itself, and they said mine is authentic.  But I read the fakes are pretty hard to detect, and are very well replicated.\n",
            "2645 1 0 Edit: I've been using this iron for over 6 months now and my hair is very damaged and I don't even put the heat up all the way.  Be sure to use some kind of heat protectant protect on your hair before using this flat iron.  I will be looking for a new flat iron that is less damaging.This flat iron works great.  I have very, very curly and frizzy hair and this flat iron gets it perfectly straight after blow drying it out with a paddle brush.  I'm super picky about flat irons, but this has met all of my expectations.  And I cannot believe how fast it heats up!  I have 3 minor complaints which is the reason I didn't give it 5 stars.  First is that it needs to have an auto shut off function.  Since it gets so hot, I can imagine it would be a major fire hazard if you forgot to shut it off before leaving the house.  I was used to having this with my old flat iron.  Secondly, I wish there was a clearer indicator that the iron was on.  There should be a light or something on the top of the iron to indicate when it's on.  And lastly, it's kind of a pain that it doesn't recognize the last heat setting you had it on.  So every time I turn it on, I have to hit the button 4 or 5 times to reach my desired heat setting.  Not deal breakers, but adding those 3 things would make this flat iron exceptional.\n",
            "2648 1 0 Not hardly! I am an African American woman with what I call \"heat resistant\" hair. Normally, I have to do a \"wet set\" to get soft, shiny, straight hair... only, by definition, \"wet set\" is code for lots of curls that I either have to flat iron anyway or wait till they fall to get truly straight hair!! lol  My hair is coarse, but not as coarse as most Black ladies, but it is not quite in-between hair either, it is not what people call \"kinky\" AND I have deep waves. It's the kind of hair that if I put a curling lotion or a wet solution like Sebastian's WET, it will curl up and stay that way... as long as I don't try to comb it out! LOL  My hair is thick and long.So, I was thoroughly impressed with the reviews here from other African-American women who had claimed they'd found the solution to straight, no-frizz, non-salon hair.  Many said that you could get your hair straight in one pass.  As this iron costs so much money (I found one elsewhere for $69.99), I read a lot of reviews, watched some videos on YouTube, and, after much debate with myself, decided to give it a try.So, here is what I did: I'm a huge fan of Ojon products and I used their Detox Shampoo to make sure I didn't have any product buildup. Then, a nice deep conditioner that rinses out, then FHI Heat Hot Sauce (which is a good product by the way) on my damp hair.  I blow dryed it nice and straight (the Babyliss Hair Dryer works pretty good/can't see why it's so expensive though), and let it dry overnight. One thing I've learned from salon styling, your scalp needs to be really dry.  Then, I used got2b crazysleek xl conditioning #4 for coarse hair straightening... so, I'm all set to flat iron.I heated this baby up to 410 degrees. And, it heated up real fast, on that I will agree with other reviewers. But, I ran it through my hair expecting this nice sleek finish in one pass... but, ... nothing! So, I ran it through again and now I can see it beginning to straighten.  So, I pumped up the heat to 450 degrees and tried it again.  Now, a little more straight... all the way down to about 3 inches from the ends (my hair is down to the middle of my back), but, that was about it.  The ends still looked frizzed... heck, they were downright fuzzy! AND this was after about 4 or 5 passes.So, I had to pull out my Maxius to finish the job!  Now, Maxius is one of the first steam straighteners. You run one pass with steam, and the next with the iron clamped as tight as you need it... as slow as you need it. It comes with one toothed and one smooth plate. (I've never used the smooth one.)  But, a pump of steam on my ends and one tight, slow, toothed pass later and my ends were straightened too.Another reviewer on Amazon said that no amount of straightening will handle dry, split ends, but, my ends are dry... not necessarily split except at the very bottom, and I trim my hair every other month, sometimes more frequently.  Still, my Maxius has not failed me yet in that department.  Plus, steam is supposed to be better for your hair, it opens the \"pores\", if you will, and allows the product and heat to penetrate on a deeper level.  This means that the ends are actually reconditioned as you straighten.Now, you may ask, if I have the Maxius, why try this one?? Because all the reviews said that their straightening efforts lasted so much longer, with minimal frizz, AND that this iron greatly reduced straightening time.  Not so in my case, it actually doubled my efforts as I had to go back over my entire head with the Maxius to get it really straight.Besides this fact, these Babyliss appliances have cords like you would not believe!! Nice, thick, sturdy, and long... about 8 feet I think.  But, the only thing it did do that was great was allow me to get closer to the roots than my Maxius. Which, my iron is 2\"... so, it's a little bulky (another attractive quality about this iron was its' slimness).Side notes: This iron DOES get HOT on the outside. I started becoming a little concerned for the finish on my dresser, so you have to put something under it when you use it.  My Maxius gets hot too, but not so hot that you can't touch it and it is grooved on the outside so you can turn it over and let your hair continue to glide thru as you get closer to the ends.  It also has a raised solid bump which means that you can sit it on your dresser or countertop without worry, which really doesn't mean that much as the outside doesn't get so hot that you can't lay it directly on the dresser finish anyway.Overall, this was a $70 lesson for me: stick with what works well for you, and use better straightening lotions and conditioners to aid in that process. New, sleek, shiny, and works well for others may not be what's best for your hair.  I actually considered keeping this for a brief moment to address my roots, but then remembered that my \"toothed\" mini-Maxius with its' groove exterior can handle my roots just fine.  I hope the return policy where I bought this is in effect, because this one is going back!!It gets only 2 stars, because I believe there are a lot of inexpensive flat irons that are just as capable as this one.  There is nothing special for the bucks this one costs!Did I get a defective model?? I don't think so. AND I don't think that it is a coincidence that the Babyliss Wet to Dry Flat Iron actually states that it \"works well on coarse hair\" and this one doesn't.  I think that the steam makes a difference.  Bottom line: if you have thick, coarse, maybe \"kinky\" hair, try the steam one.  If not, try the Maxius... both of the large ones use steam, the mini-Maxius does not, but is good for quick touch ups - especially on bangs. You actually put water in them to create the steam, so, it is not just generated from the machine.  But, I wouldn't buy another Babyliss anyway, steam or not.\n",
            "2660 1 0 my babyliss has a gap in the straightening plates toward the switch and when straightening my hair, it pulls and snags and really hurts.  the top plates touch together but again it doesn't make a flat even contact.  i am able to straighten my hair all at once because i have fine hair but i truly expected more from a product that's recommended by stylists comparable to the One Pass.  ow, ow, ow, ow, i dislike this product a great deal.\n",
            "2670 1 0 Every time I buy a new face product I expect to see dramatic changes...I know my expectations are too high. This product is fine - just can't say it's any better or worse than anything else I have tried.\n",
            "2676 1 0 I was looking for some face serum, and I'm on a pretty tight budget at the time. I love Clinique's clinical dark-spot corrector, but again, I'm trying to be very frugal at the moment. I thought this would be a decent drugstore substitute, based on some other reviews.I haven't really noticed any big improvements from this, other than it helps to keep my skin soft. I'm not noticing any changes with my complexion or the fine lines that I'm starting to develop. I probably won't buy again.\n",
            "2680 1 0 I've been using this for months and haven't seen any difference in wrinkles... then again, I started using it because I wanted to avoid deep wrinkles in the first place, so maybe I just can't tell. Still, I would expect to see some diminishing in the fine lines I already have, and I haven't. For the price, it's not worth it... there are probably better serums out there.\n",
            "2681 1 0 easy to apply, very smooth and skin feels tight immediately; but, on my fair skin, face turns red and slight burning sensation after a few seconds. After about 1 minute, the redness disappears and skin almost 'cools off'. I stuck w/it for a month and decided to try something else to see if its my skin, or the product.\n",
            "2689 1 0 I gave it 3 stars because I can't really tell if it did anything. The cream has a nice scent but otherwise I just can't say. Sorry that I can't give any info to anyone wondering if it's worth it.The one thing I can say is that the price on Amazon is better than Walmarts. That's one of the reasons I tried it.\n",
            "2693 1 0 I have used this for several weeks and find that I have gotten the same results from less expensive brands.\n",
            "2697 0 1 I thought I bought the corrector- but my mistake- i do use it occassionally not on a regular basis like the correcot which I love.\n",
            "2699 1 0 I read the reviews and the comparisons to genefique by Lancome.I've smeared it on several days in a row now, for over a week. It's not bad. I just feel there is no THERE there.I didn't experience any irritation, no breakout, no---nothing.It just has a cooling feel upon applying, but I can't see any difference in my skin.Plus, sometimes when I get a little irritation or notice SOMETHING, that means change (cellular turnover, improvements, etc)Maybe it is just that I have enough good products that really seem to make a difference for me, and there is just no more room, but I wouldn't buy it again. And the youth code eye cream seemed even more useless.\n",
            "2702 1 0 While youth code cream is not bad, this serum is very light and fairly effective. I've been using both for almost two months and I am definitely seeing tighter and more luminous skin. I still use the loreal wrinkle decrease pen on my fore-head. This is NOT as effective as de-crease serum but since Loreal happily discontinues all their most effective products each yaer,  I'm using what I can afford. When I have the spare cash I'll by Lancome resolution and genefique serum.\n",
            "2703 1 0 This Youth Code has a lovely scent, not strong but just enough when applying.  It seems to tighten the skin and l use it a couple of times a week.  Will have to use it for a few months to give a fairer assessment of the results.\n",
            "2704 0 1 NOTE:  The picture Amazon is showing is incorrect, this is not in a tube, it's in an air-pump bottle.  I have uploaded a photo of the correct item you will receive.A little background:  I'm 45+, dry hormonal skin, I'd been using Olay's Regenerist and Total Effects with some Neutrogena items thrown in also for quite awhile, but I'd hit a point where they weren't working so well for me.  So I picked up a few samples of Lancome's Genifique serum.Now after a few weeks I can compare Lancome's Genifique Youth Activating Concentrate and the L'Oreal Youth Code Serum.  In case you don't know, L'Oreal owns Lancme.While I loved what Genifique did for my skin I couldn't justify spending $80 for 1 ounce of serum. Youth Code is even better, not only for the price, but this:  After comparing these two serums, their ingredient deck is almost identical, except Youth Code contains two beneficial peptides that Genifique doesn't have, as well as Youth Code contains N Hydroxysuccinimide, which is an ester used in skincare that helps reduce dark pigments and inflammation of the skin.  Additionally, Lancome's Genifique contains castor oil, which I'd rather not ingest through my skin or my mouth (yuck!).The only bad thing I can say about the Youth Code is I notice a little more perfume-y scent to this compared to the Genifique, but it dissipates in a minute or so.Youth Code has taken my skin up a notch from the Olay products.  I'm using Youth Code until something better comes along -- my skin is looking great, and I'm saving a ton of money over the high-priced Genifique.\n",
            "2712 1 0 I rarely have any pimples but this cream made me break out.I assume because it clogs pores.It also stings a little, right after you apply it.\n",
            "2722 0 1 Cannot change my review to THREE stars. After a month I'm not that impressed. Another reviewer aptly pointed out that Lancome owns L'Oreal, and they often put out similar products. That said the serum in combination with the day/night cream IS NOT as effective as Genefique. The one advantage Genefique has is that it is as light as a feather and can be used on enlarged pores and sensitive skin but the price (98.00) is simply out of reach for most.Youth Code is NOT as effective as Resolution refill either which I have found to literally erase wrinkles. Granted I'm over 30, nearly wrinkle free as it is and have always worn sunscreen so I have minimal signs of any ageing. My forehead and frown line is the one concern and Lancome resolution smooths it 100%. L'oreal now discontinued decease/collagen refill was a great, cheaper version, almost as effective and youth code now takes it's place but is not as effective.\n",
            "2731 1 0 My wife has dry skin, and has been concerned about wrinkles. She tried this product, and LOVED the eye wand. It was cooling and really helped with dryness and puffiness. It only took a couple of days and she really noticed a difference.The downside is that the other two products (day lotion and day/night cream) gave her zits. She broke out badly, and then had to deal with getting rid of zits, which she hasn't had to do in 15 years. The creams felt nice going on, but definitely did not produce desirable results. Your mileage may vary, however, depending on your skin type. Be forewarned.\n",
            "2733 1 0 This set comes with 3 separate moisturizers:  A day moisturizer, an eye cream, and an overnight moisturizer.The day moisturizer was lightweight and, frankly, a little light in the contents department.  The other 2 bottles in this set have the ounces labeled, but this one does not, and I found it ran out very quickly.  The inner container is white to make it look like it's full, but I suspect it may not be.  Further, with absolutely every other moisturizer I have used, I use a significant amount for a few days but then can start to use less of it as my skin adapts to the moisture.  Not with Youth Code!  I have to use a ton of it, especially of the day moisturizer.  The overall moisture level is not great, at least not for the hype and the price.  With this particular bottle, I got about the equivalent moisturizing as the lower price popular drug store brands, but without any exfoliation to speak of.  Other brands usually help slough off old skin cells, but I did not get that with Youth Code.  I personally would use the day Youth Code brand as a secondary moisturizer for times when I end up washing my face in the middle of the day and need something quick and light.UPDATE:  I wanted to mention that I went back to using the day moisturizer a few weeks later to give it another chance.  I noticed that after about 5 minutes of applying it, I had to apply more because it just didn't slough off any dry skin or moisturize properly.  A second application made my face really greasy after an hour or so, though, and I noticed a significant patchiness and uneven color to my skin.  Definitely not impressed with the day moisturizer.The eye moisturizer didn't do a thing except sting a little and make one small section of my under-eye area puffy.  The applicator was useless, but I don't mind using my fingers to apply it.  As I said, once it's applied it stings a little, and there is a small oval under-eye area near the bridge of my nose that puffs up after it's applied.  I have had similar puffiness with other brands so this was not surprising, and the good news is that it puffed my skin up less than other brands and the puffiness goes away after about 10 minutes.  If I only use it about twice a week, I do notice some slight softening of the skin under the eyes, so it appears to moisturize as advertised.  Again, though, neither wrinkles nor eye circles were affected by this product.  I will still use it twice a week for softness, though.The nighttime cream (called the day/night cream because it can be used for both) is best used as an overnight cream put on just before bed, but I've used it both ways.  The first 2 nights I used it, white chunks sloughed off my face, and I've found a few gummy bits in the tub.  I don't believe it was exfoliation, but instead from the lip of the tub where the moisturizer was exposed to air and dried a little in the cold during mailing; if you buy this in a store, you probably have nothing to worry about.  I started using this one twice a day after the day moisturizer just didn't do anything for me.  This day/night moisturizer is thicker but, again, I had to use quite a bit of it.  While it seemed to work at first, within an hour my face would be dry again.  I would put this on and then about half an hour later go to put makeup on and need more because of some dry patches on the skin.  The scent of all these products is pleasant and relatively mild, although the tub of day/night moisturizer smells a little like glue.UPDATE:  When my second try at the day moisturizer didn't pan out, I started using the day/night cream once a day in the morning.  It actually worked really well, with significant moisturizing that lasted several hours.  I only used it once a day which still gave significant benefit.  The scent, though, is really unfortunate.  It is just like glue, and I don't think I could use this all the time because of the scent.I was so sure that I just hadn't given this enough time, which is why I went back and tried the day/night and day moisturizers again, but after all that, I pretty much give up.  I am going back to my usual department store brand, which of course I can't name, but to compare price note that a tub of it the same size as the day/night Youth Code is just under $20 and performs exponentially better.  There was no difference in wrinkles, age spots, or anything else that would make my skin look \"younger.\"  For the price, you're not getting anything with Youth Code that you can't get with a lower cost general moisturizer at your favorite drug store.\n",
            "2735 1 0 The day and night moisturizers in this set are very creamy, but absorb quickly without leaving a greasy feeling to your skin which I really like.  They also have a pleasant frangrance.  However based on the title of Youth Code I was hoping they would help with fine lines and so far I haven't seen any difference in that aspect but I have only been using it for about a month so I will keep my fingers crossed that I see some results.\n",
            "2736 1 0 Having no desire or need to \"regenerate\" my manly skin, or anything else, I gave this to the missus to try out. She took her time and used all the products, and here's what she had to say about them:\"I am almost 50 and have all kinds of skin problems (large pores, oily skin, periodic breakouts, age spots, wrinkles, dull tone, you name it), so I have tried a lot of different kinds of skin care products from all the major brands, as long as they weren't too expensive. Prior to my husband giving me this kit, I had not tried any of the products here. While testing them, although I did not use the products exclusively, I completely used up everything in the package over a time period of about a month. The result was it did not irritate my skin like some products have, but I did not see any noticeable improvement in my skin at all. It moisturized fine and went on smooth, but it just wasn't anything special. Overall I'd say this is an average product and I do not think that I would buy it for myself, simply because it doesn't give me any \"luxurious moments\" when applying the products to my skin, and it doesn't have any significantly better effects than other skin care products I am using (at about the same price range). Three stars.\"\n",
            "2743 1 0 Creams are smooth and not especially greasy.  If you are not a regular user of moisturizers, then this is a good, economic starter product set.  I did not see a significant reduction in wrinkles or lines on my skin, as I do with a top of the line Elizabeth Arden product.  However, living in a desert climate (Colorado) forced me to start using a daily moisturizing regimine at ~33 years of age.  I have pretty good skin, but 10+ years later the wrinkles came.  I have been searching for a great and effective product, but L'Oreal's Youth Code was not it.  It is a good moisturizer, but did not 'plump' the collagen in my agin skin as well as other products do.\n",
            "2745 1 0 So i got this for my mom and decided to have her let me know her thoughts.she said that after 2 weeks, she did feel that her skin was softer, and noticed a little more firm.its almost like just a really nice lotion than much else.worth the price? not at all.. in both her and my opinion.\n",
            "2746 1 0 All sunblocks must have an expiration date. It is for safety reasons and for health/skin cancer it is critical. I love the eye product it is phenomenal. I also like the night cream. I think my reviews are very honest and not demeaning in any way. I have seen reviews on here that are very aggresive so when I spend my valuable time providing reviews, it would be appreciated if a. I am told exactly what I did wrong b. I don't have to surf through all the content, clauses etc. I have had issues with all the bureaucracy if it's Amazon verified, why don't I receive more assistance when these issues arise? When I published this Amazon was removing my reviews all the time and not saying why or how to resolve it. I am very pleased with the Youth Code generation of L'Oreal they are cutting edge with skincare but dissatisfied with unethical sellers who could care less about customer satisfaction. This is related to the product and reviews. If integrity is compromised why do I have to pay for it? My reviews are to help buyers and hope that the seller and Amazon notice for I always was taught in sales - the customer is always right and if they aren't they are still your customer. Don't buy sunblock without an expiration date, it's actually the law in the United states.\n",
            "2747 1 0 Having reached my mid-40s, I've become somewhat obsessed with undoing the damage to my skin caused by a couple of decades suntanning, sleeping in makeup, and skipping the moisturizer. As part of my efforts, I'd had a glycolic peel which had produced amazing results. I've also become religious about daily cleansing, toning, moisturizing, and every week I get a facial. The result was that my skin had been looking better lately than it had in YEARS.Then I tried this stuff. I did not change anything else in my skincare routine; I simply used this daily moisturizer, night cream and eye cream in place of the Olay Pro products I'd run out of. Three days into it, I started to break out. Every woman knows those things can happen with hormone fluctuations, stress, eating the wrong stuff or, heck, just because the planets got out of alignment. (Kidding.) So I kept using Youth Code... and I kept breaking out, particularly on my nose. Meanwhile, I thought the skin under my eyes was looking less hydrated but I also wondered if my frustration over my breakouts might have made me more critical of the product.When I went for my weekly facial, my aesthetician just about blew her top. Not only were my pores clogged again (hence the nose zits) but she confirmed that the area under my eyes looked more crepey. So I'm not using this product anymore, and now I'm looking at a couple of weeks working on unplugging my pores and calming my skin again.I wouldn't recommend it to anyone.\n",
            "2758 1 0 I wish I could say I see some difference but I really don't.  I regularly use a similar product.  These do feel good on my face. My favorite was the day cream with sufficient SPF protection.  It is nice and light with plenty of coverage in a minimal amount - just a few drops a day. The night cream is a lot heavier... heavier than I am used to wearing at night.  I like the eye cream and the metal tip of the dispenser feels cool to the skin around the eye, which can be soothing especially in summer.  I find however, that I still need to use my finger to evenly distribute it.  I use an eye cream every night anyway, not this brand, but I don't see any difference.Economically it can be a good deal to get the 3 combined products in one package, for the one price, as opposed to buying them separately if you really like this brand. For those that are buying High-End Department Store products it would be a savings for sure, but not necessarily for the drug-store-brand buyers. I will continue to use it until it is gone and then re-evaluate my review - stay tuned!\n",
            "2760 0 1 I don't think there's a way to neutrally review a product like this.  It would take a long period of use to determine if it is having any effect.  I will say it feels good on the skin, not oily and does not immediately disappear like some skin creams. Cosmetics make a lot of claims that can't be substantiated.  My take is that if it feels good on your skin it's probably the right product for you. It seems to me that these are very tiny bottles for the price and it is not the greatest value.  But that's a personal decision ... if you have the money and it makes your skin feel good, go for it.\n",
            "2762 0 1 The package of this product screams \"SUPER SCIENCE!\" but in reality the contents are far more tame.  The Youth Code set contains three items: a generous sized moisturizer with SPF, a small tube of eye cream, and a pot of heavy morning/evening cream.  I can already tell that I'm going to go through the pot of cream very quickly; I can't eyeball how much is left of the eye cream but I suspect it will be equally short lived.  I'll review each of the products individually and then as a group.The moisturizer with SPF: This is a very light and clean feeling moisturizer.  It goes on easily and disappears quickly; two small pumps were enough to cover my whole face.  It makes an excellent base for foundations and other make-up.  I rate this piece 5 stars.The under-eye cream: The tube this comes in looks very odd, almost obscene-- but it works well and after a week of applications I can put it on very quickly, with just two swipes.  It's heavier than the moisturizer, and I also noted that after I got home from my in-laws house, whose dog I am allergic to, my skin was a little raw and the eye cream actually burned for about 20 seconds.  Unpleasant.The pot of lotion: Very nice texture, feels almost whipped.  Sinks in quickly, leaves face feeling fresh rather than sticky.  In terms of heavy lotions this could easily go up against the department store creams I've purchased in the past and is much more reasonable in price!  Again, some pain when applied to very sensitive or mildly irritated skin.As a set, these lotions work fine, but they'd work equally well separately.  I'd be tempted to just continue with the light SPF lotion and save the pot for when my skin needs some real help, like after being out in the snow.  In terms of anti-aging, I have a few small areas of concern and I did not notice anything above and beyond the usual plumping associated with adding a nice quality lotion to my face; but I don't have fine lines, so I can't speak to that.  I suspect that all the SUPER SCIENCE here is just another fancy way to sell what is quite simply a fine lotion.  No miracles, but I can't say I was disappointed.\n",
            "2765 1 0 Let's face it, it can get expensive to keep up with nice skin care products!  I love my Lancome, but when I saw a less expensive alternative, I thought I'd give it a try!  Well, I wasn't expecting miracles, but I also wasn't expecting \"nothing\" either.  I like the eye cream, but other than that?  I will stick to my Lancome where I can see a difference.  I felt like I used the product and was expecting to see a difference and did not.\n",
            "2766 1 0 Both the day cream and the night cream are quite nice, with a perfect texture--not too thin, not too greasy. Some have complained that they leave the skin too matte, but that's a plus in my book as so many creams take forever to absorb and make it hard to apply make-up quickly. I can't say the results were spectacular (in terms of the product's claims), but on average, it's a good product line.The SPF 30 is great in the day lotion--15 is usually not enough but is more common. I can't say much about the eye cream, though. The metal applicator is a nice touch, in that it's naturally cooling for your eye skin, but I found that it was hard to apply smoothly and ended up just using my finger as usual. If you just want to try out one of these products, I'd recommend the night cream. It stood out as being the most effective of the three products. However, the kit is a good way to try out the product line (you pretty much get one product for free), especially if your skin doesn't do well with mix-and-matching.\n",
            "2767 1 0 Hands down, this product has a beautiful scent, my favorite in fact.I've tried a lot of products on my 50 year old skin and this hasn't produced results different than the $5 jar of Ponds cream or the Oil of Olay products I typically splurge on. This product does feel wonderful on my skin.  I like that it is absorbed quickly and doesn't feel greasy.  I am not sure that it is worth the cost, however. The idea is that your skin will appear more youthful and I've not noticed anyone wondering who the new girl is.I will say, however, that good skin is more than topical products. My skin responds more to my hydration levels and food choices.  If I drink enough water and eat more fruits and veggies, I have better skin. I actually can almost achieve 'glowing' skin if I try really hard.  (The main difficulty is our local grocers generally have lousy fruit.)\n",
            "2769 1 0 I gave this to my wife who has been using it for about 3 weeks and applying it daily. I have seen no difference and when I asked her about it she also felt that there was no visible difference and that it was a bit tedious to use all 3 products daily.  She has used O'lay in the past and there was a much more visible effect.  The one nice thing was the L'Oreal product smells nice.  Also if you are looking to work on the lines under your eyes Anthony's has a product that also has shown results on my wife as well as myself.  If you are looking for a magical turn around I don't think you are going to get this with L'Oreal or if you do it will take more than 3 weeks.\n",
            "2776 1 0 I am a product junkie. I try new things all of the time, not just for my skin, but everything.I was excited when I read the hype and the reviews about Loreal's Youth Code.I usually post over-the-top, very positive reviews. I don't often take the time to comment on things I don't like, unless I feel like I can save someone the trouble or wasted money. That's why I'm posting this.The cream comes in a nice tube, has an odd little metal tip (used to keep the under eye circles cool and reduce swelling? You'd have to hold it on there for a while)It is non-irritating, has a pleasant scent, but I could tell no difference using it. I also used the serum, and while it felt good 'going on' I could see no positive results with it either.This eye cream felt like an inexpensive facial cream. No bells and whistles. I'm sure it moisturizes, but I didn't feel there was some underlying code for youth in it.I like Olay Regenerist MUCH better, and even though I found it made my face red for the first week and a half, I could see a visible difference.Youth Code, nada.\n",
            "2777 1 0 Okay...I bought this product two days ago, but I have already seen results. I've had under eye wrinkles and puffiness for about 4 months and it's been driving me crazy. Concealers (I've tried several) had settled into the lines. Seeing this new product on the shelf, I decided $20.00 wasn't too much money and if I didn't like it, I still had the receipt. I'll come back later and update my review in a month, but for now, my fine lines are less noticeable, puffiness is gone and I'm estatic about it. I'm going to order the day/night cream from Amazon.Update: November 26, 2011It's been almost a year and about a week after using this product, it wasn't working as expected. My wrinkles were less noticable but not gone the way I wanted. I decided to buy Dermae Peptide Plus Wrinkle Reverse Eye Cream. I love it so much that I use it every day. The jar is almost empty and I'm ready for another jar. It's inexpensive (about the same price as Youth Code). It HAS kept my wrinkles at bay for a year. That's all I'm asking!\n",
            "2799 1 0 Biggest piece of garbage, buy another brand!  This one worked ONCE.  Then stopped when I had a horrible sinus infection and it quit after one use!  Take it back to who?  I bought it 2 months ago, didn't need it till now so no receipts left.  I bought it here, but no idea from who.  SAVE YOUR PACKAGING or just buy at a local store, easier to return.  For $20, this is a waste o my time more than money.  It's irritating as hell to take the time to order this online, waiting for it to be delivered and then it doesn't work?  No, I'll be replacing this from a store, and NOT REVLON, ANYTHING.  CONAIR MADE A GOOD ONE...Going to find that one.  It lasted me 6 years!  Same price too.\n",
            "2801 1 0 I have issues with acne/overly oily face. At the end of the day, with makeup, and just from being out, my face feels really really gross. It feels good to take a hot shower and I feel like my pores can really open up.I had a fabric steamer which ran out too fast for clothing but was actually great for quickly producing lots of thick steam really, really fast. However, since it's a fabric steamer, I always was nervous that it would bubble up and scald my face.I wouldn't really call this a facial steamer. I guess they call it a &#34;sauna&#34;. Probably it's not very strong for the exact reason I mentioned - if it can scald someone, they're going to get sued, have recalls, etc. This honestly produces the same amount of steam as you would get holding your face over a bowl of very hot water - perhaps even less. The only way to get a lot of steam is to completely block everything with your face, and that's still just not enough. I thought the face shape would help but honestly when I was using the fabric steamer I liked being able to target greasy feeling areas. I felt like the edges of my face didn't get enough steam.Get a fabric steamer, if you're brave :)\n",
            "2809 1 0 I haven't seen a result yet\n",
            "2814 1 0 First of all, what happened to the high ratings posted here? They're all gone.  That's how I based my decision to buy this product in the first place.  Anyway, this is not a cream but a petroleum based product just like Vaseline.  It is greasy upon application and cannot be worn under make up. After almost 2 weeks of using this product, I didn't see any improvement on the skin around my eyes.  No changes in the dark circles.  Instead, I noticed that the few fine lines I have seem to double in number.  Normally, I don't have eye bags but after using this product, I developed eye bags.  My eyes looks puffy and tired. Everybody at home noticed the big difference.  I don't know if the item works for  other people coz it didn't for me.  I don't really recommend this product.  It's just a waste of money!\n",
            "2820 1 0 Not creamy. I think for my age the wax is too hard, and it does take quite a while to get it to soften. From here on in, I will stick to professional products.This could be for some people. For me, the professional products seem to work better or Living Clay makes my eyes nearly flawless.No problem with the seller though.\n",
            "2835 1 0 I have dark under eye circles from long hours at work and it bothers me a lot as I don't like walking around like a zombie all the time so I got this product based on the reviews. Unfortunately I've not experienced any of the wonderful results others have. I've used it for several months and have not seen a single change.\n",
            "2837 0 1 I've been using this cream under my eyes for approximately 3 weeks and I've yet to see much improvement in my genetic undereye circles.  It is very heavy and feels greasy on my skin, so I don't dare wear it under makeup (I have combination/acne prone skin, 30 years old).  However, this stuff is an amazing moisturizer!  I've used it more for dry peeling skin around my nose (from allergies) and for keeping my skin moisturized after at home chemical peels. Its all natural so it even works great as a lip moisturizer.  If you're looking for serious, natural moisturizer, this is your product.\n",
            "2856 0 1 It's  not the most pleasant cream I've tried: it has a thick and sort-of greasy texture. I actually use the back of my fingernail to stab at it a bit, to break it off the whole. That said, I've been using this consistently for a couple of months now and I do feel as if the area under my eyes and towards the ridge of my nose are lighter. My skin does feel and look better. I may update this review once I see how the jar I bought as a gift did for someone else.\n",
            "2865 1 0 This product has rave reviews and I can't figure out why. The only reason I can come up with is everyone wants a free jar. If you review the product positively, they'll send you a free one, but to be honest, I don't even want the rest of the one I have. It's not a cream, it's more of a greasy waxy substance. It doesn't absorb into your skin well and pretty much just sits on top of it. It has done nothing for my under eyes and made the skin on the rest of my face break out horribly. I would not repurchase, and if I could go back in time, I would not have purchased this in the first place. For $22 for such a small jar, I expect a product that works. What a waste of money.\n",
            "2878 1 0 This stuff works great for anyone who needs a light coverage concealer. It helps to brighten the undereye area, but to me, isn't really worth the price. Spend a few extra dollars for a higher end brand. For me, I use this stuff mainly for a highlighter. To brighten darker areas on my face it works great. but not recommended to anyone who needs higher coverage! I'd recommend Hard Candys glamoflage it retails at walmart for around $8! Also if you're looking for something that works good for underye circles, dark spots, or acne, I recommend Benefits Boing concealer! ($19 at Sephora or Ulta) but can be found on Amazon for under $10.\n",
            "2895 1 0 it's a pretty good drugstore buy! I would buy this again if i really needed it because it really blends well and lasts a while. I can't remember too well if it creased or not but you should probably look up youtube reviews about it.\n",
            "2901 1 0 I usually use the very cheap CoverGirl stick concealer. I believe I usually pay $3-4 bucks for it. I wanted to try this Photoready concealer because it looks new and exciting. Honestly, though.... it doesn't do any better than my same old stick concealer. The Photoready concealer runs about $10 in stores, but can be an add-on item here for around $7. It does the job it is supposed to do for the most part, but I can see my dark circles under my eyes more than you'd think with this new &#34;photo ready&#34; makeup. It doesn't really cover my blemishes unless stacked on top of my foundation. It was just a MEH purchase.It is okay, but I would say just go with the cheaper stuff.\n",
            "2924 1 0 I am writing this review with the help of my wife. I found this to be a decent general product that comes with a case to protect and hold all the brushes.Pros:The case is adequately made.There is a zippered pocket to hold eye shadows or whatever.The bristles are not hard or overly soft.Cons:There was grease or something on the case when I opened it after pulling it out of the plastic wrap.Smells like paint thinner even after being thoroughly and repeatedly washed.Even after washing 3 or 4 times the smell does give headaches.The brushes are not labeled and some of them are very similar.Just so you know:The handles are a little long for my taste.Handel's are made of wood.I bought these on amazon for 19$For a budget product I am not disappointed but would not recommend it for anything but perhaps a starter kit. (That you intend to replace in the near future.)\n",
            "2928 0 1 I naught them because people said there good but there alright. The brushes are not as full as they could be. The blush brushes were nice but are a little pokey.\n",
            "2932 0 1 i can say when looking at the reviews prior to buying these i was worried but then did it any way. all i can say is that they are a great purchase but not great if your a beginer they are not labeled at all !!!!\n",
            "2939 1 0 This product finally came in. Yes there was a smell as the other reviews had stated, but no, it was not something that was unbearable or soap couldn't take care of. I would just recommend not keeping the brushes in the case because I am pretty sure that is where the smell is coming from. Out of all of the brushes there was only one that I am leery about using and that is because one side looks new and the other side is a different color, but other than that all I can say is you get what you pay for and occasionally you get a little better than what you planned for. So far they seem to be a little better than what I planned for.\n",
            "2953 1 0 I ordered this palette not knowing what to expect....reading all the reviews, it seems ppl either love it or hate it, no in-between....I ordered so I would have lots of different colors to play with not really for a daily wear item.  I've seen these palettes that look exactly the same but are sold under various brand names for various prices...I got mine for $16.99 with free shipping, not bad, but this palette is elsewhere on Amazon for $12.99 including shipping...WOW!!!  Now alot of ppl are complaining \"they don't get much of each color\"...well, I was pleased, the shadows are abt the size of a penny, and how much sparkly green do u really expect to use anyway??!!  It arrived in good condition, only one shadow was cracked, the matte black and it didnt spill into the other shadows.  The shimmers are WAY more pigmented then the mattes....Gotta repeat what everyone else says...USE A PRIMER!!!!!!!  This is the only way u will get the color payoff.  IMO, NYC white is the best to use with these colors, they REALLY POP!!!!  Just a FYI...invest in a good black matte/smimmer shadow, even though this palette has two matte blacks, they suck and look grey on eyes!\n",
            "2961 1 0 I just received my eyeshadow today and as previous buyers have noted, one of them was broken and the case has a little crack in it...the packaging wasn't great so they could do a better job on that but the colors are very pretty. I'm still waiting on my brush set and I also purchased the eyeshadow base based on some other reviews.(3/6/12) I've had a chance to play with my eyeshadows and I absolutely love it, I always use the primer and a pearl shimmery base and plain white base(NYX) that I bought from amazon but found it at ULTA for the same exact price and I don't have to wait for shipping. Anyway, the colors are vibrant and pigmented, I don't need to use a lot of it and it stays on all day. I wore them in Thailand a few weeks ago and all of the Thai women loved them! But as I previously said, they are broken upon arrival and there isn't that little plastic sheet that covers them, like I've seen in most palettes...If you decide to purchase these I would buy them directly from the FASH website as I saw them on there and they were the same exact price and I think they'll do better with the packaging and shipping (I wish I would have went directly to the site)\n",
            "2962 1 0 Had problems with it my eyes swelled up\n",
            "2965 0 1 This was beautiful, and a great price, BUT...the damage was terrible. so many broken shadows, plus the mirror was broken. If they packed the product really good, it would've been perfect.\n",
            "2970 1 0 I have been on a run of mascaras lately. I have tried and rejected many. I'm looking for a paraben free and PPD free mascara and I have somewhat sensitive eyes. I prefer a mascara that is easy to entirely remove (for easy removal, I recommend Physiscian's Formula Organic Wear mascaras as they remove very easily with water and very little soap or oil, but are very sensistive to tears and moisture, so they can run a bit). Get up and Grow is a fairly healthy formula compared to many mascaras. I like the big, full wand, which makes application fast. The mascara dries quickly, which is a plus. It does tend to accumulate in the undereye area throughout the day, giving you an undereye shadow. For that, I just check at lunchtime and use a little lotion to wipe away any smudges. I really love the application, the way my lashes look, and the paraben free formula.The con for me is that I find this mascara strangely difficult to remove. How can that be, when it so readily smudges away throughout the day? Weird. I use soap and water to remove mascara. This one takes two soapings to really get off my lashes. Then, after a thorough washing, I still have black under my eyes. I use oil to scrub that off. But it never seems to come off completely. On weekends, I do not wear makeup at all. This Friday night I removed the mascara as described, feeling my lashes carefully to make sure it was all removed. Lashes feel totally clean. Used oil to remove undereye residue. Next morning, I wake up with black under my eyes. Same with Sunday, same with Monday. I remind you, throughout the weekend I applied no mascara at all, yet, Monday morning I am still finding residue. I don't want to have to soap up twice and then scrub with oil to remove mascara from the delicate skin of my eyelids. So, unfortunately, I will not be able to continue to use this mascara.\n",
            "2985 1 0 You get what you pay for.  They barely tinted your lips, only the darker one's gave some color.  I realize that they're lip glosses, but ask yourself &#34;Why would you buy 36 different lip glosses when you'll need to actually lay that corresponding color lip stick down first to even see the color?&#34;  Just buy your favorite good quality lipsticks and use one clear or shimmering lip gloss on top.\n",
            "2993 1 0 I purchased this curling iron to replace my 2 1/2 year old Hot Tools curling iron that had stopped doing a good job at curling my hair.  Based on my experience with Hot Tools products, they only last a short time before they stop working as well as they did when new.  I recently purchased a Babyliss flat iron which I'm pretty satisfied with, so I figured I'd give this curling iron a try.  First of all, it feels cheap because it's so light.  It feels like a drugstore curling iron in my hands.  Secondly, it has a much shorter barrel than my Hot Tools iron, by at least an inch or so.  Thirdly, I find the top part of the barrel to be too small.  This is the place you put your fingers when curling your hair.  Therefore, I've burnt myself several times and I'm sure I will continue to do so until I get used to it.  And lastly, I seriously have doubts that it heats up to 450 degrees.  My flat iron gets that hot and you can see the steam and feel the heat on my head when using it.  It just doesn't seem like this curling iron reaches that high of a temp when I compare it to my flat iron and based on the curl results I'm getting.  While it does do a much better job curling my hair than my old curling iron did, the curls don't have lasting strength, which is what I was really looking for and expected from this iron since it gets so hot.  Mind you, I do have very thick, coarse hair.  So this iron may work better for someone with fine or thinner hair.So compared to the Hot Tools curling irons, I'd recommend this product.  But there has to be better working and designed curling irons out there.\n",
            "2996 1 0 It Okay nothing to write a long extensive review on, it doesn't feel any different than any other curling iron.\n",
            "3001 1 0 Positives:1) 50 settings?! I don't even know what to do with 50 settings!2) This barrel yields tight spirally curls.  They have a naturally curly look.3) Nice loooong barrel and handle.4) Heats up quickly.5) Pretty, this aqua blue iron looks great on my counter.Negatives:1) Even when shut off the barrel gets very hot when left plugged in.  This must be some sort of safety hazard.2) The curls fall out within hours without a lot of spray.  This curler also seems to leave my hair drier than before I curled, to be expected, but you always hope for the best.\n",
            "3011 0 1 This smells very pleasant and shampoo feels mild. But it's does not do anything extra ordinary, maybe because it doesn't have any of the &#34;bad&#34; stuff in it.  Nice, but not 5 stars.\n",
            "3015 1 0 My hair looks extra shiny, extra soft and extra awsome after 1 time wearing it. I love it by now but when it arrived the collor had already fell so i can't say if it preserves color or not\n",
            "3019 1 0 Ordered this and the shampoo. Tried it for a few days, and found it makes my fine strawberry blonde hair look slimy and flat. Switched back to my old shampoo (Loreal Reconstruct) and my hair looks great. Sending it back!\n",
            "3021 1 0 I like this product but its way expensive for the size!  I was sure I would get a larger container!  But it does work well with the makeup\n",
            "3027 1 0 It never seemed to dry down, and feel soft and smooth like many other primers I have used.  I tried it under 2 different foundations, and they both dragged terribly upon application over this primer.  Sent it back.  Too pricey to just throw away.\n",
            "3030 1 0 I like this stuff, guess when I ordered it though I didn't take note of the size. I paid $ for the same exact size tube I got for FREE when I ordered other items from BareMinerals.Won't go this route again.Andddd,,I see they charged my credit card 17.73 for this tube, really? Like $6 in mailing charges?? For a tube the size of my thumb? Seller is deceptive.\n",
            "3039 1 0 This product smells absolutely amazing - very sweet, clean and fruity. I use it on my ends and my hair doesn't seem to have as many &#34;fly-aways&#34; as it did before I began using this. You only need a few pumps (I have longer hair - to the middle of my back), then I comb it through and style as usual. I really like it, and it does seem to improve my hair!\n",
            "3042 1 0 My stylist recommended this spray, but it made my hair more dry than it already was. It smells nice but that's about it.\n",
            "3050 1 0 First of all, I want to point out that this particular BB cream did not cause a break out on my acne prone face. I had such a horrible experience with Dr. Jart's silver BB, so that was the main concern for me. This product certainly gives me that nice coverage that I need. When I put this on in the morning, it will last for about 7-8 hours, then I would have to do the re-touch if it's necessary. A number of people pointed out that this BB cream does not have a variety for different types of skin tones. Well, most of the BB creams that are manufactured in Korea does not offer that varieties. They usually offer few color tones because their targetted consumers are \"asians-- particularly Koreans\". Yes, I'd say this BB cream is a little dark for my skin tone, so I have to mix it with other lighter liquid foundations to better match the tones. Also, it has that thick consistency, which makes it hard to spread around the face. I mix it with a moisturizer or facial oil to make them absorb better and sink in well.Again, 3 steps that I follow before applying BB creams:1. squeeze BB about a dime size on back of your hand.2. Mix that with a pea-size of facial oil or a moisturizer to find that consistencyyou're looking for.3. Mix again with liquid foundation to match the color of your skin-tone.It has a light teatree oil scent. Some people might hate it, but it does not bother me that much since they're hardly noticeable after you apply them. I'd say the smell dissapears. I might stick with this one til I find the better one; however, for now, it's ok.\n",
            "3053 1 0 This was the first BB cream I ever tried. I've never been able to keep up with a makeup regime because the day after I put on foundation, I always break out. I chose this BRTC BB cream because the label said it was designed for oily, troubled skin&#8212;which is exactly what I have. This product did not make me break out. However, it does nothing to control oil, and ends up looking cakey. BB creams don't come in many colors, but because they &#34;oxidize&#34; after 10-15 minutes on your skin, they shouldn't look unnatural. This one does. I'm fair-skinned with slight yellowish undertones, but this BB cream sat on my face like a mask. Seriously, I'm really pale&#8212;I hate being in the sun, and this stuff STILL looks too white on me.Moreover, it does NOT photograph well! I wore this to a family gathering and in every photo, it looked like I'd applied my grandma's pressed powder in a sauna.Instead of this stuff, I recommend Skin79's Hot Pink BB Cream. If you have oily skin, you still might need to blot your face in the afternoon. But the Skin79 stuff is smoother and spreads much more easily, and still doesn't make break out despite also having sun protection (which the BRTC one does not have).\n",
            "3057 1 0 I give this two stars because, yes, #1 it does have a nice natural brown color when you are done, and #2 yes, it does not stain your skin after you have applied it, which I've never personally seen before in an eyebrow dye.  I loved the fact that they actually give you a generous size tube so for the cost, this is a great value. BUT....Like the previous post mentioned, Tintocil has NO staying power. I've applied this many different times and always gone in 7 days. I even called their 800 number and talked to a consultant. She advised playing around with different levels of developer and color to achieve a darker look (I wanted darker brows). She said &#34;use more color and less developer for a darker brown.&#34; I even have played around with how long I leave this on my brows. If I leave it on for 15 minutes I do get a much darker brown result. But like I said, each and every time it still is faded within 7 days....gone. And I don't mean &#34;starts to fade&#34; in 7 days, I mean GONE! And hey, that actually wouldn't be so bad if the application was fast. I mean, I wouldn't actually even mind having to apply this once a week, except for the fact that you have to let it sit for 10-15 minutes on your counter (customer service advised). And then another 10-15 minutes on your brows. I have four kids- momma's too busy for that!Here are other brands I have tried:Godefroy instant eyebrow kit- same thing. Gone in 10 days or so. But application is 2 minutes tops. Awesome. But it does stain your skin around your brow if you are not super carefulDybrow dark brown by eyelure (use to be called Dylash)- This is the longest lasting I have ever used. Always brown brows for at least 4 to 5 weeks. And a nice rich dark brown color. But dang! They don't sell it on amazon anymore. It's made in the U.K. so you can only buy it from the U.K. and shipping is expensive. And the tube is quite small.\n",
            "3062 1 0 I dye my hair light reddish brown, this cream is easy to use but too light even after 20 min. Will try keeping it on longer. OK when mixed with medium brown.\n",
            "3063 1 0 I normally used &#34;Intensive&#34; Eyebrow tint and really loved how long it lasted. But, when I opened my own salon, I was desperate to get something in right away. So...being that I always get items quick through Amazon, I ordered Tintocil Eyebrow Tint. I received the package in a timely manner, as I usually do with any of my purchases. I applied the product and the result was so-so. The intensity of the color could have better, but more importantly the length of time that it lasted for my client was sadly disappointing.I get it...with brow color, it's not expected to last long, but 2 days seems quite short for what both client pays and expects from his or her service.It's simply just not worth it.\n",
            "3076 0 1 Gives amazing curls , packing was ok nothing great and product reached safely. Argan oil given is very very less :(\n",
            "3078 1 0 I fell in love with lip stains, but I have such dry lips that they wear very unevenly. This started my search for a lip scrub.I started using it according to directions. It seemed nice, your lips feel good right after, but long term (the next day) my lips weren't any different. So I stopped wiping it off. When I get out of the shower I put a very small amount on my lips and rub them together until all of the sugar dissolves, then I just leave it on without wiping it off. I do this every other day and it's worked much better for me than wiping the product off as you're supposed to. I still do use chap stick like nobodies business though. I think for this product to really make a difference I'd have to use it maybe twice a day rather than twice a week like the directions suggest.\n",
            "3097 0 1 I like this shampoo but it leaves my hair feeling a little greasy. It works great for when I blow dry my hair because it keeps more moisture in my hair but I dont blow dry all the time, maybe 2-3 times a month. I still like this shampoo but not for everyday use.\n",
            "3107 0 1 The color is true and goes on very easily. A little truly does go a long way.However, what's with the screen? There's a thin screen in between the makeup and where you're supposed to put the sponge. It is supposed to turn it to liquid, but instead it just presses the makeup through. It is not needed at all. 4/5 stars because of it. It'll be a pain when I'm trying to scrape the last of the makeup out.\n",
            "3123 1 0 I decided to try Almay because it's hypo-allergenic and I have extremely sensitive skin/acne prone. I wanted to love this powder. It did look great although not in photos (it comes out white). For whatever reason, I'm not sure what ingredient but this powder started to make me itch. It might have been the brush because it's not all that soft. Sad to say I won't be buying again.\n",
            "3131 1 0 This eyebrow wax is great. It's not too greasy and it does keep your brows in place most of the day. It is still wax so there is a bit of the waxy feeling. Just groom them with a eyebrow brush and they'll stay in place. I gave it three stars because this wax will get the job done but you do not want to use it every day. And if you over do it they'll look gelled on. So use a light hand and and eye brow brush and you'll be set\n",
            "3148 1 0 It's not the best but It's still convenient to have on days you want to be lazy with your brows.\n",
            "3154 1 0 I should have read the description a little closer when I ordered this product as it is not a waxing tool, it is a pencil that leaves a layer of wax on your brows to make them stay in place. It works well for what it is, it just isn't exactly what I thought it was!\n",
            "3182 1 0 It doesn't have a waxy texture but more like an oily one. I'm not liking it so much so I guess I'll keep searching for the 'perfect' one.\n",
            "3190 1 0 Excellent in the beginning but went down really fast and I didn't have a pencil sharpener that was fat enough for it and so I had to use a pen knife which was a pain.  I left it and moved to moustache wax - far easier.\n",
            "3201 1 0 If you need a deep, thick conditioner then you need to use the Enjoy Luxury line that comes in the pink bottle. My hair felt like I hadn't been using conditioner at all, and there is a ton to use (33 oz) so feel like its just going down the drain. I have already purchased the pink Luxury line conditioner and waiting for it to get here, it never disappoints!\n",
            "3206 1 0 I would give this product about 3 1/2 stars to cover everything (price, ability to cleanse, conditioning, etc.). I bought this product after watching the famous infomercial showing the models with gorgeous, thick, shiny hair. I have been using this for two weeks and it is over half gone. And I used nothing NEAR the 30-40 pumps they recommended. Lo and behold, it took me 10-15 pumps to cover my tangled, thick, almost mid-back hair, and I haven't even used it every night! It is ridiculous the amount they send you for how much you pay.Cleansing: I recently overused coconut oil in my hair by mistake, so I decided to test this out for its actual cleansing ability. Ha. I found out that it doesn't cleanse your hair. At. All. What should I have expected with no lather, foam, or something to be able to tell my hair was clean? I got out of the shower thatnoght and my normally dry hair looked heavy, greasy, and nasty. I had to wash my hands every time I touched my hair and had to get it off my neck, face, or anything. Rating for cleansing: 0Moisturizing: The last paragraph pretty much said it. This stuff is loaded down with oils and moisturizing products and no cleansers. It made my hair, which is dry and frizzy normally, heavy and greasy. So if you have hair that wouldn't get greasy if you stuck your head in a tub of oil, this is for you. It works the first week, but after that, it's rough going. Rating for moisture: 5Overall, I will not recommend this nor buy it again. It is not what you pay for. I am looking for a better cleansing conditioner, and I am considering L'OR&Eacute;AL Evercreme, and will post a review on that as compared  to this.\n",
            "3207 0 1 First I have to say this. For those of you who didn't purchase the item why would you post a review?? Why not just post your concerns under a review closer to your own personal \"feelings\" about this product. Why insult the people who did purchase this and enjoyed it. That's just rude. Anyway, I never saw the infomercial that has been mentioned; I purchased mines through QVC. I love it. I've been using mine for over two years now. I didn't know that it was available through Amazon, until I came across it by accident. I love how this makes my hair look and feel. I had to get use to this very different method of \"cleansing\" my hair, but it was worth it. My scalp tends to become dry, and itchy especially during the winters here in Michigan. The Wen Cucumber works great to keep the itching and dryness away. My hair is very thick and very long. I had to experiment to find the number of pumps needed to get the results I wanted. I have recommended this product to numerous people and now I'll let them know that Amazon carries it. If you need cleansing tips then go to this site [...] Look under Chaz's Tips.\n",
            "3210 1 0 I really had big hopes for Wen. I used the product exactly as instructed. I used 6 pumps, worked through my hair, used wide comb as instructed. I then left it in my hair for at least 5-7 minutes, rinsed with cool water. I also tried leaving it in, as described on the website. I used this product 4 times before determining that I had better results with other products. I also felt that my red hair was not as brilliant using Wen.  I tried using it without any additional hair product for styling the first 2 times and with Bumble hair products the last two times.I do not wash my hair everyday and the results were worse on the second and third day. I color my hair and it is straight, thick long hair. I rarely use straight iron, only a boar brush with blow dryer on washing day.I also tried the Pomengranate Wen variety, which was really bad. I would call that product a disaster.  Details on Pomegranate below.  I gave it one star.The Sweet Almond Mint was WAY better than the Pomegranate Wen. I used it 4 times, from a friend's stock. It actually worked to moisturize my hair. It smelled much better than Pomegranate. However, I didn't think it left my hair at its best. It worked 60% as well L'Oreal Ever Pure and Oracle (salon product)  I did experience more hair loss and breakage with Sweet Almond Mint Wen product than I do with Ever Pure or Oracle. These 2 products actually strengthen my hair and leave it moisturized and shiny. The friend who gave me Sweet Almond Mint to try used it on herself and her daughter. They did not like the product as they felt it left a film on their hair. They both have loose curly hair, one long and one short.This is how I felt about Pomegranate.CONS: 1. My hair smelled AWFUL. Exactly like wet dog. And I got caught in a down pour one day and the wet dog smell came back. 2. My hair was brittle and more dry than it has ever been. I color my hair and have one spot where my ends are extremely dry. This product enhanced the dryness to an unbelievable level. 3. My hair was not shiny from the product. 4. Very expensive.PROS: I was able to return it.I will be trying the Tree Tree Oil, however, I am concerned with using Tea Tree on colored hair as Tea Tree Oil strips color. There is nothing on the Wen website addressing certain varieties to avoid for color treated hair.Also, if you are considering Wen, read the ingredients. 2 of the top ingredients are alcohol. This is straight off the bottle AND the official Chaz Dean Wen website. I noticed this after the horrible experience with Pomegranate.Why am I continuing with one more test? Because I have one very insistent friend who loves it:) I want to love it too, but the proof is in the result.\n",
            "3211 0 1 I liked this product but I didn't notice any drastic changes. My hair is already in decent condition but I was hoping for some extra soft & shinyness or at least less tangles. It does make my hair soft but not really for the price. It doesn't really clean my hair that well either, I find my hair gets oily faster. I might repurchase because I want to go with sulfate free, but I might try a couple other products first and see if I find anything better. I recommend trying this product out for yourself though\n",
            "3215 1 0 I was introduced to Wen through a 2 AM infomercial. I asked around to see if anyone had tried it, and learned that my aunt had sworn by it. Curious on how it would work for me, I bought the Sweet Almond Mint starter kit. After one use, my hair felt significantly softer, looked shinier, and appeared all-around healthier. The transformation was incredible. It worked for me for about the first three months of using it. People would compliment my hair everywhere I went. I finally felt as if Wen was my staple.After that trial period, my hair suddenly went from full and voluptuous to greasy and flat. I did nothing different in respect to my Wen routine. It was if I could fry an egg on top of my head. Needless to say, my hair felt so dirty, as if I had just returned from a month-long FTX. When I used my flat iron, steam would come from it, which screamed \"Your hair is greasy. Wash it.\" I had already spent a paycheck's worth of money on Wen, so I wasn't ready to toss it. I tried using shampoo before I applied Wen to my hair. Bingo. Hair began feeling much cleaner and looking much fuller once again.I was happy with my routine until I began noticing clumps of my hair falling out with each wash. While it's normal for a few strands of hair to come out during a wash/combing, I could have created a baseball-sized sphere of tangled hair after a few days of washes. My hair is relatively thick, yet was becoming so fragile and thin that even I was terrified. I automatically blamed Wen as the culprit and stopped use immediately. I have been using Tigi, Nexxus, and CHI ever since, and one year later, my hair has returned to normal. I have no complaints.Not to mention that I had been dishing out nearly $80/month on Wen. 8-16 pumps per use will last someone three weeks, and that's a stretch. $80 a month is $960 a year. I don't know about any of you, but I am incredibly reluctant to pay nearly a grand a year for greasy, unwashed hair.If you want shiny, smooth hair, I'd recommend keeping at bay when somebody mentions Wen.\n",
            "3216 0 1 I love the feel and smell of my hair when using this product.  It makes my hair feel fresh and clean and bouncy.  However...it strips the color out that I've put in my hair.  Each time I color my hair and use Wen the color is gone within a week.  I would use the product always except for this reason.\n",
            "3217 1 0 I found this shampoo made my fine hair greasy.  I feel it is best if you have thick pretty hair to begin with.  Then you will have a luscious head of hair.\n",
            "3218 1 0 So I thought I'd try Wen as I'd seen the infomercials and was looking for a product that was more natural and wouldn't dry out my hair.  I followed the instructions for use to the tee. On the plus side I liked the smell, very minty and clean, and I liked how my hair felt in the shower, very silky and soft.  However, after I blow dried and styled as usual I noticed that my hair looked kind of dull, had little body and felt dirty. So for me this product most definitely did not live up to the hype.  For the price, I would expect FANTASTIC looking hair instead of hair that looked like it hadn't been washed in 3 days.  Today I went back to my old shampoo and conditioner and my hair looked and felt much better.  I definitely would not buy this again, it's not worth what you pay for it.  thankfully I bought this here on Amazon and so did not get sucked into the auto shipment program!!\n",
            "3219 1 0 We saw this infomercial last week while in New Orleans. As a fan of Melissa Gilbert, I saw that she used it and she really does have pretty red hair. So I decided to try it. We received it a few days ago. I tried it the first time, per the directions. I also used a tiny gloop as a leave in conditioner afterwards. I did notice my hair was soft, but no softer than with my regular products (Nexxus, Paul Mitchell, Biolage). That first time of usage,  my hair became very oily. It felt heavy, and took a horribly long time to blow dry. The next time I used it, which was last night. I didn't use the leave in conditioner. It was slightly less oily, but still I had to wash it soon thereafter. I really wanted to like this product. But I feel that it is for people with dry or frizzy hair. My hair is long, fine/thick combo, and did not benefit from extra oil. My mom has dry, colored hair and its going to stay in her shower for her usage.\n",
            "3228 1 0 I have fine hair. The kind children have. You know what I mean, right? This stuff sounds just great when you read the bottle. Smells great. Put it in your hair...and rinse. Look like a greasy haired person who never washes their hair. It left a residue in my hair that was really hard to wash out. I had to wash my hair multiple times before I stopped looking greasy. I tried this several times, but it always gave me the same result. I'm sure it works well for people whose hair is thicker, but mine simply hated it :(\n",
            "3229 1 0 I was curious about this product after hearing all the hype. It's ok, I have no major complaints but it does the same thing my regular conditioner does except it's double the price. It softens hair, helps detangle, and smells nice but I still prefer Pantene.\n",
            "3231 1 0 Some girls at work were just raving about how amazing this product is, and I suppose it might be for problem hair, which I fortunately do not suffer from. For someone like myself with thick, normal hair, I can find better ways to spend $36.\n",
            "3232 1 0 I can't believe I fell for a late night infommercial. I'm so glad I was at least smart enough to buy this through Amazon so I wouldn't be sucked into the monthly delivery program, because this stuff is A-W-E-F-U-L. I gave it 3 seperate tries, using the recommended amount of pumps (which seems like wayyyyyyyyy too much) & my hair still somehow came out each time way more dry & brittle than before. To make matters worse, on the second day (I have long hair so I only wash every 2-3 days), my hair is BEYOND greasy, gross, limp, weighed down... I couldn't do anything with it but put it in a ponytail and even then it looked like I hadn't had a shower in weeks! One of the biggest wastes of money I have ever been guilty of. STAY AWAY!\n",
            "3234 1 0 I'm highly sensitive and have a number of allergies.  My hair is just beyond shoulder length, course and curly.  I keep it layered so it doesn't look bushy.  Been using the product for one month.What I like:Definitely like the smell of the product.  Nice and refreshing in the morning.  Did notice that my hair wasn't quite as frizzy, especially when using it as a leave-in conditioner.  My hair doesn't knot when using the product; I didn't think that was possible.  I love the fact that when using this I don't have to wash my hair every day, and that it actually looks better on day 2.The fact that it doesn't lather takes some getting used to.  4 pumps worked well for me.Why I have to give it up:It's difficult to not get at least some diluted dripping into at least the corner of your eyes while letting the product sit in your hair while washing the rest of yourself.  Yes, it tells you to rinse your eyes if you get anything in it, but the damage is already done.  I'm aware of a slight burning discomfort all day.When also using it as a leave in conditioner, day 2 is even more difficult for my eyes after laying with my hair pressed against my face while I sleep.  It feels like you'd taken something like Ben Gay and dabbed it on your face.I'm making the assumption that menthol was the problem ingredient.  I've looked at the descriptions for 2 other scents.  The ingredients for Fig aren't listed.  The ingredients for Lavender includes menthol.I also noticed that I was breaking out along the hairline on the side of my head I normally sleep on, even though I made sure to give my scalp a lot of attention when using the product.I'll be sorry to give this product up, but the discomfort outweighs the benefits.\n",
            "3237 1 0 This product reminds me of Pantene.  When I used it, it was gunky, almost like glue.  Yuk.  Don't waste your money.\n",
            "3238 0 1 I have shoulder length natural ethnic hair. The cleanser is great but it took so much time, energy and product to work it through my entire head it just wasn't worth it to me. After two uses the bottle was almost empty!! I used Garnier Fructis Triple Nutrition Cream Conditioner instead and got acceptable results.It's more the process of drenching your hair with cool water for about 5-10 minutes before applying the conditioner and then working the conditioner into your hair shaft and scalp that makes the biggest difference to me.But now that I've cut my hair, I love the product.  My hair is less than two inches long so it takes less time and less product. My hair shines more and it defines the curls so nicely. It still takes a decent amount of product so I started mixing it with a little bit of the Garnier and water and I still get the same results.Overall - I would say it's worth it if you have the time to use it AND you stretch the product out by mixing it with other conditioners and water.\n",
            "3243 1 0 So I have long and very healthy hair. I've tried a million products and I'm very, VERY careful about what I put in my hair. That being said, WEN seemed like a fantastic product! All natural, no sulfates, etc., blah blah. Well, not so much. First of all, if not washing your hair provided such wonderful results, don't you think other professionals, aside from Chaz Dean, would support this and market products accordingly?! I used this for almost 2 weeks, and by the end I literally felt like a scarecrow. My hair was comparable to straw. After I stopped using this, and used a clarifying shampoo to remove both the buildup of WEN and the products that WEN never effectively cleaned out of my hair, it was like night and day! Beautiful, soft, silky hair once again. What a waste WEN, what a total WASTE!\n",
            "3248 1 0 Ok so I recently placed an order watching the informericals and decided to cabcel my order right away. Seem like an easy job right? WRONG. They wont let me cancel my order, dont bother ordering through the webite. They pissed me off so bad I dont want to try any of their products anymore. If you like wen, just order it on amazon but Im dont with wen and I will be reporting them to the better business bureau.\n",
            "3251 1 0 I have used the almost the whole bottle now and I do not notice the difference from this product and shampoo.  Well other than my wallet.\n",
            "3255 1 0 I wish I could say I had a positive result with Wen.  I have thin hair that gets oily very quickly.  I usualy wash my hair daily.  I was very excited to try Wen, I didn't wash my hair for 3 days.  After I used Wen for the first time my hair was just as greasy as when I went into the shower.  I found that if my hair was maybe one day old, not so greasy, it would work for me.  It did how ever make my hair really soft but just didn't clean it, I even experimented with leaving it in at different amounts of times.  Wen suggested I try a different one, but made my hair greasier.  Wish it would have worked!\n",
            "3260 1 0 The upside is it's all natural. The downside: the cost.I use vo5 conditioners for conditioner only washing. At less than $1 a bottle you can't go wrong. They make clarifying conditioners in yummy scents for oily haired folks, or you can use one of their heavier conditioners (I like the new repair & protect).But basically, any conditioner without silicones will do. So you could certainly use something salon quality or all natural if you know what to look for on the labels.Also you want to use styling lotions/creams/serums that do not contain any silicone. I think most people who fail at CO washing(which is what the wen system is) complaining of dull, limp hair are using something with silicone(which needs sulphates in shampoos to wash out). although not everything works for everyone.It does take longer in the shower to massage but my hair feels better than ever.\n",
            "3261 1 0 Okay, so when those of us saw the commercial, how great did this product appear? Well don't fall for it. I just used the product for the first time about an hour ago, and CLUMPS of my hair remained in the shower. I couldn't believe it! I called their customer service and the gentleman sounded like he had no idea what he was talking about. To spend $30 a month to lose my hair?... NO THANK YOU!The gentleman said that \"You are uh probably uh losing your hair because uh...\" First of all, if this man is hesitating in every other word about why this is happening, how much does he really know about the product?I'll stick with the Dove shampoo I once used.Glad I learned my lessson...\n",
            "3263 1 0 My hair is actually pretty healthy because I don't dye it, I don't blowdry it, and I only wash it every other day. I love trying new hair products, so I decided to try Wen. I used the sweet almond cleansing conditioner, the styling cream, the remoist intensive hair treatment, and the texture balm. I hated all of the products except for the texture balm. The other products, especially the cleansing conditioner, left my hair greasy and unmanageable. I had a hard time combing through my hair because it caused tangles.\n",
            "3267 0 1 I have great hair...or so I've been told. However I have allot of it and it is somewhat wavy and very prone to tangling when I use regular shampoos and conditioners. With some conditioners I can't even get a wide tooth comb thru my hair! I hate spending allot of time on my hair and with Wen I don't have to. Besides, I only use this, no other products...well maybe a touch of hair spray. I love the sweet almond mint smell. It reminds me of a luxurious spa scent. I think they have another formulation if your hair is thin and limp, I wouldn't recommend for that hair type but if your hair is thick, unruly, frizzy, curly or damaged you'll love it!P.S. Don't be afraid of the price, one bottle of this lasts me a long time ;)\n",
            "3276 1 0 I tried this in the Sweet Almond and for the first few weeks considered myself a convert, aka &#34;Wen Girl&#34;. Alas, the love affair was short lived. I have naturally wavy/curly, thick hair that is fine (I just happen to have a ton of it). My scalp tends to be oily and my ends dry. At first, this seemed to make it all better. My hair was never softer! But after about week 3-4, my hair just seemed....dirty. The softness was still there, albeit with a sheen that was more oily than healthy shine. My root area actually started smelling, well....dirty! I started craving a good old fashioned sudsing. It took a good 2-3 washes before my hair started feeling clean again. I still occasionally use the Wen (I still have some left) when I know I am going to be in a humid environment, because it really does cut down on frizz, but for long term use I just can't do it. Maybe we are too conditioned to want that squeaky clean, fresh smelling hair we all love and not accepting enough of our own natural oils, but I have to say sorry Wen - it was good while it lasted, but old habits are too hard to break.\n",
            "3282 1 0 This smells great but the directions call for you to pump 20-30 pumps of the product in your hand EACH time you wash. If you truly did this, this would only last about ten times that you wash your hair. The product doesn't absord at all. When you rinse it, it comes out in chunks. I wouldn't reccomend this at all.\n",
            "3284 1 0 It really doesn't moisturize my hair so much as greases it down.  Definitely on my &#34;do not repurchase&#34; list.  Will stay with either Pumpkin Spice Vanilla or Summer Mango from now on.\n",
            "3290 1 0 I am fourteen years old and,I have used and tried all of the Wen cleansing conditioner products, from Lavender, to Tea Tree, the Pomegranate, and now to this stuff. Here's what sums this product up: I bought this \"cleansing\" conditioner about 3 months ago, and have used it for 2 months. For one thing, this DID NOT \"cleanse\" my hair as people are saying it does. It seemed like it put more oil in my hair, if anything. When I put it onto my head in the shower, it felt like I put a ton of bacon grease into my hair and onto my scalp. I also have severe asthma, combined with chronic bronchitis, and sinus issues, and , every time I would use this I would burst into a full-blown wheezing attack. Anyways, when I was rinsing it out, it felt SO OILY...no matter how much I rinsed it wouldn't come out! I also used under the amount of pumps that I was supposed to use. I originally had to use 17 pumps in all, but, to test if it would make my hair oily like other reviews said, I only used 8 pumps. I only used 8 PUMPS and my hair was a flat, grimy, dull, greasy mess! I used this for 2 months straight, this time using the correct amount of pumps and following ALL THE INSTRUCTIONS, and, my hair was never so unhealthy. People thought that I was actually ill. Even my hairstylist laughed when I told her I used Wen. I felt so ashamed of myself. Then, I found the Suave Naturals shampoo line and the Suave Professionals Rosemary Mint shampoo, and, WOW!, they are AMAZING!!. With one use of the Suave Rosemary Mint, it had removed all of the grime and grease that the 2 months of using Wen left behind..and the shine...unbelieveable! The same happened with the Suave Naturals line, after using that as well, my hair was shiny, sleek, and clarified. My hair has never been this healthy in a long time. My friends (who use Wen) ask me \"what shampoo do you use on your hair? It looks so shiny and healthy!\", I just simply reply, \"Suave\", and they just look at me, dumbfounded. Even strangers ask me that same question, and I reply, \"Suave\". My tips are, give the cheaper shampoos a chance first, like Suave, White Rain, and V05. They may just work!! Suave really knows how to make a shampoo! That's all I have to say. And, yesterday, I was reading a beauty magazine, and..guess what shampoo line got voted the best?? SUAVE!!!! I was laughing for about 2 minutes..(the next best shampoo was Herbal Essences Drama Clean, for any of you who like Herbal Essences) Also, here is another thing I have to put in. If Wen was actually a legitimate product, then it should be sold in hair salons as well, not by their crummy infomercials and QVC. The only question that I was asking myself while using all of the Wen products was exactly this: \"WEN WILL THEY WORK????\".....And, also, to support my reasonings, I did a little research on various Wen complaints. In fact, here's what TotalBeauty.com had to say about Wen, which was on their second worst hair care product list besides Garnier Fructis:The Worst: No. 2: Wen Sweet Almond Mint Cleansing Conditioner, $28Why: Readers say this product gives you \"mediocre results for the money.\" Even after using the product as directed, there is \"no noticeable change\" in the look and feel of their hair, and one reader says it even dried it out more. \"I could not do anything with my hair. It would not hold style or shape,\" she says. \"It actually made my hair worse,\" says another reader. \"I purposely washed with my regular shampoo [a week later] and saw a big difference.\" Several readers say, \"the scent takes some getting used to\" and label it as \"hype\" that is \"not worth the price.\"Want some more evidence?? Here are some more reviews from Makeupalley.com as well:Rachel604 on 4/12/2013 5:10:00 PM More reviews by Rachel604Age: 19-24 Skin: Combination, Fair-Medium, Not Sure Hair: Blond, Other, Other Eyes: HazelAfter seeing the infomercial, I was excited to try a sulfate and detergent free shampoo. I'm going away for a month this summer and I won't be able to shower everyday and I was hoping that this product would get my hair out of the \"habit\" of getting shampooed everyday.Packaging: The reason why I gave the packaging such a low rating is because of the amount of product that is given in a \"month's supply.\" The 355ml bottle would be more than enough but the instructions say to use 16 pumps for medium length hair. I have been using it every other day for the past 3 weeks and I am already completely out of product.Product: The almond mint scent was pretty light and didn't really stick to my hair. I would have almost rather had a stronger scent because my hair always felt and smelled dirty while I was using this shampoo. The consistency was really heavy and didn't lather so I found myself needing the full 16 pumps just to be able to get it all over my hair.How my hair felt: In short, my hair felt like crap.I had just run out of a product I found at winners called muk which made my hair look and feel amazing. Winners stopped selling it so I decided to give wen a try. After my first use I noticed that there was a bit of residue left on my hair which made my hands feel waxy. After blow-drying my hair, it felt sticky and it was pretty tangly and somehow straighter than usual...almost looked like straw.I spent extra time rinsing the product out of my hair after my first time using it but no matter how much I rinsed it (with my high pressure showerhead nonetheless) there was still this sticky, waxy residue on my hair. I resorted to tying it up most of the time and when I did have to wear it down, I would mix regular shampoo into it.Overall this has not been a good month for my hair. It has been sticky, waxy, dull, limp and in a ponytail for most of the time...It also smelled pretty bad...On the plus side, I have gotten out of the habit of shampooing so I guess wen did serve it's purpose for me even if I had to walk around for a month with dirty hippy hair.I can't speak for everyone but I feel like this product would be better suited for people with extremely damaged hair. I can see it calming frizzy hair down because of the heavy formula and I'm sure it probably does make your hair healthier, but I started out with healthy hair already and I don't find that this product improved it's condition.Here's another review.....mmfoy on 3/25/2013 2:45:00 PM More reviews by mmfoyAge: 25-29 Skin: Oily, Fair, Not Sure Hair: Brunette, Other, Other Eyes: GreenThis is the first product I've ever purchased where I was so frustrated and annoyed by it that I rushed out to return it and felt incredibly happy having gotten rid of it.I decided to try it since I've been wanting to cut down on the products I use. I read up on reviews and understood that there were very mixed reviews, but since they had it at my local Sephora, I suppose it couldn't hurt.WRONG.The first washing went really well. My hair looked fantastic and was easy to manage. That's the only positive thing you'll read me say.Subsequent washings went TERRIBLE, even after adjusting how much product I put in (10-15 pumps just seemed absolutely ridiculous to me for the price). I would scrub, and scrub, and scrub it out of my hair, but even a few hours later, my roots would be looking greasy. The top of my hair would then start to follow suit and I would lose and volume I had. After coming home from work one evening, I saw how bad my hair looked in the mirror and I immediately washed it. My old Head and Shoulders washed all the gunk out and made my hair feel fluffy and bouncy, as it should be!I was so unimpressed with Wen, not only for the price, but for what it did to my hair. My hair usually isn't very oily, so this was very disappointing to see how it affected my hair.I will NOT be repurchasing, and I'm so glad I got this out of my house!And another....vschifano1 on 11/28/2012 6:14:00 PM More reviews by vschifano1Age: 19-24 Skin: Combination, Fair, Not Sure Hair: Blond, Wavy, Medium Eyes: BlueThis company is the biggest scam, and not to mention, the conditioning shampoo is a cheap and damaging product!!! I purchased one order for the sweet almond mint conditioning shampoo, deep conditioner, and conditioning mist. They included a comb, styling cream and Endless Youth vitamins as a \"free gift\". Little did I know I just locked myself into $280 worth of unauthorized charges to my accts. Not only did they charge my account for multiple 6-month supplies without my request, but they got a hold of my NEW debit card number AND my OTHER debit card number and then charged BOTH accts. BEWARE when you place an order, they will continue to send products and you must cancel ASAP.As for the quality of the conditioning shampoo, it is terrible. I am not just saying this because of my experience with the 8 unauthorized charges. My hair did not improve one bit by using the product, in fact, it became even more dry. I have thick hair with blonde highlights and was looking for some daily deep conditioning to improve the dryness. My hair showed now improvement and just got even worse. The only pro was the \"free\" comb I received good to use in the shower with conditioner on your hair. It is a waste of money and does hair no good, especially treated hair.I could go on all day, with evidence of how bad Wen is for hair. If you want to buy this product, you better do your research first, because I found TONS of complaints about all the Wen hair care products. And, all of the products are not \"natural\" as it says they are, in fact, they contain the same ingredients as my Suave Rosemary Mint and Herbal Essences.Time for more evidence! Here is the list of so-called \"all-natural\" ingredients found in this Wen product, taken RIGHT OFF THEIR WEBSITE:Sweet Almond Mint Cleansing Conditioner:Water, Aloe Vera Gel, Glycerin, Chamomile Extract, Cherry Bark Extract, Calendula Extract, Rosemary Extract, Behentrimonium Chloride, Stearamidopropyl Dimethylamine, Cetyl Alcohol, Emulsifying Wax, Panthenol, Trimethylsilylamodimethicone, Hydrolyzed Whole Wheat Protein, PEG-60, Almond Glycerides, Menthol, Essential Oils, Citric Acid, Methylchoroisothiazolinone, Methylisothiazolinone, FragranceHmmmm...Let's see, it still contains Trimethylsilylamodimethicone, which is a sillicone, and sillicones are bad for hair, it has  Citric Acid, which is a naturally occuring compound found in citrus fruits, and can weaken hair. The acid opens the hair cuticles, removing minerals fom the hair that can lead to discoloration and breakage. It also has Methylchoroisothiazolinone and Methylisothiazolinone, which can further damage the hair cuticle and the shaft, therefore causing hair loss. It can also cause severe allergic reactions as well.All natural huh?? Let me tell you something, this cleansing conditioner contains THE SAME ingredients as a lot of drugstore shampoos out there, there is absolutely nothing special about Wen, that's final.Also, they need to work on their customer service line as well. They are SO RUDE AND DISRESPECTFUL that even I, myself found it shocking. My mom tried to call nicely and cancel the other orders of Wen that I was suppossed to get, and they just backlashed her with a swarm of nasty remarks.Chaz Dean obviously needs to work on two things:1.) His products.2.) His mediocre company.Anyone want to know where my Wen Sweet Almond Mint Wen is?? I dumped it. Down the toilet. The sewer rats will gladly enjoy it now, as it might work for them.\n",
            "3293 0 1 This is a nice product but I find if I only use this as directed, after a few uses my hair does feel very clean. To use it as a conditioner is much better.\n",
            "3300 1 0 I am 41 years old, with very fine brown hair (just above my shoulders cut in a layered bob) that I have colored blonde.  My hair has a natural wave to it.  As a result, it's never as shiny as I would like for it to be.  I use L'anza hair products which I really love, and try to get it shiny with the InStyler which does a good job.  But, it never looks as good as when I leave the salon which is what I am always trying to achieve.I saw the infomercial with Allysa Milano and figured, why not?  I read all of the reviews here before purchasing but figured that it was worth a shot - I purchased the Sweet Almond Mint scent and used it for the first time today. I agree with many of the reviewer comments - the smell is very strong when you are applying it but it's faint when your hair is dry.  It looks and feels like you are washing your hair with conditioner.  I used less than the recommended number of pumps for my hair length due to how fine my hair is (I typically use less styling product, as well, due to my fine hair) - total of 15 pumps which sufficiently covered my hair with no issues.  I massaged it in for 2 minutes, used a wide tooth comb to evenly distribute and left it on for 5 additional minutes.  I rinsed it off well and then used 1 pump as a leave-in conditioner.My hair is super soft and shinier than usual.  It feels clean but not stripped.  But, in my case, it's almost TOO SOFT.  I will need to use a ton of additional styling products in order to have any kind of control over my hair.  I can say that if my hair style was loose and wavy, it would be perfect.  But, my layered bob with bangs does not do as well with this product. I would never be able to make my hair straight after using this as it's just too soft.Since it's the first time that I used it, I can't comment on how long it will last before/if it feels greasy and if this is the same as normal shampoo.  I will continue to use this product, but probably as a super conditioning treatment every few weeks.Update to original review:  I stopped using this product after a couple of days.  My hair felt too greasy.  I gave the bottle to a coworker who uses Wen and really likes it.  Thus, reducing my rating from 3 stars to 2.\n",
            "3301 1 0 Wen Sweet Almond Mint Cleansing Conditioner Ingredients: Water (Aqua), Glycerin, Cetyl Alcohol, Cetearyl Alcohol, Chamomilla Recutita (Matricaria) Flower Extract, Prunus Serotina (Wild Cherry) Bark Extract, Rosmarinus Officinalis (Rosemary) Leaf Extract, Prunus Amygdalus Dulcis (Sweet Almond) Oil, Aloe Barbadensis Leaf Juice, Hydrolyzed Wheat, Protein, Panthenol, Butylene Glycol, Behentrimonium Methosulfate, Stearamidopropyl Dimethylamine, Polysorbate 60, PEG-60 Almond Glycerides, Amodimethicone, Citric Acid, Menthol, Methylchloroisothiazolinone, Methylisothiazolinone, Fragrance (Parfum, Limonene)Glycerin - byproduct in the production of biodieselMethylchloroisothiazolinone - preservative also used in production of glue, detergents, paints, fuelsMethylisothiazolinone - studies have shown cytotoxicity, or toxicity to your cells. Has been shown to be lethal to mature neurons in brain tissueButylene Glycol - another petrochemicalBehentrimonium Methosulfate - not really considered dangerous, does contain saltHydrolyzed Wheat - produces MSG when salt is added (see Behentrimonium Methosulfate above)I could keep going on the other strange words in the ingredients, but you get the point. For how much they carry on about how &#34;natural&#34; this junk is, it sure has a lot of unnatural ingredients....it made me feel very misled.I tried Wen when I first started trying to buy more natural products. I have long, fine, straight hair. I had to stop using it after 2 weeks because my hair looked so oily by my scalp but totally dried out and fuzzy at the ends. I didn't like the way my hair felt when it was wet or dry; it felt waxy or something when it was wet. I can't find the right word to use but you could tell by the way it felt when it was wet that it was going to look bad when it was dry.It does have a less toxic ingredient list than conventional brands, it's just not as natural as they lead you to believe. For my hair type (fine, straight), this product did not work well and I would not recommend it.\n",
            "3304 1 0 I bought Wen Sweet Almond Mint because so many people (on here) said great things about it. I really didn't care for it. Keep in mind that all hair types are different and different things work for different people. That being said, my hair is pretty thick, medium length and dry. My hair is the type where the longer you wait to wash it, the more tame and beautiful it becomes, until it starts to get greasy at the roots. So I thought Wen would be perfect for me; conditioning with just enough cleanser.  I used it how it says to and I was not impressed. My hair was pretty limp and weird after, like it wasn't really clean, even though I made sure it had been completely washed out. The trick to Wen is that it conditions your hair without harsh chemicals that shampoos use. As far as using cold water, people have been saying that for years about ANY type of shampoo. It's always better to wash with cold. If you are looking for a product like Wen, the best advice I can give you is to wash your hair less frequently and use a conditioner to \"wash\" it in between. So if you are washing everyday, wash every other day and on the days you aren't washing, rinse your hair with conditioner. That helps keep it clean, rinsing out excess dirt, while conditioning it and not putting harsh chemicals in your hair. I hope this review helps! Best of luck! Oh one more thing, the pump seriously sucks. It stopped working for me after the second wash (I still have plenty of product left).I bought this through Amazon, no problems with shipping and the product came quickly!\n",
            "3305 1 0 After I spent $30 on Wen, I began to wonder: would any Conditioner work the same way?  After all, I did look at the ingredients of Wen and they looked familiar.  Guess what, it does.I have virgin hair, long and fine.  I have always taken good care of my hair, but as a woman, I'm always seeing if it can be improved.  After all, it's our 'crowning glory', right?  Well, after looking at the infomercial time and again, I decided to try Wen.  It's okay, but I didn't really see any major difference in my hair.  This is a lot of money for no big change.  Then I kept thinking about my original question, that would ANY conditioner work the same way.I went out and bought Dove Therapy conditioner.  Today I used it just like the instructions for Wen call.  Guess what, my hair looks just like it did when I cleansed with Wen.  The difference is, I got 40 ounces for just under $7 instead of 12 ounces for just under $30.  Doesn't take a rocket scientist, does it?I'm not taking anything away from Chaz or Wen, it's a great 'gimmick', and a good marketing ploy.  You order the 12 oz (the way you're told to apply it, this lasts less than 14 days)and then you're put on an auto-order account.  You get an $80 supply every 3 months or so, 3 monthly payments so it's not such a bite.So, you decide.  I hope that some of you at least try this and see for yourself.  There's no real reason to spend this sort of money when you don't have to.\n",
            "3308 1 0 I bought this after watching the infomercial and was impressed with the natural ingredients. I tried it and have been using it 2-3 times/week (I wash my hair every other day) and haven't really noticed my hair getting better. If anything, I feel like my hair is a little more greasy and heavy than normal. I have fairly short hair and have been using about 10 pumps.Again, it's ok, but not great, but everyone reacts to products differently so it might be great for you.\n",
            "3315 1 0 The beauty market is always flourishing because as women we want to look--and feel--our best. Small indulgences such as a luxurious shampoo or Sephora grade make-up item can serve as a nice little pick me up from time to time. Being subject to many sleepless nights (insomniac here!), I have been exposed to more than one infomercial; Chaz Dean's seems to be the \"it\" infomercial of the moment.So after much exposure to the name, I bit the hook, line and sinker. I have been using WEN for a month now. Now, this is where some disclaiming comes into play:-I have very thin, fine hair-My hair gets greasy easily (by the end of the day)-My hair is heavily processed via dyeWEN *claims* to be for ALL hair types, but I am skeptical regarding such a claim. WEN is thick like a conditioner. I use it EXACTLY as directed and find that it is 1. FAR too heavy for my hair type and 2. It leaves my hair tangled!!! The latter part is very baffling to me because conditioner typically makes hair easy to comb through and manage. I do not have a scientific explanation for this phenomenon; it is possible that WEN does not CLEAN the hair well enough. By the second week it seriously felt as if I had just washed my hair with water alone. Have any of you ever done that? Try brushing your hair after you swim in a pool; that's the best way to explain the results that I have gotten and am getting (well, I have just discontinued using WEN) via this product.Maybe WEN works best for women with thick, course hair? I have friends that only need to wash their hair once every 3-4 days (and they always seem embarrassed when they confess this to me, as if I'll judge their hygiene practices or something?); as earlier stated, I am NOT one of those women.I understand that WEN might have a fan base. I know of a woman that praises WEN, swears by it and will use nothing else but WEN. If you find my product review to be \"unhelpful\" simply because you like the product, please keep in mind that products are HIGHLY subjective and they affect all of us uniquely.My advice to all of you curious product junkies out there is to by a SAMPLE SIZE OF THIS PRODUCT. I understand wanting to try it, but I have to be honest and let potential buyers know about my \"less than stellar\" experience with WEN.Now that I am back to \"regular shampoo,\" I can comb my hair again easily. Because I dye my hair, I always make sure to invest in a good deep conditioning treatment.My other major gripe with this \"cleansing conditioner\" is the fact that it is a CHORE to use. WEN is not a once a month treatment; used daily, this product is time consuming. It is ludicrous to use \"xyz\" number of pumps, comb, wait, use \"xyz\" numbers again, rinse for minutes upon minutes... I think you get my drift? For those of us needing to be somewhere ON TIME, WEN is a pain in the butt. The infomercial shows Chaz massaging the head of an actress; it's a fitting image because I am assuming that said actress has the time to be pampered by a hair stylist as she waits for her two hour session with a professional make-up artist. My point here is that I have nothing against the privileged; my problem lies within the premise that this is promoted as a product for the everyday woman. Chaz might be a bit out of touch. Most of us do not want to get up earlier in the morning than we have to in order to accommodate tedious shower rituals.Two other ludicrous issues concerning WEN: 1. auto-delivery 2. the amount of product that has to be used is excessive! Given the price tag, one has to use A LOT OF PRODUCT via the \"official instructions.\" From my experience, good products typically adopt the slogan \"a little goes a long way.\" WEN milks its buyer's for every dime.FINAL VERDICT: WEN made my hair...- greasier-tangled and matted-dull-my hair follicles clogged creating acne like spots (GROSS, I know, but be forewarned...)-I noticed hair lossThe verdict? WEN= FAIL.Ps- I do realize that my hair, being damaged and processed, might not get miraculous results; I get it. However, I've never had a product make my damaged hair WORSE OFF. I feel that others with my hair type should be aware of what they are getting themselves into- ESPECIALLY at this price tag!You might try it and love it. Good luck and well wishes!\n",
            "3316 1 0 yes , i used it right , yes it did it again and again , there is NOTHING fabulous about this overpriced pretentious shampoo  , if you are buying this i may as well be able to sell you air , works no better than any other shampoo on the market for a lot less\n",
            "3317 1 0 Over the years I have tested most if not all of Britney's line but this particular scent seems very grown up. Its not the fun fruity bubblegum smell that I am used too so it will take time for me to adjust. It's much more floral and sexy. good for the 21+ crowd.\n",
            "3321 1 0 I will either end up giving this perfume away, strong perfumes bother me andI bought this before I had asthma, but Britney's perfumes are good but rememberless worn is best.\n",
            "3329 1 0 Bought at Costco $29.99  Returned after I tried for a few days.  It's simply a nice primer.  Has a slight tint, is velvety smooth.  It's not a foundation - not even close.  If all you want is a primer, go for it.I have mature skin (late 40's) in very good condition.  I find that the following looks much nicer, healthier and provides light coverage that I need (I don't like a heavy makeup look - much prefer \"fresh\"):Moisturizer, then primer of your choice.THEN I mix a dollop of each on back of my hand - Almay Smart Shade Anti-Aging SPF 20 (light/med 200) + Revlon Age Defying w/DNA Advantage SPF 20 (I like the 30 Spice Beige - am fair complected and it gives a nice glow).  Mix the 2 products on back of my hand and apply with the Signa Flat-Angle Kabuki F88 brush.Of all the foundations I've tried, I love the Revlon & Almay mixed together after any primer I have lying around. It's a fresh look and provides some coverage and evens out skin tone, leaving nice glow (not greasy or oily tho).I don't really have a preference on primer - Smashbox,(or cheaper) etc., they're all fine...This Miracle Skin Transformer isn't anything I'd spend $30 on again.  There was just nothing spectacular or different about it.  It's a slight tinted primer.  I tried the \"Medium\" and - didn't wow me at all.\n",
            "3334 1 0 I liked the feel of it, light yet still some coverage, but it tends to have a powdery residue/feel, and if you have any dry skin at all, it adhere's to it and looks bad.  It did help me realize that I needed more moisture!  Once I got more moisturized, it helped, but in wearing this on half my face, and a different makeup on the other half, I've noticed I break out more where I use this makeup.  I do have pretty sensitive skin though.  It might work better for others than it did for me.\n",
            "3342 1 0 I saw Miracle Skin Transformer in our local Costco store. Before purchasing it, I read reviews on Amazon and decided to give it a try based on so many positive experiences of others. I have a combination skin: my forehead tends to be normal to oily and cheeks and chin are normal to dry. I used Miracle Skin Transformer two times and both times it dried out my skin. In fact, if you looked closely, you could see tiny flakes on my cheeks, chin, and nose. I tried using a skin moisturizer first. I applied it to my face and waited about 15 minutes for it to absorb. Then I covered my face with Miracle Skin Transformer. Many people wrote that it goes on smoothly, and it does, only it feels like you are covering your face with a thin layer of plaster, the plaster that doesn't really cover up any blemishes you might have.(Don't believe the pictures that show a perfect one side of a face, which is supposedly covered with this product. It's not! The product they use in these pictures performs miracles, and it's called Photoshop!)My primer along with foundation does a much better job evening out my skin. Furthermore, this Miracle Skin Transformer caused my skin to break out. I stopped using it immediately, used natural oils on my face overnight, and the next day my skin felt wonderful again. I returned Miracle Skin Transformer back to Costco three days after purchasing it. (Thank you, Costco, for your amazing return policy!) If you still want to try this product after reading my review, I would recommend buying it at a local store, where you could return it in case it didn't work for you. All in all, I was not satisfied with Miracle Skin Transformer. It didn't perform any miracles on my skin, instead it caused breakouts. Also, now I find so many positive reviews of this product to be dubious.\n",
            "3343 1 0 I have oily skin, so bought this foundation due to the reviews that it improved the appearance of skin and provided good coverage.  The consistency was silicone like, so settled into my pores accentuating them.  After the first application, it didn't even look like I had make up on, so I applied another layer, which didn't make a bit of a difference.  Also, the product must have gotten to near my eye because it burned, and made my eye blurry.  It was so uncomfortable, I ended up taking the make up off... I'll be returning it for something that does what I need.\n",
            "3352 1 0 I tried this product and it was easy to use. The directions said to put one to two drops per nail on the final coat of your nail polish. I followed the directions and did just that. When I put the drops on my top coat, I thought they seemed very oily. My nails were dry to the touch in five minutes (5x longer than the advertised one minute). Twenty minutes later my nails seemed to be fully dry (4x longer than the advertised five minutes). I washed the oil off of my hands. The next day I had sheet marks in my nails. I painted my nails at one in the afternoon the day before. This should have given them TEN HOURS to dry! The top dries but but the other layers were soft. I had done a thin base coat, 2 thin coats of Suzi's Hungary Again (OPI Euro Collection), and a thin fast-dry top coat. I will not repurchase them, but in the meantime I will try to make them work.-C\n",
            "3356 1 0 Background: I haven't done my nails in years, and I used to use an OPI product that I brushed on and it dried my nails to the touch in less than a minute, but couldn't remember exactly what it was so I tried this.Technique: I got a dropper with mine. At first it didn't appear 2 drops were going to cover the entire nail, and I was worried that applying more would keep them from drying. I figured out quickly that if you point your finger tips down and put the drop on top of your nail by your cuticle one drop will probably spread out and cover the whole nail, you may need 2 on your thumb. You just have to get the hang of it. Bonus, this is one of the few nail products that does not smell like horrible chemicals.Some of my nails dried, some never hardened- for over 24 hours.What went wrong? It worked on some nails, but today I woke up after finishing my nails yesterday afternoon and polish on one hand was still not hard. It wasn't wet, or \"tacky\", but there were sheet impressions on my nails from overnight and I can still make marks in the polish, not smudges, if I press down on them with something hard. I think this is because I was using a fortifying/protein polish that wasn't meant to be used with a manicure and I put a few coats of color over it, then used these Nicole OPI drops. This was probably not the intended use.That said, the \"drying drops\" accomplish the task of saving your manicure when you brush your freshly painted nails against something like clothing by lessening surface friction while they cure/dry/harden. This is always helpful if you have to go to the bathroom or answer the phone or who knows what. Just make sure you have your manicure chemistry right and use the drops sparingly so your nail polish can completely harden.\n",
            "3360 0 1 I have the worst time getting my nail polish to stay on longer than a couple of days.  I wanted to find something to help keep my polish on and help my nails dry fast.  I would say that my nails are manageable after 30 minutes - I wouldn't call them completely dry, but I have gone to bed and woke up without anything looking a fuss.This has been great so far.  I have only used a couple of times but it has been successful both times.  I used a cheap polish this last time that usually chips within a day and it has been staying on for 3-4 days.  I don't use a clear top coat with this because it helps that nails stay shiny.I did think this was a little expensive, but I think that it was worth it in the long run.  I would recommend this for anyone who has had a hard time keeping their polish on.  Great for moms who are trying to squeeze in a little bit of me time in before bed but doesn't want to stay up all night waiting on your nails to dry :)\n",
            "3369 1 0 I read that using hyaluronic acid is great for dry skin. I gave it a try and it made my skin breakout something fierce! I already have acne prone skin but, it was manageable. Because of the products I use I also have dull dry skin on my cheeks. I thought this would help. I literary woke up the next morning with at least 20-30 tiny little bumbs. I went to a doctor because I thought I had an allergic reaction or a rash. Turns out it was clogged pores. I strongly recommend taking to a dermatologist before investing in a potent product like this.\n",
            "3371 1 0 Not sure what the irritant was. I have light,sensitive skin. I use this product on my nails instead of my face because of the breakout problem.\n",
            "3373 1 0 My skin type (FYI):  I have extremely sensitive and acne prone skin with deep acne scars and lots of blackheads.I was very excited to try this gel due to all the great reviews on Amazon.  I bought this gel to help relieve the dryness caused by the retinol cream (Tazorac).  This hyaluronic acid gel is hydrating, but not enough to reverse the drying effect of Tazorac that I'm using.  My skin still peels, itches and turns red from the drying side effect of Tazorac.I took off 2 stars due to the following reasons:1) It doesn't provide enough moisture for my sensitive and itchy skin.2) It forms clumps with the sunscreen and foundation, making my face look very messy and gross.3) I look on the &#34;cosmetic skin solution's&#34; website, it does not specify the strength of hyaluronic acid.  The concentration of hyaluronic acid gel formulation can range from 0.1 % to 1 %. It would be helpful to know the strength so I can choose a concentration that is suitable for my skin.Unfortunately this hyaluronic gel is only an average moisturizer for me despite all the great reviews.  I won't repurchase this gel again.\n",
            "3387 1 0 It feels very different from the other mineral makeup I have tried.  I love that Almay doesn't test on animals, and I love their hypo-allergenic products, but the coverage is just not wonderful.\n",
            "3394 1 0 Didn't do a thing for my hair.  It was actually more frizzy.  I do like the Repair Rescue Sealed Ends and Q10 plus shampoo, just not fond of their conditioners. Loreal EverSleek shampoo and conditioner work best for me.\n",
            "3401 0 1 If you want natural looking lashes, these aren't it. I bought these it being the first time I buy false lashes and you could tell I was wearing false lashes.\n",
            "3411 1 0 I bought this pack to help with cleaning a couple brushes and I also use them for travel to keep my brushes nice.  They fray pretty easily, which is a bummer, but I guess they are not too expensive to replace.\n",
            "3413 0 1 Seriously, this is a great idea! However, I don't think it's worth the price. It's just a tiny piece of plastic. I definitely expected more. If it came with at least 10, I would be more happy. I have at least 40 brushes... so... I'm not sure I'm gonna buy more. Yet, I still recommend it.\n",
            "3421 0 1 I guess i was expecting more brush guards to be in the package but there was only a couple. so i guess this is part of business so that i have to buy more to get more. but it was okay all in all.\n",
            "3428 1 0 Pros: great for traveling as my brushes won't get squashed and the bristles mishapen.  If your brushes have stray bristles sticking out after washings or has splayed out and isn't as compact or dense as it used to be, the brush guard will really fix these problems.  So these are the things that I love about the it.Cons: Some of my brush handles are actually very thick, so I had to use the brush guard meant for powder brushes on my blush brush.  One of the blush brush guards actually fit my powder brush.This is included in the instructions, but I'll mention it as well.  Do not put your brushes in this bristles first.  You will ruin your brushes.  Also, there may be some fraying of the brush guard when you use it the first time.  This is normal.  I just hope it doesn't fray all the way, as then the product will be useless.Make sure that when you wash your brushes, that you gently squeeze the excess water out and maybe even blot with a towel.  Otherwise, your brushes will be dripping wet and take forever to dry.Also, unless you store your brushes upside down, dust will still get on your brushes.  If you have the room, just keep them stored upside down so dust doesn't settle on them.I may or may not purchase more, but I'm happy with the variety pack I've already gotten.Update:  I've found if the brush gaurd doesn't properly fit a brush and you dry it upside down, it can backslide and make some of your bristles fray.  This is exactly what I was trying to avoid when I bought this product.  With so many different brushes, it's hard to find a good fit.  I guess I'll just lay my brushes flat to dry from now on.  This is still good for traveling, but you can always use a brush case as well for traveling.  Also, it takes longer than usual to dry my brushes with this product.\n",
            "3449 0 1 I find this helpful to have for storing less frequently used brushes and for travel.  But for everyday use brushes, it is too troublesome to use and not necessary.  I cut one in half to see if I can get two uses out of one sleeve.  The mesh did unravel a bit, but I used a low flame on the stove to slightly melt the edges (do with caution).  It held together sufficiently for storage purposes.I would recommend the larger sleeves to encase the powder, foundation, and maybe blush brush bristles, but it seems unnecessary to use the smaller ones because those sleeves are so tiny (narrow).  Personally, I wouldn't use the guards for drying brushes since I believe it is better for them to air dry laying on their sides without compressing the bristles.  I would first blot off excess water with clean paper towels and then lay the brushes on clean paper towels.\n",
            "3451 1 0 she totally convinced me of how much i needed these brush guards. I think its a good idea for higher end makeup brushes. mine are pretty cheap so i dont worry about them as much. i noticed tho that it takes forever for my brushes to dry when using these as michelle phan instructed. her brushes only took 8 hrs to dry. for mine, after two days they were still damp and yes i dried the crap outta them with paper towels.\n",
            "3452 1 0 I don't use it very often but it's neat to have when you do clean your makeup brushes and want to keep their original form (brush head). It does help to dry your makeup brushes.\n",
            "3462 1 0 I MUST SAY I WAS EXPECTING SOMETHING WONDERFUL.  AT FIRST I USED IT ONCE A DAY BUT, FOUND MY SKIN BROKE OUT.  AFTER MANY TRIALS AND TRIBULATIONS, I NOW USE IT 2 X A WEEK BUT MY SKIN DOES NOT SEEM TO BE PROFITING FROMIT ALL.  I FEEL LIKE I WASTED A LOT OF MONEY AND AM SORRY I BOUGHT IT.\n",
            "3466 0 1 I had a bunch of gift cards so I decided to take the plunge and get a Clarisonic.  I read the reviews and did my research becausse it was such a high priced item, and I honestly did not think it would work.  Well, I was extremely surprised with the results after using it for the first time.  I have acne ridden skin with the scarring to go along.  I wasn't expecting a cure for my adult acne but something to decrease my breakouts and keep my skin clean.  The first time I used it my face was so much smoother.  It felt \"lighter\" too because it was so clean.  I used the deep pore cleansing brush with the sensitive skin cleanser and it worked wonders.  My complexion was kind of \"ruddy\" before but now it is more even.  I have used it for only a week and I cannot stop raving about it to all my family and friends.\n",
            "3473 1 0 This is a really great buy! It makes you look like you have a lot more hair than you do and makes a really clean bun! I've found that even though I have really, really blonde hair, the black device doesn't show through my hair, which is great! It's such a fun, functional, easy to use piece! It should be in every girls hair care regime!\n",
            "3483 1 0 a littel more complicated to create than what i thought - i find a sock bun easier but my sister loves it so i gave it to her\n",
            "3489 0 1 I have mixed feelings about this. On the one hand, it has a beautiful texture and glides on smoothly, making application a breeze. The color is rich and honestly I prefer using this to the Bobbi Brown gel I used to use.On the other hand, it tends to smudge quite a bit. The first day, I used it without a primer and it smudged so much I had to keep re-touching my make-up. So on the second day, I tried using it with a primer, and it still smudged.All-in-all, it's not too bad for the price, just wish it didn't smudge quite as much.Update Apr 25th 2011: I didn't want to throw this out even though it didn't seem to work for me as an eyeliner, so I thought I'd try using it as a cream eyeshadow to see if I could create a smoky eye look with. I'm happy to report that it stayed on all day with no problems and because of its rich color, it was easy to apply and looks great.\n",
            "3491 1 0 I love the brush.  I love the dark brown color.  I love how easily and well it flows onto the eye.  I just wish it lasted longer than an hour.  That's it.  That's all I get.  I put my makeup on before I wake up the kids.  By the time I'm ready to leave the house, it's gone.  I wish it worked for me.\n",
            "3494 1 0 This gel goes on easy enough, but.......  I applied some this morning about 10 a.m. and by 5 p.m. the gel had redistributed the eyeliner to the top of my lids and lower lids as well.  Glad I tried it at home before going out of the house with it.  Looked like a bloody racoon or my first day putting on makeup.....would never purchase this again.\n",
            "3495 1 0 It's a nice color and like all the Starry gels, go's on smooth and blends well....But this needed to be more Bronze in color....it's more brick in color...\n",
            "3499 1 0 This liner does smudge quite a bit, but I have figured out that if you wet the brush and apply it sparsely as you would with watercolor, it doesn't smudge at all and you still get a rich color.\n",
            "3502 1 0 Just read the title. It smells like someone peeled out in a semi over a huge pile of pineapples. It was great at first, but then got too sweet, and eventually gave me a headache. I asked a woman what she thought after getting no complements (i get complements on other colognes) and she said \"oh... interesting?\"If you want to smell like a burned pineapple pizza, have fun.\n",
            "3520 1 0 I bought this serum due to many great reviews and praise on Amazon.com.  I choose the &#34;Cosmetic Skin Solution&#34; brand because this company does not test their product on animals.  However, my skin is too sensitive and this serum burns my face every time I use it.  I'm using Tazorac for my acne and my skin is dry and irritated.  I'm a realistic person and I don't expect this serum to perform miracles on my skin.  I bought this serum to help get lighten the hyperpigmentation and acne scars on my face.  Since my skin is very sensitive, I only use this serum once every 2-3 days for 2 months.  So far I haven't observe any improvements or miraculous effects on my skin yet.I took off 2 stars due to the following reasons:1) It stings and burns my face.  I think it's probably because the concentration of vitamin C is too high.  So if you have sensitive, acne prone, and combination skin, you might want to consider purchasing a lower concentration of vitamin C serum.2) It leaves a sticky film on my face and doesn't seem to get absorbed.  This sticky film makes me feel very uncomfortable in the hot summer days.I tried 2 different brands of Vitamin C serum and they both leave a sticky film (&#34;Nufountain&#34; and &#34;Cosmetic skin solution&#34;: both purchased from Amazon).  I will switch to a different chemical ingredients to help with my acne scars since I don't think vitamin C serum is gentle enough for my skin.\n",
            "3529 1 0 This is the first vitamin C serum I've tried. I've been using it about 6 weeks now. I don't see a big difference in the appearance of my skin. Knowing it's providing antioxidants and boosting the SPF of my sunscreen, I'll continue to use a vitamin C serum but I think I'll try the next level with added vitamin E and ferulic acid.\n",
            "3533 1 0 This stuff BURNS your face.  I don't understand how it's supposed to work when it just dries your face from such strong alcohol in it.  It smells like alcohol and burns like it.  I noticed no difference and I gave it a fair shot, I used the whole bottle.  Would not buy again.\n",
            "3541 1 0 I have uber sensitive acne-prone skin and though I'm mostly clear now I was hoping this would help with my post acne-marks and hyperpigmentation on my face. Sadly it irritated my skin and gave me little milia bumps near my eyes. I trust people with other types of skin will have better luck since I know these ingredients are supposed to work wonders!\n",
            "3542 0 1 I used this only for 3 days as I buy stuff in depression and often do not follow-through until I see results. I have extremely sensitive skin and all I can tell about this product is that my face did not breakout. It was oily type serum and shines on your face. So, you can only use it at night. It was good although I know I should use for a longer period to really see what it can do. So, my review is not complete as I haven't used it for long enough.\n",
            "3544 1 0 It didn't detangle my hair like I read in the reviews. It didn't do anything but made my hair wet.\n",
            "3563 0 1 These were decent. They are tiny so they fit the brushes well, but I'm not sure how well they will stay on the brushes. I will probably cut them down to smaller sizes because they are quite long.\n",
            "3577 1 0 These wipes really do the job of removing my eye makeup (the reason I gave this three stars) but just minutes after wiping my makeup off, I have to flush my eyes out with cold water because my eyes start burning like crazy. I really wanted to like these because they did not make my eyes feel oily afterwards like my Neutrogena wipes do. Alas, I will take oily over burning any day. I will sadly be returning back to the Neutrogena wipes. :( Curse my sensitive skin and allergies!\n",
            "3582 1 0 I was not 'blown away' with this product either.  It works ok, but this one has a super strong odor that stinks! I will not buy this again, but will use what I have until it is gone.  Thus far, my favorite tanning/bronzing lotion is the Playboy (although it has a VERY strong perfume odor to it, but the results are great!)\n",
            "3583 1 0 I compared this to the one at the salon by squeezing out a very small amount and comparing it to theirs. I have heard that companies water these down but refused to believe it due to other positive experiences on Amazon. I didn't even want to attempt to use it; as it smelled and looked so different than what they had, I ended up sending it back.\n",
            "3584 0 1 Gets me Dark for sure, but be sure you rub this stuff in good and wash hands or it will stain. I have a few small brown blobs in certain spots i didnt rub well enough\n",
            "3594 1 0 This wand works fine but the tapered barrel really makes curling hair a pain. The hair always wants to slip to the thinner end. Making it impossible to get large diameter curls. If you want thin spiral curls, this is a good product.\n",
            "3598 0 1 I bought this to replace my T3 curling wand which broke within months of purchase (along with the one I got to replace it, but that's another story). After spending $150 on a product which only lasted for a short time, I was pretty annoyed and didn't want to shell out the same amount to have that happen again.I did a lot of research on different brands, and decided this hot tools wand looked pretty comparable. If it broke on me, I figured it wouldn't be as much of a loss, and I wanted to give the brand a try. Honestly this iron is JUST as good as the one I was replacing (which cost over 4x more). It heats up quickly, and the curls hold until the next day for me. If you are looking for a good quality, tapered curling wand I would not hesitate to recommend this one.\n",
            "3616 1 0 This thing is great the first two times you use it.  Then it just becomes ratty and tangled no matter how you try to care for it.  I remember having one of these years ago that I bought at CVS and it lasted forever.  If you only need it for one or two nights out then go for it.  It really is cute.  But I regret that I bought a second one thinking I just didnt care for the first one properly.  Wrong!\n",
            "3618 0 1 Per another reviewer, I went to [...] enter in the name SalsaLoosa and it will come up.  At least here, you can see a tiny picture of the color and the name of it, the chart on Amazon does not have all the colors available in this piece.  My screen made the color look darker than what it appeared to me when it came- picking colors on screens is very difficult, fortunately, most people can easily wear two colors.  As I tint my hair a dark brown, the one that is light chestnut and the darker one both look great!  Most people when they tie up natural hair, the part tied up is lighter (the ends), especially if you are processing, sun etc. Now, if it is dead on top of your head, it probably will stay on, mostly.  But I recommend a few biddy pins in it or expect it to leave you.  To give you the messy bun look, they left the loop of hair loose- which is part of why it looks natural when it is on.  Few pins, your set.  It looks very small in the package, but when put over a pony tail on top you your head, it really filled out- perfect.  Do not judge the color while in the package or the size- it really worked once I put it on.\n",
            "3622 1 0 My issue with most brow pencils is that you don't get enough product to last even a month if you're an everyday user.  This product is no exception to that.  While it does have a boosting effect to add the highlighter under the dark portion, you don't use as much of one side as you do the other.  Because the light end is softer, it wears down more quickly and the pencil invariably gets lopsided.  Also, with pencil points on both ends, once the product dwindles down to the middle, you have a tricky situation in which you cannot sharpen the tips on either end because you have nothing to grip.  I will not be buying this again unless they are offered separately.\n",
            "3623 1 0 I bought the pencil for the pink tip, which works perfectly fine, soft and comfortable for defining your eyebrows, for that reason alone I would not give 1 star.  The brown tip, however, is HARD HARD HARD like a rock even on my hand. It has no color, if try to use on my face I would risk cutting my eyebrows!!\n",
            "3640 1 0 My eyebrows are almost white like my hair.  I ordered this eyebrow product hoping to enhance my brows slightly.  The brown is a bit too red, the highliter is waxy but works to hold down the hairs.  I don't use it to highlight.  But I believe that both pencils would be very difficult to sharpen when the tip wears down.  I wish eyebrow colors would be made in some grayish browns.  Vibrant colors don't work for those of us with gray or white hair.\n",
            "3643 1 0 This is my new favorite makeup! I am obsessed with everything eyebrows because i have sparse thin brows, so i have tried many. I like this one particularly because it have a highlighter on it. Its pinkish but matte, which i love cause i hate that shimmery white highlighter look. Its a must have for eyebrow girls.UPDATEI originally gave this product five stars, but after using it, it has become difficult. It is too big and bulky, its hard to pencil in my thin eyebrows with such a huge tip. My NYX pencil sharpener broke and i used another one on it, it totally messed up the pencil. It wont sharpen correctly in the big hole which is ridiculous. It is just too big and clunky for my eyebrows.It is now sitting in my draw with the other forgotten makeup that i had great expectations for.\n",
            "3671 1 0 I picked this up at a store, simply because I've heard great things about it. This scent is the one I chose, cause it smelled good... Until I actually used it in the shower. Maybe I got a bad batch or something, but once I got it soaped up in the loofa, the smell was NOTHING like it was in the bottle. It kind of smelled like a normal bar of soap, instead of the nicely scented bodywash I had picked up at the store. I don't know what changed from bottle to loofa, but something did.My second complaint would be that it didn't really moisturized as much as it just kind of sat on the skin. I washed, and rinsed REALLY well, and that didn't seem to be enough. I still felt like I had something on me. I figured it was just the fact that it was 'moisturizing' and let it go. The next day, my skin was sticky, and I hated it. Really don't like this body-wash AT ALL.\n",
            "3678 1 0 So, I tried these particular lotions when they first came out. Had a special deal at my Walgreens & so I had two 8oz. tubes. They smelled WONDERFUL! But that was all. I've used Olay lotions for years & they've always been great for my skin. But this stuff was a serious disappointment. As wonderful as it smelled, there was very little moisture & the scent didn't last. Ended up giving them away. :/\n",
            "3690 0 1 I like the fragrance, but it does not lather up as the other ones do. I find that I have to use more of this one to get the same lathering effect as Olay Body Was with Quench or Olay 2-in-1 Advanced Ribbons...\n",
            "3692 1 0 NOTE: I did not purchase this product from Amazon.comOlay products have been a staple in my household for many, many years. Recently, I purchased Olay's Silk Whimsy Cleansing Bodywash (23.6 FL OZ bottle) as I'd run out of my favorite Softsoap product. I was completely disappointed in the way this product lathers and the almost non-existent presence of any scent from its advertised rose extract and almond oil ingredients. Being a naturally cost-conscious person, I almost always use up a product that I even marginally like. This one I threw out. You can do much better, Olay. Going back to my favorite - Softsoap Pomegranate & Mango.\n",
            "3704 1 0 I was stoked out of my mind to get this pallet, and see all the different eye looks I could make. Lets face it, you have a number of options here. BUT getting any color onto my brush after my first initial use was so difficult! It had almost a.... HARD texture. I'm trying to think of ways to describe it..... Like say you got oil on the eyeshadow and it gets that weird patch in the middle that you have to scratch off??? Does that make sense??? Anyhow thats how this product was and no I didn't get it wet or have oily anything by it. If you can get it to work for you, GREAT!!!! I won't say this was a bad product, just wasn't for me I guess.\n",
            "3711 0 1 I initially was going to give this brand the thumbs down, because I've used MAC eye shadows almost exclusively for years, and have personally never had to use a primer as a result.  This being the case, I first found the colors on application to be very flat and, if the colors were in the same range (i.e. brown and bronze) pretty much indistinguishable from one another.I can not stress enough how much primer makes all the difference in the world as far as getting the full and complete effect of how vibrant the colors in the palette are.  Make no mistake though, Coastal Scents eyeshadows, from what can tell, have a pretty high talc content, and therefore don't have the same high consistency quality as MAC or other comparatively priced brands.  However, if you're looking for *very* affordably priced eye makeup for everyday wear that has really decent staying power, you really can't beat this brand, and this palette in particular really is quite lovely.Again, anything positive I've posted is all dependent on the use of primer; otherwise, don't even bother.  Also, FWIW, I'm a black female who's wears an a '8' in MAC MatchMaster foundation.One last thing:  I initially tried the NYX primer in white, and it made absolutely no difference; however, when I tried Coastal Scents own brand in matte, the \"wow\" effect officially kicked in.Grade: B\n",
            "3722 1 0 I adore supporting products that keep our planet cleaner. I will gladly pay a bit more to use products that are biodegradable and more earth-friendly. So I was thrilled when I saw this Garnier Fructis Pure Clean Fortifying Shampoo. It claims to be 94% biodegradable with no silicone, paraben, or dye. Fine by me. I don't need dyes in my shampoo. I just need it to clean my hair well.I donate my hair to charity every 2-3 years once it gets about waist length. So I want to do my very best to care for my hair as thoroughly as I can.. That is, while I want to keep the earth happy, I also want my hair to be healthy. I test out a variety of shampoos to see what I can find to be the best balance.I'd been testing some Suave shampoos before this one and certainly the Garnier is better than Suave. I can see if people were moving up from Suave-style shampoos that they might think this one is better in comparison.However, compared with many other shampoos I have tested over the years, this shampoo just doesn't measure up. When I finish washing my hair it feels a bit oily / sticky. It's as if a gel-style \"mask\" were on top of the hair. Certainly it's not as heavy as some cheap shampoos are, but it's still not as good as it should be.I also am curious about the 94% biodegradable. I can't find anywhere that says what percent biodegradable most shampoos are. Certainly we want to try to avoid sodium lauryl sulfate as much as possible - it can not only irritate skin but also cause hair loss. But are most other shampoos 93% biodegradable? I can't seem to find any site which gives that number. I'd like more of a comparison shown to know what this claim means.So, in the end, if someone is used to fairly inexpensive shampoos they might not mind this one. They might even think it's better than what they've used before. But in terms of being a GOOD shampoo, this just isn't it. It is gel-ly and sticky. And that would mean it would trap dirt and pollen and such against your hair during the day, making your hair dirty more quickly. There are definitely far better options out there.\n",
            "3725 0 1 I've been using this soap for a few months now. They stopped making the sulfur based Rx I was using for years. I needed something for my adult acne. It's a very hard soap and has lasted a long time. I'm still on my first bar. It does not work as well as the prescription but not bad for the price difference. I will buy again and will continue to use it along with other cleansers and topical acne meds.\n",
            "3744 1 0 I agree with previous reviewers about the oily and greasiness of this balm. I have extremely sensitive and acne prone skin with very large pores that are easily clogged.  I have some hyperpigmentation on my cheeks.  I was hoping this balm would help lighten up the pigmentation.Texture:  This balm looks like a candle wax when you first open the jar.  It's very hard to scoop out the content with your fingers.  It feels very GRAINY when you try to rub it on our skin, but the grainy powders disappear after you rub them on your skin.  I suspect these grainy powders might be kojic acid or extracts that have been added to the greasy butter, and they don't dissolve in the greasy butter.Skin reaction: I didn't experience any bad burning or itching sensation with this balm.  However, this balm is extremely greasy!  It feels like you are rubbing solid butter on your face.  My pores becomes clogged with large blackheads in 24 hours!  After using it for more than 3 days, I started to have white heads on my cheeks.  This balm is definitely NOT for Acne prone skin!  I stopped using this balm due to the breakouts I have from this balm.  I cannot comment on the skin brightening effect since I did not use it long enough.I ended up using this balm as a body moisturizer.  I always love 100% pure products, but this one is a HUGE disappointment for me!  I'm only giving it 1 star and will not repurchase this product again!\n",
            "3752 1 0 I bought this to try out because im not sure about investing 150.00 on the clarisonic..... the brush hurts a little, a bit rough, but the other attachments arent that bad.  easy to clean, just run it under sink.  so far so good....\n",
            "3768 1 0 I've had allergic reactions to some Secret deodorants in the past (usually the clear gels), but this appeared to be a different formula so I decided to give it a try.  For the first couple of weeks, it was fine and didn't irritate my sensitive skin.  However, as I got near the end of the deodorant stick, I noticed a rash and areas of dried out skin where I'd been using the deodorant.  I had to stop using it and throw it away.  Two days after stopping it and I'm still waiting for the rash to go away (it is improving, though).It's getting warmer where I live and I run into a lot of situations during the day that cause me to sweat -- climbing the stairs (8 flights) at work, walking my dog at midday, and getting back in my car after it's been in the sun (the AC is broken).  I've also been doing some pretty intense exercise lately.  And this has been working well for me as both an antiperspirant and a deodorant.  I'm very happy with the strength and effectiveness of this product -- and it lasts all day!This is a bit more expensive than other deodorants, but it does have a lot of good qualities.  While this didn't end up working for me because of my sensitive skin issues, it was very effective as a deodorant and antiperspirant.  If you do not have sensitive skin, this would probably be a wonderful product for you.\n",
            "3781 0 1 these brushes are amazing for their price, but they are NOT professional quality. do not buy this thinking you are going to get a whole kit of brushes like ones from mac or sephora. those brushes are about 25 bucks EACH, you'll never find them at a price ANYWHERE NEAR THIS.\n",
            "3793 0 1 This is a great invention but knowing the amount of material or liquid left is a total guess...you see you will never know before hand when to order your next pen.  For example, i must have used it a total of 5-6 times and the liquid looks as if its on the verge of drying out, a mean i always made sure that the cap is securely place tightly but its in the manufacture hands to devise a plan on the amount of materiel or usage of the product.  However i love the staining power!!!!\n",
            "3804 1 0 It's not a dark brown but more of a chestnut color and if it's not put on in little strokes it looks almost purple.\n",
            "3824 0 1 I have been using this for almost a year now and have found enough tips to give a review with.* Use a mitten based scrubber. I did not have any luck with the Chaacoca Moroccan Exfoliating Mitt keeping enough of the soap on it to not scrape my skin. I did have more luck with the Earth Therapeutics Exfoliating Hydro Gloves.* Shower in hot water and when you are ready to wash with this soap, turn the shower off. Apply a quarter to half dollar size of the soap to the mitten and start washing. Make sure the mitten is sufficiently wet before applying the soap. I have been using one mitten for washing, taking it off one hand and putting it on the other hand backwards to get the most washing surface area with out using extra soap.* Do not wash areas that may be sensitive to Eucalyptus oils* Do not wash areas where you have a cut, scrape, pimple, or any where you want enough air flow to help dry out the skin for healing or applying medications or creams to help the healing process. I have had some pimples and cuts that I had repeatedly washed with this soap that took longer than usual to heal.* If you use a file on your feet to get rid of calloused skin, you may not want to wash those areas with this soap. It tends to seal in those calloused skin cells and it seem harder to file away.* It has helped in cutting down ingrown hairs on my legs from using an epilator.* When washing with this soap, be sure to scrub areas where you know you have dry skin to remove it and seal the areas moisture.* After rinsing off, you will feel like a waxed cucumber. This is great if you want to use conditioner in your hair after with out feeling like your coated in conditioner.\n",
            "3835 1 0 make sure to take a hot bath or 10 min steam shower before using this and the mitt. otherwise nothing will come off. but if you do as instructions say you will see pieces of dead skin coming off. this soap not the easiest to use. it is like a brown jelly. I apply some all over the body and put some on the mitt or my salux towel, then with a lot of pressure wash the skin. it takes the self tanner off. I wouldn't recommend this soap for the face. It stings your eyes like crazy\n",
            "3878 1 0 I bought this item for body use. I used it two to three times a week for 3 weeks and did notice that my cellulite seemed less noticeable and my breasts seemed a bit firmer- I've been losing weight as well, so that may have helped with the cellulite. It was only mildly painful- I'd compare it to a mild sunburn or sometimes a feeling kind of like a pinch.The problem is that even though I was regularly cleaning it, after awhile I started getting the unholy itchies after use. I tried cleaning with rubbing alcohol, peroxide, and even my favorite standby product Dr Bronner's. Nothing seemed to help, so I have discontinued use.I'm not really sure how you are supposed to clean this well without bending or damaging the tiny metal spikes. The effect is lessened over time if you stop using it. Oh well.\n",
            "3891 1 0 This was not as intense a color as I wanted but it is pretty.It is not, however, indelible or waterproof and on a warm day I can certainly see how it may pose a problem.\n",
            "3896 1 0 I picked up a couple bottle of this at the store the other day and have been using it for a while.  I must say I'm fairly disappointed and probably won't buy it again.  For me it feels like I'm rubbing lotion on my body while I shower.  It's very thick and goes on almost greasy.  I'm sure there is some cleansing to this body wash, but it is very light-duty.  It also as smooth as silk does not exfoliate AT ALL.  If you need something robust after a long workout at the gym, use something else.I have also found it does not wash out of my shower rag very well at all.  I would definitely recommend using it with a loofah instead.So in short I find this to be a very light cleanser with a relatively heavy moisturizing component.  It would probably work well for dryer skin which does not need much cleaning action.\n",
            "3907 1 0 I like that this lotion feels very smooth but not oily. However, I found myself having to re-apply this lotion repeatedly throughout the day--maybe I'm just really dry. But, I have found AVEDA's Hand Relief lotion to have more lasting moisturizing effect with the similar clean feel.One thing I was disappointed was that I was expecting a similar pink grapefruit scent to that of the BODY SHOP butter Grapefruit. Sadly, even though this smells fruity--it smells NOTHING like the body shop grapefruit. Personally, it smells like JAMBA JUICE--which is not bad but just not what I was expecting.\n",
            "3917 0 1 I'm still ok with the nails I did receive though. I wanted the white tips but got clear tips instead. Since I can always use white acrylic powder it's not a big deal. I was just kind of annoyed.\n",
            "3919 1 0 I ordered 2 packs of these.One pack had 500 the other pack clearly had less in it so I counted them  also.I guess being a honest person I expect others to be also.So sad.\n",
            "3935 1 0 These are pretty standard.  You get more for your money than if you bought them at the beauty supply store.  I found them easy to use, but they did not wear long.\n",
            "3948 0 1 I love the smell but it does not last very long. Smells fruity and reminds me of mango and fruity stuff.\n",
            "3951 1 0 If you want to smell like a sweet, sticky, tropical alcoholic drink, then this fragrance is for you. Hopefully you don't want that, and in that case, steer clear of this perfume!\n",
            "3952 1 0 I really like the base coat its nice and thin but the top coat got thick and gelly really fast. I put like 15 drops of nail thinner in it and it's still just as thick and it's not very old at all! I'd pass on the top coat!\n",
            "3957 0 1 I like my nails colored and neat. I don't like them looking ragged and chipped. I've tried different base and top coats from the drug store and found they don't keep my nails looking good much, if any longer than using no base or top coat at all. I'm lucky if it looks good for a couple days.Using OPI base and top coat combo makes a noticeable difference. My nails stay looking good for several days, and I don't baby them, I wash dishes by hand. :)  I'm glad I bought this, may buy another set for a friend who decorates her nails.\n",
            "3968 1 0 I was excited to get this since I love OPI polishes but this one made my nails chip earlier than normal. Tried it a few times and applied it thin- didn't shake the bottle, etc and I had bubbles all over. I switched back to Milano.\n",
            "4002 0 1 I got these as a gift for a friend. She loved the color and NYX is a good brand. However, they are much smaller than I expected. Not sure if it was worth how much I paid for it.\n",
            "4004 1 0 I got this in the pink as well as the gold and champagne and they are really fun to add a little sparkle to your regular makeup routine.  I have been wearing the pink on my upper lid for the past few days and it really doesn't seem to stay on for the whole day.  I wore it on the lower lash line and it seemed to just wear off and clump in little glitter pieces.  It ended up looking like a little girl playing with kids makeup!  Just for a night out it is okay but it won't last for the whole day.\n",
            "4009 1 0 It's no different than any other hairspray product....although it doesn't have a very pleasant smell. Someone told me this spray was good for your hair, but I don't know about that.\n",
            "4012 1 0 I know it is just a strengthening control spray, but I was hoping it would hold my hair style in the humidity and also a little in the wind.  After all I live in Kansas..  It is a very easy to use hair spray and I don't know about the strengthening yet, but hope it helps with split ends from the wind.\n",
            "4013 1 0 Hairspray was really really old and my Grandaughter was by me when I sprayed the first spray on my hair and she said&#34;What is that bad smell Oma? I said bad old hair spray. The same thing they wanted me to send this back and they new they have to know that their buying old product. What a shame it was a lot when you add the two together 40 some dollars I could not afford they are in the garbadge.\n",
            "4014 1 0 Bottom line: If you have sensitive skin stay away from this body wash. I never get breakouts on my body and I mean never! This wash introduced me to my first body breakout (back and legs...weird) and both me and my skin were very irritated by the outcome. I took a look through the ingredients (after it was too late unfortunately)...no parabens, but I believe the fragrance is the culprit. I don't know that someone with sensitive skin can claim this is a smart buy (as other reviewers here do, unless you have *really* dry skin). The 'creme' label is a dead give away for oily skin types to steer clear of course, but for a company that consistently touts their products 'sensitive' skin accomodations, why include such a notorious irritant (aka fragrance)?\n",
            "4037 1 0 I ordered this by mistake. I thought it was Dove VisibleCare Softening body wash. The bottles are almost exactly the same, color scheme and all. That being said, I'm pleased with the product. It's very moisturizing, and the exfoliating beads are very gentle. I have very sensitive skin and this body wash works for me.\n",
            "4075 1 0 It works just great, but the elastic hurts.  It has to be tight enough to keep it on your head, but I just cant find a comfortable way to wear it that doesnt hurt after a while.  I still use it though and when I need it, I'm happy to have it.  If anyone knows of one that doesnt hurt, I'm all ears!\n",
            "4077 1 0 Lets light in around the nose like most masks, doesn't bother me. Strap is VERY flimsy, and no matter how I adjust it, this has fallen off all 3 nights I used it. Cute though.\n",
            "4081 0 1 This sleep mask does block out the light, but only 80 percent of it. Light comes in around the nose area; Obviously this isn't an one size fits all mask, but it is comfy to sleep in. On the plus side, it's animal print. Who doesn't love having a little leopard print in there lives?\n",
            "4082 1 0 The sleep mask had a wonderful leopard design and was a sturdy fabric.  May work better in a quiet dark room/\n",
            "4084 1 0 These are flimsy and not that thick or heavy. I used them once and then stuck them in my nightstand, never to be used again. I wouldn't waste my money.\n",
            "4085 1 0 I was using a sleep mask that I got for free on a flight to England for about a year and decided to upgrade to something that didnt have a Virgin Atlantic logo on it (no offense to that airline).I love leopard print so I figured that for the price it would be a worthwhile investment.While its not too shabby looking it definitely is what you paid for.\n",
            "4094 1 0 For those who have ordered (or are planning to order) from the Proactiv website or by phone, please be aware: once you purchase the first kit, they will keep your credit card information and bill you every month at a higher cost. They charged me somewhere around $70 after the 30 days and did not inform me that they were doing so. I tried to cancel but the automatic payments kept coming out. I had to cancel my ATM card and get another re-issued. I was relieved that they wouldn't take anymore money out until I get another Proactiv box in the mail...and then a bill stating that I owed them $70 for the package they had sent. I returned the box with a confirmation from the post office that it was delivered. I tried to call them and tell them that I wasn't going to pay the $70 because I returned the shipment. They said that it had been over the 30 day period and that I still had to pay it (even though the items were returned!!). It was an endless nightmare. The product itself works decent but I'm warning anyone thinking of buying Proactiv that there are better products out there that won't get you trapped in some automatic payment spiral!! Stay away from Proactiv. I will NEVER buy their products again. By the way, I recommend checking out Acne.org. I use all of their products and couldn't be happier!\n",
            "4096 1 0 i found my skin got worse before it got better. it didnt take away my redness, it made it worse. once i miss a day, i start to break out again. i prefer to use one or 2 products at a time from proactiv. if i use the entire set, or my skin just dries out with lots of redness. i have combo skin.\n",
            "4106 1 0 I am not a fan of this perfume.The scent is ordinary nothing special.I sent it gift.The only thing that i love is the design.\n",
            "4111 1 0 I bought this to cover a few of the remnant acne spots on my cheeks and the occasional few breakouts I get on my chin as well as under eye circles. I would say that it works pretty well covering dark under eye circles, however it is not so great at concealing acne marks or zits. I feel like it's pretty light coverage and if you layer upon it to hide those marks, it starts to looks cakey. Plus it starts to wear off after 3-4 hours and just makes you skin look oily and greasy in those areas. It definitely does not provide full coverage. I use it more for under eye circles and it works pretty well there but wouldn't recommend it so much if you want fuller coverage for blemishes.\n",
            "4128 1 0 I have very pale Irish skin without the freckles and this appeared orange on me. If you are very fair, don't be fooled by the &#34;fair/light&#34; labeling.\n",
            "4139 1 0 I got this to fill in my eyebrows. I should have gotten a darker shade but it is a good product and a good filer if you need to get to 25 dollars for free shipping. It doesn't give any color for eyeshadow though\n",
            "4151 1 0 It is great lipstick, the color is basic for everyone, however I hate the smell of it. If you can take it, then you will love it!\n",
            "4170 1 0 Didn't work for my skin tone but can switch colors.  Good value and product consistency is very good and pricing is good.\n",
            "4176 1 0 This is my favorite lipstick of all time.  Unfortunately, Loreal has discontinued mulberry, my favorite color.  I'm beside myself.  I tried this color hoping it would be a replacement for mulberry, but it's not even close.\n",
            "4186 1 0 First off, I am not one of those girls who really cares about the smell of a makeup product, but this one, could make a corpse cry. Even once it was on my lips the smell did not fade and I had to smell it ALL day. Second off, this color matches my lips COMPLETELY. Like this is my lip color. I think its a LOT of peoples lip color. It's definitely  a nude color, but I expected it to be more pink shaded. Third off, my lips looked dry while using it, I always apply a lip balm before I put on a lipstick but this one killed my lip balm and replaced it with dry looking chapped lips.Not for me, even my old NYC lipstick was better than this and it was only a dollar.\n",
            "4202 0 1 If I don't use this primer my eyeshadow is creased within an hour. When I use it my eyeshadow lasts all night no matter how detailed I get. I've used several other brands including a very expensive brand and none work as well as this does. I stopped being able to find this in stores which is why I resorted to buying online. It comes sealed and packaged and is the same quality as what I used to buy at the drugstore.\n",
            "4211 1 0 I picked up this mascara strictly for the wand.  It's a very similar wand to the Givenchy Phenomen'Eyes mascara at a fraction of the cost.  I'm so over it.  After a couple of weeks of fighting with the wand, it now sits in my makeup drawer.  The wand is so flimsy that while you're trying to comb through individual lashes, it moves all over the place.  It is really easy to accidentally flick the wand, sending product everywhere.  If the wand were more rigid, it would be much more useable.I will not repurchase and I would not recommend.\n",
            "4214 1 0 I hate a gloppy mascara -- and L'Oreal Telescopic Explosion is gloppy. Big flecks of mascara cling to my eyelashes after applying it. The wand is different and functional, it's just the mascara itself that makes me look like a two-bit ...\n",
            "4223 1 0 Stays on without creasing all day...though it is a very light color palette. I prefer a deeper, richer color personally...but it's good for daytime wear or ppl that just want subtle color.\n",
            "4231 0 1 It seems to work okay. Spreads out lashes well, but doesn't make them very long. You need about 3 or 4 coats to notice a difference\n",
            "4240 1 0 It does seperate your lashes but for length I would use the new Teloscopic Extensions it works way better.  Other than that no complaints the brush is great and the formulation is good for adding layers without clumps.\n",
            "4250 1 0 I agree with the reviewer who asked, &#34;Where's the mascara?&#34;.  I usually use Maybelline's Define a Lash, with good results; but I had heard such good things about this mascara, I thought I would give it a try.  I've only used it twice, but there is very little mascara in the tube and had to use another mascara on top of it.  It's probably to costly to return so it will probably go in the trash.\n",
            "4254 0 1 It's a pretty color but it doesn't last very long. It is hydrating and is not a thick sticky gloss which is great. It's hard to find lip gloss that isn't sticky.\n",
            "4262 1 0 THIS IS A REAL WINNER IF YOU WANT YOUR LIPS TO STICK TOGETHER.  HORRIBLE.  NOT FOR ME, NOR DO I RECOMEND IT . . . GOOD FOR SOMEONE WHO TALKS TOO MUCH!\n",
            "4267 1 0 I have short, thin lashes, and I have become slightly addicted to trying new mascaras in a never-ending quest to find the \"perfect\" one.  Most recently, I tried another L'Oreal product, L'Oreal Extra Volume Collagen Washable Mascara - Blackest Black, and although that seemed to work pretty well for me in the beginning, I found that 1) the brush, which picked up WAY too much product, drove me crazy after awhile, and 2) the mascara began to dry up after only a few months of use.So, on to a new mascara!  I decided to give L'Oreal another try, mainly because I went to the store and most of their mascaras were on sale.  I was uncertain about which one to choose, but eventually, I decided on L'Oreal Voluminous Naturale for two reasons.  First, I like the idea of a more \"natural\" look; one of my favorite mascaras in the past has beenMaybelline Full 'N Soft Mascara, Very Black - .28 oz(in fact, I almost re-purchased it this time, but for some stupid reason, I keep trying other products), so I was hoping that this mascara would be somewhat similar.  Also, on the packaging, it specifically stated that this mascara uses a \"wipe-clean\" style brush, which I was very glad to read--as noted above, one of my mascara pet peeves is getting too much product clumping on the brush.When I got this mascara home and took it out of the package, I was a little disappointed to discover that the brush is one of the more modern plastic ones rather than a traditional style.  Initially, I had thought that these newer brushes were a great innovation, but I've come to believe that they cause more clumping and that they fail to create fullness in the lashes.  In using the mascara, I do seem to be able to create decent length, but very little volume--quite surprising for a product with \"Voluminous\" in the title!  Furthermore, to make this mascara noticeable, I really have to work at it, applying several coats; also, I've had a bit of a problem with initial smudging, as the product does not dry as quickly as I'd like.So, all-in-all, I'd say this mascara is decent, with some redeeming qualities, but it is not what I was hoping for, and definitely not something I would repurchase.  The search continues!\n",
            "4277 1 0 First thing it doesn't last for constant \"16\" hours. I do not have oily skin or watery eye but this eyeliner does smear whenever I wear it. It's easy to apply but is not as creamy as other eyeliners are in the market. It is a little bit dry for me. And also I am not impressed with pigment of the color. So all in all this eyeliner doesn't work for me. I won't go back to this again.\n",
            "4283 1 0 This eyeliner made my eyes burn.  I don't usually have a problem with eyeliners and other eye makeup so I was a bit surprised. I tried it a few times but finally had to throw it out.\n",
            "4290 0 1 I had never used this product before and was really shocked when I got it that it is really like a marker, in the way it looks.  It goes on like liquid liner though so is a bit heavy (and hard) to put on the lower lashes.  I still use a pencil for the bottom but use this marker to line the top.I think this is a great product for those who like the liquid liner look.  And it stays on all day/  That's a plus in my book!!\n",
            "4296 0 1 I dont like this product but dont hate it enough to throw it away,so that's why the 4 stars out of 5.  I will probably mix the one gloss i bought with some olive oil or vaseline and put it in a clean container or gloss pot. I will get my moneys worth out of it that way. I wouldnt buy this again but some people like the characteristics of this gloss. I only like thin weight glosses. However this pigment was not too sheer kinda medium.  I did like that about this gloss.  hope this review helps.\n",
            "4300 1 0 I got this sense it seems they have discontinued them in drugstores and decided to buy it in this nude-y/rose shade. The color doesn't show up  too much, so don't expect to be blown away with a pop of color. It doesn't happen here. The thing I do like is that it is a sticky gloss, which mean it had a very good staying power. The scent is also my favorite. Imagine something fruity. So if you're into sticky glosses that smell good, give this one a try.\n",
            "4301 1 0 It was my fault, I ordered something I hadn't tried before.... Color isn't for me.  But the product seems a quality product.\n",
            "4310 0 1 Its not like the original, but works okay. I had a few tubes I purchased from the actual l'oreal store and which glides on very smooth and smell delicious. The tube I purchased here was very gritty on my lips the first 7 uses.\n",
            "4315 1 0 I think it's a pretty shade, but just a little lighter than what I had expected. It's all good though. I'll just mix it with another shade.\n",
            "4326 1 0 Much lighter in person than how it looked on my screen. Pink dark pink really. Well the name had rose on it so I should have been forewarned. But looks darker on my iPad screen, much darker. I would have gotten the redder color that looked too dark to me if I knew the colors were lighter in person. Or at least the rose carmine color. Still a decent lipstick I can wear though. Ideally you've seen the color you want physically when buying lipstick anyway.\n",
            "4328 0 1 I had bought this because one evening I was wondering about Aishwarya Rai's lipstick color and what it was, and after Googling a bit I came onto this -- it was so cheap (at the time I ordered it was marked down to twenty cents) that I just bought it so I could look at it. It actually isn't a color I commonly wear, I just like Aishwarya Rai.A lot of the reviews on here are saying this is &#34;fake&#34; lipstick or another lipstick with a label put on. I suspect, from looking at the labels, that this is a batch originally meant for the Canadian market, and this is probably why the packaging is slightly different and possibly the colors a little different as well. The lipstick has the L'Oreal logo imprinted in the lipstick itself. The sticker on the bottom of the package says &#34;L'Oreal Colour Riche 809 Beige&#34; and yet it does have the gold embossed Star Secrets logo on the container. So I think it's just a foreign version. When I was doing the Aishwarya lipstick research I found that it goes by another name in the Indian release (I think there it's called Crystal Copper) so I'm not worried that it's named and packaged differently from country to country.\n",
            "4333 0 1 So I have never bothered looking at these in stores before since I'm usually put off by the fact that half of the cosmetics in drugstores area always open and have swatch marks, finger holes, broken, you name it. I decide to order this on Amazon in Gunmetal and when it arrived I was a bit disappointed that it wasn't as vibrant as it appears online...Well I gave it a try anyway and I'm still happy with it. The green shows up better if you use a white base, consistency is good for the price, easy to apply, and blend. Color lasts all day on oily lids only if you know how to prime correctly!!!Overall I'm really happy with the outcome!\n",
            "4342 1 0 I loved these shades - the orangey copper color worked perfectly with my skin. I actually wore them for years, but turns out they made my eyelids raw most of the time, which was painful! Beauty is pain, right? I thought so for several years and continued wearing them, but eventually switched brands and haven't looked back. No more painful eyelids! But if you don't have sensitivity to certain shadows/makeup, these are great.\n",
            "4347 1 0 Love HiP eyeshadows...I Often use them as eyeliner... Very good product for the price. Like both Matte and shimmer. With a very thin brush, can also be used as eye liner!!\n",
            "4348 1 0 The gold is super glittery and the purple is very dark and chalky.  I just couldn't find a way to combine both colors in a flattering way.\n",
            "4367 1 0 I have the Flare, as well as a light purple/silvery duo. The staying power is good. It lasts all day. The pigmentation on the lighter/'neutral' shade is good on both. The colored side, not as much. Even when used over a primer and with a wet brush, they're not as pigmented as I like. When I re-layer the color to get the vibrancy I want, it ends up looking too creasy. Oh, well. I use this now only when I want very subtle color.\n",
            "4370 0 1 If you use this on it's own, the powder falls off rather quickly.The eye primer will help it stay on and look vibrant for longer.The colors are good - nice for making smoky eyes.  It's ok for the price.\n",
            "4381 1 0 I've used this eye shadow quad for years and have received many compliments on my eyes, using the FORMER champagne pearl shade under the brow and especially the taupe shade I used in the crease before applying the darker brown. When I realized when shopping that the usual shades in the \"Wear Infinite Eye Shadow Quad, Autumn Leaves\" had changed, I searched online for the old colors, with no luck.  Apparently L'Oreal decided to arbitrarily change the shades in this eye shadow quad but still use the same name, \"Autumn Leaves\", and I see I'm not the only unhappy customer.  I've looked everywhere in an effort to find the frosted taupe shade without success. Why L'Oreal would change the shades and not the name of the eye shadow, I cannot imagine. Very unhappy and frustrated customer!\n",
            "4420 1 0 This is clearly a 'thickener' and not a 'lengthener' in the world of mascaras. What it will do, is work as a volumizer if you put on a coat and then let it set. Afterwards curl your eyelashes and use a lengthening mascara. This is how I have always applied mascara to get a 'falsies' effect. Some people don't want to go through a two step process and others will do whatever it takes. If you are looking for a mascara that will 'thicken' your eyelashes, then this will work. If you are willing to go the two step process, this works well.\n",
            "4421 1 0 I'm still on the hunt for the perfect, inexpensive mascara. I wear it everyday so I need it to last and work well. I've had this L'Oreal mascara for just under 2 weeks and already it's gone from impressive to clumpy as heck. I think the problem is the brush is just too thick. I realize that is what usually creates the fullest lashes, but I'm now having to use an eyelash brush every morning to fix all the clumps I get when I put the mascara on. The first couple of times I used it, it actually went on very smooth. No clumps at all, and a great dark black color. Now, it's just a mess. While it doesn't smudge if I accidently rub my eyes, it does start to flake by the end of the day. I will not be buying this product again. I can't be buying new mascara every 2 weeks...\n",
            "4423 1 0 Although this lip liner does the job, it does not draw on easily.  It feels like I'm running plastic along my lips.  If you are used to using this type of liner, then you will be pleased with the product.  I will continue to use it and then go back to a pencil.\n",
            "4445 1 0 Colors are what you see. Green and black so no surprise. I have used it several times and no problems.\n",
            "4473 1 0 I used it for a few times...it stings the eyelids just a little for a second.  It doesn't feel moisturizing for my lid or lashes.  Maybe I'll use it on my eyebrows...  I don't know how well it works since I've only used it a few times...\n",
            "4475 1 0 I didn't use this everyday, but I use it often, I couldn't tell you it works,  So beware, I tried it because of the price. So I don't feel a total lose,\n",
            "4477 0 1 The only reason I'm giving this four stars is because I don't like the applicator. I am a fan of traditional, thin brush tips. For a beginner, the foam tips are better but they don't allow as precise of a line. I have slightly hooded eyes so I like my lines as thin as possible.The product itself is great. It's very black and very waterproof. It survives swimming. When I got it, I swiped a line on the back of my hand to see how it held up. It didn't even come off in the shower the next day (until I started rubbing it. Just don't rub your eyes until they're dry!)My favorite liquid liner is Urban Decay's Perversion but it's $18! This performs nearly as well for far cheaper, so I would pick this up if you're looking for a good waterproof liquid eyeliner!\n",
            "4496 1 0 It is flexible and therefore more chance to make a crooked line.  I will use brush from another eyeliner, then never order this one again.\n",
            "4500 1 0 I've purchased this product at a local drugstore and was very pleased with it, but when I ordered it online what I received is a product that will not blend after shaking the bottle. This product has 1-2 little &#34;beads&#34; in it so when you shake it, it helps mix it up, but after shaking vigorously for 20 seconds I never heard the beads. Finally after having the product for a week, I was shaking the bottle and finally heard the beads. Unfortunately this eyeliner is past it's prime.\n",
            "4508 1 0 I love this mascara but I am a big animal lover and learned after I bought it that loreal does test on animals. :( this is very comparable to the two face mascaras. It was a little clumpy at first but it evens out. For some crazy reason, it works better now 5 months later than it did the first week. Makes them very dramatic and long. I agree with the other reviewer, the first week I did have spider lashes. But that went away! I recommend this, just not the test on animals. :(\n",
            "4510 1 0 The formula of this mascara is awesome. However, the brush leaves much to be desired. The bristles are way too spread out and this causes clumps. In order to use this up I have used it in conjunction with other wands that offer more separation such as The Rocket.\n",
            "4546 1 0 I've been buying department store mascaras the last few years, and, in an effort to cut back on my spending, decided to try this mascara since my favorite on-line makeup artist Makeup Geek has recommended it several times as her favorite mascara.  It's a great mascara, but there's definitely a learning curve that goes with it.After reading about it online, I've found some tricks that have helped me:* The first few days that this mascara is brand new, it's really liquidy and gives you spidery lashes.  If you can make it past those first few uses, the formula thickens.* If the brush has a lot of product on it when you take it out of the tube, brush the excess off onto the top of the container or use a paper towel to wipe it off.*  You need to work *slowly* with this mascara.  Start by wiggling it into the base of your lashes really slowly and coat the bases well.  Then, slowly work it up through your lashes.*  Since it dries quickly, I've found that I can't alternate between eyes for a second coat, but stay with one eye to do two coats, before moving on to the second eye.* The Carbon Black color is really deep and intense, and it can be tricky to remove it from your lashes at night.  I've found that I have to wash my eyes twice (once with cold cream) to really remove this mascara, or else I have black smudges that look like black eyes all around my eye socket.Although this mascara seems like a pain to use (and the reason I gave it four stars instead of five is that it requires a bit more work than other mascaras), it's not bad once you get the hang of it, and it makes for the deepest, darkest lashes you can imagine.  Since it's a volumizing mascara, it won't do much in the way of length, but really makes your lashes look super lush and full.  It's perfect for a smokey eye look, or even with lighter eye makeup, if you like more noticeable lashes.I've already ordered this on Subscribe and Save, and will definitely be re-purchasing this instead of those more expensive brands that I had been using!UPDATE ON 3/23/11:  I originally gave this 4 stars, but just downgraded it to 3 stars.  While I really like this mascara, it's practically impossible to remove!  I've had to use two different removers each time I use it to get it off, and even then I'm still left with lots of black streaks around my eyes that I can't seem to get off.  I hate the idea of tugging on the delicate skin around my eyes to remove this, so I won't be re-purchasing.\n",
            "4564 0 1 I've been wanting to try Tarte Lights Camera Lashes! for awhile, but decided to try this first, as I've heard it's a good dupe. Obviously I haven't used Tarte LCL, so I'm not sure how this compares, but I have no interest in trying it anymore, this is so amazing for the price!I have so many mascaras, that it takes a lot for one to stand out to me. I have very long lashes, so volume is a must for me. This formula is so, well, voluminous! And the brush will coat every last lash, without clumps! It also works great on lower lashes, and is probably the blackest mascara I own.The only downside is, the wet formula takes awhile to dry, so it's easy to smudge right after you put it on. Once it sets, I can last 12+ hours flake and smudge free!\n",
            "4570 1 0 This mascara is fantastic in price and the color is deep and rich.  I love it at first, but it was very irritating to my eyes.  They became so dry and red that my coworkers felt the need to comment on them.. My eyes are fairly sensitive, if your eyes are not, then this is a great mascara to try.  It didn't flake at all, and the color is fantastic, feels were rich and wet going on.  I say that because nothing is worse than a dry mascara.\n",
            "4576 1 0 Not the best mascara but good for summer use if you know you're going to get wet. Doesn't add much volume or lengthen but does darken\n",
            "4578 1 0 I had high expectations about this mascara because of all the awesome reviews I read. The color is definitely carbon black, and a beautiful black that makes your eyes look bigger and intense. The only problem was that it smudges way too much. I live in the Caribbeans and we have a hot and humid weather, the reason why I got this mascara because it was supposed to be &#34;waterproof&#34;. WRONG. Not the best decision. If I happen to get it again, I would not buy it online because maybe the mascara is old.\n",
            "4590 0 1 Not sure why this mascara does not have better reviews - I have only had positive experiences with this mascara and keep going back to it after trying much more expensive brands.Price:-Cheaper to get it at Target than Amazon, often goes on sale for under $6.00Best Voluminous formula:-Get this waterproof version of L'Oreal Voluminous.  I've tried Voluminous in waterproof, regular and carbon black versions - they all smear except for the waterproof.  Carbon Black is the WORST at smearing and flaking, it's really terrible.Results:-Never have any problems flakey or smearing-Difficult to get off with regular face wash, you need to have eye make up remover-Hold the curl from an eyelash curler very well-Does not look fake, just enhances look of natural lashes-No clumping problems (make sure when you take the wand out of the tube you wipe the edges off on the top of the tube to get the excess off so you don't have clumping, then when you put the wand back in the tube that excess goes back in the container so you don't waste any product)\n",
            "4600 1 0 I would give it 5 stars but it is not non toxic. I just could not find a good non toxic mascara that worked well enough.This gives me great lashes for the price. It is easy to remove with makeup remover too.Update:I found my perfect mascara that is non toxic. It is a called Korres. I got it at Sephora. It gives you thick, long lashes.\n",
            "4601 1 0 This is at the very bottom of my mascara list. I purchased it on recommendation from my grandmother and tried very hard to like it but just couldn't. The formula is extremely wet and results in smudges every application. The brush is tiny and standard-doesn't do anything for my lashes. I actually ended up applying the product to a lash comb and then using it to avoid using the brush. I think the industry has come a long way and this just didn't keep up. One good thing- the color blackest black is indeed a true black.\n",
            "4611 1 0 I wish I had realized how much oil is in this, it left my face feeling oily & didn't work any better\n",
            "4618 1 0 This is a very useful product but must be used before bed or long before you plan on putting makeup on again. I used this remover for my eyeshadow and eyeliner which I had had heavily caked on for a dance recital. To my pleasure when I applied it to my cloth and wiped my eyes it came off immediately, no hassle whatsoever, and almost all of it gone the first swipe. It left the skin around my eyes and my eyelid feeling very soft and I was very happy with it. I went to bed, did my makeup the next morning, didn't get a chance to take it off before bed that night and when I woke up the next morning I went to use the eye makeup remover after my shower to rid of the eyeliner before applying new makeup. Again it was taken off immediately and again the skin around my eyes felt very soft. I applied my new make up and was very annoyed to see that within an hour later my usually secure makeup was smudged more than ever before. The soft feeling left behind is the residue from the remover. It seems it doesnt matter how many times you attempt to dry it it really just needs time. When used before bed or hours before you plan on applying makeup, this is a wonderful product, but beware of the time of use. Or you might be using it more than you bargained for.\n",
            "4620 1 0 I usually don't like oily products but this one is okay.  Works great and removes my eye makeup as advertised.\n",
            "4640 1 0 I have used 'Neutrogena Alcohol-Free Toner, 8.5 Ounce'  for years, and just wanted to get something new for a try. I have also used astringent toner which has a lot alcohol, but neither burned my eyes. This does however, very bad. My mum told me the same. Did it not happen to all the positive reviewers?? This toner is horrible!!! Also since the opening area is very wide, it is hard to use an appropriate small amount each time and easy to spill a lot all the time.\n",
            "4646 0 1 Too strong for my skin(combo, a little sensitive )this is actually my second bottle. I dont use it on my face ,instead i use it on my body, made my skin very soft.I used to use it on my face but i had this burning sensation and my face was red so i stopped.\n",
            "4650 1 0 I ordered this product in peach bisque shade, for reference I am not white but have very light skin with a little pink in my cheeks.  I was very sad when I put this tinted moisturizer on my face because it looked a little dark and orange for my skin tone.  My neck looks very light and my face looks dark orange.  This is a moisturizer with a hint of color, which is why is a tinted moisturizer, so if you are looking for some coverage this may not help.  I have marks in my chin from acne and I put the 100% pure primer and this one on and still I could see them pretty clear. Other than that, the tinted moisturizer feels very good on my skin,it evens out my skin tone and gives me a natural glow. I would definitely recommend it if you get the right color for your face.I hope this helps because is not cheap at all, and it does not feel good when you pay $30.00 just to find out that is the wrong color for your face.\n",
            "4660 1 0 I love that these products are 100% pure. I adore their lipsticks, blushes, eye creamsticks and hair products. I thought I'd give the tinted moisturizer a try but the color is too dark-especially considering this is the lightest color (creme). The other issue I had with it is coverage-there is not enough. I actually like the fact that tinted moisturizers have light coverage, but this was so light that it didn't cover anything, the tint just disappeared into my skin.\n",
            "4667 1 0 I like how gentle it went on and the natural look, until the eyes started itching and when rubbed, major smudging....raccoon eyes. :-(wanted to like the &#34;purity&#34; of it for a natural look and healthier product\n",
            "4670 0 1 The product seems a bit too dry. The mascara smell great, like chocolate. The biggest issue is that it is hard to take off, it smudges, smears but does not come off. I expected easier removal from something this natural.\n",
            "4674 0 1 If you are looking for an all natural product then you might want to try this one.  It does brighten up the skin HOWEVER it does not last it is very temporary.  It smells nice so if you are buying it for its toning qualities go for it.  If you are looking for brightening I would say there are other products on the market that will give a more \"permanent\" effect.\n",
            "4675 0 1 Product 5 stars, packaging 3.  Lots of wasteful packaging, pretty glass bottle but horrible seal and it leaks.  I put this tonic into a misting bottle and keep it in my purse, as it is hard to get out of the bottle and dribbles out.  A cotton ball just soaks up the product and doesn't get much on my skin..  After my makeup is on (all natural), I put a light mist of this over my face and it sets it and gives me a very dewy glow.  I'm all for that at 46.  The quality is superb - love that there's nothing harsh or artificial and contains all natural fruits acids, aloe, rose water and hyaluronic acid.  It does what it says, makes your skin bright and refreshed.  I will definitely repurchase this when it runs out.  I have no idea what the reviewer who said it was drying is talking about.  It's the exact opposite of drying, as there are no drying ingredients in it.  I use this with Dr. Haushka's Translucent Bronze Concentrate for a fresh, youthful summery, dewy glow.  Love love love.\n",
            "4677 1 0 I love the fact that it's all natural. The ingredients are actually very impressive and this was actually what drove me to buy this tonique.  As a toner, it feels really nice. The scent is kinda citrusy, but it's mild, so even that is okay.  However, I have used it regularly for a while now, and I see absolutely no brightening effect whatsoever. If they didn't claim it will brighten my complexion, I would have given it 4 or even 5 stars. I just don't appreciate any product that doesn't live up to its claim.\n",
            "4681 0 1 I was hoping this would be a bit more moisturizing as a tonique, but it is actually a bit drying. This would be great in the warm weather months, but during the winter, I don't use it due to the drying effect. I need my moisture!Wish they had one specifically for dry skin.But otherwise, it smells very faintly wonderful, refreshing to use.\n",
            "4687 0 1 I ordered the Blueberry one, but received the Dark Chocolate instead.  It smells just like chocolate, but is not bothering my dry, sensitive eyes.  It truly does lengthen lashes but no, it does not produce the result of looking like you put on good fake lashes or anything.  It lengthens and it's natural.I just wish I had been given the &#34;flavor&#34; I actually ordered....\n",
            "4700 0 1 Currently was using the Fake Bake Spray..which was good...just didn't deliver the dark results like St. Tropez Tanning Mouse did.  So..I was going to purchase the St. Tropez...came across this in the reviews - and am sooo glad I purchased it.  It is just as good as St. Tropez but for a third of the price!! LOVE IT!  Will continue to be a staple of mine.\n",
            "4704 1 0 Refusing to pay the $40 price tag of St. Tropez, I opted for the \"knock-off\" St. Moriz years ago in high school. I remember really liking it. I bought this one about 2 or 3 months ago in the dark version instead of regular. First off, the price is AMAZING. I spent a total of $9 after shipping on this product. The smell isn't awful, but there is definitely the biscuity self-tan smell that everyone despises. I really like the color I get when the color guide is still on me, but after I shower, the color is just, meh. It's not very dark after one use, but my skin is already kind of dark so maybe others get a better result. It takes me about 3 or 4 back-to-back applications to get desired dark color.It dries my skin out a little, and if you don't take good care of it by moisturizing and exfoliating, it can fade patchy. I hate having to reapply it so often, and much prefer a product that I only have to use 1-2 times a week.I ended up buying St Tropez, and it is considerably better, but it's also about 5 times more expensive!\n",
            "4718 1 0 I honestly don't know what to say about this mousse. It gives me the oddest color ever that I can't even explain it. Maybe should have bought the medium color.\n",
            "4722 1 0 I really liked this self tanner. Great color, easy to apply with a mitt, and didn't smell bad. The color looked really good, very dark. When I use self tanner I use it everyday and I make sure to exfoliate. What I didn't like about this tanner was that if you got the smallest amount of water(washing hands, dishes,etc) it looked terrible. The color disappear's from your skin leaving you with spots, looks really bad. Another problem with this self tanner is the fading. After a few days when this starts to fade it looks horrible. Looks like some kind of skin condition or disease. No matter how much I exfoliated, nothing helped. I really wish I could use this because the color is great. I think I am gonna try the St. Moriz lotion instead of the mousse and see if that works better.\n",
            "4734 0 1 Have just been taking these for 3 days so don't know if they will work.  Watched Dr. OZ and he had dermatologists on there that said to take Phytoceramides.\n",
            "4737 0 1 I started using this product at about the same time I began a new skin care regiment; so it's not exactly an accurate test.I am feeling better about the way my face is looking, though, and I'm going to continue using both products, as maybe it synergistic in its effect.It just makes good sense...\n",
            "4739 0 1 I do not know if this works or not...I've been taking it now for 1 1/2 months.  Can't say I look younger but I can say it hasn't hurt anything either.  I have purchased it again, so--buy it yourself and do your own testing.  I can't say it isn't doing something to help my skin...every little thing helps.\n",
            "4740 1 0 After one week, my stomach became extremely bloated.  In addition I experienced muscle pain in my back and in my arm--not based on any new activity on my part.  I felt like I was turning into a balloon, seemingly for no reason other than this pill.  After just one day of not taking it,  I felt better and the bloating dissipated.  While it might very well help with wrinkles, etc., to me the side effects are absolutely not worth it and will stick to the creams /lotions for direct application to my skin.\n",
            "4744 1 0 Tried for a month and just didn't see a difference in my skin being more hydrated or anything. Great piece though. Going to try a different brand.\n",
            "4753 1 0 this for like one month and dont see any special change in my skinI dont know if take more the one month to see good changes , dontfeel any side effects , come on time\n",
            "4760 1 0 I took these for a week and had to stop due to the massive heartburns. I have Gerd that was controlled years ago by Aciphex. I haven't had to take Aciphex in years but thanks to this I'm back on and the heartburns are still coming on strong. As far as I know I'm not gluten sensitive so I'm not sure what the problem is. I do believe this product works but it's not for me.\n",
            "4761 1 0 Been taking since February,  Unless I'm aging much faster then expected, nothing has changed.  However I will continue to take.  I have a 6 month rule.\n",
            "4765 1 0 Completed the bottle and cannot see any difference in my skin.  I will try again and see what happens and repost.\n",
            "4766 1 0 I took the entire bottle, every day and did not see any change at all in my skin.  I bought it because of the Dr OZ show.  Oh well.  I was hoping that it would help reduce the wrinkles.\n",
            "4776 1 0 I am not at all experienced in using liquid eyeliner so I have nothing to compare it to.  I like it.  It seems easy to apply. It stays on all day.  It's a good product and I will probably buy it again.\n",
            "4777 1 0 I have good things to say and negative. Mostly negative, hence the amount of stars given.Pros:-Very black. The pigment is wonderfully dark in comparison to most eyeliners that seem watered down or more of a charcoal vs thick heavy black.- Isn't super shiny. Some eyeliners tend to leave a bright shine, this one doesn't as much.- The brush applicator is long, small, and easy to use.- You get a LOT. It carries a lot of liquid which means long time use.Cons:- Chips off during the day. Yep, eats away and I have to reapply every day. I don't have oily skin or sweaty eyes....I can't imagine people who do what they have to go through with this. Only thing I saw that helped was placing black eyeshadow over it. Makes it last somewhat longer.- If you have sensitive eyes it makes mine burn sometimes. Also made one of my eyes swell and water for two days after getting some accidentally in.- Is not waterproof whatsoever. I know it doesn't say it is....but I've used eyeliners like Milani and it would LAST even through sweat or a few tears. Any bit of water touches this and it's black streaks!- Takes a LONG time to dry after applying. Really annoying when I blink and it bleeds or smudges.Overall:I would not recommend this product unless using for costuming. My sister used this eyeliner on her face for day of the dead detailing and it worked well with other makeup and washed off easily. But it DID chip off towards the end of the day and had to reapply.It's cheaply priced but then again it's a cheap product. I would not buy this eyeliner. Go elsewhere and save yourself multiple headaches!\n",
            "4792 0 1 But I still can't get a good point going. The best I've tried anyway! I'll probably hang on to this one!\n",
            "4797 1 0 This sharpener is universal for all thick and thin pencils. I have Italia eye liner pencils which I bought from Amazon and this sharpener work for it!\n",
            "4806 1 0 I love Josie Maran's line and can't get enough of her Argan oil on my skin.  I love the sheer rose color of this stick and the fact that I can use it on my lips and cheeks.  It does blend well and there is no funky taste or smell, but it just doesn't last at all.  I'll put in on my lips and cheeks and then catch a glimpse of myself an hour later and it is completely gone.\n",
            "4813 1 0 I used to be a longtime user of Josie's argan oil, but at $48 for 2 oz it was expensive for everyone in my family to use.  We were going through 2 bottles a month.Then I found Glonaturals organic argan oil, $15 for the same size bottle and the exact same 100% organic argan oil.  Plus it has a seal on the bottle so I know it's not someone else's return and it's fresh.  (The 4 oz Josie bottle with dropper or pump both leak horribly and neither one is sealed.)I've been using Glonaturals for 4 months now and love it.  Would never go back to Josie's again.  They sell Glonaturals on Amazon and at Vitacost.\n",
            "4814 1 0 Sure, 100% argan oil is great stuff. But guess what? Argan oil is argan oil, no matter who makes it, as long as its 100%. Save yourself 75% of the money and buy 100% pure argan from a brand that doesn't obnoxiously inflate their prices just because a models name is on the bottle.\n",
            "4824 0 1 These are decent for traveling and maintaining the shape of brushes. They run on the small size so they can be hard to get on larger handled brushes and brushes with large, dense hairs (ex. bronzing and powder brushes). They are a little loose on certain brushes, and I am scared that they will end up sliding down the handle and pull the hair back, but for the price and durability you cannot beat them!\n",
            "4836 1 0 Case is 10\" long x 6.5\" wide x 3.5\" deep.  Product comes with 1 case, 32 eyeshadows, 4 lipsticks, 4 nail vanishes, 2 blushers, 1 big blush brush, 1 mini blush brush, 1 eyebrow brush, 1 mirror box, 3 applicators, 1 double-ended lip pencil, and 1 double-ended eye pencil.  (Colors may vary, e.g., we did not get the rose red nail vanish like in Amazon's picture.)Here's what wrong with it.  The eye and lip pencils do not go on very dark, and so do the lipsticks.  The blush brushes aren't soft and thick and therefore do not pick up and apply blush well.  Eyeshadows also go on light and do not blend well.  The eyebrow brush is useless.  Mirror box and pencil tips were broken when being removed from elastic bands because elastic bands tightly hold both ends of the double-ended eye and lip pencils, etc., and case is small with little room to wiggle.Bought for niece, and the feedback from her was not a positive one.  What can I say?!  I never knew \"real\" makeup cost up to hundreds of dollars.  According to my dear niece, the only things that were \"useable\" were the applicators.  She gave everything else to her little sis to play makeup with.So, the lesson learned is this is good value if you plan to buy it for young or preteen girls to play with.  Buy the real deal for teenage or girls who use serious makeup, which makes sense because how can you look like a million bucks with a 19-dollar makeup set?!!\n",
            "4849 1 0 This case is nice but a bit flimsy. The makeup inside is NOT Shany its Cameo. I bought this expecting Shany quality and its not. Its nice and holds most of my stuff. I bought it to hold my Shany makeup pallets but it does not. It's to small. This case is nice for younger girls just starting out but for older women, you may want something more sturdy and bigger to carry all the necessities.\n",
            "4852 1 0 If you're not a makeup enthusiast and don't want anything extravagant this is the kit for you. If you ARE a makeup enthusiast and need a basics travel case this is for you as well. The case isn't bulky and everything is easily kept together. This kit has a little bit of everything and a decent variety of colors.\n",
            "4864 0 1 Just looking at the picture I thought that it would only hold a few things but its like there is master bedroom hidden. I does hold alot but it is not the most stylist.\n",
            "4892 0 1 Ok, let me start by saying this stuff is not for the faint of heart or for beginners.  If you are just beginning to tan, this will probably burn you like your first day on vacation in Florida without any sunscreen and you are from a northern state and never get out there as it is.  I've used a lot of different lotions; including some fairly powerful tingle lotions like Bombshell and Pink Diamonds.  At my salon, I was warned that Pink Diamonds was more powerful than Bombshell, but I disagreed.  I've used Luminary that I've ordered through Amazon before also, and that has a SIMILAR effect to the Obsidian...but not nearly as powerful.  Let me start by saying THIS IS NOT A TINGLE LOTION.  This is just a standard silicone bronzer like Luminary by Designer skin, but a step more powerful.  This is supposed to be the strongest bronzing lotion that Designer Skin makes as far as I know, and after trying it I wouldn't doubt it.  So I begin like I always do; with application.  Depending on time of year (I live in Indiana,) I put my lotion on just before getting into the tanning bed.  If I begin to feel warm or sweat, I'll turn the fan on before hopping in (which is sometimes odd in late December, but this has been an odd year with days that the temp was in the 60's.)  The first thing I noticed while applying this lotion was a general warmth.  I also tan nude, so I apply even below the belt, and this turned out to be a mistake.  I've applied tingle lotions below the belt, and generally I've never had a problem, but I got so worried with this that I almost decided not to tan.  I've never felt that kind of warmth from a regular bronzing lotion, and in certain (private) areas this was more than just a warmth...it was downright uncomfortable.  I decided to just be a man about it, and go through with it.  I wasn't about to waste an entire application of the strongest Designer Skin bronzer on the market.  Immediately I noticed extra heat in the tanning bed, (which is normal.  The stronger a lotion is; the more heat you will feel because its like you are getting more sun into your skin, just like a high UV day in Florida where I grew up.)  I pulled my full 20 minutes in the bed; which is the maximum amount of time allowed per day in the type of bed I was in; (on a side note I had decided not to use the regular bed at my salon, but what they call a Sunstorm which has burning bulbs above you and bronzing bulbs below, so you do 10 minutes on each side for an even, BUT STRONGER THAN USUAL tan.  This may have been another mistake with this lotion.)  So I finally get out of the bed, and immediately feel like I'm going to fall over.  It was like instant sun-poisoning; I felt nauseous, weak, and shaky, and I probably could have passed out at any moment...BUT I WASN'T GOING TO TELL ANYONE THAT LOL.  I've always rotated my lotions daily, and I have 6 different bottles of lotion right now (5 Designer Skin and 1 bottle of Australian Gold's Sinfully Black.)  I read somewhere that rotating lotions allows you to get the darkest by giving you a broader spectrum of light coverage.  I've always used my Luminary about once every 2 weeks due to the strength, and more as a touch-up than anything else.  From this point forward, the Obsidian is taking the place of my Luminary (which I'm almost out of,) and considering it feels even stronger than the Luminary I will not be using the Obsidian in anything other than a regular bed (which at my salon consists of regular bulbs and 2 high pressure facial bronzers.)  On a last note, this lotion is amazingly (surprisingly) powerful, and should be used in moderation.  If you can handle using this every day in the best bed your salon has available, more power to you.  I'm sure you'll be getting comments about how you look Mexican in no time; I'm always getting comments like that as it is, but my ancestry is half European Jew so I have the olive complexion that gets dark fast already.  However; until you are used to this lotion...PLEASE BE CAREFUL.  I think people can actually hurt themselves with this one.  Make sure to drink plenty of water before going to tan with this one, and of course, don't spray any perfume or cologne directly on your skin before tanning or while letting the bronzers work for 2-3 hours after tanning.  Perfume and cologne absorbed through open pores can intensify heat sickness, so just use common sense and be careful.  Also, maybe the first couple times using this lotion, go a little less on your usual time in the bed to see how you'll react (AGAIN THIS STUFF IS REALLY STRONG!)  One last warning for those who didn't notice the earlier warning lol; keep away from private areas...actually just keep it away from any sensitive areas of the body and all mucus membranes.  This lotion will get you dark, but it won't do you any good if you kill yourself doing it; then you'll just look good in your casket (like you died on a tropical vacation!) =p  Happy tanning all.\n",
            "4894 1 0 With designer skin it's obvious that you are paying sooo damn much just for the packaging. Screw that. Waaaaay too much fragrance. Don't even think about putting it on your face\n",
            "4904 1 0 This product does what it says.  You truly feel like you are wearing nothing at all. For me the color was horrible way to dark for my complexion and made my skin oily within two hours.  I could try another shade but since purchasing this I stop wearing foundation daily (only use makeup now on special occasions).  The coverage is light to medium.  If you have clear skin or slight imperfections, if you get the right shade, I would recommend this product.\n",
            "4911 1 0 Very nice foundation - I first got this in the Golden Peach, which is a medium peach tan color - about MAC 30-35. The finish is called satin but I would say satin- matte is a better description.it is full coverage as stated and I'm so happy that it is SAFE for me to wear on my skin. It was such a relief to find a quality makeup that is not poisonous.I have mature skin that is on the dry side right now as we head into the cold months. I would say exfoliate often and put a good rich cream underneath this, giving it time to soak in and/ or primer, before application and work with just a little amount at a time.this is a little on the dry side, which is the only reason I'm giving it a 4 instead of 5 star.  If you are oily or combo, or even normal, you may just love this as is.Hopefully Pure will come out with a cream foundation that is for dry or  mature skins with a bit more moisture in them. In the meantime, we just have to supply our own!EDIT:  After having this on for more than a few hours, I started to feel some stinging and \"pulling' , the longer it was on, the worse this got, so I finally washed it off and it was such relief. I'm so disappointed because I thought I'd finally found a foundation that was safe and performed well. Unfortunately, I had to return it.\n",
            "4912 0 1 golden peach shade is medium with warm (yellow) undertone. it stays on well. has powdery finish. doesn't spread well with a brush so i spread it with my fingers and then use synthetic stippling brush to stipple it in. if you apply thin layer, it looks like a tinted moisturizer, 2nd thin layer gives you medium coverage. i tried it first when my skin had dry patches and it accentuated them. now i have to exfoliate  with a peel and apply my facial oil before putting this foundation on. or I mix it with lavera liquid foundation. so people with dry skin keep in mind-this product is not the easiest to work with, especially during winter months. this is a great company, i use and love a lot of their stuff. I have their tinted moisturizer. it gives satin finish and works great with dry skin.but I would say that this foundation works better on oily skin. ( I've heard the same is true for their powder foundation). my pump broke right away.PS I see that now they have new water foundation that is more suitable for dry skin, but it doesn't have spf\n",
            "4913 1 0 I love this brand, I am addicted to their body care products and have been for some time.  This foundation is wonderful because it is completely natural and non toxic.  But, my only issue with it is that it lasted a very short amount of time and provided little coverage.  The color was spot on, and I tried applying more, but then it looked cakey.  I have returned to my original powder foundation.  But, even though this product was a fail for me, the brand itself is spectacular.  I have to recommend their honey almond butter for overnight face cream if you have dry, sensitive skin.  Yes, it's fantastic and the tub will last you for almost a year. It's about four times as big as their specific face care products, and half the price.  I have tried several, and keep going back to the butter!! Love it! Their lipstick/glaze is also fantastic.  Super creamy with very beautiful colors.\n",
            "4920 1 0 I truly am not trying to insult those who swear this actually works. Hey - maybe ya'll simply figured it out better than I could. If so -- Bravo!  But it totally bombed for me!I read the instructions and tried several times, but could not escape what seems to be the sheer physics of it: the tapes hold okay, but one slender point of contact with the skin on each side of the face, is incapable of lifting the entire area in a way which is useful or vaguely natural-looking.The contraption instead functions more like you'd expect a fish hook stuck in the face, rudely hoisting just a sliver of cheek skin up and creating a weird pulled effect. (And I'm just talking about the part that supposedly tightens the midface; the other part that aims to tighten the neck, did nothing at all.)The only thing I got outta this whole exercise was a good laugh at myself for falling for this one.\n",
            "4927 1 0 First of all, the model used in the video didn't look like she needed much of a lift. She had NO turkey neck, so yes, it made her neck appear a bit tighter.  The facelift one will pull the skin tighter to smooth out the \"parens\" around the mouth, but after a while, the band starts to hurt, because you need to pull it tight enough to pull the skin.  However, if you have TURKEY NECK, this product will NOT work for that.  If you have short hair, there are some disadvantages. One, is that it's hard to hide the tape that you stick on the sides of your face. Two, the tighter you  pull the bands, the longer the tail will be, therefore, the tail will hang down in the back if your hair isn't long enough to cover it.  And lastly,  when removing the bands, it will also pull some of your hair, and that too, is uncomfortable.  All in all, as the old saying goes.... \"if it's too good to be true...then it probably isn't\".\n",
            "4930 1 0 They are fun trying to see howmuch better you can look. Great fun. My husband couldnt tell but said i looked great.\n",
            "4960 1 0 Even though its Loreal I am beginning to see that all haircolor with peroxide is going to look drying and brassy after a very short while.  This is not exception.  Going to try cellophanes color to fill in gray hair.\n",
            "4963 1 0 I got this for my newborn who has very dry skin. Once applied the skin is dry again in like 10 minutes.\n",
            "4967 0 1 Cons:-1. I admit that this is a bit pasty. But that is due to using natural zinc oxide for sun protection. If I take small amount and rub it in it gets absorbed fine. (Anything natural that absorbs better is around $30 for the same size)2. Cannot just spray and be done :)Pros:-1.It is PABA, paraben, sulfate, phthalate, nano-particle and retinly palmitate free.2. Fragrance free3. Water resistent for more than an hour.I like the smaller 2oz multi pack option. Usually my big containers get caulky after some time. Now I have one for home, one for diaper bag, one for purse and one at the daycare.\n",
            "4968 1 0 Tried this for the first time about a week ago on my 3 year old.  I was thrilled of an organic sunscreen at this price point.  The first time we used it, we were out doors for a few hours.  I reapplied twice and he didn't burn at all!  I was thrilled.  We used it again today, and since he didn't burn last time I was sure it would be fine.  This time we were outside for about 3 hours, but this time we were going swimming and not just playing outside.  I reapplied twice this time as well. This evening he started to red underneath his eyes, and places on his arm where his floaties were.  I'm so sad...this is the first time he has ever had a sunburn.  I have always been diligent about sunscreen and this year we are determined to find a safer product.  BabyGanics won't be that product though.  I think it is fine for just outdoor fun, but with water play/pool time, etc I don't think this is a great product.\n",
            "4973 1 0 I used to buy the Babyganics cover up baby that used to come in a pick tube in 2oz , this one seems to work the same, however, I like the other version much better and it felt better on my face. I cant seem to find it now on amazon. I will use this one again and will report back and either change the rating for the better or not.\n",
            "4981 1 0 I got this sunscreen because I have purchase the BabyGanics Daily Lotion and have been very happy with it. It has a low rating from EWG (Environmental Working Group) which is great, and most importantly it doesn't irritate the little one's skin.  It's not overly greasy and it absorbs quickly.  All very good things.So when I saw this sunscreen I thought that I couldn't go wrong.  Checked EWG and it had a low rating, I was beyond happy before I even got my hands on it.  Last year I used Badger products, and was actually very happy with the organic sunscreen I was scared to use what I had left when they had a recall in 2013 because they were contaminated with bacteria that was causing skin infections.  A new formula won't be out until 2015 so I was looking for a replacement.Now, once I received the item I looked at it and the list of ingredients wasn't the same as what I had researched.  I'm not sure if it was reformulated, or if EWG didn't list all of the ingredients or what....but the bottom line is this.  If you are looking for a organic low toxic sunscreen then this might NOT be the one you are looking for since there are other options out there that will perform as a sunscreen the same, but be less toxic.  That being said, the Babyganics sunscreen is FAR less toxic than most of the over the counter sunscreens that you see everywhere.I like the things that this company stands for, and in general the products that they make.  I just wish they would rethink some of their ingredients on this product.\n",
            "4982 1 0 This is a great little sunscreen stick you can carry with you without fear of spilling or making your bag too heavy. Even though it's for babies, we used it for the whole family. It doesn't have a strong scent and no one was allergic to it, so that's a plus!My only issue is, it's pretty thick when just rolling it on and it takes a lot of effort to rub in. My son tried to rub it in, but ended up still looking as if he had on white clown makeup. When I tried to rub it in, it took more force than he was comfortable with. He is a young child, but I would assume a baby would have even more trouble enduring the rub-in.While it seems like a good brand, and did block the sun, I'll be sticking to the spray sunscreen. Ease of use is essential when dealing with small children. Simple fact, my son would rather be sprayed than rubbed in. I'll be checking for a Babyganics spray next time because otherwise, we like the brand.\n",
            "4986 1 0 Yeah, just like every single other sunscreen out there it has a warning against using it on infants under six months old.Otherwise, it is a zinc/titanium based sunscreen stick, meant to be put on small exposed areas in a pinch, NOT meant to be put all over a baby at the beach.  Handy, purse-sized sick.  Coppertone make the same product.I carry one of these for my nose if I get caught in the sun w/o sunscreen.  Backs of hands, cheeks, etc.  A bald guy might like it too!  It goes on kind of white but rubs in.  The stick is not all that creamy so you might have to put is on with some pressure, which a baby might not like very much.Scent is very light and dissipates quickly.Average &#34;organic&#34; product.  Many other name-brand baby sun screens do the same thing, have the same ingredients and cost less.  Shop around.\n",
            "4991 1 0 Pretty much everything makes babies annoyed, so finding a sunblock which is easy to put on is a pretty high priority.  Sprays are great for the body before a trip to the beach, but don't do much for the face unless you want to spray and rub.  This stick, the size of a mini deodorant seems like the perfect compromise.Sadly this sunscreen stick is overly thick and sticky, to the point where it is like rubber cement for the face.  The high stickiness of the product makes it so that it doesn't glide over baby skin as much as it grabs ahold of it.  When the product does release, it seems to do so in thick globs that are hard to rub in.On the bright side, once the product is on, it blocks the heck out of the sun so that part alone earns three stars.  But for convenience it comes up sorely lacking.\n",
            "4995 1 0 This is a pretty standard titanium-dioxide stick sunscreen;  it goes on almost as an opaque purple paste.  It does have some synthetic ingredients, like cyclopentasiloxane, but they are further down the list of ingredients.For reference, I'm natural redhead; I've been reacting to sunscreens since the seventies. I put this on fifteen minutes ago.This hurts. However, that may just be me--looking at the ingredients, it has sunflower seed oil in it, which, unfortunately, is a cross-reactive allergen in people who are allergic to sesame seeds, which I am.However, if it's not a personal allergy, this is bad stuff.  I put it on fifteen minutes ago.  It really burns!Edit:  It also causes breakouts. That's probably the cyclopentasiloxane, which is a volatile silicone that causes acne.\n"
          ],
          "name": "stdout"
        }
      ]
    },
    {
      "cell_type": "markdown",
      "metadata": {
        "id": "MxTF8JtjjmRi",
        "colab_type": "text"
      },
      "source": [
        "Analyzing these results confirm the following hypothesis: reviews relying on a very specific vocabulary with many references to a specific semantic field are harder to predict. For instance: \"I ordered this product in peach bisque shade, for reference I am not white but have very light skin with a little pink in my cheeks.  I was very sad when I put this tinted moisturizer on my face because it looked a little dark and orange for my skin tone.\"\n",
        "\n",
        "We test selected sentences to test this hypothesis. "
      ]
    },
    {
      "cell_type": "markdown",
      "metadata": {
        "id": "kQc7E5L8k17A",
        "colab_type": "text"
      },
      "source": [
        "# Qualitative test for BERT\n",
        "\n",
        "In this section, we test the hypothesis according to which the model cannot be generalized to reviews with specific and detailed lexicon, a vocabulary exclusive to the theme of the corpus, which is distinct from which the algorithm was trained on. We use the following example: 'Very oily and creamy. Ordered this to try to highlight and contour and it just looked awful'. That the algorithm is generalisable entails two possibilities for the data : \n",
        "- either the reviews rely on a quite poor vocabulary,\n",
        "- or they rely on a specific vocabulary only rarely throughout the comments, and mostly used generic expression such as \"great article\". What happens without this type of markers for the algorithm?\n"
      ]
    },
    {
      "cell_type": "code",
      "metadata": {
        "id": "GVa2uO4lkUkr",
        "colab_type": "code",
        "colab": {}
      },
      "source": [
        "labels_test = np.array([0])"
      ],
      "execution_count": 0,
      "outputs": []
    },
    {
      "cell_type": "code",
      "metadata": {
        "id": "UhXzhHWxk5my",
        "colab_type": "code",
        "outputId": "11bf3e6f-5fa0-4553-8e85-b6074382d1f6",
        "colab": {
          "base_uri": "https://localhost:8080/",
          "height": 35
        }
      },
      "source": [
        "input_ids, attention_masks = tokenize_bert(np.array(['Very oily and creamy. Ordered this to try to highlight and contour and it just looked awful']))\n",
        "\n",
        "input_ids = torch.cat(input_ids, dim=0)\n",
        "attention_masks = torch.cat(attention_masks, dim=0)\n",
        "labels = torch.tensor(labels_test)"
      ],
      "execution_count": 0,
      "outputs": [
        {
          "output_type": "stream",
          "text": [
            "100%|██████████| 1/1 [00:00<00:00, 373.39it/s]\n"
          ],
          "name": "stderr"
        }
      ]
    },
    {
      "cell_type": "code",
      "metadata": {
        "id": "7rIagnxck59x",
        "colab_type": "code",
        "outputId": "7e7eadf8-0e81-4c2c-f297-162386311e3d",
        "colab": {
          "base_uri": "https://localhost:8080/",
          "height": 52
        }
      },
      "source": [
        "prediction_data = TensorDataset(input_ids, attention_masks, labels)\n",
        "prediction_sampler = SequentialSampler(prediction_data)\n",
        "prediction_dataloader = DataLoader(prediction_data, sampler=prediction_sampler, batch_size=batch_size)\n",
        "\n",
        "print('Predicting labels for {:,} test sentences...'.format(len(input_ids)))\n",
        "\n",
        "# Put model in evaluation mode\n",
        "model.eval()\n",
        "\n",
        "# Tracking variables \n",
        "predictions , true_labels = [], []\n",
        "\n",
        "# Predict \n",
        "for batch in prediction_dataloader:\n",
        "  # Add batch to GPU\n",
        "  batch = tuple(t.to(device) for t in batch)\n",
        "  \n",
        "  # Unpack the inputs from our dataloader\n",
        "  b_input_ids, b_input_mask, b_labels = batch\n",
        "  \n",
        "  # Telling the model not to compute or store gradients, saving memory and \n",
        "  # speeding up prediction\n",
        "  with torch.no_grad():\n",
        "      # Forward pass, calculate logit predictions\n",
        "      outputs = model(b_input_ids, token_type_ids=None, \n",
        "                      attention_mask=b_input_mask)\n",
        "\n",
        "  logits = outputs[0]\n",
        "\n",
        "  # Move logits and labels to CPU\n",
        "  logits = logits.detach().cpu().numpy()\n",
        "  label_ids = b_labels.to('cpu').numpy()\n",
        "  \n",
        "  # Store predictions and true labels by batch\n",
        "  predictions.append(logits)\n",
        "  true_labels.append(label_ids)\n",
        "\n",
        "print('    DONE.')"
      ],
      "execution_count": 0,
      "outputs": [
        {
          "output_type": "stream",
          "text": [
            "Predicting labels for 1 test sentences...\n",
            "    DONE.\n"
          ],
          "name": "stdout"
        }
      ]
    },
    {
      "cell_type": "code",
      "metadata": {
        "id": "8xk3onEbk559",
        "colab_type": "code",
        "outputId": "25398730-7720-4204-e63e-235d1493db16",
        "colab": {
          "base_uri": "https://localhost:8080/",
          "height": 35
        }
      },
      "source": [
        "flat_predictions = np.concatenate(predictions, axis=0)\n",
        "\n",
        "# For each sample, pick the label (0 or 1) with the higher score.\n",
        "flat_predictions = np.argmax(flat_predictions, axis=1).flatten()\n",
        "flat_predictions"
      ],
      "execution_count": 0,
      "outputs": [
        {
          "output_type": "execute_result",
          "data": {
            "text/plain": [
              "array([1])"
            ]
          },
          "metadata": {
            "tags": []
          },
          "execution_count": 68
        }
      ]
    },
    {
      "cell_type": "markdown",
      "metadata": {
        "id": "93WlhhPbpVP8",
        "colab_type": "text"
      },
      "source": [
        "# Multi-class setting"
      ]
    },
    {
      "cell_type": "code",
      "metadata": {
        "id": "5eRjfOonegyD",
        "colab_type": "code",
        "outputId": "e8552a2f-cbdb-4aa2-8474-3e8407fd1a34",
        "colab": {
          "base_uri": "https://localhost:8080/",
          "height": 35
        }
      },
      "source": [
        "def tokenize_bert(corpus,maxlen = 64):\n",
        "    \n",
        "    \n",
        "    input_ids = []\n",
        "    attention_masks = []\n",
        "\n",
        "    for sample in tqdm(corpus):\n",
        "\n",
        "        encoded_dict = tokenizer.encode_plus(\n",
        "                        sample,                      # Sentence to encode.\n",
        "                        add_special_tokens = True, # Add '[CLS]' and '[SEP]'\n",
        "                        max_length = maxlen,           # Pad & truncate all sentences.\n",
        "                        pad_to_max_length = True,\n",
        "                        return_attention_mask = True,   # Construct attn. masks.\n",
        "                        return_tensors = 'pt',     # Return pytorch tensors.\n",
        "                   )\n",
        "        \n",
        "        input_ids.append(encoded_dict['input_ids'])\n",
        "        attention_masks.append(encoded_dict['attention_mask'])\n",
        "\n",
        "      \n",
        "    return input_ids, attention_masks\n",
        "input_ids, attention_masks = tokenize_bert(df_sport.reviewText.array)\n",
        "\n",
        "input_ids = torch.cat(input_ids, dim=0)\n",
        "attention_masks = torch.cat(attention_masks, dim=0)\n",
        "#labels = torch.tensor(labels)"
      ],
      "execution_count": 0,
      "outputs": [
        {
          "output_type": "stream",
          "text": [
            "100%|██████████| 15001/15001 [00:26<00:00, 563.53it/s]\n"
          ],
          "name": "stderr"
        }
      ]
    },
    {
      "cell_type": "code",
      "metadata": {
        "id": "aFdqfpPVk53B",
        "colab_type": "code",
        "colab": {}
      },
      "source": [
        "def encode_three_class(x):\n",
        "  if x >= 4 :\n",
        "    return 2\n",
        "  elif x == 3 :\n",
        "    return 1\n",
        "  elif x <= 2 :\n",
        "    return 0\n",
        "labels = np.array(df_sport['overall'].apply(lambda x : encode_three_class(x)))"
      ],
      "execution_count": 0,
      "outputs": []
    },
    {
      "cell_type": "code",
      "metadata": {
        "id": "TLadRZvck5zR",
        "colab_type": "code",
        "colab": {}
      },
      "source": [
        "labels = torch.tensor(labels)"
      ],
      "execution_count": 0,
      "outputs": []
    },
    {
      "cell_type": "code",
      "metadata": {
        "id": "ZNRZJQhmk5w9",
        "colab_type": "code",
        "colab": {}
      },
      "source": [
        "from torch.utils.data import TensorDataset, random_split\n",
        "# Combine the training inputs into a TensorDataset.\n",
        "dataset = TensorDataset(input_ids, attention_masks, labels)\n",
        "\n",
        "# Create a 90-10 train-validation split.\n",
        "\n",
        "# Calculate the number of samples to include in each set.\n",
        "train_size = int(0.9 * len(dataset))\n",
        "val_size = len(dataset) - train_size\n",
        "\n",
        "# Divide the dataset by randomly selecting samples.\n",
        "train_dataset, val_dataset = random_split(dataset, [train_size, val_size])"
      ],
      "execution_count": 0,
      "outputs": []
    },
    {
      "cell_type": "code",
      "metadata": {
        "id": "d1JXqqGHk5uT",
        "colab_type": "code",
        "colab": {}
      },
      "source": [
        "batch_size = 32\n",
        "\n",
        "# Create the DataLoaders for our training and validation sets.\n",
        "# We'll take training samples in random order. \n",
        "train_dataloader = DataLoader(\n",
        "            train_dataset,  # The training samples.\n",
        "            sampler = RandomSampler(train_dataset), # Select batches randomly\n",
        "            batch_size = batch_size # Trains with this batch size.\n",
        "        )\n",
        "\n",
        "# For validation the order doesn't matter, so we'll just read them sequentially.\n",
        "validation_dataloader = DataLoader(\n",
        "            val_dataset, # The validation samples.\n",
        "            sampler = SequentialSampler(val_dataset), # Pull out batches sequentially.\n",
        "            batch_size = batch_size # Evaluate with this batch size.\n",
        "        )"
      ],
      "execution_count": 0,
      "outputs": []
    },
    {
      "cell_type": "code",
      "metadata": {
        "id": "uGAFjyhKk5rn",
        "colab_type": "code",
        "outputId": "18c83b71-4f04-4838-a134-967c1cc1bef5",
        "colab": {
          "base_uri": "https://localhost:8080/",
          "height": 1000
        }
      },
      "source": [
        "model = BertForSequenceClassification.from_pretrained(\n",
        "    \"bert-base-uncased\", # Use the 12-layer BERT model, with an uncased vocab.\n",
        "    num_labels = 3, # The number of output labels--2 for binary classification.\n",
        "                    # You can increase this for multi-class tasks.   \n",
        "    output_attentions = False, # Whether the model returns attentions weights.\n",
        "    output_hidden_states = False, # Whether the model returns all hidden-states.\n",
        ")\n",
        "\n",
        "# Tell pytorch to run this model on the GPU.\n",
        "model.cuda()"
      ],
      "execution_count": 0,
      "outputs": [
        {
          "output_type": "execute_result",
          "data": {
            "text/plain": [
              "BertForSequenceClassification(\n",
              "  (bert): BertModel(\n",
              "    (embeddings): BertEmbeddings(\n",
              "      (word_embeddings): Embedding(30522, 768, padding_idx=0)\n",
              "      (position_embeddings): Embedding(512, 768)\n",
              "      (token_type_embeddings): Embedding(2, 768)\n",
              "      (LayerNorm): LayerNorm((768,), eps=1e-12, elementwise_affine=True)\n",
              "      (dropout): Dropout(p=0.1, inplace=False)\n",
              "    )\n",
              "    (encoder): BertEncoder(\n",
              "      (layer): ModuleList(\n",
              "        (0): BertLayer(\n",
              "          (attention): BertAttention(\n",
              "            (self): BertSelfAttention(\n",
              "              (query): Linear(in_features=768, out_features=768, bias=True)\n",
              "              (key): Linear(in_features=768, out_features=768, bias=True)\n",
              "              (value): Linear(in_features=768, out_features=768, bias=True)\n",
              "              (dropout): Dropout(p=0.1, inplace=False)\n",
              "            )\n",
              "            (output): BertSelfOutput(\n",
              "              (dense): Linear(in_features=768, out_features=768, bias=True)\n",
              "              (LayerNorm): LayerNorm((768,), eps=1e-12, elementwise_affine=True)\n",
              "              (dropout): Dropout(p=0.1, inplace=False)\n",
              "            )\n",
              "          )\n",
              "          (intermediate): BertIntermediate(\n",
              "            (dense): Linear(in_features=768, out_features=3072, bias=True)\n",
              "          )\n",
              "          (output): BertOutput(\n",
              "            (dense): Linear(in_features=3072, out_features=768, bias=True)\n",
              "            (LayerNorm): LayerNorm((768,), eps=1e-12, elementwise_affine=True)\n",
              "            (dropout): Dropout(p=0.1, inplace=False)\n",
              "          )\n",
              "        )\n",
              "        (1): BertLayer(\n",
              "          (attention): BertAttention(\n",
              "            (self): BertSelfAttention(\n",
              "              (query): Linear(in_features=768, out_features=768, bias=True)\n",
              "              (key): Linear(in_features=768, out_features=768, bias=True)\n",
              "              (value): Linear(in_features=768, out_features=768, bias=True)\n",
              "              (dropout): Dropout(p=0.1, inplace=False)\n",
              "            )\n",
              "            (output): BertSelfOutput(\n",
              "              (dense): Linear(in_features=768, out_features=768, bias=True)\n",
              "              (LayerNorm): LayerNorm((768,), eps=1e-12, elementwise_affine=True)\n",
              "              (dropout): Dropout(p=0.1, inplace=False)\n",
              "            )\n",
              "          )\n",
              "          (intermediate): BertIntermediate(\n",
              "            (dense): Linear(in_features=768, out_features=3072, bias=True)\n",
              "          )\n",
              "          (output): BertOutput(\n",
              "            (dense): Linear(in_features=3072, out_features=768, bias=True)\n",
              "            (LayerNorm): LayerNorm((768,), eps=1e-12, elementwise_affine=True)\n",
              "            (dropout): Dropout(p=0.1, inplace=False)\n",
              "          )\n",
              "        )\n",
              "        (2): BertLayer(\n",
              "          (attention): BertAttention(\n",
              "            (self): BertSelfAttention(\n",
              "              (query): Linear(in_features=768, out_features=768, bias=True)\n",
              "              (key): Linear(in_features=768, out_features=768, bias=True)\n",
              "              (value): Linear(in_features=768, out_features=768, bias=True)\n",
              "              (dropout): Dropout(p=0.1, inplace=False)\n",
              "            )\n",
              "            (output): BertSelfOutput(\n",
              "              (dense): Linear(in_features=768, out_features=768, bias=True)\n",
              "              (LayerNorm): LayerNorm((768,), eps=1e-12, elementwise_affine=True)\n",
              "              (dropout): Dropout(p=0.1, inplace=False)\n",
              "            )\n",
              "          )\n",
              "          (intermediate): BertIntermediate(\n",
              "            (dense): Linear(in_features=768, out_features=3072, bias=True)\n",
              "          )\n",
              "          (output): BertOutput(\n",
              "            (dense): Linear(in_features=3072, out_features=768, bias=True)\n",
              "            (LayerNorm): LayerNorm((768,), eps=1e-12, elementwise_affine=True)\n",
              "            (dropout): Dropout(p=0.1, inplace=False)\n",
              "          )\n",
              "        )\n",
              "        (3): BertLayer(\n",
              "          (attention): BertAttention(\n",
              "            (self): BertSelfAttention(\n",
              "              (query): Linear(in_features=768, out_features=768, bias=True)\n",
              "              (key): Linear(in_features=768, out_features=768, bias=True)\n",
              "              (value): Linear(in_features=768, out_features=768, bias=True)\n",
              "              (dropout): Dropout(p=0.1, inplace=False)\n",
              "            )\n",
              "            (output): BertSelfOutput(\n",
              "              (dense): Linear(in_features=768, out_features=768, bias=True)\n",
              "              (LayerNorm): LayerNorm((768,), eps=1e-12, elementwise_affine=True)\n",
              "              (dropout): Dropout(p=0.1, inplace=False)\n",
              "            )\n",
              "          )\n",
              "          (intermediate): BertIntermediate(\n",
              "            (dense): Linear(in_features=768, out_features=3072, bias=True)\n",
              "          )\n",
              "          (output): BertOutput(\n",
              "            (dense): Linear(in_features=3072, out_features=768, bias=True)\n",
              "            (LayerNorm): LayerNorm((768,), eps=1e-12, elementwise_affine=True)\n",
              "            (dropout): Dropout(p=0.1, inplace=False)\n",
              "          )\n",
              "        )\n",
              "        (4): BertLayer(\n",
              "          (attention): BertAttention(\n",
              "            (self): BertSelfAttention(\n",
              "              (query): Linear(in_features=768, out_features=768, bias=True)\n",
              "              (key): Linear(in_features=768, out_features=768, bias=True)\n",
              "              (value): Linear(in_features=768, out_features=768, bias=True)\n",
              "              (dropout): Dropout(p=0.1, inplace=False)\n",
              "            )\n",
              "            (output): BertSelfOutput(\n",
              "              (dense): Linear(in_features=768, out_features=768, bias=True)\n",
              "              (LayerNorm): LayerNorm((768,), eps=1e-12, elementwise_affine=True)\n",
              "              (dropout): Dropout(p=0.1, inplace=False)\n",
              "            )\n",
              "          )\n",
              "          (intermediate): BertIntermediate(\n",
              "            (dense): Linear(in_features=768, out_features=3072, bias=True)\n",
              "          )\n",
              "          (output): BertOutput(\n",
              "            (dense): Linear(in_features=3072, out_features=768, bias=True)\n",
              "            (LayerNorm): LayerNorm((768,), eps=1e-12, elementwise_affine=True)\n",
              "            (dropout): Dropout(p=0.1, inplace=False)\n",
              "          )\n",
              "        )\n",
              "        (5): BertLayer(\n",
              "          (attention): BertAttention(\n",
              "            (self): BertSelfAttention(\n",
              "              (query): Linear(in_features=768, out_features=768, bias=True)\n",
              "              (key): Linear(in_features=768, out_features=768, bias=True)\n",
              "              (value): Linear(in_features=768, out_features=768, bias=True)\n",
              "              (dropout): Dropout(p=0.1, inplace=False)\n",
              "            )\n",
              "            (output): BertSelfOutput(\n",
              "              (dense): Linear(in_features=768, out_features=768, bias=True)\n",
              "              (LayerNorm): LayerNorm((768,), eps=1e-12, elementwise_affine=True)\n",
              "              (dropout): Dropout(p=0.1, inplace=False)\n",
              "            )\n",
              "          )\n",
              "          (intermediate): BertIntermediate(\n",
              "            (dense): Linear(in_features=768, out_features=3072, bias=True)\n",
              "          )\n",
              "          (output): BertOutput(\n",
              "            (dense): Linear(in_features=3072, out_features=768, bias=True)\n",
              "            (LayerNorm): LayerNorm((768,), eps=1e-12, elementwise_affine=True)\n",
              "            (dropout): Dropout(p=0.1, inplace=False)\n",
              "          )\n",
              "        )\n",
              "        (6): BertLayer(\n",
              "          (attention): BertAttention(\n",
              "            (self): BertSelfAttention(\n",
              "              (query): Linear(in_features=768, out_features=768, bias=True)\n",
              "              (key): Linear(in_features=768, out_features=768, bias=True)\n",
              "              (value): Linear(in_features=768, out_features=768, bias=True)\n",
              "              (dropout): Dropout(p=0.1, inplace=False)\n",
              "            )\n",
              "            (output): BertSelfOutput(\n",
              "              (dense): Linear(in_features=768, out_features=768, bias=True)\n",
              "              (LayerNorm): LayerNorm((768,), eps=1e-12, elementwise_affine=True)\n",
              "              (dropout): Dropout(p=0.1, inplace=False)\n",
              "            )\n",
              "          )\n",
              "          (intermediate): BertIntermediate(\n",
              "            (dense): Linear(in_features=768, out_features=3072, bias=True)\n",
              "          )\n",
              "          (output): BertOutput(\n",
              "            (dense): Linear(in_features=3072, out_features=768, bias=True)\n",
              "            (LayerNorm): LayerNorm((768,), eps=1e-12, elementwise_affine=True)\n",
              "            (dropout): Dropout(p=0.1, inplace=False)\n",
              "          )\n",
              "        )\n",
              "        (7): BertLayer(\n",
              "          (attention): BertAttention(\n",
              "            (self): BertSelfAttention(\n",
              "              (query): Linear(in_features=768, out_features=768, bias=True)\n",
              "              (key): Linear(in_features=768, out_features=768, bias=True)\n",
              "              (value): Linear(in_features=768, out_features=768, bias=True)\n",
              "              (dropout): Dropout(p=0.1, inplace=False)\n",
              "            )\n",
              "            (output): BertSelfOutput(\n",
              "              (dense): Linear(in_features=768, out_features=768, bias=True)\n",
              "              (LayerNorm): LayerNorm((768,), eps=1e-12, elementwise_affine=True)\n",
              "              (dropout): Dropout(p=0.1, inplace=False)\n",
              "            )\n",
              "          )\n",
              "          (intermediate): BertIntermediate(\n",
              "            (dense): Linear(in_features=768, out_features=3072, bias=True)\n",
              "          )\n",
              "          (output): BertOutput(\n",
              "            (dense): Linear(in_features=3072, out_features=768, bias=True)\n",
              "            (LayerNorm): LayerNorm((768,), eps=1e-12, elementwise_affine=True)\n",
              "            (dropout): Dropout(p=0.1, inplace=False)\n",
              "          )\n",
              "        )\n",
              "        (8): BertLayer(\n",
              "          (attention): BertAttention(\n",
              "            (self): BertSelfAttention(\n",
              "              (query): Linear(in_features=768, out_features=768, bias=True)\n",
              "              (key): Linear(in_features=768, out_features=768, bias=True)\n",
              "              (value): Linear(in_features=768, out_features=768, bias=True)\n",
              "              (dropout): Dropout(p=0.1, inplace=False)\n",
              "            )\n",
              "            (output): BertSelfOutput(\n",
              "              (dense): Linear(in_features=768, out_features=768, bias=True)\n",
              "              (LayerNorm): LayerNorm((768,), eps=1e-12, elementwise_affine=True)\n",
              "              (dropout): Dropout(p=0.1, inplace=False)\n",
              "            )\n",
              "          )\n",
              "          (intermediate): BertIntermediate(\n",
              "            (dense): Linear(in_features=768, out_features=3072, bias=True)\n",
              "          )\n",
              "          (output): BertOutput(\n",
              "            (dense): Linear(in_features=3072, out_features=768, bias=True)\n",
              "            (LayerNorm): LayerNorm((768,), eps=1e-12, elementwise_affine=True)\n",
              "            (dropout): Dropout(p=0.1, inplace=False)\n",
              "          )\n",
              "        )\n",
              "        (9): BertLayer(\n",
              "          (attention): BertAttention(\n",
              "            (self): BertSelfAttention(\n",
              "              (query): Linear(in_features=768, out_features=768, bias=True)\n",
              "              (key): Linear(in_features=768, out_features=768, bias=True)\n",
              "              (value): Linear(in_features=768, out_features=768, bias=True)\n",
              "              (dropout): Dropout(p=0.1, inplace=False)\n",
              "            )\n",
              "            (output): BertSelfOutput(\n",
              "              (dense): Linear(in_features=768, out_features=768, bias=True)\n",
              "              (LayerNorm): LayerNorm((768,), eps=1e-12, elementwise_affine=True)\n",
              "              (dropout): Dropout(p=0.1, inplace=False)\n",
              "            )\n",
              "          )\n",
              "          (intermediate): BertIntermediate(\n",
              "            (dense): Linear(in_features=768, out_features=3072, bias=True)\n",
              "          )\n",
              "          (output): BertOutput(\n",
              "            (dense): Linear(in_features=3072, out_features=768, bias=True)\n",
              "            (LayerNorm): LayerNorm((768,), eps=1e-12, elementwise_affine=True)\n",
              "            (dropout): Dropout(p=0.1, inplace=False)\n",
              "          )\n",
              "        )\n",
              "        (10): BertLayer(\n",
              "          (attention): BertAttention(\n",
              "            (self): BertSelfAttention(\n",
              "              (query): Linear(in_features=768, out_features=768, bias=True)\n",
              "              (key): Linear(in_features=768, out_features=768, bias=True)\n",
              "              (value): Linear(in_features=768, out_features=768, bias=True)\n",
              "              (dropout): Dropout(p=0.1, inplace=False)\n",
              "            )\n",
              "            (output): BertSelfOutput(\n",
              "              (dense): Linear(in_features=768, out_features=768, bias=True)\n",
              "              (LayerNorm): LayerNorm((768,), eps=1e-12, elementwise_affine=True)\n",
              "              (dropout): Dropout(p=0.1, inplace=False)\n",
              "            )\n",
              "          )\n",
              "          (intermediate): BertIntermediate(\n",
              "            (dense): Linear(in_features=768, out_features=3072, bias=True)\n",
              "          )\n",
              "          (output): BertOutput(\n",
              "            (dense): Linear(in_features=3072, out_features=768, bias=True)\n",
              "            (LayerNorm): LayerNorm((768,), eps=1e-12, elementwise_affine=True)\n",
              "            (dropout): Dropout(p=0.1, inplace=False)\n",
              "          )\n",
              "        )\n",
              "        (11): BertLayer(\n",
              "          (attention): BertAttention(\n",
              "            (self): BertSelfAttention(\n",
              "              (query): Linear(in_features=768, out_features=768, bias=True)\n",
              "              (key): Linear(in_features=768, out_features=768, bias=True)\n",
              "              (value): Linear(in_features=768, out_features=768, bias=True)\n",
              "              (dropout): Dropout(p=0.1, inplace=False)\n",
              "            )\n",
              "            (output): BertSelfOutput(\n",
              "              (dense): Linear(in_features=768, out_features=768, bias=True)\n",
              "              (LayerNorm): LayerNorm((768,), eps=1e-12, elementwise_affine=True)\n",
              "              (dropout): Dropout(p=0.1, inplace=False)\n",
              "            )\n",
              "          )\n",
              "          (intermediate): BertIntermediate(\n",
              "            (dense): Linear(in_features=768, out_features=3072, bias=True)\n",
              "          )\n",
              "          (output): BertOutput(\n",
              "            (dense): Linear(in_features=3072, out_features=768, bias=True)\n",
              "            (LayerNorm): LayerNorm((768,), eps=1e-12, elementwise_affine=True)\n",
              "            (dropout): Dropout(p=0.1, inplace=False)\n",
              "          )\n",
              "        )\n",
              "      )\n",
              "    )\n",
              "    (pooler): BertPooler(\n",
              "      (dense): Linear(in_features=768, out_features=768, bias=True)\n",
              "      (activation): Tanh()\n",
              "    )\n",
              "  )\n",
              "  (dropout): Dropout(p=0.1, inplace=False)\n",
              "  (classifier): Linear(in_features=768, out_features=3, bias=True)\n",
              ")"
            ]
          },
          "metadata": {
            "tags": []
          },
          "execution_count": 55
        }
      ]
    },
    {
      "cell_type": "code",
      "metadata": {
        "id": "1LX-d1XIkUY5",
        "colab_type": "code",
        "colab": {}
      },
      "source": [
        "optimizer = AdamW(model.parameters(),\n",
        "                  lr = 5e-5, # learning_rate\n",
        "                  eps = 1e-8 \n",
        "                )"
      ],
      "execution_count": 0,
      "outputs": []
    },
    {
      "cell_type": "code",
      "metadata": {
        "id": "GJa7wKqe65D5",
        "colab_type": "code",
        "colab": {}
      },
      "source": [
        "epochs = 2\n",
        "\n",
        "# Total number of training steps is [number of batches] x [number of epochs]. \n",
        "# (Note that this is not the same as the number of training samples).\n",
        "total_steps = len(train_dataloader) * epochs\n",
        "\n",
        "# Create the learning rate scheduler.\n",
        "scheduler = get_linear_schedule_with_warmup(optimizer, \n",
        "                                            num_warmup_steps = 0, # Default value in run_glue.py\n",
        "                                            num_training_steps = total_steps)"
      ],
      "execution_count": 0,
      "outputs": []
    },
    {
      "cell_type": "code",
      "metadata": {
        "id": "nQZvECDC65b1",
        "colab_type": "code",
        "outputId": "92c34d30-7c97-47a9-b288-6c6628160bba",
        "colab": {
          "base_uri": "https://localhost:8080/",
          "height": 867
        }
      },
      "source": [
        "seed_val = 42\n",
        "\n",
        "random.seed(seed_val)\n",
        "np.random.seed(seed_val)\n",
        "torch.manual_seed(seed_val)\n",
        "torch.cuda.manual_seed_all(seed_val)\n",
        "\n",
        "# We'll store a number of quantities such as training and validation loss, \n",
        "# validation accuracy, and timings.\n",
        "training_stats = []\n",
        "\n",
        "# Measure the total training time for the whole run.\n",
        "total_t0 = time.time()\n",
        "\n",
        "# For each epoch...\n",
        "for epoch_i in range(0, epochs):\n",
        "    \n",
        "    # ========================================\n",
        "    #               Training\n",
        "    # ========================================\n",
        "    \n",
        "    # Perform one full pass over the training set.\n",
        "\n",
        "    print(\"\")\n",
        "    print('======== Epoch {:} / {:} ========'.format(epoch_i + 1, epochs))\n",
        "    print('Training...')\n",
        "\n",
        "    # Measure how long the training epoch takes.\n",
        "    t0 = time.time()\n",
        "\n",
        "    # Reset the total loss for this epoch.\n",
        "    total_train_loss = 0\n",
        "\n",
        "    # Put the model into training mode. Don't be mislead--the call to \n",
        "    # `train` just changes the *mode*, it doesn't *perform* the training.\n",
        "    # `dropout` and `batchnorm` layers behave differently during training\n",
        "    # vs. test (source: https://stackoverflow.com/questions/51433378/what-does-model-train-do-in-pytorch)\n",
        "    model.train()\n",
        "\n",
        "    # For each batch of training data...\n",
        "    for step, batch in enumerate(train_dataloader):\n",
        "\n",
        "        # Progress update every 40 batches.\n",
        "        if step % 40 == 0 and not step == 0:\n",
        "            # Calculate elapsed time in minutes.\n",
        "            elapsed = format_time(time.time() - t0)\n",
        "            \n",
        "            # Report progress.\n",
        "            print('  Batch {:>5,}  of  {:>5,}.    Elapsed: {:}.'.format(step, len(train_dataloader), elapsed))\n",
        "\n",
        "        # Unpack this training batch from our dataloader. \n",
        "        #\n",
        "        # As we unpack the batch, we'll also copy each tensor to the GPU using the \n",
        "        # `to` method.\n",
        "        #\n",
        "        # `batch` contains three pytorch tensors:\n",
        "        #   [0]: input ids \n",
        "        #   [1]: attention masks\n",
        "        #   [2]: labels \n",
        "        b_input_ids = batch[0].to(device)\n",
        "        b_input_mask = batch[1].to(device)\n",
        "        b_labels = batch[2].to(device)\n",
        "\n",
        "        # Always clear any previously calculated gradients before performing a\n",
        "        # backward pass. PyTorch doesn't do this automatically because \n",
        "        # accumulating the gradients is \"convenient while training RNNs\". \n",
        "        # (source: https://stackoverflow.com/questions/48001598/why-do-we-need-to-call-zero-grad-in-pytorch)\n",
        "        model.zero_grad()        \n",
        "\n",
        "        # Perform a forward pass (evaluate the model on this training batch).\n",
        "        # The documentation for this `model` function is here: \n",
        "        # https://huggingface.co/transformers/v2.2.0/model_doc/bert.html#transformers.BertForSequenceClassification\n",
        "        # It returns different numbers of parameters depending on what arguments\n",
        "        # arge given and what flags are set. For our useage here, it returns\n",
        "        # the loss (because we provided labels) and the \"logits\"--the model\n",
        "        # outputs prior to activation.\n",
        "        loss, logits = model(b_input_ids, \n",
        "                             token_type_ids=None, \n",
        "                             attention_mask=b_input_mask, \n",
        "                             labels=b_labels)\n",
        "\n",
        "        # Accumulate the training loss over all of the batches so that we can\n",
        "        # calculate the average loss at the end. `loss` is a Tensor containing a\n",
        "        # single value; the `.item()` function just returns the Python value \n",
        "        # from the tensor.\n",
        "        total_train_loss += loss.item()\n",
        "\n",
        "        # Perform a backward pass to calculate the gradients.\n",
        "        loss.backward()\n",
        "\n",
        "        # Clip the norm of the gradients to 1.0.\n",
        "        # This is to help prevent the \"exploding gradients\" problem.\n",
        "        torch.nn.utils.clip_grad_norm_(model.parameters(), 1.0)\n",
        "\n",
        "        # Update parameters and take a step using the computed gradient.\n",
        "        # The optimizer dictates the \"update rule\"--how the parameters are\n",
        "        # modified based on their gradients, the learning rate, etc.\n",
        "        optimizer.step()\n",
        "\n",
        "        # Update the learning rate.\n",
        "        scheduler.step()\n",
        "\n",
        "    # Calculate the average loss over all of the batches.\n",
        "    avg_train_loss = total_train_loss / len(train_dataloader)            \n",
        "    \n",
        "    # Measure how long this epoch took.\n",
        "    training_time = format_time(time.time() - t0)\n",
        "\n",
        "    print(\"\")\n",
        "    print(\"  Average training loss: {0:.2f}\".format(avg_train_loss))\n",
        "    print(\"  Training epcoh took: {:}\".format(training_time))\n",
        "        \n",
        "    # ========================================\n",
        "    #               Validation\n",
        "    # ========================================\n",
        "    # After the completion of each training epoch, measure our performance on\n",
        "    # our validation set.\n",
        "\n",
        "    print(\"\")\n",
        "    print(\"Running Validation...\")\n",
        "\n",
        "    t0 = time.time()\n",
        "\n",
        "    # Put the model in evaluation mode--the dropout layers behave differently\n",
        "    # during evaluation.\n",
        "    model.eval()\n",
        "\n",
        "    # Tracking variables \n",
        "    total_eval_accuracy = 0\n",
        "    total_eval_loss = 0\n",
        "    nb_eval_steps = 0\n",
        "\n",
        "    # Evaluate data for one epoch\n",
        "    for batch in validation_dataloader:\n",
        "        \n",
        "        # Unpack this training batch from our dataloader. \n",
        "        #\n",
        "        # As we unpack the batch, we'll also copy each tensor to the GPU using \n",
        "        # the `to` method.\n",
        "        #\n",
        "        # `batch` contains three pytorch tensors:\n",
        "        #   [0]: input ids \n",
        "        #   [1]: attention masks\n",
        "        #   [2]: labels \n",
        "        b_input_ids = batch[0].to(device)\n",
        "        b_input_mask = batch[1].to(device)\n",
        "        b_labels = batch[2].to(device)\n",
        "        \n",
        "        # Tell pytorch not to bother with constructing the compute graph during\n",
        "        # the forward pass, since this is only needed for backprop (training).\n",
        "        with torch.no_grad():        \n",
        "\n",
        "            # Forward pass, calculate logit predictions.\n",
        "            # token_type_ids is the same as the \"segment ids\", which \n",
        "            # differentiates sentence 1 and 2 in 2-sentence tasks.\n",
        "            # The documentation for this `model` function is here: \n",
        "            # https://huggingface.co/transformers/v2.2.0/model_doc/bert.html#transformers.BertForSequenceClassification\n",
        "            # Get the \"logits\" output by the model. The \"logits\" are the output\n",
        "            # values prior to applying an activation function like the softmax.\n",
        "            (loss, logits) = model(b_input_ids, \n",
        "                                   token_type_ids=None, \n",
        "                                   attention_mask=b_input_mask,\n",
        "                                   labels=b_labels)\n",
        "            \n",
        "        # Accumulate the validation loss.\n",
        "        total_eval_loss += loss.item()\n",
        "\n",
        "        # Move logits and labels to CPU\n",
        "        logits = logits.detach().cpu().numpy()\n",
        "        label_ids = b_labels.to('cpu').numpy()\n",
        "\n",
        "        # Calculate the accuracy for this batch of test sentences, and\n",
        "        # accumulate it over all batches.\n",
        "        total_eval_accuracy += flat_accuracy(logits, label_ids)\n",
        "        \n",
        "\n",
        "    # Report the final accuracy for this validation run.\n",
        "    avg_val_accuracy = total_eval_accuracy / len(validation_dataloader)\n",
        "    print(\"  Accuracy: {0:.2f}\".format(avg_val_accuracy))\n",
        "\n",
        "    # Calculate the average loss over all of the batches.\n",
        "    avg_val_loss = total_eval_loss / len(validation_dataloader)\n",
        "    \n",
        "    # Measure how long the validation run took.\n",
        "    validation_time = format_time(time.time() - t0)\n",
        "    \n",
        "    print(\"  Validation Loss: {0:.2f}\".format(avg_val_loss))\n",
        "    print(\"  Validation took: {:}\".format(validation_time))\n",
        "\n",
        "    # Record all statistics from this epoch.\n",
        "    training_stats.append(\n",
        "        {\n",
        "            'epoch': epoch_i + 1,\n",
        "            'Training Loss': avg_train_loss,\n",
        "            'Valid. Loss': avg_val_loss,\n",
        "            'Valid. Accur.': avg_val_accuracy,\n",
        "            'Training Time': training_time,\n",
        "            'Validation Time': validation_time\n",
        "        }\n",
        "    )\n",
        "\n",
        "print(\"\")\n",
        "print(\"Training complete!\")\n",
        "\n",
        "print(\"Total training took {:} (h:mm:ss)\".format(format_time(time.time()-total_t0)))"
      ],
      "execution_count": 0,
      "outputs": [
        {
          "output_type": "stream",
          "text": [
            "\n",
            "======== Epoch 1 / 2 ========\n",
            "Training...\n"
          ],
          "name": "stdout"
        },
        {
          "output_type": "stream",
          "text": [
            "/pytorch/torch/csrc/utils/python_arg_parser.cpp:756: UserWarning: This overload of add_ is deprecated:\n",
            "\tadd_(Number alpha, Tensor other)\n",
            "Consider using one of the following signatures instead:\n",
            "\tadd_(Tensor other, *, Number alpha)\n"
          ],
          "name": "stderr"
        },
        {
          "output_type": "stream",
          "text": [
            "  Batch    40  of    422.    Elapsed: 0:00:26.\n",
            "  Batch    80  of    422.    Elapsed: 0:00:52.\n",
            "  Batch   120  of    422.    Elapsed: 0:01:17.\n",
            "  Batch   160  of    422.    Elapsed: 0:01:43.\n",
            "  Batch   200  of    422.    Elapsed: 0:02:09.\n",
            "  Batch   240  of    422.    Elapsed: 0:02:35.\n",
            "  Batch   280  of    422.    Elapsed: 0:03:01.\n",
            "  Batch   320  of    422.    Elapsed: 0:03:27.\n",
            "  Batch   360  of    422.    Elapsed: 0:03:52.\n",
            "  Batch   400  of    422.    Elapsed: 0:04:18.\n",
            "\n",
            "  Average training loss: 0.39\n",
            "  Training epcoh took: 0:04:32\n",
            "\n",
            "Running Validation...\n",
            "  Accuracy: 0.87\n",
            "  Validation Loss: 0.37\n",
            "  Validation took: 0:00:10\n",
            "\n",
            "======== Epoch 2 / 2 ========\n",
            "Training...\n",
            "  Batch    40  of    422.    Elapsed: 0:00:26.\n",
            "  Batch    80  of    422.    Elapsed: 0:00:52.\n",
            "  Batch   120  of    422.    Elapsed: 0:01:17.\n",
            "  Batch   160  of    422.    Elapsed: 0:01:43.\n",
            "  Batch   200  of    422.    Elapsed: 0:02:09.\n",
            "  Batch   240  of    422.    Elapsed: 0:02:35.\n",
            "  Batch   280  of    422.    Elapsed: 0:03:01.\n",
            "  Batch   320  of    422.    Elapsed: 0:03:26.\n",
            "  Batch   360  of    422.    Elapsed: 0:03:52.\n",
            "  Batch   400  of    422.    Elapsed: 0:04:18.\n",
            "\n",
            "  Average training loss: 0.24\n",
            "  Training epcoh took: 0:04:32\n",
            "\n",
            "Running Validation...\n",
            "  Accuracy: 0.87\n",
            "  Validation Loss: 0.36\n",
            "  Validation took: 0:00:10\n",
            "\n",
            "Training complete!\n",
            "Total training took 0:09:24 (h:mm:ss)\n"
          ],
          "name": "stdout"
        }
      ]
    },
    {
      "cell_type": "code",
      "metadata": {
        "id": "hTLJqXRG65Zd",
        "colab_type": "code",
        "colab": {}
      },
      "source": [
        "### evaluate test data performance on 2000 observations from sport data\n",
        "\n",
        "\n",
        "labels_test = np.array(df_sport_test['overall'].apply(lambda x : encode_three_class(x)))"
      ],
      "execution_count": 0,
      "outputs": []
    },
    {
      "cell_type": "code",
      "metadata": {
        "id": "9vjzpwlF65XA",
        "colab_type": "code",
        "outputId": "fe3dc53c-156b-4689-bb51-56596352525c",
        "colab": {
          "base_uri": "https://localhost:8080/",
          "height": 35
        }
      },
      "source": [
        "input_ids, attention_masks = tokenize_bert(df_sport_test.reviewText.array)\n",
        "\n",
        "input_ids = torch.cat(input_ids, dim=0)\n",
        "attention_masks = torch.cat(attention_masks, dim=0)\n",
        "labels = torch.tensor(labels_test)"
      ],
      "execution_count": 0,
      "outputs": [
        {
          "output_type": "stream",
          "text": [
            "100%|██████████| 2001/2001 [00:04<00:00, 498.57it/s]\n"
          ],
          "name": "stderr"
        }
      ]
    },
    {
      "cell_type": "code",
      "metadata": {
        "id": "Ihgiul2x65TO",
        "colab_type": "code",
        "outputId": "7407dcaf-a50b-4da0-aba3-2a2e03e7de3b",
        "colab": {
          "base_uri": "https://localhost:8080/",
          "height": 52
        }
      },
      "source": [
        "prediction_data = TensorDataset(input_ids, attention_masks, labels)\n",
        "prediction_sampler = SequentialSampler(prediction_data)\n",
        "prediction_dataloader = DataLoader(prediction_data, sampler=prediction_sampler, batch_size=batch_size)\n",
        "\n",
        "print('Predicting labels for {:,} test sentences...'.format(len(input_ids)))\n",
        "\n",
        "# Put model in evaluation mode\n",
        "model.eval()\n",
        "\n",
        "# Tracking variables \n",
        "predictions , true_labels = [], []\n",
        "\n",
        "# Predict \n",
        "for batch in prediction_dataloader:\n",
        "  # Add batch to GPU\n",
        "  batch = tuple(t.to(device) for t in batch)\n",
        "  \n",
        "  # Unpack the inputs from our dataloader\n",
        "  b_input_ids, b_input_mask, b_labels = batch\n",
        "  \n",
        "  # Telling the model not to compute or store gradients, saving memory and \n",
        "  # speeding up prediction\n",
        "  with torch.no_grad():\n",
        "      # Forward pass, calculate logit predictions\n",
        "      outputs = model(b_input_ids, token_type_ids=None, \n",
        "                      attention_mask=b_input_mask)\n",
        "\n",
        "  logits = outputs[0]\n",
        "\n",
        "  # Move logits and labels to CPU\n",
        "  logits = logits.detach().cpu().numpy()\n",
        "  label_ids = b_labels.to('cpu').numpy()\n",
        "  \n",
        "  # Store predictions and true labels by batch\n",
        "  predictions.append(logits)\n",
        "  true_labels.append(label_ids)\n",
        "\n",
        "print('    DONE.')"
      ],
      "execution_count": 0,
      "outputs": [
        {
          "output_type": "stream",
          "text": [
            "Predicting labels for 2,001 test sentences...\n",
            "    DONE.\n"
          ],
          "name": "stdout"
        }
      ]
    },
    {
      "cell_type": "code",
      "metadata": {
        "id": "PY8n68NK65QT",
        "colab_type": "code",
        "outputId": "bd01ec8f-844f-4999-b2d1-1dc1d8f9cfff",
        "colab": {
          "base_uri": "https://localhost:8080/",
          "height": 69
        }
      },
      "source": [
        "# Combine the results across all batches, and get a look at the confusion matrix\n",
        "from sklearn.metrics import confusion_matrix, plot_confusion_matrix\n",
        "flat_predictions = np.concatenate(predictions, axis=0)\n",
        "\n",
        "# For each sample, pick the label (0 or 1) with the higher score.\n",
        "flat_predictions = np.argmax(flat_predictions, axis=1).flatten()\n",
        "\n",
        "# Combine the correct labels for each batch into a single list.\n",
        "flat_true_labels = np.concatenate(true_labels, axis=0)\n",
        "\n",
        "# Calculate the MCC\n",
        "confusion_matrix(flat_true_labels, flat_predictions)"
      ],
      "execution_count": 0,
      "outputs": [
        {
          "output_type": "execute_result",
          "data": {
            "text/plain": [
              "array([[  48,   36,   44],\n",
              "       [   7,   38,   98],\n",
              "       [  14,   41, 1675]])"
            ]
          },
          "metadata": {
            "tags": []
          },
          "execution_count": 66
        }
      ]
    },
    {
      "cell_type": "markdown",
      "metadata": {
        "id": "83Jl724YqA7v",
        "colab_type": "text"
      },
      "source": [
        "In a multiclass context, we obtain fairly good results, but only for the most represented class. With a three-class prediction, one of the classes being devoted to the 3/5 grades only, we reach a 0.87 accuracy score, and the dominant class is correctly predicted, but for the other classes predictions are less efficient. This confirms the difficulty of multi class sentiment analysis as underlined by our clutering initial approach."
      ]
    },
    {
      "cell_type": "code",
      "metadata": {
        "id": "xYZKlHzo65NH",
        "colab_type": "code",
        "colab": {}
      },
      "source": [
        ""
      ],
      "execution_count": 0,
      "outputs": []
    },
    {
      "cell_type": "code",
      "metadata": {
        "id": "PImfou8865J3",
        "colab_type": "code",
        "colab": {}
      },
      "source": [
        ""
      ],
      "execution_count": 0,
      "outputs": []
    },
    {
      "cell_type": "code",
      "metadata": {
        "id": "mmkgpUkd65Au",
        "colab_type": "code",
        "colab": {}
      },
      "source": [
        ""
      ],
      "execution_count": 0,
      "outputs": []
    },
    {
      "cell_type": "code",
      "metadata": {
        "id": "Wd7plUin649d",
        "colab_type": "code",
        "colab": {}
      },
      "source": [
        ""
      ],
      "execution_count": 0,
      "outputs": []
    },
    {
      "cell_type": "code",
      "metadata": {
        "id": "uTTS-_h9645-",
        "colab_type": "code",
        "colab": {}
      },
      "source": [
        ""
      ],
      "execution_count": 0,
      "outputs": []
    }
  ]
}